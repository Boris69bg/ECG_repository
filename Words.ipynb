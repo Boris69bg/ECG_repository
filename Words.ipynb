{
 "cells": [
  {
   "cell_type": "markdown",
   "metadata": {},
   "source": [
    "## Алгоритм, основанный на вейвлет-преобразовании сигнала"
   ]
  },
  {
   "cell_type": "code",
   "execution_count": 1,
   "metadata": {
    "collapsed": false
   },
   "outputs": [],
   "source": [
    "import numpy as np\n",
    "from scikits.audiolab import Sndfile\n",
    "from scipy import signal\n",
    "import seaborn as sns\n",
    "import os\n",
    "from scikits.audiolab import wavread\n",
    "import numpy as np\n",
    "import pandas as pd\n",
    "from sklearn.utils import shuffle\n",
    "from scipy.signal import wiener\n",
    "import xgboost as xgb\n",
    "from sklearn.model_selection  import GroupKFold\n",
    "from biosppy.signals import ecg\n",
    "from tqdm import tqdm\n",
    "import math\n",
    "from sklearn.cluster import KMeans, MiniBatchKMeans\n",
    "from sklearn.feature_extraction.text import TfidfVectorizer, CountVectorizer\n",
    "from itertools import chain\n",
    "from sklearn.ensemble import RandomForestClassifier\n",
    "from sklearn.linear_model import LogisticRegression\n",
    "from tqdm import tqdm\n",
    "from sklearn.metrics import roc_auc_score\n",
    "from sklearn.metrics import f1_score, recall_score, precision_score, accuracy_score\n",
    "from sklearn.preprocessing import StandardScaler\n",
    "import gensim\n",
    "import os"
   ]
  },
  {
   "cell_type": "markdown",
   "metadata": {},
   "source": [
    "## Чтение данных"
   ]
  },
  {
   "cell_type": "code",
   "execution_count": 2,
   "metadata": {
    "collapsed": false
   },
   "outputs": [],
   "source": [
    "def read_frame(directory, filename):\n",
    "    data, sample_frequency, encoding = wavread(directory + \"/\" + filename)\n",
    "    return np.array(data)\n",
    "\n",
    "def get_frames(directory, files):\n",
    "    frames = []\n",
    "    for i in files:\n",
    "        patient = i.split(\"_\")[0]\n",
    "        ecg_id = i[:-4]\n",
    "        a = read_frame(directory, i)\n",
    "        frames.append([a, patient, ecg_id])\n",
    "    frames = np.array(frames)\n",
    "    return np.swapaxes(frames, 0, 1)\n",
    "\n",
    "def create_data_frame_from_wav(true_files_dir, false_files_dir):\n",
    "    true_files = filter(lambda x: x.endswith(\".wav\"), os.listdir(true_files_dir))\n",
    "    false_files = filter(lambda x: x.endswith(\".wav\"), os.listdir(false_files_dir))\n",
    "    true_frames = get_frames(true_files_dir, true_files)\n",
    "    false_frames = get_frames(false_files_dir, false_files)\n",
    "    a = create_data_frame(true_frames, True)\n",
    "    b = create_data_frame(false_frames, False)\n",
    "    df = a.append(b).copy()\n",
    "    del a\n",
    "    del b\n",
    "    df = shuffle(df, random_state=27)\n",
    "    df = df.reset_index()\n",
    "    df.drop(\"index\", axis=1, inplace=True)\n",
    "    df[\"SignalLen\"] = df[\"S\"].apply(lambda x: len(x))\n",
    "    df = df[df[\"SignalLen\"] != 0].copy()\n",
    "    return df\n",
    "\n",
    "def create_data_frame(data, ibs):\n",
    "    df = pd.DataFrame({\"S\":data[0], \"Patient\": data[1], \"ibs\":ibs, \"ECG_ID\":data[2]})\n",
    "    return df\n",
    "\n",
    "df_train = create_data_frame_from_wav(\"wav/true\", \"wav/false\")\n",
    "df_test = create_data_frame_from_wav(\"wav_test/true\", \"wav_test/false\")\n",
    "\n",
    "ecg_ids = pd.read_csv(\"test_ids.csv\", header=None)\n",
    "df_test = df_test[df_test[\"ECG_ID\"].isin(ecg_ids[0])]"
   ]
  },
  {
   "cell_type": "code",
   "execution_count": 3,
   "metadata": {
    "collapsed": false
   },
   "outputs": [],
   "source": [
    "import pywt as pw\n",
    "from scipy import stats as ss"
   ]
  },
  {
   "cell_type": "markdown",
   "metadata": {},
   "source": [
    "## Стандартизация сигнала"
   ]
  },
  {
   "cell_type": "code",
   "execution_count": 4,
   "metadata": {
    "collapsed": false
   },
   "outputs": [],
   "source": [
    "df_train[\"SS\"] = df_train[\"S\"].apply(lambda x: ss.zscore(x))\n",
    "df_test[\"SS\"] = df_test[\"S\"].apply(lambda x: ss.zscore(x))"
   ]
  },
  {
   "cell_type": "markdown",
   "metadata": {},
   "source": [
    "## Аппроксимирующие коэффициенты вейвлет-разложения"
   ]
  },
  {
   "cell_type": "code",
   "execution_count": 5,
   "metadata": {
    "collapsed": false
   },
   "outputs": [],
   "source": [
    "df_train[\"WSS\"] = df_train[\"SS\"].apply(lambda x: pw.dwt(x, 'db3')[0])\n",
    "df_test[\"WSS\"] = df_test[\"SS\"].apply(lambda x: pw.dwt(x, 'db3')[0])"
   ]
  },
  {
   "cell_type": "code",
   "execution_count": 6,
   "metadata": {
    "collapsed": true
   },
   "outputs": [],
   "source": [
    "df_train.drop([\"SS\", \"S\"], axis=1, inplace=True)\n",
    "df_test.drop([\"SS\", \"S\"], axis=1, inplace=True)"
   ]
  },
  {
   "cell_type": "markdown",
   "metadata": {},
   "source": [
    "## Параметры для построения признакового пространства. "
   ]
  },
  {
   "cell_type": "code",
   "execution_count": 7,
   "metadata": {
    "collapsed": true
   },
   "outputs": [],
   "source": [
    "WINDOW_SIZE = 100\n",
    "STEP = 35\n",
    "WORDS_NUMBER = 200#число кластеров"
   ]
  },
  {
   "cell_type": "markdown",
   "metadata": {},
   "source": [
    "### Составление признакового пространства"
   ]
  },
  {
   "cell_type": "code",
   "execution_count": 8,
   "metadata": {
    "collapsed": false
   },
   "outputs": [],
   "source": [
    "def get_text(result, local_segments_numbers):\n",
    "    texts = []\n",
    "    ind = 0\n",
    "    for i in local_segments_numbers: \n",
    "        texts.append(result[ind:ind+i].copy())\n",
    "        ind += i\n",
    "    return texts"
   ]
  },
  {
   "cell_type": "code",
   "execution_count": 9,
   "metadata": {
    "collapsed": true
   },
   "outputs": [],
   "source": [
    "def create_features(train_data, test_data):\n",
    "    train_data = train_data.copy()\n",
    "    test_data = test_data.copy()\n",
    "    train_m = train_data[\"local_segments\"].as_matrix()\n",
    "    test_m = test_data[\"local_segments\"].as_matrix()\n",
    "    train_segments = np.array(list(chain.from_iterable(train_m)))\n",
    "    test_segments = np.array(list(chain.from_iterable(test_m)))\n",
    "    kmeans = MiniBatchKMeans(n_clusters=WORDS_NUMBER, random_state=0)\n",
    "    train_result = kmeans.fit_predict(train_segments)\n",
    "    print \"train_ready\"\n",
    "    test_result = kmeans.predict(test_segments)\n",
    "    print \"test_ready\"\n",
    "    \n",
    "    train_data[\"texts\"] = pd.Series(get_text(train_result, train_data[\"local_segments_len\"]))\n",
    "    test_data[\"texts\"] = pd.Series(get_text(test_result, test_data[\"local_segments_len\"]))\n",
    "    \n",
    "    train_data[\"texts\"] =  train_data[\"texts\"].apply(lambda x: \" \".join([\"ab\" + str(i) for i in x]))\n",
    "    test_data[\"texts\"] =  test_data[\"texts\"].apply(lambda x: \" \".join([\"ab\" + str(i) for i in x]))\n",
    "    \n",
    "\n",
    "    bv = CountVectorizer(min_df=0)\n",
    "    bv_train_data = bv.fit_transform(train_data[\"texts\"])\n",
    "    bv_test_data = bv.transform(test_data[\"texts\"])\n",
    "    \n",
    "    return train_data, test_data, bv_train_data, bv_test_data"
   ]
  },
  {
   "cell_type": "markdown",
   "metadata": {},
   "source": [
    "## Разделение данных на k фолдов"
   ]
  },
  {
   "cell_type": "code",
   "execution_count": 10,
   "metadata": {
    "collapsed": true
   },
   "outputs": [],
   "source": [
    "def cv_tt(df, target, cv):\n",
    "    df = df.copy()\n",
    "    tt = []\n",
    "    data = df.drop(target, axis = 1)\n",
    "    y = df[target]\n",
    "    i = 0\n",
    "    for itrain, itest in cv:\n",
    "        train_data = data.loc[itrain,:]\n",
    "        test_data = data.loc[itest,:]\n",
    "        train_data.reset_index(inplace=True)\n",
    "        test_data.reset_index(inplace=True)\n",
    "        train_data, test_data, bv_train_data,\\\n",
    "        bv_test_data = create_features(train_data, test_data)\n",
    "        fold = {\"xtrain\" : train_data, \"b_train\" : bv_train_data.todense().astype('float'),  \"ytrain\" : y[itrain], \n",
    "                \"xtest\" : test_data, \"b_test\" : bv_test_data.todense().astype('float'), \"ytest\" : y[itest]}\n",
    "        tt.append(fold)\n",
    "        print \"it =\", i\n",
    "        i+=1;\n",
    "    return tt"
   ]
  },
  {
   "cell_type": "markdown",
   "metadata": {},
   "source": [
    "## Разбиение сигнала на локальные сегменты"
   ]
  },
  {
   "cell_type": "code",
   "execution_count": 11,
   "metadata": {
    "collapsed": true
   },
   "outputs": [],
   "source": [
    "def get_local_segments(a, b):\n",
    "    return [a[i:i+WINDOW_SIZE].copy() for i in xrange(0, b, STEP)]\n",
    "\n",
    "df_train[\"SignalLenW\"] = df_train[\"WSS\"].apply(lambda x: len(x) - WINDOW_SIZE)\n",
    "df_train[\"local_segments\"] = df_train[[\"WSS\", \"SignalLenW\"]].apply(lambda x: get_local_segments(x[0], x[1]), axis=1)\n",
    "df_train[\"local_segments_len\"] = df_train[\"local_segments\"].apply(lambda x: len(x))\n",
    "df_train.reset_index(inplace=True)\n",
    "df_train.drop([\"index\"], inplace=True, axis=1)"
   ]
  },
  {
   "cell_type": "code",
   "execution_count": 12,
   "metadata": {
    "collapsed": false
   },
   "outputs": [],
   "source": [
    "df_test[\"SignalLenW\"] = df_test[\"WSS\"].apply(lambda x: len(x) - WINDOW_SIZE)\n",
    "df_test[\"local_segments\"] = df_test[[\"WSS\", \"SignalLenW\"]].apply(lambda x: get_local_segments(x[0], x[1]), axis=1)\n",
    "df_test[\"local_segments_len\"] = df_test[\"local_segments\"].apply(lambda x: len(x))\n",
    "df_test.reset_index(inplace=True)\n",
    "df_test.drop([\"index\"], inplace=True, axis=1)"
   ]
  },
  {
   "cell_type": "markdown",
   "metadata": {},
   "source": [
    "## Составление признаковых пространств для тестовой выборки и кросс-валидации"
   ]
  },
  {
   "cell_type": "code",
   "execution_count": 13,
   "metadata": {
    "collapsed": false
   },
   "outputs": [
    {
     "name": "stdout",
     "output_type": "stream",
     "text": [
      "train_ready\n",
      "test_ready\n"
     ]
    }
   ],
   "source": [
    "train, test, bv_train, bv_test = create_features(df_train, df_test)"
   ]
  },
  {
   "cell_type": "code",
   "execution_count": 12,
   "metadata": {
    "collapsed": false
   },
   "outputs": [],
   "source": [
    "group_kfold = GroupKFold(n_splits=12)\n",
    "cv = list(group_kfold.split(df_train, df_train[\"ibs\"], df_train[\"Patient\"]))"
   ]
  },
  {
   "cell_type": "code",
   "execution_count": 13,
   "metadata": {
    "collapsed": false,
    "scrolled": true
   },
   "outputs": [
    {
     "name": "stdout",
     "output_type": "stream",
     "text": [
      "train_ready\n",
      "test_ready\n",
      "it = 0\n",
      "train_ready\n",
      "test_ready\n",
      "it = 1\n",
      "train_ready\n",
      "test_ready\n",
      "it = 2\n",
      "train_ready\n",
      "test_ready\n",
      "it = 3\n",
      "train_ready\n",
      "test_ready\n",
      "it = 4\n",
      "train_ready\n",
      "test_ready\n",
      "it = 5\n",
      "train_ready\n",
      "test_ready\n",
      "it = 6\n",
      "train_ready\n",
      "test_ready\n",
      "it = 7\n",
      "train_ready\n",
      "test_ready\n",
      "it = 8\n",
      "train_ready\n",
      "test_ready\n",
      "it = 9\n",
      "train_ready\n",
      "test_ready\n",
      "it = 10\n",
      "train_ready\n",
      "test_ready\n",
      "it = 11\n"
     ]
    }
   ],
   "source": [
    "tt = cv_tt(df_train, \"ibs\", cv)"
   ]
  },
  {
   "cell_type": "code",
   "execution_count": 14,
   "metadata": {
    "collapsed": true
   },
   "outputs": [],
   "source": [
    "from copy import copy"
   ]
  },
  {
   "cell_type": "markdown",
   "metadata": {},
   "source": [
    "## Построение вектора текста с помощью word2vec. Объединение признаков."
   ]
  },
  {
   "cell_type": "code",
   "execution_count": 15,
   "metadata": {
    "collapsed": false
   },
   "outputs": [],
   "source": [
    "def get_v(model, x):\n",
    "    x = x.split()\n",
    "    s = np.zeros(model.vector_size)\n",
    "    for i in x:\n",
    "        s += model[i]\n",
    "    s *= 1.0/len(x)\n",
    "    return s\n",
    "\n",
    "def get_m(v):\n",
    "    m = []\n",
    "    for x in v:\n",
    "        m.append(x)\n",
    "    m = np.array(m)\n",
    "    return m\n",
    "\n",
    "def get_w2v_f_tt(tt):\n",
    "    tt = copy(tt)\n",
    "    for i in tqdm(range(len(tt))):\n",
    "        s = tt[i][\"xtrain\"][\"texts\"].copy()\n",
    "        s = s.apply(lambda x: x.split())\n",
    "        model = gensim.models.Word2Vec(s, min_count=1, size=80)\n",
    "        tt[i][\"xtrain\"][\"v\"] = tt[i][\"xtrain\"][\"texts\"].apply(lambda x: get_v(model, x))\n",
    "        tt[i][\"xtest\"][\"v\"] = tt[i][\"xtest\"][\"texts\"].apply(lambda x: get_v(model, x))\n",
    "        w_train = get_m(tt[i][\"xtrain\"][\"v\"])\n",
    "        w_test = get_m(tt[i][\"xtest\"][\"v\"])\n",
    "        tt[i][\"w_train\"] = w_train\n",
    "        tt[i][\"w_test\"] = w_test\n",
    "        print \"done\"\n",
    "    return tt\n",
    "\n",
    "def get_w2v_f(train, test):\n",
    "    train = train.copy()\n",
    "    test = test.copy()\n",
    "    \n",
    "    s = train[\"texts\"].copy()\n",
    "    s = s.apply(lambda x: x.split())\n",
    "    model = gensim.models.Word2Vec(s, min_count=1, size=80)\n",
    "    train[\"v\"] = train[\"texts\"].apply(lambda x: get_v(model, x))\n",
    "    test[\"v\"] = test[\"texts\"].apply(lambda x: get_v(model, x))\n",
    "    w_train = get_m(train[\"v\"])\n",
    "    w_test = get_m(test[\"v\"])\n",
    "    return train, test, w_train, w_test"
   ]
  },
  {
   "cell_type": "code",
   "execution_count": 28,
   "metadata": {
    "collapsed": false
   },
   "outputs": [],
   "source": [
    "train, test, w_train, w_test = get_w2v_f(train, test)"
   ]
  },
  {
   "cell_type": "code",
   "execution_count": 62,
   "metadata": {
    "collapsed": true
   },
   "outputs": [],
   "source": [
    "from scipy import sparse"
   ]
  },
  {
   "cell_type": "code",
   "execution_count": 65,
   "metadata": {
    "collapsed": true
   },
   "outputs": [],
   "source": [
    "def join_data_tt(tt):\n",
    "    tt = copy(tt)\n",
    "    for i in range(len(tt)):\n",
    "        tt[i][\"bw_train\"] = np.hstack((tt[i][\"w_train\"],tt[i][\"b_train\"]))\n",
    "        tt[i][\"bw_test\"] = np.hstack((tt[i][\"w_test\"],tt[i][\"b_test\"]))\n",
    "    return tt\n",
    "\n",
    "def join_data(w_train, w_test, b_train, b_test):\n",
    "    bw_train = sparse.hstack((w_train, b_train))\n",
    "    bw_test = sparse.hstack((w_test, b_test))\n",
    "    return bw_train, bw_test"
   ]
  },
  {
   "cell_type": "code",
   "execution_count": 66,
   "metadata": {
    "collapsed": false
   },
   "outputs": [],
   "source": [
    "bw_train, bw_test = join_data(w_train, w_test, bv_train, bv_test)"
   ]
  },
  {
   "cell_type": "code",
   "execution_count": 19,
   "metadata": {
    "collapsed": false
   },
   "outputs": [],
   "source": [
    "tt_n = get_w2v_f_tt(tt)"
   ]
  },
  {
   "cell_type": "code",
   "execution_count": 27,
   "metadata": {
    "collapsed": false
   },
   "outputs": [],
   "source": [
    "tt_full = join_data_tt(tt_n)"
   ]
  },
  {
   "cell_type": "markdown",
   "metadata": {},
   "source": [
    "## Вспомогательные функции для обучения классификатора"
   ]
  },
  {
   "cell_type": "code",
   "execution_count": 75,
   "metadata": {
    "collapsed": false
   },
   "outputs": [],
   "source": [
    "def fit_predict(clf, xtrain, ytrain, xtest, ytest, clf_params, \n",
    "               fit_params, do_scaling, xgbfit, nnfit):\n",
    "    if do_scaling:\n",
    "        scaler = StandardScaler()\n",
    "        xtrain = scaler.fit_transform(xtrain)\n",
    "        xtest = scaler.transform(xtest)\n",
    "            \n",
    "    if xgbfit:\n",
    "        fit_params[\"eval_set\"] = \\\n",
    "            [(xtrain, ytrain), (xtest, ytest)]\n",
    "        fit_params[\"sample_weight\"] = \\\n",
    "            np.array(get_weight(ytrain))\n",
    "    if nnfit:\n",
    "        fit_params[\"w\"] = \\\n",
    "            np.array(get_weight(ytrain))\n",
    "            \n",
    "    c = clf(**clf_params)\n",
    "    c.fit(xtrain, ytrain, **fit_params)\n",
    "    \n",
    "    p_tr = c.predict(xtrain)\n",
    "    pr_tr = c.predict_proba(xtrain)[:,1] \n",
    "    p_tst = c.predict(xtest)\n",
    "    pr_tst = c.predict_proba(xtest)[:,1]\n",
    "    \n",
    "    return p_tst, pr_tst"
   ]
  },
  {
   "cell_type": "code",
   "execution_count": 76,
   "metadata": {
    "collapsed": true
   },
   "outputs": [],
   "source": [
    "def cv_fit_predict(clf, cv_tt, tr_d, tst_d, clf_params = {}, fit_params = {},\n",
    "                   do_scaling = False, xgbfit = False, nnfit = False):\n",
    "    cv_answer = []\n",
    "    \n",
    "    for fold in tqdm(cv_tt):\n",
    "        p_tr, pr_tr, p_tst, pr_tst = fit_predict(clf, fold[tr_d], fold[\"ytrain\"], \n",
    "                                      fold[tst_d], fold[\"ytest\"], \n",
    "                                      clf_params, fit_params, do_scaling, xgbfit, nnfit)\n",
    "        tt_answer = {\"p_train\" : p_tr, \"pr_train\" : pr_tr, \n",
    "                     \"p_test\" : p_tst, \"pr_test\" : pr_tst}\n",
    "        cv_answer.append(tt_answer)\n",
    "    \n",
    "    return cv_answer"
   ]
  },
  {
   "cell_type": "code",
   "execution_count": 77,
   "metadata": {
    "collapsed": true
   },
   "outputs": [],
   "source": [
    "import matplotlib.pyplot as plt\n",
    "%matplotlib inline"
   ]
  },
  {
   "cell_type": "code",
   "execution_count": 123,
   "metadata": {
    "collapsed": true
   },
   "outputs": [],
   "source": [
    "def get_weight(y_train):\n",
    "    false_w = 1 - len(y_train[y_train==0]) * 1.0 / len(y_train)\n",
    "    true_w = 1 - len(y_train[y_train==1]) * 1.0 / len(y_train)\n",
    "    d = {0: false_w, 1: true_w}\n",
    "    weight = y_train.apply(lambda x: d[x])\n",
    "    return weight"
   ]
  },
  {
   "cell_type": "code",
   "execution_count": 78,
   "metadata": {
    "collapsed": true
   },
   "outputs": [],
   "source": [
    "def get_prediction(clf, train, y_train, test, y_test, clf_params, fit_params, do_scaling = True,\n",
    "                   xgbfit = False, nnfit = False):\n",
    "    p_tst, pr_tst = fit_predict(clf, train, y_train, \n",
    "                                             test, y_test, \n",
    "                                             clf_params, fit_params, do_scaling, xgbfit, nnfit)\n",
    "    answer = {\"p_test\" : p_tst, \"pr_test\" : pr_tst}\n",
    "    return answer"
   ]
  },
  {
   "cell_type": "code",
   "execution_count": 85,
   "metadata": {
    "collapsed": true
   },
   "outputs": [],
   "source": [
    "def patient_score(label, target_val, p=None):\n",
    "    tmp = pd.DataFrame({'label':label, 'q':target_val == p})\n",
    "    return tmp.groupby('label')['q'].mean().mean()"
   ]
  },
  {
   "cell_type": "markdown",
   "metadata": {},
   "source": [
    "## Результаты на тестовой выборке"
   ]
  },
  {
   "cell_type": "code",
   "execution_count": 132,
   "metadata": {
    "collapsed": false
   },
   "outputs": [],
   "source": [
    "lrclf_params = {\"C\": 0.04, \"class_weight\" : \"balanced\", \"n_jobs\" : -1, \"penalty\": \"l1\"}\n",
    "lrfit_params = {}\n",
    "answer = get_prediction(LogisticRegression, bv_train.todense(), train[\"ibs\"], bv_test.todense(), test[\"ibs\"], lrclf_params, lrfit_params, do_scaling = True)"
   ]
  },
  {
   "cell_type": "code",
   "execution_count": 133,
   "metadata": {
    "collapsed": false
   },
   "outputs": [],
   "source": [
    "p_t = np.zeros(answer[\"pr_test\"].shape)\n",
    "p_t[answer[\"pr_test\"]>0.49] = 1"
   ]
  },
  {
   "cell_type": "code",
   "execution_count": 134,
   "metadata": {
    "collapsed": false
   },
   "outputs": [
    {
     "data": {
      "text/plain": [
       "0.90727591087303316"
      ]
     },
     "execution_count": 134,
     "metadata": {},
     "output_type": "execute_result"
    }
   ],
   "source": [
    "roc_auc_score(test[\"ibs\"], answer[\"pr_test\"])"
   ]
  },
  {
   "cell_type": "code",
   "execution_count": 135,
   "metadata": {
    "collapsed": false
   },
   "outputs": [
    {
     "name": "stdout",
     "output_type": "stream",
     "text": [
      "0.769914573033\n",
      "0.805360561583\n",
      "0.769114307343\n"
     ]
    }
   ],
   "source": [
    "print patient_score(test[\"Patient\"], test[\"ibs\"], p_t)\n",
    "print accuracy_score(test[\"ibs\"], p_t)\n",
    "print f1_score(test[\"ibs\"], p_t)"
   ]
  },
  {
   "cell_type": "code",
   "execution_count": 112,
   "metadata": {
    "collapsed": true
   },
   "outputs": [],
   "source": [
    "lrclf_params = {\"C\": 0.0363, \"class_weight\" : \"balanced\", \"n_jobs\" : -1, \"penalty\": \"l1\"}\n",
    "lrfit_params = {}\n",
    "answer2 = get_prediction(LogisticRegression, bw_train.todense(), train[\"ibs\"], bw_test.todense(), test[\"ibs\"], lrclf_params, lrfit_params, do_scaling = True)"
   ]
  },
  {
   "cell_type": "code",
   "execution_count": 113,
   "metadata": {
    "collapsed": false
   },
   "outputs": [
    {
     "data": {
      "text/plain": [
       "0.90848360272820694"
      ]
     },
     "execution_count": 113,
     "metadata": {},
     "output_type": "execute_result"
    }
   ],
   "source": [
    "roc_auc_score(test[\"ibs\"], answer2[\"pr_test\"])"
   ]
  },
  {
   "cell_type": "code",
   "execution_count": 114,
   "metadata": {
    "collapsed": true
   },
   "outputs": [],
   "source": [
    "p_t2 = np.zeros(answer2[\"pr_test\"].shape)\n",
    "p_t2[answer2[\"pr_test\"]>0.46] = 1"
   ]
  },
  {
   "cell_type": "code",
   "execution_count": 118,
   "metadata": {
    "collapsed": false
   },
   "outputs": [
    {
     "name": "stdout",
     "output_type": "stream",
     "text": [
      "0.792597319719\n",
      "0.760853568801\n",
      "0.785580428059\n"
     ]
    }
   ],
   "source": [
    "print accuracy_score(test[\"ibs\"], p_t2)\n",
    "print f1_score(test[\"ibs\"], p_t2)\n",
    "print patient_score(test[\"Patient\"], test[\"ibs\"], p_t2)"
   ]
  },
  {
   "cell_type": "code",
   "execution_count": 124,
   "metadata": {
    "collapsed": false
   },
   "outputs": [],
   "source": [
    "xgbclf_params = {\"objective\":\"binary:logistic\", \"max_depth\":8, \"learning_rate\":0.006,\n",
    "                 \"n_estimators\": 600, \"nthread\":-1, \"base_score\":0.5, \"seed\":0, \"missing\":None}\n",
    "xgbfit_params = {\"eval_metric\":\"auc\", \"early_stopping_rounds\":900, \"verbose\":False}\n",
    "answer_xgb = get_prediction(xgb.XGBClassifier, bw_train.todense(), train[\"ibs\"], \n",
    "                            bw_test.todense(), test[\"ibs\"], xgbclf_params, xgbfit_params, \n",
    "                            do_scaling = False, xgbfit = True)"
   ]
  },
  {
   "cell_type": "code",
   "execution_count": 126,
   "metadata": {
    "collapsed": false
   },
   "outputs": [
    {
     "data": {
      "text/plain": [
       "0.95046387132718058"
      ]
     },
     "execution_count": 126,
     "metadata": {},
     "output_type": "execute_result"
    }
   ],
   "source": [
    "roc_auc_score(test[\"ibs\"], answer_xgb[\"pr_test\"])"
   ]
  },
  {
   "cell_type": "code",
   "execution_count": 130,
   "metadata": {
    "collapsed": true
   },
   "outputs": [],
   "source": [
    "p_t_xgb = np.zeros(answer_xgb[\"pr_test\"].shape)\n",
    "p_t_xgb[answer_xgb[\"pr_test\"]>0.495] = 1"
   ]
  },
  {
   "cell_type": "code",
   "execution_count": 131,
   "metadata": {
    "collapsed": false
   },
   "outputs": [
    {
     "name": "stdout",
     "output_type": "stream",
     "text": [
      "0.884492661136\n",
      "0.848281642917\n",
      "0.777429952348\n"
     ]
    }
   ],
   "source": [
    "print accuracy_score(test[\"ibs\"], p_t_xgb)\n",
    "print f1_score(test[\"ibs\"], p_t_xgb)\n",
    "print patient_score(test[\"Patient\"], test[\"ibs\"], p_t_xgb)"
   ]
  },
  {
   "cell_type": "code",
   "execution_count": 136,
   "metadata": {
    "collapsed": true
   },
   "outputs": [],
   "source": [
    "r_df = pd.DataFrame(data={\"ibs\":df_test[\"ibs\"], \"ECG_ID\":df_test[\"ECG_ID\"], \n",
    "                          \"WORDS_PR_LR\":answer[\"pr_test\"], \"WORDS_PR_LR_w2v\":answer2[\"pr_test\"], \n",
    "                          \"WORDS_PR_xgb\": answer_xgb[\"pr_test\"], \n",
    "                          \"WORDS_P_LR\":answer[\"p_test\"], \"WORDS_P_LR_new\":p_t,\n",
    "                          \"WORDS_P_LR_w2v\": answer2[\"p_test\"], \"WORDS_P_LR_new_w2v\": p_t2,\n",
    "                          \"WORDS_P_xgb\":answer_xgb[\"p_test\"], \"WORDS_P_xgb_new\":p_t_xgb})\n",
    "r_df.to_csv(\"words_test_results.csv\")"
   ]
  },
  {
   "cell_type": "markdown",
   "metadata": {},
   "source": [
    "## Результаты на кросс-валидации"
   ]
  },
  {
   "cell_type": "code",
   "execution_count": 31,
   "metadata": {
    "collapsed": true
   },
   "outputs": [],
   "source": [
    "def review(df, p=None, pr=None, target=\"ibs\", plot = True, text = True):\n",
    "    lsp = np.linspace(0, 1, 201)\n",
    "    if pr is not None:\n",
    "        s = [pd.DataFrame({'label':df[\"Patient\"], 'q':(df[target] == (pr >= l).astype(float))}).q.mean() for l in lsp]\n",
    "        patients = [pd.DataFrame({'label':df[\"Patient\"], \n",
    "                       'q':(df[target] == (pr >= l).astype(float))}).groupby('label')['q'].mean().mean() for l in lsp]\n",
    "    \n",
    "    if plot: \n",
    "        plt.figure(figsize = (8, 4))    \n",
    "        plt.plot(lsp, patients, lw=2)\n",
    "        plt.plot(lsp, s, lw=2)\n",
    "        plt.xlabel('threshold')\n",
    "        plt.ylabel('quality')\n",
    "    if p is not None: \n",
    "        tmp = pd.DataFrame({'label':df[\"Patient\"], 'q':df[target] == p})\n",
    "    tmax = np.argmax(patients)\n",
    "    \n",
    "    if text:\n",
    "        print ('roc-auc = ' + str(roc_auc_score(df[target], pr)))\n",
    "        if p is not None:\n",
    "            print (\"Оценка границы разбиения по умолчанию:\")      \n",
    "            print ('Качество по сигналам = ' + str(tmp.q.mean()))\n",
    "            print ('Качество по людям = ' + str(tmp.groupby('label')['q'].mean().mean()))\n",
    "        print (\"Наилучшее разбиение происходит при границе \" + str(lsp[tmax]))\n",
    "        print ('Качество по сигналам = ' + str(s[tmax]))\n",
    "        print ('Качество по людям = ' + str(patients[tmax]))\n",
    "    \n",
    "    return patients[tmax]"
   ]
  },
  {
   "cell_type": "code",
   "execution_count": 32,
   "metadata": {
    "collapsed": true
   },
   "outputs": [],
   "source": [
    "def combine_results(clf_res, cv, length):\n",
    "    a = np.zeros(length)\n",
    "    pr = np.zeros(length)\n",
    "    \n",
    "    for res, i in zip(clf_res, cv):\n",
    "        itrain, itest = i\n",
    "        \n",
    "        a[itest] = res[\"p_test\"]\n",
    "        pr[itest] = res[\"pr_test\"]\n",
    "        \n",
    "    return a, pr"
   ]
  },
  {
   "cell_type": "code",
   "execution_count": 87,
   "metadata": {
    "collapsed": false
   },
   "outputs": [
    {
     "name": "stderr",
     "output_type": "stream",
     "text": [
      "100%|██████████| 12/12 [00:00<00:00, 38.24it/s]\n"
     ]
    },
    {
     "name": "stdout",
     "output_type": "stream",
     "text": [
      "roc-auc = 0.802441746984\n",
      "Оценка границы разбиения по умолчанию:\n",
      "Качество по сигналам = 0.706340378198\n",
      "Качество по людям = 0.729933156641\n",
      "Наилучшее разбиение происходит при границе 0.49\n",
      "Качество по сигналам = 0.711902113459\n",
      "Качество по людям = 0.739481274791\n"
     ]
    },
    {
     "data": {
      "text/plain": [
       "0.7394812747912722"
      ]
     },
     "execution_count": 87,
     "metadata": {},
     "output_type": "execute_result"
    },
    {
     "data": {
      "image/png": "[encoded data removed]",
      "text/plain": [
       "<matplotlib.figure.Figure at 0x276c51fd0>"
      ]
     },
     "metadata": {},
     "output_type": "display_data"
    }
   ],
   "source": [
    "lrclf_params = {\"C\": 0.04, \"class_weight\" : \"balanced\", \"n_jobs\" : -1, \"penalty\": \"l1\"}\n",
    "lrfit_params = {}\n",
    "lr_res = cv_fit_predict(LogisticRegression, tt, \"b_train\", \"b_test\", lrclf_params, lrfit_params, do_scaling = True)\n",
    "lr_p, lr_pr = combine_results(lr_res, cv, df.shape[0])\n",
    "review(df, lr_p, lr_pr, \"ibs\")"
   ]
  },
  {
   "cell_type": "code",
   "execution_count": 88,
   "metadata": {
    "collapsed": false
   },
   "outputs": [
    {
     "name": "stdout",
     "output_type": "stream",
     "text": [
      "0.711902113459\n"
     ]
    }
   ],
   "source": [
    "new_lr_p = np.zeros(len(lr_p))\n",
    "new_lr_p[lr_pr > 0.49] = 1\n",
    "print accuracy_score(df[\"ibs\"], new_lr_p)"
   ]
  },
  {
   "cell_type": "code",
   "execution_count": 101,
   "metadata": {
    "collapsed": false
   },
   "outputs": [
    {
     "name": "stderr",
     "output_type": "stream",
     "text": [
      "100%|██████████| 12/12 [00:00<00:00, 32.04it/s]\n"
     ]
    },
    {
     "name": "stdout",
     "output_type": "stream",
     "text": [
      "roc-auc = 0.801010378063\n",
      "Оценка границы разбиения по умолчанию:\n",
      "Качество по сигналам = 0.710233592881\n",
      "Качество по людям = 0.732753606518\n",
      "Наилучшее разбиение происходит при границе 0.46\n",
      "Качество по сигналам = 0.706340378198\n",
      "Качество по людям = 0.748336778729\n"
     ]
    },
    {
     "data": {
      "text/plain": [
       "0.7483367787288936"
      ]
     },
     "execution_count": 101,
     "metadata": {},
     "output_type": "execute_result"
    },
    {
     "data": {
      "image/png": "[encoded data removed]",
      "text/plain": [
       "<matplotlib.figure.Figure at 0x2606c11d0>"
      ]
     },
     "metadata": {},
     "output_type": "display_data"
    }
   ],
   "source": [
    "lrclf_params = {\"C\": 0.0363, \"class_weight\" : \"balanced\", \"n_jobs\" : -1, \"penalty\": \"l1\"}\n",
    "lrfit_params = {}\n",
    "lr_res = cv_fit_predict(LogisticRegression, tt, \"bw_train\", \"bw_test\", lrclf_params, lrfit_params, do_scaling = True)\n",
    "lr_p_w2v, lr_pr_w2v = combine_results(lr_res, cv, df.shape[0])\n",
    "review(df, lr_p_w2v, lr_pr_w2v, \"ibs\")"
   ]
  },
  {
   "cell_type": "code",
   "execution_count": 103,
   "metadata": {
    "collapsed": false
   },
   "outputs": [
    {
     "name": "stdout",
     "output_type": "stream",
     "text": [
      "0.706340378198\n"
     ]
    }
   ],
   "source": [
    "new_lr_p_w2v = np.zeros(len(lr_p))\n",
    "new_lr_p_w2v[lr_pr_w2v > 0.46] = 1\n",
    "print accuracy_score(df[\"ibs\"], new_lr_p_w2v)"
   ]
  },
  {
   "cell_type": "code",
   "execution_count": 66,
   "metadata": {
    "collapsed": true
   },
   "outputs": [],
   "source": [
    "def get_weight(y_train):\n",
    "    false_w = 1 - len(y_train[y_train==0]) * 1.0 / len(y_train)\n",
    "    true_w = 1 - len(y_train[y_train==1]) * 1.0 / len(y_train)\n",
    "    d = {0: false_w, 1: true_w}\n",
    "    weight = y_train.apply(lambda x: d[x])\n",
    "    return weight"
   ]
  },
  {
   "cell_type": "code",
   "execution_count": 81,
   "metadata": {
    "collapsed": false
   },
   "outputs": [
    {
     "name": "stderr",
     "output_type": "stream",
     "text": [
      "100%|██████████| 12/12 [01:31<00:00,  7.53s/it]\n"
     ]
    }
   ],
   "source": [
    "xgbclf_params = {\"objective\":\"binary:logistic\", \"max_depth\":8, \"learning_rate\":0.006,\n",
    "                 \"n_estimators\": 600, \"nthread\":-1, \"base_score\":0.5, \"seed\":0, \"missing\":None}\n",
    "xgbfit_params = {\"eval_metric\":\"auc\", \"early_stopping_rounds\":900, \"verbose\":False}\n",
    "xgb_res = cv_fit_predict(xgb.XGBClassifier, tt, \"bw_train\", \"bw_test\", xgbclf_params, xgbfit_params, do_scaling = False, xgbfit = True)\n",
    "xgb_a, xgb_pr = combine_results(xgb_res, cv,  df.shape[0])"
   ]
  },
  {
   "cell_type": "code",
   "execution_count": 82,
   "metadata": {
    "collapsed": false,
    "scrolled": false
   },
   "outputs": [
    {
     "name": "stdout",
     "output_type": "stream",
     "text": [
      "roc-auc = 0.755965631837\n",
      "Оценка границы разбиения по умолчанию:\n",
      "Качество по сигналам = 0.694660734149\n",
      "Качество по людям = 0.714065980282\n",
      "Наилучшее разбиение происходит при границе 0.495\n",
      "Качество по сигналам = 0.693548387097\n",
      "Качество по людям = 0.715987759746\n"
     ]
    },
    {
     "data": {
      "text/plain": [
       "0.7159877597464894"
      ]
     },
     "execution_count": 82,
     "metadata": {},
     "output_type": "execute_result"
    },
    {
     "data": {
      "image/png": "[encoded data removed]",
      "text/plain": [
       "<matplotlib.figure.Figure at 0x274fa5b90>"
      ]
     },
     "metadata": {},
     "output_type": "display_data"
    }
   ],
   "source": [
    "review(df, xgb_a, xgb_pr, \"ibs\")"
   ]
  },
  {
   "cell_type": "code",
   "execution_count": 104,
   "metadata": {
    "collapsed": false
   },
   "outputs": [
    {
     "name": "stdout",
     "output_type": "stream",
     "text": [
      "0.693548387097\n"
     ]
    }
   ],
   "source": [
    "new_xgb_a = np.zeros(len(lr_p))\n",
    "new_xgb_a[xgb_pr > 0.495] = 1\n",
    "print accuracy_score(df[\"ibs\"], new_xgb_a)"
   ]
  },
  {
   "cell_type": "code",
   "execution_count": 272,
   "metadata": {
    "collapsed": false
   },
   "outputs": [],
   "source": [
    "def save_to_files(tt):\n",
    "    for index, f in enumerate(tt):\n",
    "        f[\"xtest\"][[\"Patient\", \"texts\"]].to_csv(\"Words_cv/xtest_cv\"+str(index))\n",
    "        f[\"xtrain\"][[\"Patient\", \"texts\"]].to_csv(\"Words_cv/xtrain_cv\"+str(index))\n",
    "        pd.DataFrame(f[\"b_test\"]).to_csv(\"Words_cv/btest_cv\"+str(index))\n",
    "        pd.DataFrame(f[\"b_train\"]).to_csv(\"Words_cv/btrain_cv\"+str(index))\n",
    "        pd.DataFrame(f[\"w_test\"]).to_csv(\"Words_cv/wtest_cv\"+str(index))\n",
    "        pd.DataFrame(f[\"w_train\"]).to_csv(\"Words_cv/wtrain_cv\"+str(index))\n",
    "        pd.DataFrame(f[\"bw_test\"]).to_csv(\"Words_cv/bwtest_cv\"+str(index))\n",
    "        pd.DataFrame(f[\"bw_train\"]).to_csv(\"Words_cv/bwtrain_cv\"+str(index))"
   ]
  },
  {
   "cell_type": "code",
   "execution_count": 273,
   "metadata": {
    "collapsed": false
   },
   "outputs": [],
   "source": [
    "save_to_files(tt)"
   ]
  },
  {
   "cell_type": "code",
   "execution_count": 106,
   "metadata": {
    "collapsed": false
   },
   "outputs": [],
   "source": [
    "new_df = pd.DataFrame(data={\"ibs\":df[\"ibs\"], \"ECG_ID\":df[\"ECG_ID\"], \"WORDS_PR_LR\":lr_pr,\n",
    "                            \"WORDS_PR_LR_w2v\":lr_pr_w2v, \"WORDS_PR_xgb\": xgb_pr, \n",
    "                            \"WORDS_P_LR\":lr_p, \"WORDS_P_LR_new\":new_lr_p,\n",
    "                            \"WORDS_P_LR_w2v\":lr_p_w2v, \"WORDS_P_LR_new_w2v\":new_lr_p_w2v,\n",
    "                            \"WORDS_P_xgb\":xgb_a, \"WORDS_P_xgb_new\":new_xgb_a\n",
    "                            })"
   ]
  },
  {
   "cell_type": "code",
   "execution_count": 109,
   "metadata": {
    "collapsed": false
   },
   "outputs": [
    {
     "data": {
      "text/plain": [
       "Index([u'ECG_ID', u'WORDS_PR_LR', u'WORDS_PR_LR_w2v', u'WORDS_PR_xgb',\n",
       "       u'WORDS_P_LR', u'WORDS_P_LR_new', u'WORDS_P_LR_new_w2v',\n",
       "       u'WORDS_P_LR_w2v', u'WORDS_P_xgb', u'WORDS_P_xgb_new', u'ibs'],\n",
       "      dtype='object')"
      ]
     },
     "execution_count": 109,
     "metadata": {},
     "output_type": "execute_result"
    }
   ],
   "source": [
    "new_df.columns"
   ]
  },
  {
   "cell_type": "code",
   "execution_count": 115,
   "metadata": {
    "collapsed": false
   },
   "outputs": [],
   "source": [
    "new_df.to_csv(\"words_results.csv\")"
   ]
  },
  {
   "cell_type": "code",
   "execution_count": null,
   "metadata": {
    "collapsed": true
   },
   "outputs": [],
   "source": []
  }
 ],
 "metadata": {
  "kernelspec": {
   "display_name": "Python 2",
   "language": "python",
   "name": "python2"
  },
  "language_info": {
   "codemirror_mode": {
    "name": "ipython",
    "version": 2
   },
   "file_extension": ".py",
   "mimetype": "text/x-python",
   "name": "python",
   "nbconvert_exporter": "python",
   "pygments_lexer": "ipython2",
   "version": "2.7.9"
  }
 },
 "nbformat": 4,
 "nbformat_minor": 1
}
