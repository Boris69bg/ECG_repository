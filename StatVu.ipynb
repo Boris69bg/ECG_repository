{
 "cells": [
  {
   "cell_type": "markdown",
   "metadata": {},
   "source": [
    "## Метод, основанные на статистических признаках, признаках их ЭЭГ и признаках Воронцова-Успенского"
   ]
  },
  {
   "cell_type": "code",
   "execution_count": 1,
   "metadata": {
    "collapsed": false
   },
   "outputs": [
    {
     "name": "stderr",
     "output_type": "stream",
     "text": [
      "/Users/GoormanMcBook/anaconda/lib/python2.7/site-packages/sklearn/cross_validation.py:44: DeprecationWarning: This module was deprecated in version 0.18 in favor of the model_selection module into which all the refactored classes and functions are moved. Also note that the interface of the new CV iterators are different from that of this module. This module will be removed in 0.20.\n",
      "  \"This module will be removed in 0.20.\", DeprecationWarning)\n"
     ]
    }
   ],
   "source": [
    "import numpy as np\n",
    "from scikits.audiolab import Sndfile\n",
    "from scipy import signal\n",
    "import seaborn as sns\n",
    "import os\n",
    "from scikits.audiolab import wavread\n",
    "import numpy as np\n",
    "import pandas as pd\n",
    "from sklearn.utils import shuffle\n",
    "from scipy.signal import wiener\n",
    "import xgboost as xgb\n",
    "from sklearn.cross_validation import LabelKFold\n",
    "from biosppy.signals import ecg\n",
    "from tqdm import tqdm\n",
    "import math"
   ]
  },
  {
   "cell_type": "code",
   "execution_count": 2,
   "metadata": {
    "collapsed": false
   },
   "outputs": [],
   "source": [
    "from matplotlib import pyplot as plt"
   ]
  },
  {
   "cell_type": "markdown",
   "metadata": {},
   "source": [
    "## Считывание данных"
   ]
  },
  {
   "cell_type": "code",
   "execution_count": 3,
   "metadata": {
    "collapsed": false
   },
   "outputs": [],
   "source": [
    "def read_frame(directory, filename):\n",
    "    data, sample_frequency, encoding = wavread(directory + \"/\" + filename)\n",
    "    return np.array(data)\n",
    "\n",
    "def get_frames(directory, files):\n",
    "    frames = []\n",
    "    for i in files:\n",
    "        patient = i.split(\"_\")[0]\n",
    "        ecg_id = i[:-4]\n",
    "        a = read_frame(directory, i)\n",
    "        frames.append([a, patient, ecg_id])\n",
    "    frames = np.array(frames)\n",
    "    return np.swapaxes(frames, 0, 1)\n",
    "\n",
    "def create_data_frame_from_wav(true_files_dir, false_files_dir):\n",
    "    true_files = filter(lambda x: x.endswith(\".wav\"), os.listdir(true_files_dir))\n",
    "    false_files = filter(lambda x: x.endswith(\".wav\"), os.listdir(false_files_dir))\n",
    "    true_frames = get_frames(true_files_dir, true_files)\n",
    "    false_frames = get_frames(false_files_dir, false_files)\n",
    "    a = create_data_frame(true_frames, True)\n",
    "    b = create_data_frame(false_frames, False)\n",
    "    df = a.append(b).copy()\n",
    "    del a\n",
    "    del b\n",
    "    df = shuffle(df, random_state=27)\n",
    "    df = df.reset_index()\n",
    "    df.drop(\"index\", axis=1, inplace=True)\n",
    "    df[\"SignalLen\"] = df[\"S\"].apply(lambda x: len(x))\n",
    "    df = df[df[\"SignalLen\"] != 0].copy()\n",
    "    return df\n",
    "\n",
    "def create_data_frame(data, ibs):\n",
    "    df = pd.DataFrame({\"S\":data[0], \"Patient\": data[1], \"ibs\":ibs, \"ECG_ID\":data[2]})\n",
    "    return df\n",
    "\n",
    "#df_p = create_data_frame_from_wav(\"preprocessed/wav/true\", \"preprocessed/wav/false\")"
   ]
  },
  {
   "cell_type": "code",
   "execution_count": 4,
   "metadata": {
    "collapsed": true
   },
   "outputs": [],
   "source": [
    "df_train = create_data_frame_from_wav(\"wav/true\", \"wav/false\")\n",
    "df_test = create_data_frame_from_wav(\"wav_test/true\", \"wav_test/false\")\n",
    "\n",
    "ecg_ids = pd.read_csv(\"test_ids.csv\", header=None)\n",
    "df_test = df_test[df_test[\"ECG_ID\"].isin(ecg_ids[0])]"
   ]
  },
  {
   "cell_type": "markdown",
   "metadata": {},
   "source": [
    "Предобработка данных"
   ]
  },
  {
   "cell_type": "code",
   "execution_count": 5,
   "metadata": {
    "collapsed": false
   },
   "outputs": [],
   "source": [
    "N  = 2   # Filter order\n",
    "Wn = 0.05 # Cutoff frequency\n",
    "B, A = signal.butter(N, Wn, output='ba')"
   ]
  },
  {
   "cell_type": "code",
   "execution_count": 20,
   "metadata": {
    "collapsed": false
   },
   "outputs": [],
   "source": [
    "df_p[\"FS\"] = df_p[\"S\"].apply(lambda x : signal.filtfilt(B, A, x))\n",
    "df_p[\"S_Squared\"] = df_p[\"S\"].apply(lambda x : x * x)\n",
    "df_p[\"FS_Squared\"] = df_p[\"FS\"].apply(lambda x : x * x)"
   ]
  },
  {
   "cell_type": "code",
   "execution_count": 6,
   "metadata": {
    "collapsed": true
   },
   "outputs": [],
   "source": [
    "df_test[\"FS\"] = df_test[\"S\"].apply(lambda x : signal.filtfilt(B, A, x))\n",
    "df_test[\"S_Squared\"] = df_test[\"S\"].apply(lambda x : x * x)\n",
    "df_test[\"FS_Squared\"] = df_test[\"FS\"].apply(lambda x : x * x)"
   ]
  },
  {
   "cell_type": "markdown",
   "metadata": {},
   "source": [
    "## Признаки, основанные на статистических характеристиках"
   ]
  },
  {
   "cell_type": "code",
   "execution_count": 7,
   "metadata": {
    "collapsed": true
   },
   "outputs": [],
   "source": [
    "percentile_list = np.array([0.05, 0.1, 0.25, 0.5, 0.75, 0.9, 0.95]) * 100"
   ]
  },
  {
   "cell_type": "code",
   "execution_count": 8,
   "metadata": {
    "collapsed": true
   },
   "outputs": [],
   "source": [
    "def get_sum_g(x, i):\n",
    "    x = x.copy()\n",
    "    x[x < i] = 0\n",
    "    return np.sum(x)\n",
    "\n",
    "def get_sum_l(x, i):\n",
    "    x = x.copy()\n",
    "    x[x >= i] = 0\n",
    "    return np.sum(x)\n",
    "\n",
    "def get_sum_g2(xf, x, i):\n",
    "    x = x.copy()\n",
    "    x[xf < i] = 0\n",
    "    return np.sum(x)\n",
    "\n",
    "def get_sum_l2(xf, x, i):\n",
    "    x = x.copy()\n",
    "    x[xf >= i] = 0\n",
    "    return np.sum(x)\n",
    "\n",
    "def get_percentile_features(df, col, p):\n",
    "    df = df.copy()\n",
    "    \n",
    "    df[col + \"_\" + str(int(p))] = df[col].apply(lambda x: np.percentile(x, p))\n",
    "    \n",
    "    df[col + \"_\" + str(int(p)) + \"sg\"] = df[[col, col + \"_\" + str(int(p))]].apply(lambda x: get_sum_g(x[0], x[1]), axis=1)\n",
    "    df[col + \"_\" + str(int(p)) + \"sl\"] = df[[col, col + \"_\" + str(int(p))]].apply(lambda x: get_sum_l(x[0], x[1]), axis=1)\n",
    "    df[col + \"_\" + str(int(p)) + \"sg2\"] = df[[col, col + \"_Squared\", col + \"_\" + str(int(p))]].apply(lambda x: get_sum_g2(x[0], x[1], x[2]), axis=1)\n",
    "    df[col + \"_\" + str(int(p)) + \"sl2\"] = df[[col, col + \"_Squared\", col + \"_\" + str(int(p))]].apply(lambda x: get_sum_l2(x[0], x[1], x[2]), axis=1)\n",
    "    \n",
    "    return df"
   ]
  },
  {
   "cell_type": "code",
   "execution_count": 9,
   "metadata": {
    "collapsed": false
   },
   "outputs": [],
   "source": [
    "def create_stat_features(df, col, percentile_list, verbose):\n",
    "    df = df.copy()\n",
    "    df[col+\"_mean\"] = df[col].apply(lambda x: np.mean(x))\n",
    "    df[col+\"_std\"] = df[col].apply(lambda x: np.std(x))\n",
    "    df[col+\"_min\"] = df[col].apply(lambda x: np.min(x))\n",
    "    df[col+\"_max\"] = df[col].apply(lambda x: np.max(x))\n",
    "    \n",
    "    for p in tqdm(percentile_list, \"Percentile Features, \" + col):\n",
    "        df = get_percentile_features(df, col, p)\n",
    "        \n",
    "    for i in range(0, len(percentile_list)):\n",
    "        for k in range(i+1, len(percentile_list)):\n",
    "            first = str(int(percentile_list[i]))\n",
    "            second = str(int(percentile_list[k]))\n",
    "            df[col+\"_\" + first + \"-\" + second] = df[col + \"_\" + first] - df[col + \"_\" + second]\n",
    "            \n",
    "    x = df[col] - df[col+\"_mean\"]\n",
    "    df[col + \"_Skew\"] = x.apply(lambda z : (z * z * z).mean() / (np.power((z * z).mean(), 1.5)))\n",
    "    df[col + \"_Kurt\"] = x.apply(lambda z : (z * z * z * z).mean() / (np.power((z * z).mean(), 2.0)) - 3)\n",
    "\n",
    "    return df"
   ]
  },
  {
   "cell_type": "markdown",
   "metadata": {},
   "source": [
    "## Признаки ЭЭГ"
   ]
  },
  {
   "cell_type": "code",
   "execution_count": 10,
   "metadata": {
    "collapsed": true
   },
   "outputs": [],
   "source": [
    "def get_activity(array):\n",
    "    return np.power(np.std(array), 2)\n",
    "\n",
    "def create_Hjorth_features(array):\n",
    "    activity = get_activity(array)\n",
    "    derivative = np.diff(array)\n",
    "    dactivity = get_activity(derivative)\n",
    "    d2 = np.diff(derivative)\n",
    "    d2activity = get_activity(d2)\n",
    "    \n",
    "    mobility = np.sqrt(dactivity / activity)\n",
    "    dmobility = np.sqrt(d2activity / dactivity)\n",
    "    \n",
    "    complexity = dmobility / mobility\n",
    "    \n",
    "    return activity, mobility, complexity\n",
    "\n",
    "def create_EEG_features(df, col):\n",
    "    tqdm.pandas(desc=\"EEG Features, \" + col)\n",
    "    \n",
    "    z = df[col].progress_apply(create_Hjorth_features)\n",
    "    \n",
    "    HjorthDF = pd.DataFrame(data = np.asarray(z.values.tolist()), \n",
    "                            index = df.index, \n",
    "                            columns = [col + \"_Activity\", col + \"_Mobility\", col + \"_Complexity\"])\n",
    "    \n",
    "    df = pd.concat([df, HjorthDF], axis = 1)\n",
    "    \n",
    "    return df"
   ]
  },
  {
   "cell_type": "markdown",
   "metadata": {},
   "source": [
    "## Вычисление R-пиков и признаков Ворнцова Успенского"
   ]
  },
  {
   "cell_type": "code",
   "execution_count": 11,
   "metadata": {
    "collapsed": true
   },
   "outputs": [],
   "source": [
    "def create_peaks_features(df, col):\n",
    "    df = df.copy()\n",
    "    \n",
    "    tqdm.pandas(desc=\"Peaks Features, \" + col)\n",
    "    \n",
    "    df[col + \"_RPeaks\"] = df[col].progress_apply(lambda x: ecg.hamilton_segmenter(x)[\"rpeaks\"])\n",
    "    df[col + \"_FirstRPeaks\"] = df[col + \"_RPeaks\"].progress_apply(lambda x: x[0])\n",
    "    df[col + \"_LastRPeaks\"] = df[col + \"_RPeaks\"].progress_apply(lambda x: x[len(x)-1])\n",
    "    df[col + \"_MedianRPeaks\"] = df[col + \"_RPeaks\"].progress_apply(lambda x: np.median(x))\n",
    "    return df"
   ]
  },
  {
   "cell_type": "code",
   "execution_count": 12,
   "metadata": {
    "collapsed": true
   },
   "outputs": [],
   "source": [
    "def get_vu_dict():\n",
    "    letters = [\"a\", \"b\", \"c\", \"d\", \"e\",  \"f\"]\n",
    "    d = {}\n",
    "    for i in letters:\n",
    "        for j in letters:\n",
    "            for k in letters:\n",
    "                d[i + j + k] = 0\n",
    "    return d  "
   ]
  },
  {
   "cell_type": "code",
   "execution_count": 13,
   "metadata": {
    "collapsed": true
   },
   "outputs": [],
   "source": [
    "def get_r_t_alpha(r_peaks, signal):\n",
    "    drn_s = []\n",
    "    tn_s = []\n",
    "    alphan_s = []\n",
    "    for i in range(len(r_peaks)-1):\n",
    "        dr = signal[r_peaks[i+1]] - signal[r_peaks[i]]\n",
    "        t = r_peaks[i+1] - r_peaks[i]\n",
    "        alpha = math.atan(signal[r_peaks[i]]* 1.0 / t)\n",
    "        drn_s.append(dr)\n",
    "        tn_s.append(t)\n",
    "        alphan_s.append(alpha)\n",
    "        \n",
    "    dtn_s = []\n",
    "    dalpha_s = []\n",
    "    \n",
    "    for i in range(len(tn_s)-1):\n",
    "        dtn_s.append(tn_s[i+1] - tn_s[i])\n",
    "        dalpha_s.append(alphan_s[i+1] - alphan_s[i])\n",
    "    return (drn_s, dtn_s, dalpha_s)  "
   ]
  },
  {
   "cell_type": "code",
   "execution_count": 14,
   "metadata": {
    "collapsed": true
   },
   "outputs": [],
   "source": [
    "def get_seq(rn, tn, an):\n",
    "    s = []\n",
    "    for i in range(len(tn)):\n",
    "        if (rn[i] >= 0) and (tn[i] >= 0) and (an[i] >= 0):\n",
    "            s.append(\"a\")\n",
    "        elif (rn[i] < 0) and (tn[i] < 0) and (an[i] >= 0):\n",
    "            s.append(\"b\")\n",
    "        elif (rn[i] >= 0) and (tn[i] < 0) and (an[i] >= 0):\n",
    "            s.append(\"c\")\n",
    "        elif (rn[i] < 0) and (tn[i] >= 0) and (an[i] < 0):\n",
    "            s.append(\"d\")\n",
    "        elif (rn[i] >= 0) and (tn[i] >= 0) and (an[i] < 0):\n",
    "            s.append(\"e\")\n",
    "        elif (rn[i] < 0) and (tn[i] < 0) and (an[i] < 0):\n",
    "            s.append(\"f\")\n",
    "    return s"
   ]
  },
  {
   "cell_type": "code",
   "execution_count": 15,
   "metadata": {
    "collapsed": true
   },
   "outputs": [],
   "source": [
    "def get_trigram_counts(s):\n",
    "    d = get_vu_dict()\n",
    "    for i in range(len(s) - 2):\n",
    "        d[s[i] + s[i+1] + s[i+2]] += 1\n",
    "    return d"
   ]
  },
  {
   "cell_type": "code",
   "execution_count": 16,
   "metadata": {
    "collapsed": true
   },
   "outputs": [],
   "source": [
    "def get_VU(r, s):\n",
    "    k = get_r_t_alpha(r, s)\n",
    "    s = get_seq(k[0], k[1], k[2])\n",
    "    d = get_trigram_counts(s)\n",
    "    return d"
   ]
  },
  {
   "cell_type": "code",
   "execution_count": 17,
   "metadata": {
    "collapsed": true
   },
   "outputs": [],
   "source": [
    "def get_VU_df(df, rpeaks, signal, pr):\n",
    "    df = df.copy()\n",
    "    df[\"VU_dict\"] = df[[rpeaks, signal]].apply(lambda x : get_VU(x[0], x[1]), axis=1)\n",
    "    keys = get_vu_dict().keys()\n",
    "    for k in sorted(keys):\n",
    "        df[pr + \"_VU_\" + k] = df[\"VU_dict\"].apply(lambda x: x[k])\n",
    "    df.drop(\"VU_dict\", axis=1, inplace=True)\n",
    "    return df"
   ]
  },
  {
   "cell_type": "code",
   "execution_count": 18,
   "metadata": {
    "collapsed": true
   },
   "outputs": [],
   "source": [
    "def create_features(df, percentile_list):\n",
    "    df = create_peaks_features(df, \"S\")\n",
    "    df = create_peaks_features(df, \"FS\")\n",
    "    \n",
    "    df = create_stat_features(df, \"FS\", percentile_list, verbose = False)\n",
    "    df = create_stat_features(df, \"S\", percentile_list, verbose = False)\n",
    "    \n",
    "    df = create_EEG_features(df, \"S\")\n",
    "    df = create_EEG_features(df, \"FS\")\n",
    "    \n",
    "    df = get_VU_df(df, \"S_RPeaks\", \"S\", \"S\")\n",
    "    df = get_VU_df(df, \"FS_RPeaks\", \"FS\", \"FS\")\n",
    "    \n",
    "    return df"
   ]
  },
  {
   "cell_type": "code",
   "execution_count": 33,
   "metadata": {
    "collapsed": true
   },
   "outputs": [
    {
     "name": "stderr",
     "output_type": "stream",
     "text": [
      "Peaks Features, S: 100%|██████████| 1798/1798 [11:03<00:00,  2.91it/s]\n",
      "Peaks Features, S: 100%|██████████| 1798/1798 [00:00<00:00, 147765.47it/s]\n",
      "Peaks Features, S: 100%|██████████| 1798/1798 [00:00<00:00, 283509.72it/s]\n",
      "Peaks Features, S: 100%|██████████| 1798/1798 [00:00<00:00, 19885.87it/s]\n",
      "Peaks Features, FS: 100%|██████████| 1798/1798 [08:30<00:00,  3.95it/s]\n",
      "Peaks Features, FS: 100%|██████████| 1798/1798 [00:00<00:00, 135635.95it/s]\n",
      "Peaks Features, FS: 100%|██████████| 1798/1798 [00:00<00:00, 348395.02it/s]\n",
      "Peaks Features, FS: 100%|██████████| 1798/1798 [00:00<00:00, 23980.03it/s]\n",
      "Percentile Features, FS: 100%|██████████| 7/7 [33:04<00:00, 284.99s/it]\n",
      "Percentile Features, S: 100%|██████████| 7/7 [04:30<00:00, 38.78s/it]\n",
      "EEG Features, S: 100%|██████████| 1798/1798 [00:17<00:00, 104.82it/s]\n",
      "EEG Features, FS: 100%|██████████| 1798/1798 [01:20<00:00, 22.33it/s]\n"
     ]
    }
   ],
   "source": [
    "df_p = create_features(df_p, percentile_list)"
   ]
  },
  {
   "cell_type": "code",
   "execution_count": 19,
   "metadata": {
    "collapsed": true
   },
   "outputs": [
    {
     "name": "stderr",
     "output_type": "stream",
     "text": [
      "Peaks Features, S: 100%|██████████| 1567/1567 [05:19<00:00,  4.51it/s]\n",
      "Peaks Features, S: 100%|██████████| 1567/1567 [00:00<00:00, 485017.66it/s]\n",
      "Peaks Features, S: 100%|██████████| 1567/1567 [00:00<00:00, 526176.80it/s]\n",
      "Peaks Features, S: 100%|██████████| 1567/1567 [00:00<00:00, 38800.61it/s]\n",
      "Peaks Features, FS: 100%|██████████| 1567/1567 [03:45<00:00,  6.38it/s]\n",
      "Peaks Features, FS: 100%|██████████| 1567/1567 [00:00<00:00, 553098.91it/s]\n",
      "Peaks Features, FS: 100%|██████████| 1567/1567 [00:00<00:00, 471550.75it/s]\n",
      "Peaks Features, FS: 100%|██████████| 1567/1567 [00:00<00:00, 40286.83it/s]\n",
      "Percentile Features, FS: 100%|██████████| 7/7 [00:56<00:00,  7.79s/it]\n",
      "Percentile Features, S: 100%|██████████| 7/7 [00:57<00:00,  8.07s/it]\n",
      "EEG Features, S: 100%|██████████| 1567/1567 [00:04<00:00, 381.09it/s]\n",
      "EEG Features, FS: 100%|██████████| 1567/1567 [00:20<00:00, 77.45it/s] \n"
     ]
    }
   ],
   "source": [
    "f_df_test = create_features(df_test, percentile_list)"
   ]
  },
  {
   "cell_type": "code",
   "execution_count": 21,
   "metadata": {
    "collapsed": true
   },
   "outputs": [],
   "source": [
    "f_df_train = pd.read_csv(\"df_p_f_stat.csv\")"
   ]
  },
  {
   "cell_type": "code",
   "execution_count": 34,
   "metadata": {
    "collapsed": false
   },
   "outputs": [],
   "source": [
    "#new_f_filt = create_features(new_df_filtered, percentile_list)"
   ]
  },
  {
   "cell_type": "code",
   "execution_count": 35,
   "metadata": {
    "collapsed": true
   },
   "outputs": [],
   "source": [
    "df_p.drop([\"S\", \"FS\", \"S_Squared\", \"FS_Squared\"], axis = 1).to_csv(\"df_p_f_stat.csv\")"
   ]
  },
  {
   "cell_type": "code",
   "execution_count": 24,
   "metadata": {
    "collapsed": false
   },
   "outputs": [],
   "source": [
    "from sklearn.cross_validation import train_test_split"
   ]
  },
  {
   "cell_type": "markdown",
   "metadata": {},
   "source": [
    "## Функции для обучения классификаторов"
   ]
  },
  {
   "cell_type": "code",
   "execution_count": 25,
   "metadata": {
    "collapsed": false
   },
   "outputs": [],
   "source": [
    "def get_weight(y_train):\n",
    "    false_w = 1 - len(y_train[y_train==0]) * 1.0 / len(y_train)\n",
    "    true_w = 1 - len(y_train[y_train==1]) * 1.0 / len(y_train)\n",
    "    d = {0: false_w, 1: true_w}\n",
    "    weight = y_train.apply(lambda x: d[x])\n",
    "    return weight"
   ]
  },
  {
   "cell_type": "code",
   "execution_count": 26,
   "metadata": {
    "collapsed": false
   },
   "outputs": [],
   "source": [
    "from sklearn.ensemble import RandomForestClassifier\n",
    "from sklearn.linear_model import LogisticRegression\n",
    "from tqdm import tqdm"
   ]
  },
  {
   "cell_type": "code",
   "execution_count": 27,
   "metadata": {
    "collapsed": true
   },
   "outputs": [],
   "source": [
    "from sklearn.metrics import roc_auc_score\n",
    "from sklearn.metrics import f1_score, recall_score, precision_score, accuracy_score"
   ]
  },
  {
   "cell_type": "code",
   "execution_count": 28,
   "metadata": {
    "collapsed": true
   },
   "outputs": [],
   "source": [
    "from sklearn.preprocessing import StandardScaler\n",
    "import matplotlib.pyplot as plt"
   ]
  },
  {
   "cell_type": "code",
   "execution_count": 43,
   "metadata": {
    "collapsed": false
   },
   "outputs": [],
   "source": [
    "%matplotlib inline"
   ]
  },
  {
   "cell_type": "code",
   "execution_count": 44,
   "metadata": {
    "collapsed": false
   },
   "outputs": [],
   "source": [
    "cv = LabelKFold(df_p[\"Patient\"], n_folds=12)"
   ]
  },
  {
   "cell_type": "code",
   "execution_count": 45,
   "metadata": {
    "collapsed": false
   },
   "outputs": [],
   "source": [
    "def cv_tt(df, target, cv):\n",
    "    tt = []\n",
    "    train_data = df.drop(target, axis = 1)\n",
    "    y = df[target]\n",
    "    for itrain, itest in cv:\n",
    "        fold = {\"xtrain\" : train_data.loc[itrain,:], \"ytrain\" : y[itrain], \n",
    "                \"xtest\" : train_data.loc[itest,:], \"ytest\" : y[itest]}\n",
    "        tt.append(fold)\n",
    "    return tt"
   ]
  },
  {
   "cell_type": "code",
   "execution_count": 46,
   "metadata": {
    "collapsed": false
   },
   "outputs": [],
   "source": [
    "cv_train_test = cv_tt(df_p, \"ibs\", cv)"
   ]
  },
  {
   "cell_type": "code",
   "execution_count": 40,
   "metadata": {
    "collapsed": false
   },
   "outputs": [],
   "source": [
    "def fit_predict(clf, xtrain, ytrain, xtest, ytest, clf_params, \n",
    "               fit_params, do_scaling, xgbfit, nnfit):\n",
    "    if do_scaling:\n",
    "        scaler = StandardScaler()\n",
    "        xtrain = scaler.fit_transform(xtrain)\n",
    "        xtest = scaler.transform(xtest)\n",
    "            \n",
    "    if xgbfit:\n",
    "        fit_params[\"eval_set\"] = \\\n",
    "            [(xtrain, ytrain), (xtest, ytest)]\n",
    "        fit_params[\"sample_weight\"] = \\\n",
    "            np.array(get_weight(ytrain))\n",
    "    if nnfit:\n",
    "        fit_params[\"w\"] = \\\n",
    "            np.array(get_weight(ytrain))\n",
    "            \n",
    "    c = clf(**clf_params)\n",
    "    c.fit(xtrain, ytrain, **fit_params)\n",
    "    \n",
    "    p_tr = c.predict(xtrain)\n",
    "    pr_tr = c.predict_proba(xtrain)[:,1] \n",
    "    p_tst = c.predict(xtest)\n",
    "    pr_tst = c.predict_proba(xtest)[:,1]\n",
    "    \n",
    "    return  p_tst, pr_tst"
   ]
  },
  {
   "cell_type": "code",
   "execution_count": 41,
   "metadata": {
    "collapsed": true
   },
   "outputs": [],
   "source": [
    "def cv_fit_predict(clf, cv_tt, f_l, clf_params = {}, fit_params = {},\n",
    "                   do_scaling = False, xgbfit = False, nnfit = False):\n",
    "    cv_answer = []\n",
    "    \n",
    "    for fold in tqdm(cv_tt):\n",
    "        p_tr, pr_tr, p_tst, pr_tst = fit_predict(clf, fold[\"xtrain\"][f_l], fold[\"ytrain\"], \n",
    "                                      fold[\"xtest\"][f_l], fold[\"ytest\"], \n",
    "                                      clf_params, fit_params, do_scaling, xgbfit, nnfit)\n",
    "        tt_answer = {\"p_train\" : p_tr, \"pr_train\" : pr_tr, \n",
    "                     \"p_test\" : p_tst, \"pr_test\" : pr_tst}\n",
    "        cv_answer.append(tt_answer)\n",
    "    \n",
    "    return cv_answer"
   ]
  },
  {
   "cell_type": "code",
   "execution_count": 42,
   "metadata": {
    "collapsed": true
   },
   "outputs": [],
   "source": [
    "def get_prediction(clf, train, y_train, test, y_test, clf_params, fit_params, do_scaling = True,\n",
    "                   xgbfit = False, nnfit = False):\n",
    "    p_tst, pr_tst = fit_predict(clf, train, y_train, \n",
    "                                             test, y_test, \n",
    "                                             clf_params, fit_params, do_scaling, xgbfit, nnfit)\n",
    "    return p_tst, pr_tst"
   ]
  },
  {
   "cell_type": "code",
   "execution_count": 43,
   "metadata": {
    "collapsed": true
   },
   "outputs": [],
   "source": [
    "def patient_score(label, target_val, p=None):\n",
    "    tmp = pd.DataFrame({'label':label, 'q':target_val == p})\n",
    "    return tmp.groupby('label')['q'].mean().mean()"
   ]
  },
  {
   "cell_type": "markdown",
   "metadata": {},
   "source": [
    "## Результаты на тестовой выборке"
   ]
  },
  {
   "cell_type": "code",
   "execution_count": 44,
   "metadata": {
    "collapsed": false
   },
   "outputs": [],
   "source": [
    "lrclf_params = {\"C\": 0.62, \"class_weight\" : \"balanced\", \"n_jobs\" : -1, \"penalty\": \"l1\"}\n",
    "lrfit_params = {}\n",
    "vu_columns = [i for i in f_df_test.columns if i.startswith(\"S_VU\")]\n",
    "lr_f = ['FS_Activity', u'FS_Mobility', u'FS_Complexity',  u'S_FirstRPeaks', u'S_LastRPeaks', \n",
    "               u'S_MedianRPeaks', u'FS_mean',\n",
    "       u'FS_std', u'FS_min', u'FS_max', u'FS_5', u'FS_5sg', u'FS_5sl',\n",
    "       u'FS_5sg2', u'FS_5sl2', u'FS_10', u'FS_10sg', u'FS_10sl', u'FS_10sg2',\n",
    "       u'FS_10sl2', u'FS_25', u'FS_25sg', u'FS_25sl', u'FS_25sg2', u'FS_25sl2',\n",
    "       u'FS_50', u'FS_50sg', u'FS_50sl', u'FS_50sg2', u'FS_50sl2', u'FS_75',\n",
    "       u'FS_75sg', u'FS_75sl', u'FS_75sg2', u'FS_75sl2', u'FS_90', u'FS_90sg',\n",
    "       u'FS_90sl', u'FS_90sg2', u'FS_90sl2', u'FS_95', u'FS_95sg', u'FS_95sl',\n",
    "       u'FS_95sg2', u'FS_95sl2', u'FS_5-10', u'FS_5-25', u'FS_5-50',\n",
    "       u'FS_5-75', u'FS_5-90', u'FS_5-95', u'FS_10-25', u'FS_10-50',\n",
    "       u'FS_10-75', u'FS_10-90', u'FS_10-95', u'FS_25-50', u'FS_25-75',\n",
    "       u'FS_25-90', u'FS_25-95', u'FS_50-75', u'FS_50-90', u'FS_50-95',\n",
    "       u'FS_75-90', u'FS_75-95', u'FS_90-95', u'S_Skew', u'S_Kurt'] \n",
    "lr_f += vu_columns\n",
    "p_tst_lr, pr_tst_lr = get_prediction(LogisticRegression, f_df_train[lr_f], f_df_train[\"ibs\"], \n",
    "                        f_df_test[lr_f], f_df_test[\"ibs\"], lrclf_params, lrfit_params, do_scaling = True)"
   ]
  },
  {
   "cell_type": "code",
   "execution_count": 50,
   "metadata": {
    "collapsed": true
   },
   "outputs": [],
   "source": [
    "lr_p_t = np.zeros(pr_tst_lr.shape)\n",
    "lr_p_t[pr_tst_lr>0.61] = 1"
   ]
  },
  {
   "cell_type": "code",
   "execution_count": 51,
   "metadata": {
    "collapsed": false
   },
   "outputs": [
    {
     "data": {
      "text/plain": [
       "0.92370605679958195"
      ]
     },
     "execution_count": 51,
     "metadata": {},
     "output_type": "execute_result"
    }
   ],
   "source": [
    "roc_auc_score(f_df_test[\"ibs\"], pr_tst_lr)"
   ]
  },
  {
   "cell_type": "code",
   "execution_count": 52,
   "metadata": {
    "collapsed": false
   },
   "outputs": [
    {
     "name": "stdout",
     "output_type": "stream",
     "text": [
      "0.630849519316\n",
      "0.848755583918\n",
      "0.781163434903\n"
     ]
    }
   ],
   "source": [
    "print patient_score(f_df_test[\"Patient\"], f_df_test[\"ibs\"], lr_p_t)\n",
    "print accuracy_score(f_df_test[\"ibs\"], lr_p_t)\n",
    "print f1_score(f_df_test[\"ibs\"], lr_p_t)"
   ]
  },
  {
   "cell_type": "code",
   "execution_count": 53,
   "metadata": {
    "collapsed": true
   },
   "outputs": [],
   "source": [
    "xgb_f = [u'S_FirstRPeaks', u'S_LastRPeaks',\n",
    "             u'S_MedianRPeaks', u'S_Activity', u'S_Mobility', u'S_Complexity',\n",
    "             u'FS_mean', u'FS_std', u'FS_min', u'FS_max',\n",
    "       u'FS_5', u'FS_5sg', u'FS_5sl', u'FS_5sg2', u'FS_5sl2', u'FS_10',\n",
    "       u'FS_10sg', u'FS_10sl', u'FS_10sg2', u'FS_10sl2', u'FS_25', u'FS_25sg',\n",
    "       u'FS_25sl', u'FS_25sg2', u'FS_25sl2', u'FS_50', u'FS_50sg', u'FS_50sl',\n",
    "       u'FS_50sg2', u'FS_50sl2', u'FS_75', u'FS_75sg', u'FS_75sl', u'FS_75sg2',\n",
    "       u'FS_75sl2', u'FS_90', u'FS_90sg', u'FS_90sl', u'FS_90sg2', u'FS_90sl2',\n",
    "       u'FS_95', u'FS_95sg', u'FS_95sl', u'FS_95sg2', u'FS_95sl2', u'FS_5-10',\n",
    "       u'FS_5-25', u'FS_5-50', u'FS_5-75', u'FS_5-90', u'FS_5-95', u'FS_10-25',\n",
    "       u'FS_10-50', u'FS_10-75', u'FS_10-90', u'FS_10-95', u'FS_25-50',\n",
    "       u'FS_25-75', u'FS_25-90', u'FS_25-95', u'FS_50-75', u'FS_50-90',\n",
    "       u'FS_50-95', u'FS_75-90', u'FS_75-95', u'FS_90-95', u'S_Skew',\n",
    "       u'S_Kurt'] \n",
    "xgb_f += vu_columns\n",
    "xgbclf_params = {\"objective\":\"binary:logistic\", \"max_depth\":7, \"learning_rate\":0.05,\n",
    "                 \"n_estimators\": 300, \"nthread\":-1, \"base_score\":0.5, \"seed\":0, \"missing\":None}\n",
    "xgbfit_params = {\"eval_metric\":\"auc\", \"early_stopping_rounds\":900, \"verbose\": False}"
   ]
  },
  {
   "cell_type": "code",
   "execution_count": 54,
   "metadata": {
    "collapsed": true
   },
   "outputs": [],
   "source": [
    "p_tst_xgb, pr_tst_xgb = get_prediction(xgb.XGBClassifier, f_df_train[xgb_f], f_df_train[\"ibs\"], \n",
    "                                      f_df_test[xgb_f], f_df_test[\"ibs\"], xgbclf_params, xgbfit_params,\n",
    "                                      do_scaling = False, xgbfit = True)"
   ]
  },
  {
   "cell_type": "code",
   "execution_count": 55,
   "metadata": {
    "collapsed": false
   },
   "outputs": [
    {
     "data": {
      "text/plain": [
       "0.94810385457867474"
      ]
     },
     "execution_count": 55,
     "metadata": {},
     "output_type": "execute_result"
    }
   ],
   "source": [
    "roc_auc_score(f_df_test[\"ibs\"], pr_tst_xgb)"
   ]
  },
  {
   "cell_type": "code",
   "execution_count": 56,
   "metadata": {
    "collapsed": true
   },
   "outputs": [],
   "source": [
    "xgb_p_t = np.zeros(pr_tst_xgb.shape)\n",
    "xgb_p_t[pr_tst_xgb>0.445] = 1"
   ]
  },
  {
   "cell_type": "code",
   "execution_count": 57,
   "metadata": {
    "collapsed": false
   },
   "outputs": [
    {
     "name": "stdout",
     "output_type": "stream",
     "text": [
      "0.787862190163\n",
      "0.876196553925\n",
      "0.839669421488\n"
     ]
    }
   ],
   "source": [
    "print patient_score(f_df_test[\"Patient\"], f_df_test[\"ibs\"], xgb_p_t)\n",
    "print accuracy_score(f_df_test[\"ibs\"], xgb_p_t)\n",
    "print f1_score(f_df_test[\"ibs\"], xgb_p_t)"
   ]
  },
  {
   "cell_type": "code",
   "execution_count": 59,
   "metadata": {
    "collapsed": false
   },
   "outputs": [],
   "source": [
    "r_df = pd.DataFrame(data={\"ibs\":f_df_test[\"ibs\"], \"ECG_ID\":f_df_test[\"ECG_ID\"], \n",
    "                            \"STAT_PR_LR\": pr_tst_lr,\n",
    "                            \"STAT_P_LR\":p_tst_lr,\n",
    "                            \"STAT_P_NEW_LR\":lr_p_t,\n",
    "                            \"STAT_PR_XGB\":pr_tst_xgb,\n",
    "                            \"STAT_P_XGB\":p_tst_xgb,\n",
    "                            \"STAT_P_NEW_XGB\":xgb_p_t})"
   ]
  },
  {
   "cell_type": "code",
   "execution_count": 61,
   "metadata": {
    "collapsed": true
   },
   "outputs": [],
   "source": [
    "r_df.to_csv(\"test_stat_results.csv\")"
   ]
  },
  {
   "cell_type": "markdown",
   "metadata": {},
   "source": [
    "## Результаты на кросс-валидации"
   ]
  },
  {
   "cell_type": "code",
   "execution_count": 49,
   "metadata": {
    "collapsed": true
   },
   "outputs": [],
   "source": [
    "def review(df, p=None, pr=None, target=\"ibs\", plot = True, text = True):\n",
    "    lsp = np.linspace(0, 1, 201)\n",
    "    if pr is not None:\n",
    "        s = [pd.DataFrame({'label':df[\"Patient\"], 'q':(df[target] == (pr >= l).astype(float))}).q.mean() for l in lsp]\n",
    "        patients = [pd.DataFrame({'label':df[\"Patient\"], \n",
    "                       'q':(df[target] == (pr >= l).astype(float))}).groupby('label')['q'].mean().mean() for l in lsp]\n",
    "    \n",
    "    if plot: \n",
    "        plt.figure(figsize = (8, 4))    \n",
    "        plt.plot(lsp, patients, lw=2)\n",
    "        plt.plot(lsp, s, lw=2)\n",
    "        plt.xlabel('threshold')\n",
    "        plt.ylabel('quality')\n",
    "    if p is not None: \n",
    "        tmp = pd.DataFrame({'label':df[\"Patient\"], 'q':df[target] == p})\n",
    "    tmax = np.argmax(patients)\n",
    "    \n",
    "    if text:\n",
    "        print ('roc-auc = ' + str(roc_auc_score(df[target], pr)))\n",
    "        if p is not None:\n",
    "            print (\"Оценка границы разбиения по умолчанию:\")      \n",
    "            print ('Качество по сигналам = ' + str(tmp.q.mean()))\n",
    "            print ('Качество по людям = ' + str(tmp.groupby('label')['q'].mean().mean()))\n",
    "        print (\"Наилучшее разбиение происходит при границе \" + str(lsp[tmax]))\n",
    "        print ('Качество по сигналам = ' + str(s[tmax]))\n",
    "        print ('Качество по людям = ' + str(patients[tmax]))\n",
    "    \n",
    "    return patients[tmax]"
   ]
  },
  {
   "cell_type": "code",
   "execution_count": 50,
   "metadata": {
    "collapsed": true
   },
   "outputs": [],
   "source": [
    "def combine_results(clf_res, cv, length):\n",
    "    a = np.zeros(length)\n",
    "    pr = np.zeros(length)\n",
    "    \n",
    "    for res, i in zip(clf_res, cv):\n",
    "        itrain, itest = i\n",
    "        \n",
    "        a[itest] = res[\"p_test\"]\n",
    "        pr[itest] = res[\"pr_test\"]\n",
    "        \n",
    "    return a, pr"
   ]
  },
  {
   "cell_type": "code",
   "execution_count": 51,
   "metadata": {
    "collapsed": true
   },
   "outputs": [],
   "source": [
    "l_cv = list(cv)"
   ]
  },
  {
   "cell_type": "markdown",
   "metadata": {},
   "source": [
    "Линейная комбинация различных алгоритмов"
   ]
  },
  {
   "cell_type": "code",
   "execution_count": 53,
   "metadata": {
    "collapsed": true
   },
   "outputs": [],
   "source": [
    "def patient_score(df, pr):\n",
    "    df = df.copy()\n",
    "    lsp = np.linspace(0, 1, 201)\n",
    "    p = [pd.DataFrame({'label':df[\"Patient\"], \n",
    "                       'q':(df[\"ibs\"] == (pr >= l).astype(float))}).groupby('label')['q'].mean().mean() \n",
    "         for l in lsp]\n",
    "    tmax = np.argmax(p)\n",
    "    return p[tmax]"
   ]
  },
  {
   "cell_type": "code",
   "execution_count": 54,
   "metadata": {
    "collapsed": false
   },
   "outputs": [],
   "source": [
    "def linear_combination(df, res1, res2, cv):\n",
    "    l_cv = list(cv)\n",
    "    cv_answer = []\n",
    "    print len(res1)\n",
    "    for j in tqdm(range(len(res1))):\n",
    "        print j\n",
    "        scores = []\n",
    "        for i in tqdm(np.arange(0, 1.005, 0.01)):\n",
    "            y_pr = [a[\"pr_test\"] * 1.0 * i  + (1-i) * 1.0 * b[\"pr_test\"] for a, b in zip(res1[:j] + res1[j+1:],\n",
    "                                                   res2[:j] + res2[j+1:])]\n",
    "            s = [i, 1-i, [patient_score(df.loc[tst[1],:], pr) \n",
    "                          for pr, tst in  zip(y_pr, l_cv[:j] + l_cv[j+1:])]]\n",
    "            scores.append(s)\n",
    "        b = sorted(scores, key = lambda x: np.array(x[2]).mean())\n",
    "        print np.mean(b[len(b)-1][2])\n",
    "        alpha = b[len(b)-1][0]\n",
    "        print alpha\n",
    "        pr_tst = alpha * res1[j][\"pr_test\"] + (1.0-alpha) * res2[j][\"pr_test\"]\n",
    "        answer = {\"p_test\" : None, \"pr_test\" : pr_tst}\n",
    "        cv_answer.append(answer)\n",
    "    return cv_answer"
   ]
  },
  {
   "cell_type": "code",
   "execution_count": 55,
   "metadata": {
    "collapsed": true
   },
   "outputs": [],
   "source": [
    "def add_feature_clf(cv_tt, clf_res, feature_name):\n",
    "    for fold, res  in zip(cvtt, clf_res):\n",
    "        fold[\"xtrain\"][feature_name] = res[\"pr_train\"]\n",
    "        fold[\"xtest\"][feature_name] = res[\"pr_test\"]"
   ]
  },
  {
   "cell_type": "code",
   "execution_count": 57,
   "metadata": {
    "collapsed": false
   },
   "outputs": [],
   "source": [
    "vu_columns = [i for i in df_p.columns if i.startswith(\"S_VU\")]"
   ]
  },
  {
   "cell_type": "code",
   "execution_count": 58,
   "metadata": {
    "collapsed": true
   },
   "outputs": [],
   "source": [
    "f_vu_columns = [i for i in df_p.columns if i.startswith(\"FS_VU\")]"
   ]
  },
  {
   "cell_type": "code",
   "execution_count": 81,
   "metadata": {
    "collapsed": false
   },
   "outputs": [],
   "source": [
    "vu_columns = [i for i in f_df_test.columns if i.startswith(\"S_VU\")]\n",
    "lr_f = ['FS_Activity', u'FS_Mobility', u'FS_Complexity',  u'S_FirstRPeaks', u'S_LastRPeaks', \n",
    "               u'S_MedianRPeaks', u'FS_mean',\n",
    "       u'FS_std', u'FS_min', u'FS_max', u'FS_5', u'FS_5sg', u'FS_5sl',\n",
    "       u'FS_5sg2', u'FS_5sl2', u'FS_10', u'FS_10sg', u'FS_10sl', u'FS_10sg2',\n",
    "       u'FS_10sl2', u'FS_25', u'FS_25sg', u'FS_25sl', u'FS_25sg2', u'FS_25sl2',\n",
    "       u'FS_50', u'FS_50sg', u'FS_50sl', u'FS_50sg2', u'FS_50sl2', u'FS_75',\n",
    "       u'FS_75sg', u'FS_75sl', u'FS_75sg2', u'FS_75sl2', u'FS_90', u'FS_90sg',\n",
    "       u'FS_90sl', u'FS_90sg2', u'FS_90sl2', u'FS_95', u'FS_95sg', u'FS_95sl',\n",
    "       u'FS_95sg2', u'FS_95sl2', u'FS_5-10', u'FS_5-25', u'FS_5-50',\n",
    "       u'FS_5-75', u'FS_5-90', u'FS_5-95', u'FS_10-25', u'FS_10-50',\n",
    "       u'FS_10-75', u'FS_10-90', u'FS_10-95', u'FS_25-50', u'FS_25-75',\n",
    "       u'FS_25-90', u'FS_25-95', u'FS_50-75', u'FS_50-90', u'FS_50-95',\n",
    "       u'FS_75-90', u'FS_75-95', u'FS_90-95', u'S_Skew', u'S_Kurt'] \n",
    "lr_f += vu_columns"
   ]
  },
  {
   "cell_type": "code",
   "execution_count": 84,
   "metadata": {
    "collapsed": false
   },
   "outputs": [
    {
     "name": "stderr",
     "output_type": "stream",
     "text": [
      "100%|██████████| 12/12 [00:14<00:00,  1.18s/it]\n"
     ]
    }
   ],
   "source": [
    "lrclf_params = {\"C\": 0.62, \"class_weight\" : \"balanced\", \"n_jobs\" : -1, \"penalty\": \"l1\"}\n",
    "lrfit_params = {}\n",
    "lr_res = cv_fit_predict(LogisticRegression, cv_train_test, lr_f, lrclf_params, lrfit_params, do_scaling = True)\n"
   ]
  },
  {
   "cell_type": "code",
   "execution_count": 86,
   "metadata": {
    "collapsed": false
   },
   "outputs": [
    {
     "name": "stdout",
     "output_type": "stream",
     "text": [
      "roc-auc = 0.822206629968\n",
      "Оценка границы разбиения по умолчанию:\n",
      "Качество по сигналам = 0.751946607341\n",
      "Качество по людям = 0.742415347621\n",
      "Наилучшее разбиение происходит при границе 0.61\n",
      "Качество по сигналам = 0.756395995551\n",
      "Качество по людям = 0.746495057642\n"
     ]
    },
    {
     "data": {
      "text/plain": [
       "0.74649505764156077"
      ]
     },
     "execution_count": 86,
     "metadata": {},
     "output_type": "execute_result"
    },
    {
     "data": {
      "image/png": "[encoded data removed]",
      "text/plain": [
       "<matplotlib.figure.Figure at 0x51e080650>"
      ]
     },
     "metadata": {},
     "output_type": "display_data"
    }
   ],
   "source": [
    "lr_p, lr_pr = combine_results(lr_res, cv, df_p.shape[0])\n",
    "review(df_p, lr_p, lr_pr, \"ibs\")"
   ]
  },
  {
   "cell_type": "code",
   "execution_count": 115,
   "metadata": {
    "collapsed": false
   },
   "outputs": [
    {
     "name": "stdout",
     "output_type": "stream",
     "text": [
      "0.756395995551\n"
     ]
    }
   ],
   "source": [
    "lr_p3 = np.zeros(len(lr_p))\n",
    "lr_p3[lr_pr > 0.61] = 1\n",
    "print accuracy_score(df_p[\"ibs\"], lr_p3)"
   ]
  },
  {
   "cell_type": "code",
   "execution_count": 107,
   "metadata": {
    "collapsed": true
   },
   "outputs": [],
   "source": [
    "xgb_f = [u'S_FirstRPeaks', u'S_LastRPeaks',\n",
    "             u'S_MedianRPeaks', u'S_Activity', u'S_Mobility', u'S_Complexity',\n",
    "             u'FS_mean', u'FS_std', u'FS_min', u'FS_max',\n",
    "       u'FS_5', u'FS_5sg', u'FS_5sl', u'FS_5sg2', u'FS_5sl2', u'FS_10',\n",
    "       u'FS_10sg', u'FS_10sl', u'FS_10sg2', u'FS_10sl2', u'FS_25', u'FS_25sg',\n",
    "       u'FS_25sl', u'FS_25sg2', u'FS_25sl2', u'FS_50', u'FS_50sg', u'FS_50sl',\n",
    "       u'FS_50sg2', u'FS_50sl2', u'FS_75', u'FS_75sg', u'FS_75sl', u'FS_75sg2',\n",
    "       u'FS_75sl2', u'FS_90', u'FS_90sg', u'FS_90sl', u'FS_90sg2', u'FS_90sl2',\n",
    "       u'FS_95', u'FS_95sg', u'FS_95sl', u'FS_95sg2', u'FS_95sl2', u'FS_5-10',\n",
    "       u'FS_5-25', u'FS_5-50', u'FS_5-75', u'FS_5-90', u'FS_5-95', u'FS_10-25',\n",
    "       u'FS_10-50', u'FS_10-75', u'FS_10-90', u'FS_10-95', u'FS_25-50',\n",
    "       u'FS_25-75', u'FS_25-90', u'FS_25-95', u'FS_50-75', u'FS_50-90',\n",
    "       u'FS_50-95', u'FS_75-90', u'FS_75-95', u'FS_90-95', u'S_Skew',\n",
    "       u'S_Kurt'] \n",
    "xgb_f += vu_columns\n",
    "xgbclf_params = {\"objective\":\"binary:logistic\", \"max_depth\":7, \"learning_rate\":0.05,\n",
    "                 \"n_estimators\": 300, \"nthread\":-1, \"base_score\":0.5, \"seed\":0, \"missing\":None}\n",
    "xgbfit_params = {\"eval_metric\":\"auc\", \"early_stopping_rounds\":900, \"verbose\": False}"
   ]
  },
  {
   "cell_type": "code",
   "execution_count": 112,
   "metadata": {
    "collapsed": false
   },
   "outputs": [
    {
     "name": "stderr",
     "output_type": "stream",
     "text": [
      "100%|██████████| 12/12 [00:50<00:00,  4.28s/it]\n"
     ]
    }
   ],
   "source": [
    "\n",
    "xgb_res = cv_fit_predict(xgb.XGBClassifier, cv_train_test, xgb_f, xgbclf_params, xgbfit_params, do_scaling = True, xgbfit = True)\n"
   ]
  },
  {
   "cell_type": "code",
   "execution_count": 113,
   "metadata": {
    "collapsed": false,
    "scrolled": true
   },
   "outputs": [
    {
     "name": "stdout",
     "output_type": "stream",
     "text": [
      "roc-auc = 0.803514635811\n",
      "Оценка границы разбиения по умолчанию:\n",
      "Качество по сигналам = 0.728031145717\n",
      "Качество по людям = 0.727836950151\n",
      "Наилучшее разбиение происходит при границе 0.445\n",
      "Качество по сигналам = 0.734149054505\n",
      "Качество по людям = 0.734462880895\n"
     ]
    },
    {
     "data": {
      "text/plain": [
       "0.73446288089478518"
      ]
     },
     "execution_count": 113,
     "metadata": {},
     "output_type": "execute_result"
    },
    {
     "data": {
      "image/png": "[encoded data removed]",
      "text/plain": [
       "<matplotlib.figure.Figure at 0x51d3fc290>"
      ]
     },
     "metadata": {},
     "output_type": "display_data"
    }
   ],
   "source": [
    "xgb_a, xgb_pr = combine_results(xgb_res, cv, df_p.shape[0])\n",
    "review(df_p, xgb_a, xgb_pr, \"ibs\")"
   ]
  },
  {
   "cell_type": "code",
   "execution_count": 116,
   "metadata": {
    "collapsed": false
   },
   "outputs": [
    {
     "name": "stdout",
     "output_type": "stream",
     "text": [
      "0.734149054505\n"
     ]
    }
   ],
   "source": [
    "xgb_p3 = np.zeros(len(xgb_a))\n",
    "xgb_p3[xgb_pr > 0.445] = 1\n",
    "print accuracy_score(df_p[\"ibs\"], xgb_p3)"
   ]
  },
  {
   "cell_type": "code",
   "execution_count": null,
   "metadata": {
    "collapsed": true
   },
   "outputs": [],
   "source": []
  },
  {
   "cell_type": "code",
   "execution_count": 117,
   "metadata": {
    "collapsed": true
   },
   "outputs": [],
   "source": [
    "new_df = pd.DataFrame(data={\"ibs\":df_p[\"ibs\"], \"ECG_ID\":df_p[\"ECG_ID\"], \n",
    "                            \"STAT_PR_LR\":lr_pr,\n",
    "                            \"STAT_P_LR\":lr_p,\n",
    "                            \"STAT_P_NEW_LR\":lr_p3,\n",
    "                            \"STAT_PR_XGB\":xgb_pr,\n",
    "                            \"STAT_P_XGB\":xgb_a,\n",
    "                            \"STAT_P_NEW_XGB\":xgb_p3})"
   ]
  },
  {
   "cell_type": "code",
   "execution_count": null,
   "metadata": {
    "collapsed": true
   },
   "outputs": [],
   "source": []
  },
  {
   "cell_type": "code",
   "execution_count": 121,
   "metadata": {
    "collapsed": true
   },
   "outputs": [],
   "source": [
    "new_df.to_csv(\"stat_results.csv\")"
   ]
  },
  {
   "cell_type": "code",
   "execution_count": null,
   "metadata": {
    "collapsed": true
   },
   "outputs": [],
   "source": []
  }
 ],
 "metadata": {
  "anaconda-cloud": {},
  "kernelspec": {
   "display_name": "Python 2",
   "language": "python",
   "name": "python2"
  },
  "language_info": {
   "codemirror_mode": {
    "name": "ipython",
    "version": 2
   },
   "file_extension": ".py",
   "mimetype": "text/x-python",
   "name": "python",
   "nbconvert_exporter": "python",
   "pygments_lexer": "ipython2",
   "version": "2.7.9"
  }
 },
 "nbformat": 4,
 "nbformat_minor": 0
}
