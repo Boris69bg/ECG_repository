{
 "cells": [
  {
   "cell_type": "markdown",
   "metadata": {},
   "source": [
    "## Ансамбль алгоритмов"
   ]
  },
  {
   "cell_type": "code",
   "execution_count": 5,
   "metadata": {
    "collapsed": true
   },
   "outputs": [],
   "source": [
    "import pandas as pd \n",
    "import numpy as np\n",
    "from sklearn.metrics import roc_auc_score, f1_score, accuracy_score, recall_score, precision_score\n",
    "from scipy.stats import mode"
   ]
  },
  {
   "cell_type": "code",
   "execution_count": 6,
   "metadata": {
    "collapsed": true
   },
   "outputs": [],
   "source": [
    "class EMAggregator:\n",
    "    \n",
    "    def __init__(self, test_index, t_matrix, alg_answers, max_iter=5000, eps=0.000005):\n",
    "        df_temp = pd.DataFrame()\n",
    "        for index, alg in enumerate(alg_answers):\n",
    "            df_temp[\"a_\" + str(index)+\"_0\"] = pd.Series(alg).apply(lambda x: float(x == 0))\n",
    "            df_temp[\"a_\" + str(index)+\"_1\"] = pd.Series(alg).apply(lambda x: float(x == 1))\n",
    "        n =  df_temp.T.as_matrix().reshape(int(len(df_temp.columns) / 2.0) , 2, len(df_temp)).swapaxes(1, 2)\n",
    "        t_matrix = pd.get_dummies(t_matrix)[[0, 1]].as_matrix().astype(float)\n",
    "        self.__test_index = test_index\n",
    "        self.__em_algorithm(t_matrix, n, max_iter, eps)\n",
    "\n",
    "\n",
    "    def __em_algorithm(self, t_matrix, n, max_iter=1000, eps=0.001):\n",
    "        it = 0\n",
    "        pi = np.repeat([[[1.0, 0.0], [0.0, 1.0]]], [n.shape[0]], axis=0)\n",
    "\n",
    "        while it < max_iter:\n",
    "            p = t_matrix * n\n",
    "            s_0 = np.sum(p[:, :, 0], axis=1) + np.sum(t_matrix[:, 0] * n[:, :, 1], axis=1)\n",
    "            s_1 = np.sum(p[:, :, 1], axis=1) + np.sum(t_matrix[:, 1] * n[:, :, 0], axis=1)\n",
    "\n",
    "            pi_0 = np.sum(p[:, :, 0], axis=1)\n",
    "            pi_0[s_0 != 0] = pi_0[s_0 != 0] * 1.0 / s_0[s_0 != 0]\n",
    "            pi_0[s_0 == 0] = 0.0\n",
    "\n",
    "            pi_1 = np.sum(p[:, :, 1], axis=1)\n",
    "            pi_1[s_1 != 0] = pi_1[s_1 != 0] * 1.0 / s_1[s_1 != 0]\n",
    "            pi_1[s_1 == 0] = 0.0\n",
    "\n",
    "            pi_new = np.column_stack((pi_0, 1-pi_0, 1-pi_1, pi_1))\n",
    "            pi_new = pi_new.reshape(pi_new.shape[0], 2, 2)\n",
    "\n",
    "            if np.all(np.abs(pi_new - pi) < eps):\n",
    "                self.__t_matrix = t_matrix\n",
    "                return\n",
    "\n",
    "            pi = pi_new.copy()\n",
    "            pr = np.sum(t_matrix, axis=0) * 1.0 / len(t_matrix)\n",
    "\n",
    "            n_t_0 = np.transpose(n, (1, 0, 2))\n",
    "            pi_n_0 = np.power(pi[:, 0, :], n_t_0)\n",
    "            t_0 = np.multiply.reduce(pi_n_0, axis=(1, 2)) * pr[0]\n",
    "\n",
    "            n_t_1 = np.transpose(n, (1, 0, 2))\n",
    "            pi_n_1 = np.power(pi[:, 1,:], n_t_1)\n",
    "            t_1 = np.multiply.reduce(pi_n_1, axis=(1, 2)) * pr[1]\n",
    "\n",
    "            t = t_0 + t_1\n",
    "            t_0 = t_0  * 1.0 / t\n",
    "            t_1 = t_1 * 1.0 / t\n",
    "\n",
    "            t_matrix = np.column_stack((t_0, t_1))\n",
    "            it += 1\n",
    "\n",
    "        self.__t_matrix = t_matrix\n",
    "        return\n",
    "\n",
    "    def predict_proba(self):\n",
    "        return self.__t_matrix[self.__test_index]"
   ]
  },
  {
   "cell_type": "markdown",
   "metadata": {},
   "source": [
    "## Результаты кросс-валидации"
   ]
  },
  {
   "cell_type": "code",
   "execution_count": 72,
   "metadata": {
    "collapsed": true
   },
   "outputs": [],
   "source": [
    "words_cv = pd.read_csv(\"csv/words_results.csv\").drop(\"Unnamed: 0\",axis=1)\n",
    "words_cv [\"ibs\"] = words_cv[\"ibs\"].astype(int)\n",
    "hrv_cv = pd.read_csv(\"csv/hrv_results.csv\").drop(\"Unnamed: 0\",axis=1)\n",
    "hrv_cv[\"ibs\"] = hrv_cv[\"ibs\"].astype(int)\n",
    "stat_cv = pd.read_csv(\"csv/stat_results.csv\").drop(\"Unnamed: 0\",axis=1)\n",
    "stat_cv[\"ibs\"] = stat_cv[\"ibs\"].astype(int)\n",
    "nn_cv = pd.read_csv(\"csv/nn_results.csv\").drop(\"Unnamed: 0\",axis=1)\n",
    "nn_cv[\"ibs\"] = nn_cv[\"ibs\"].astype(int)\n",
    "cnn_cv = pd.read_csv(\"csv/cnn_results.csv\").drop(\"Unnamed: 0\",axis=1)\n",
    "cnn_cv[\"ibs\"] = cnn_cv[\"ibs\"].astype(int)\n",
    "\n",
    "df_cv = pd.merge(nn_cv, cnn_cv, on=[\"ECG_ID\", \"ibs\"])\n",
    "df_cv = pd.merge(df_cv, stat_cv, on=[\"ECG_ID\", \"ibs\"])\n",
    "df_cv = pd.merge(df_cv, hrv_cv, on=[\"ECG_ID\", \"ibs\"])\n",
    "df_cv = pd.merge(df_cv, words_cv, on=[\"ECG_ID\", \"ibs\"])"
   ]
  },
  {
   "cell_type": "code",
   "execution_count": 75,
   "metadata": {
    "collapsed": true
   },
   "outputs": [],
   "source": [
    "df_cv[\"Patient\"] = df_cv[\"ECG_ID\"].apply(lambda x: int(x.split(\"_\")[0]))\n",
    "\n",
    "pr_columns = [u'NN_PR', u'STAT_PR_LR', u'STAT_PR_XGB', u'HRV_PR_LR', u'HRV_PR_XGB',\n",
    "              u'WORDS_PR_LR', u'WORDS_PR_LR_w2v', u'WORDS_PR_xgb', 'CNN_PR']\n",
    "p_columns = ['WORDS_P_LR', 'WORDS_P_xgb', 'WORDS_P_xgb_new', 'STAT_P_NEW_LR', 'STAT_P_NEW_XGB', 'WORDS_P_LR_w2v', \n",
    "             'WORDS_P_LR_new', 'STAT_P_XGB', 'NN_P2', 'HRV_P_NEW_XGB', 'HRV_P_LR', 'CNN_PRP', \n",
    "             'HRV_P_NEW_LR', 'HRV_P_XGB', 'WORDS_P_LR_new_w2v', 'STAT_P_LR', 'CNN_P']"
   ]
  },
  {
   "cell_type": "code",
   "execution_count": 77,
   "metadata": {
    "collapsed": false
   },
   "outputs": [
    {
     "name": "stdout",
     "output_type": "stream",
     "text": [
      "alg =  NN_PR 0.798869820545\n",
      "alg =  STAT_PR_LR 0.822809588718\n",
      "alg =  STAT_PR_XGB 0.804293964519\n",
      "alg =  HRV_PR_LR 0.631921740645\n",
      "alg =  HRV_PR_XGB 0.744771863118\n",
      "alg =  WORDS_PR_LR 0.802354391071\n",
      "alg =  WORDS_PR_LR_w2v 0.800922130097\n",
      "alg =  WORDS_PR_xgb 0.755876369487\n",
      "alg =  CNN_PR 0.741807415986\n"
     ]
    }
   ],
   "source": [
    "for i in pr_columns:\n",
    "    print \"alg = \", i, roc_auc_score(df_cv[\"ibs\"], df_cv[i])"
   ]
  },
  {
   "cell_type": "code",
   "execution_count": 78,
   "metadata": {
    "collapsed": true
   },
   "outputs": [],
   "source": [
    "def patient_score(df, y_test):\n",
    "    new_df = pd.DataFrame({\"Q\": df[\"ibs\"]==y_test, \"Label\":df[\"Patient\"]})\n",
    "    return new_df.groupby(\"Label\")[\"Q\"].mean().mean()"
   ]
  },
  {
   "cell_type": "code",
   "execution_count": 79,
   "metadata": {
    "collapsed": false
   },
   "outputs": [
    {
     "name": "stdout",
     "output_type": "stream",
     "text": [
      "alg =  WORDS_P_LR\n",
      "f1 0.688350088705\n",
      "alg =  WORDS_P_xgb\n",
      "f1 0.660049627792\n",
      "alg =  WORDS_P_xgb_new\n",
      "f1 0.660074165637\n",
      "alg =  STAT_P_NEW_LR\n",
      "f1 0.705723905724\n",
      "alg =  STAT_P_NEW_XGB\n",
      "f1 0.702567313713\n",
      "alg =  WORDS_P_LR_w2v\n",
      "f1 0.692671394799\n",
      "alg =  WORDS_P_LR_new\n",
      "f1 0.696774193548\n",
      "alg =  STAT_P_XGB\n",
      "f1 0.684789644013\n",
      "alg =  NN_P2\n",
      "f1 0.703125\n",
      "alg =  HRV_P_NEW_XGB\n",
      "f1 0.675370919881\n",
      "alg =  HRV_P_LR\n",
      "f1 0.50773993808\n",
      "alg =  CNN_PRP\n",
      "f1 0.6463878327\n",
      "alg =  HRV_P_NEW_LR\n",
      "f1 0.592048929664\n",
      "alg =  HRV_P_XGB\n",
      "f1 0.662051604783\n",
      "alg =  WORDS_P_LR_new_w2v\n",
      "f1 0.699029126214\n",
      "alg =  STAT_P_LR\n",
      "f1 0.717197452229\n",
      "alg =  CNN_P\n",
      "f1 0.724450194049\n"
     ]
    }
   ],
   "source": [
    "for i in p_columns:\n",
    "    print \"alg = \", i\n",
    "    print \"f1\", f1_score(df_cv[\"ibs\"], df_cv[i])"
   ]
  },
  {
   "cell_type": "code",
   "execution_count": 80,
   "metadata": {
    "collapsed": false
   },
   "outputs": [
    {
     "name": "stdout",
     "output_type": "stream",
     "text": [
      "alg =  CNN_P\n",
      "patient_score 0.671087886272\n",
      "alg =  CNN_PRP\n",
      "patient_score 0.720765362471\n",
      "alg =  HRV_P_LR\n",
      "patient_score 0.704972939316\n",
      "alg =  HRV_P_NEW_LR\n",
      "patient_score 0.763215466963\n",
      "alg =  HRV_P_NEW_XGB\n",
      "patient_score 0.769397948293\n",
      "alg =  HRV_P_XGB\n",
      "patient_score 0.750306649688\n",
      "alg =  NN_P2\n",
      "patient_score 0.760268541781\n",
      "alg =  STAT_P_LR\n",
      "patient_score 0.744164909625\n",
      "alg =  STAT_P_NEW_LR\n",
      "patient_score 0.74466433239\n",
      "alg =  STAT_P_NEW_XGB\n",
      "patient_score 0.740366452729\n",
      "alg =  STAT_P_XGB\n",
      "patient_score 0.730083302342\n",
      "alg =  WORDS_P_LR\n",
      "patient_score 0.730991274462\n",
      "alg =  WORDS_P_LR_new\n",
      "patient_score 0.741210016811\n",
      "alg =  WORDS_P_LR_new_w2v\n",
      "patient_score 0.750129459405\n",
      "alg =  WORDS_P_LR_w2v\n",
      "patient_score 0.733832088599\n",
      "alg =  WORDS_P_xgb\n",
      "patient_score 0.712603159442\n",
      "alg =  WORDS_P_xgb_new\n",
      "patient_score 0.71453881457\n"
     ]
    }
   ],
   "source": [
    "for i in sorted(p_columns):\n",
    "    print \"alg = \", i\n",
    "    print \"patient_score\", patient_score(df_cv, df_cv[i])"
   ]
  },
  {
   "cell_type": "code",
   "execution_count": 110,
   "metadata": {
    "collapsed": false
   },
   "outputs": [
    {
     "name": "stdout",
     "output_type": "stream",
     "text": [
      "roc_auc 0.873837408914\n",
      "patient score 0.81086136483\n",
      "f1 0.778497409326\n",
      "patient score 0.806345750996\n",
      "f1 0.778497409326\n"
     ]
    }
   ],
   "source": [
    "p_new_columns = ['CNN_P', 'HRV_P_NEW_XGB', 'WORDS_P_xgb_new', 'STAT_P_LR', 'NN_P2',\n",
    "                 'HRV_P_NEW_LR']\n",
    "results = []\n",
    "for i in p_new_columns:\n",
    "    results.append(df_cv[i])\n",
    "test_majority = mode(results)[0][0]\n",
    "t_matrix = np.array(list(test_majority))\n",
    "em = EMAggregator(df_cv.index, t_matrix, results)\n",
    "em_proba = em.predict_proba()\n",
    "print \"roc_auc\", roc_auc_score(df_cv[\"ibs\"], em_proba[:,1])\n",
    "em_p = np.zeros(len(em_proba))\n",
    "em_p[em_proba[:, 1] > 0.5] = 1\n",
    "\n",
    "print \"patient score\", patient_score(df_cv, em_p)\n",
    "print \"f1\", f1_score(df_cv.ibs, em_p)\n",
    "\n",
    "print \"patient score\", patient_score(df_cv, test_majority)\n",
    "print \"f1\", f1_score(df_cv.ibs, em_p, test_majority)"
   ]
  },
  {
   "cell_type": "markdown",
   "metadata": {},
   "source": [
    "## РЕЗУЛЬТАТЫ НА ТЕСТОВОЙ ВЫБОРКЕ"
   ]
  },
  {
   "cell_type": "code",
   "execution_count": 87,
   "metadata": {
    "collapsed": false
   },
   "outputs": [],
   "source": [
    "nn = pd.read_csv(\"nn_test_results.csv\").drop(\"Unnamed: 0\",axis=1)\n",
    "nn = nn.rename(columns={\"CNN_P\":\"NN_P\", \"CNN_PR\":\"NN_PR\"})\n",
    "nn[\"ibs\"] = nn[\"ibs\"].astype(int)"
   ]
  },
  {
   "cell_type": "code",
   "execution_count": 88,
   "metadata": {
    "collapsed": false
   },
   "outputs": [],
   "source": [
    "words = pd.read_csv(\"words_test_results.csv\").drop(\"Unnamed: 0\",axis=1)\n",
    "words[\"ibs\"] = words[\"ibs\"].astype(int)\n",
    "hrv = pd.read_csv(\"hrv_test_results.csv\").drop(\"Unnamed: 0\",axis=1)\n",
    "hrv[\"ibs\"] = hrv[\"ibs\"].astype(int)\n",
    "stat = pd.read_csv(\"test_stat_results.csv\").drop(\"Unnamed: 0\",axis=1)\n",
    "stat[\"ibs\"] = stat[\"ibs\"].astype(int)\n",
    "cnn = pd.read_csv(\"cnn_test_results.csv\").drop(\"Unnamed: 0\",axis=1)\n",
    "cnn[\"ibs\"] = cnn[\"ibs\"].astype(int)"
   ]
  },
  {
   "cell_type": "code",
   "execution_count": 89,
   "metadata": {
    "collapsed": true
   },
   "outputs": [],
   "source": [
    "df = pd.merge(nn, cnn, on=[\"ECG_ID\", \"ibs\"])\n",
    "df = pd.merge(df, stat, on=[\"ECG_ID\", \"ibs\"])\n",
    "df = pd.merge(df, hrv, on=[\"ECG_ID\", \"ibs\"])\n",
    "df = pd.merge(df, words, on=[\"ECG_ID\", \"ibs\"])"
   ]
  },
  {
   "cell_type": "code",
   "execution_count": 90,
   "metadata": {
    "collapsed": true
   },
   "outputs": [],
   "source": [
    "pr_columns = [u'NN_PR', u'STAT_PR_LR', u'STAT_PR_XGB', u'HRV_PR_LR', u'HRV_PR_XGB',\n",
    "              u'WORDS_PR_LR', u'WORDS_PR_LR_w2v', u'WORDS_PR_xgb', 'CNN_PR']\n",
    "p_columns = ['WORDS_P_LR', 'WORDS_P_xgb', 'WORDS_P_xgb_new', 'STAT_P_NEW_LR', 'STAT_P_NEW_XGB', 'WORDS_P_LR_w2v', \n",
    "             'WORDS_P_LR_new', 'STAT_P_XGB', 'NN_P', 'HRV_P_NEW_XGB', 'HRV_P_LR', \n",
    "             'HRV_P_NEW_LR', 'HRV_P_XGB', 'WORDS_P_LR_new_w2v', 'STAT_P_LR', 'CNN_P']"
   ]
  },
  {
   "cell_type": "code",
   "execution_count": 91,
   "metadata": {
    "collapsed": false
   },
   "outputs": [],
   "source": [
    "df[\"Patient\"] = df[\"ECG_ID\"].apply(lambda x: x.split(\"_\")[0])"
   ]
  },
  {
   "cell_type": "code",
   "execution_count": 92,
   "metadata": {
    "collapsed": true
   },
   "outputs": [],
   "source": [
    "from itertools import combinations"
   ]
  },
  {
   "cell_type": "code",
   "execution_count": 93,
   "metadata": {
    "collapsed": false
   },
   "outputs": [
    {
     "name": "stdout",
     "output_type": "stream",
     "text": [
      "alg =  NN_PR 0.944439237738\n",
      "alg =  STAT_PR_LR 0.923499600819\n",
      "alg =  STAT_PR_XGB 0.947958971155\n",
      "alg =  HRV_PR_LR 0.750605713492\n",
      "alg =  HRV_PR_XGB 0.877777777778\n",
      "alg =  WORDS_PR_LR 0.907541046201\n",
      "alg =  WORDS_PR_LR_w2v 0.908740324204\n",
      "alg =  WORDS_PR_xgb 0.950421743205\n",
      "alg =  CNN_PR 0.91176368496\n"
     ]
    }
   ],
   "source": [
    "for i in pr_columns:\n",
    "    print \"alg = \", i, roc_auc_score(df[\"ibs\"], df[i])"
   ]
  },
  {
   "cell_type": "code",
   "execution_count": 94,
   "metadata": {
    "collapsed": true
   },
   "outputs": [],
   "source": [
    "def patient_score(df, y_test):\n",
    "    new_df = pd.DataFrame({\"Q\": df[\"ibs\"]==y_test, \"Label\":df[\"Patient\"]})\n",
    "    return new_df.groupby(\"Label\")[\"Q\"].mean().mean()"
   ]
  },
  {
   "cell_type": "code",
   "execution_count": 95,
   "metadata": {
    "collapsed": true
   },
   "outputs": [],
   "source": [
    "results = []\n",
    "for i in p_columns:\n",
    "    results.append(df[i])"
   ]
  },
  {
   "cell_type": "code",
   "execution_count": 97,
   "metadata": {
    "collapsed": false
   },
   "outputs": [
    {
     "name": "stdout",
     "output_type": "stream",
     "text": [
      "alg =  WORDS_P_LR\n",
      "f1 0.773599386032\n",
      "alg =  WORDS_P_xgb\n",
      "f1 0.847315436242\n",
      "alg =  WORDS_P_xgb_new\n",
      "f1 0.848281642917\n",
      "alg =  STAT_P_NEW_LR\n",
      "f1 0.781163434903\n",
      "alg =  STAT_P_NEW_XGB\n",
      "f1 0.839669421488\n",
      "alg =  WORDS_P_LR_w2v\n",
      "f1 0.777604976672\n",
      "alg =  WORDS_P_LR_new\n",
      "f1 0.770864946889\n",
      "alg =  STAT_P_XGB\n",
      "f1 0.840236686391\n",
      "alg =  NN_P\n",
      "f1 0.827914353688\n",
      "alg =  HRV_P_NEW_XGB\n",
      "f1 0.749010292953\n",
      "alg =  HRV_P_LR\n",
      "f1 0.539428571429\n",
      "alg =  HRV_P_NEW_LR\n",
      "f1 0.657534246575\n",
      "alg =  HRV_P_XGB\n",
      "f1 0.751454696592\n",
      "alg =  WORDS_P_LR_new_w2v\n",
      "f1 0.761974944731\n",
      "alg =  STAT_P_LR\n",
      "f1 0.809564474808\n",
      "alg =  CNN_P\n",
      "f1 0.797936371453\n"
     ]
    }
   ],
   "source": [
    "for i in p_columns:\n",
    "    print \"alg = \", i\n",
    "    print \"f1\", f1_score(df[\"ibs\"], df[i])"
   ]
  },
  {
   "cell_type": "code",
   "execution_count": 98,
   "metadata": {
    "collapsed": false
   },
   "outputs": [
    {
     "name": "stdout",
     "output_type": "stream",
     "text": [
      "alg =  WORDS_P_LR\n",
      "patient_score 0.767492550134\n",
      "alg =  WORDS_P_xgb\n",
      "patient_score 0.773724225462\n",
      "alg =  WORDS_P_xgb_new\n",
      "patient_score 0.777427929166\n",
      "alg =  STAT_P_NEW_LR\n",
      "patient_score 0.630847885207\n",
      "alg =  STAT_P_NEW_XGB\n",
      "patient_score 0.787858766316\n",
      "alg =  WORDS_P_LR_w2v\n",
      "patient_score 0.759113174584\n",
      "alg =  WORDS_P_LR_new\n",
      "patient_score 0.769962195638\n",
      "alg =  STAT_P_XGB\n",
      "patient_score 0.7772527375\n",
      "alg =  NN_P\n",
      "patient_score 0.789676220994\n",
      "alg =  HRV_P_NEW_XGB\n",
      "patient_score 0.802959368669\n",
      "alg =  HRV_P_LR\n",
      "patient_score 0.458590999842\n",
      "alg =  HRV_P_NEW_LR\n",
      "patient_score 0.706940083748\n",
      "alg =  HRV_P_XGB\n",
      "patient_score 0.78361545224\n",
      "alg =  WORDS_P_LR_new_w2v\n",
      "patient_score 0.785610568291\n",
      "alg =  STAT_P_LR\n",
      "patient_score 0.733083102927\n",
      "alg =  CNN_P\n",
      "patient_score 0.743282043648\n"
     ]
    }
   ],
   "source": [
    "for i in p_columns:\n",
    "    print \"alg = \", i\n",
    "    print \"patient_score\", patient_score(df, df[i])"
   ]
  },
  {
   "cell_type": "code",
   "execution_count": 100,
   "metadata": {
    "collapsed": false
   },
   "outputs": [
    {
     "name": "stdout",
     "output_type": "stream",
     "text": [
      "0.909207161125\n",
      "0.87925170068\n",
      "0.810511761447\n"
     ]
    }
   ],
   "source": [
    "results = []\n",
    "for i in p_columns:\n",
    "    results.append(df[i])\n",
    "test_majority = mode(results)[0][0]\n",
    "print accuracy_score(df.ibs, test_majority)\n",
    "print f1_score(df.ibs, test_majority)\n",
    "print patient_score(df, test_majority)"
   ]
  },
  {
   "cell_type": "code",
   "execution_count": 106,
   "metadata": {
    "collapsed": false
   },
   "outputs": [
    {
     "name": "stdout",
     "output_type": "stream",
     "text": [
      "roc_auc 0.973729563678\n",
      "patient score 0.841988687262\n",
      "f1 0.90245971162\n",
      "patient score 0.760596403038\n",
      "f1 0.880717488789\n"
     ]
    }
   ],
   "source": [
    "p_new_columns = ['CNN_P', 'HRV_P_NEW_XGB', 'WORDS_P_xgb_new', 'STAT_P_LR', 'NN_P',\n",
    "                 'HRV_P_NEW_LR']\n",
    "results = []\n",
    "for i in p_new_columns:\n",
    "    results.append(df[i])\n",
    "test_majority = mode(results)[0][0]\n",
    "t_matrix = np.array(list(test_majority))\n",
    "em = EMAggregator(df.index, t_matrix, results)\n",
    "em_proba = em.predict_proba()\n",
    "print \"roc_auc\", roc_auc_score(df[\"ibs\"], em_proba[:,1])\n",
    "em_p = np.zeros(len(em_proba))\n",
    "em_p[em_proba[:, 1] > 0.5] = 1\n",
    "\n",
    "print \"patient score\", patient_score(df, em_p)\n",
    "print \"f1\", f1_score(df.ibs, em_p)\n",
    "\n",
    "print \"patient score\", patient_score(df, test_majority)\n",
    "print \"f1\", f1_score(df.ibs, test_majority)"
   ]
  }
 ],
 "metadata": {
  "kernelspec": {
   "display_name": "Python 2",
   "language": "python",
   "name": "python2"
  },
  "language_info": {
   "codemirror_mode": {
    "name": "ipython",
    "version": 2
   },
   "file_extension": ".py",
   "mimetype": "text/x-python",
   "name": "python",
   "nbconvert_exporter": "python",
   "pygments_lexer": "ipython2",
   "version": "2.7.9"
  }
 },
 "nbformat": 4,
 "nbformat_minor": 2
}
