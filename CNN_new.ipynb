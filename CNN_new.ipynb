{
 "cells": [
  {
   "cell_type": "markdown",
   "metadata": {},
   "source": [
    "# Метод, основанный на биспектральном разложении сигнала"
   ]
  },
  {
   "cell_type": "code",
   "execution_count": 99,
   "metadata": {
    "collapsed": false
   },
   "outputs": [],
   "source": [
    "import os\n",
    "import sys\n",
    "import glob\n",
    "from itertools import izip\n",
    "import math\n",
    "\n",
    "from sklearn.cross_validation import train_test_split\n",
    "import cv2\n",
    "from tqdm import tqdm\n",
    "import pickle\n",
    "import selectivesearch\n",
    "from sklearn.svm import SVC\n",
    "from sklearn.metrics import accuracy_score, f1_score\n",
    "import time\n",
    "import statsmodels.stats.api as sms\n",
    "from sklearn.model_selection import GroupKFold\n",
    "from sklearn.metrics import roc_auc_score"
   ]
  },
  {
   "cell_type": "code",
   "execution_count": 2,
   "metadata": {
    "collapsed": true
   },
   "outputs": [],
   "source": [
    "from sklearn.preprocessing import normalize\n",
    "from scipy.stats import zscore\n",
    "from sklearn.preprocessing import StandardScaler"
   ]
  },
  {
   "cell_type": "code",
   "execution_count": 3,
   "metadata": {
    "collapsed": false
   },
   "outputs": [],
   "source": [
    "import lasagne\n",
    "import theano.tensor as T\n",
    "import theano\n",
    "import train_support\n",
    "import numpy as np\n",
    "import pandas as pd\n",
    "from sklearn.utils import shuffle"
   ]
  },
  {
   "cell_type": "code",
   "execution_count": 4,
   "metadata": {
    "collapsed": true
   },
   "outputs": [],
   "source": [
    "import matplotlib.pyplot as plt\n",
    "import matplotlib.image as mpimg"
   ]
  },
  {
   "cell_type": "code",
   "execution_count": 5,
   "metadata": {
    "collapsed": true
   },
   "outputs": [],
   "source": [
    "from sklearn.utils import shuffle"
   ]
  },
  {
   "cell_type": "code",
   "execution_count": 6,
   "metadata": {
    "collapsed": true
   },
   "outputs": [],
   "source": [
    "DEFAULT_SEED = 803"
   ]
  },
  {
   "cell_type": "code",
   "execution_count": 7,
   "metadata": {
    "collapsed": true
   },
   "outputs": [],
   "source": [
    "%matplotlib inline"
   ]
  },
  {
   "cell_type": "code",
   "execution_count": 8,
   "metadata": {
    "collapsed": true
   },
   "outputs": [],
   "source": [
    "%load_ext autoreload\n",
    "%autoreload 2"
   ]
  },
  {
   "cell_type": "markdown",
   "metadata": {},
   "source": [
    "## создание датафрейма из картинок"
   ]
  },
  {
   "cell_type": "code",
   "execution_count": 9,
   "metadata": {
    "collapsed": true
   },
   "outputs": [],
   "source": [
    "def create_dataframe(dir_name):\n",
    "    filenames = shuffle(glob.glob(dir_name), random_state = DEFAULT_SEED)\n",
    "\n",
    "    classes = [os.path.basename(os.path.dirname(filename)) for filename in filenames]\n",
    "    patients = [filename.split(\"/\")[-1].split(\"_\")[0] for filename in filenames]\n",
    "    indexes = [filename.split(\"/\")[-1][:-8] for filename in filenames]\n",
    "    \n",
    "    class_translation = {\"true\":1, \"false\":0}\n",
    "    classes = map(lambda x : class_translation[x], classes)\n",
    "    \n",
    "    images = np.array([cv2.imread(filename) for filename in filenames])\n",
    "    \n",
    "    pivot_point = (30, 210)\n",
    "    image_shape = (3, 160, 160)\n",
    "    \n",
    "    cutimages = np.array([image[pivot_point[0]:pivot_point[0] + image_shape[1], \n",
    "                          pivot_point[1]:pivot_point[1] + image_shape[2]] for image in images])\n",
    "    \n",
    "    cutimages = np.array([cv2.resize(image, (80, 80)).reshape((3, 80, 80)) for image in cutimages])\n",
    "    plt.imshow(cutimages[90].reshape(80, 80,3))\n",
    "    images1d = cutimages.reshape(cutimages.shape[0], -1)\n",
    "    images_col_names = [\"\".join([\"imagepixel\", str(i)]) for i in range(images1d.shape[1])]\n",
    "    \n",
    "    print len(images_col_names)\n",
    "    df = pd.DataFrame(columns = images_col_names, data = images1d)\n",
    "    df[\"ibs\"] = classes\n",
    "    df[\"Patient\"] = patients\n",
    "    df[\"ECG_ID\"] = indexes\n",
    "    df = shuffle(df, random_state=27)\n",
    "    df = df.reset_index(drop = True)\n",
    "    return df"
   ]
  },
  {
   "cell_type": "markdown",
   "metadata": {},
   "source": [
    "## Функции для кросс-валидации и обучения"
   ]
  },
  {
   "cell_type": "code",
   "execution_count": 14,
   "metadata": {
    "collapsed": true
   },
   "outputs": [],
   "source": [
    "def combine_results(clf_res, cv, length):\n",
    "    a = np.zeros(length)\n",
    "    pr = np.zeros(length)\n",
    "    \n",
    "    for res, i in zip(clf_res, cv):\n",
    "        itrain, itest = i\n",
    "        \n",
    "        a[itest] = res[\"p_test\"]\n",
    "        #pr[itest] = np.clip(res[\"pr_test\"] - res[\"pr_test\"].mean() + 0.5, 0.0, 1.0)\n",
    "        pr[itest] = res[\"pr_test\"]\n",
    "    return a, pr"
   ]
  },
  {
   "cell_type": "code",
   "execution_count": 15,
   "metadata": {
    "collapsed": true
   },
   "outputs": [],
   "source": [
    "def cv_tt(df, target, cv):\n",
    "    tt = []\n",
    "    data = df.drop(target, axis = 1)\n",
    "    y = df[target]\n",
    "    for itrain, itest in cv:\n",
    "        train_data = data.loc[itrain,:].copy()\n",
    "        test_data = data.loc[itest,:].copy()\n",
    "#        train_data.drop(\"level_0\", axis=1, inplace=True)\n",
    "#        test_data.drop(\"level_0\", axis=1, inplace=True)\n",
    "        train_data.reset_index(inplace=True)\n",
    "        test_data.reset_index(inplace=True)\n",
    "        fold = {\"xtrain\" : train_data, \"ytrain\" : y[itrain], \n",
    "                \"xtest\" : test_data, \"ytest\" : y[itest]}\n",
    "        tt.append(fold)\n",
    "    return tt"
   ]
  },
  {
   "cell_type": "code",
   "execution_count": 16,
   "metadata": {
    "collapsed": true
   },
   "outputs": [],
   "source": [
    "def review(df, p=None, pr=None, target=\"ibs\", plot = True, text = True):\n",
    "    lsp = np.linspace(0, 1, 201)\n",
    "    \n",
    "    if pr is not None:\n",
    "        s = [pd.DataFrame({'label':df[\"Patient\"], 'q':(df[target] == (pr >= l).astype(float))}).q.mean() for l in lsp]\n",
    "        patients = [pd.DataFrame({'label':df[\"Patient\"], \n",
    "                       'q':(df[target] == (pr >= l).astype(float))}).groupby('label')['q'].mean().mean() for l in lsp]\n",
    "    \n",
    "    if plot: \n",
    "        plt.figure(figsize = (8, 4))    \n",
    "        plt.plot(lsp, patients, lw=2)\n",
    "        plt.plot(lsp, s, lw=2)\n",
    "        plt.xlabel('threshold')\n",
    "        plt.ylabel('quality')\n",
    "    if p is not None: \n",
    "        tmp = pd.DataFrame({'label':df[\"Patient\"], 'q':df[target] == p})\n",
    "    tmax = np.argmax(patients)\n",
    "    \n",
    "    if text:\n",
    "        print ('roc-auc = ' + str(roc_auc_score(df[target], pr)))\n",
    "        if p is not None:\n",
    "            print (\"Оценка границы разбиения по умолчанию:\")      \n",
    "            print ('Качество по сигналам = ' + str(tmp.q.mean()))\n",
    "            print ('Качество по людям = ' + str(tmp.groupby('label')['q'].mean().mean()))\n",
    "        print (\"Наилучшее разбиение происходит при границе \" + str(lsp[tmax]))\n",
    "        print ('Качество по сигналам = ' + str(s[tmax]))\n",
    "        print ('Качество по людям = ' + str(patients[tmax]))\n",
    "    \n",
    "    return patients[tmax]"
   ]
  },
  {
   "cell_type": "code",
   "execution_count": 17,
   "metadata": {
    "collapsed": true
   },
   "outputs": [],
   "source": [
    "def fit_predict(clf, xtrain, ytrain, xtest, ytest, clf_params, \n",
    "               fit_params, do_scaling, xgbfit, nnfit):\n",
    "    if do_scaling:\n",
    "        scaler = StandardScaler()\n",
    "        xtrain = scaler.fit_transform(xtrain)\n",
    "        xtest = scaler.transform(xtest)    \n",
    "        \n",
    "    if xgbfit:\n",
    "        fit_params[\"eval_set\"] = \\\n",
    "            [(xtrain, ytrain), (xtest, ytest)]\n",
    "        fit_params[\"sample_weight\"] = \\\n",
    "            np.array(get_weight(ytrain))\n",
    "    if nnfit:\n",
    "        fit_params[\"w\"] = \\\n",
    "            np.array(get_weight(ytrain))\n",
    "            \n",
    "    c = clf(**clf_params)\n",
    "#    c.fit(xtrain, ytrain, **fit_params)\n",
    "    answer = c.fit_predict(xtrain, ytrain, xtest, ytest, **fit_params)\n",
    "    \n",
    "    p_tst = answer[0]\n",
    "    pr_tst = answer[1]\n",
    "    \n",
    "#    p_tst = c.predict(xtest)\n",
    "#    pr_tst = c.predict_proba(xtest)[:,1]\n",
    "    \n",
    "    return p_tst, pr_tst"
   ]
  },
  {
   "cell_type": "code",
   "execution_count": 18,
   "metadata": {
    "collapsed": true
   },
   "outputs": [],
   "source": [
    "def cv_fit_predict(clf, cv_tt, f_l, clf_params = {}, fit_params = {},\n",
    "                   do_scaling = False, xgbfit = False, nnfit = False):\n",
    "    cv_answer = []\n",
    "    \n",
    "    for fold in tqdm(cv_tt):\n",
    "        p_tst, pr_tst = fit_predict(clf, fold[\"xtrain\"][f_l], fold[\"ytrain\"], \n",
    "                                      fold[\"xtest\"][f_l], fold[\"ytest\"], \n",
    "                                      clf_params, fit_params, do_scaling, xgbfit, nnfit)\n",
    "        \n",
    "        tt_answer = {\"p_test\" : p_tst, \"pr_test\" : pr_tst}\n",
    "        cv_answer.append(tt_answer)\n",
    "    \n",
    "    return cv_answer"
   ]
  },
  {
   "cell_type": "markdown",
   "metadata": {},
   "source": [
    "## Классификатор на основе нейронной сети"
   ]
  },
  {
   "cell_type": "code",
   "execution_count": 31,
   "metadata": {
    "collapsed": true
   },
   "outputs": [],
   "source": [
    "class convolutional_network_for_classifier():\n",
    "    def __init__(self, image_shape, channels_number):\n",
    "        self.input_var = T.tensor4('input')\n",
    "        self.build_network(image_shape, channels_number)\n",
    "        print \"net1\"\n",
    "        \n",
    "    def build_network(self, image_size = (180, 180), channels_number = 1):\n",
    "        self.l_in = lasagne.layers.InputLayer(shape=(None, channels_number, image_size[0], image_size[1]), input_var=self.input_var)\n",
    "        #self.l1_cnn = lasagne.layers.Conv2DLayer(self.l_in, num_filters=32,\n",
    "        #                                filter_size=(5, 5), stride=(2, 2))\n",
    "        self.l2_cnn = lasagne.layers.Conv2DLayer(self.l_in, num_filters=32,\n",
    "                                        filter_size=(5, 5), stride=(2, 2))\n",
    "        #self.l3_cnn = lasagne.layers.Conv2DLayer(self.l2_cnn, num_filters=32,\n",
    "        #                                filter_size=(6, 6), stride=(2, 2))\n",
    "        new_layer = lasagne.layers.DenseLayer(self.l2_cnn, 30, nonlinearity=lasagne.nonlinearities.leaky_rectify)\n",
    "        self.l_output = lasagne.layers.DenseLayer(new_layer, 1, nonlinearity=lasagne.nonlinearities.sigmoid)\n",
    "\n",
    "    def get_output(self):\n",
    "        return self.l_output\n",
    "    \n",
    "    def get_input(self):\n",
    "        return self.input_var"
   ]
  },
  {
   "cell_type": "code",
   "execution_count": 124,
   "metadata": {
    "collapsed": true
   },
   "outputs": [],
   "source": [
    "class CNNC():\n",
    "    def __init__(self, image_shape, channels_number, lr = 0.00005, num_epochs = 50, batch_size=5):\n",
    "        self.nn = convolutional_network_for_classifier(image_shape, channels_number)\n",
    "        \n",
    "        self.image_shape = image_shape\n",
    "        self.channels_number = channels_number\n",
    "        \n",
    "        self.lr = lr\n",
    "        self.batch_size=batch_size\n",
    "        self.num_epochs = num_epochs\n",
    " \n",
    "    def fit_predict(self, x_train, y_train, x_test, y_test):\n",
    "        train_shape = x_train.shape\n",
    "        test_shape = x_test.shape\n",
    "        \n",
    "        x_train = x_train.reshape(train_shape[0], self.channels_number, self.image_shape[0], self.image_shape[1])\n",
    "        x_test = x_test.reshape(test_shape[0], self.channels_number, self.image_shape[0], self.image_shape[1])\n",
    "        \n",
    "        y_train = y_train.values\n",
    "        y_test = y_test.values\n",
    "        \n",
    "        ret = train_support.train(self.nn.get_output(), self.nn.get_input(), \n",
    "                                  x_train, y_train, x_test, y_test,\n",
    "                                  learning_rate=self.lr, num_epochs=self.num_epochs,\n",
    "                                  grad_clipping=200, batch_size=self.batch_size)\n",
    "        \n",
    "        lasagne.layers.set_all_param_values(self.nn.get_output(), ret[0])\n",
    "        \n",
    "        pr = ret[4]\n",
    "        \n",
    "        p = np.zeros(pr.shape)\n",
    "        p[pr>0.5] = 1\n",
    "        \n",
    "        return p, pr \n",
    "    \n",
    "    def predict(self, x):\n",
    "        x_shape = x.shape\n",
    "        x = x.reshape(x_shape[0], self.channels_number, self.image_shape[0], self.image_shape[1])\n",
    "        return train_support.predict(self.nn.get_output(), self.nn.get_input(), x)"
   ]
  },
  {
   "cell_type": "code",
   "execution_count": 125,
   "metadata": {
    "collapsed": true
   },
   "outputs": [],
   "source": [
    "def get_prediction(clf, x_train, y_train, x_test, y_test, x_val, f_l, fit_params, clf_params, do_scaling=True):\n",
    "    if do_scaling:\n",
    "        scaler = StandardScaler()\n",
    "        x_train = scaler.fit_transform(x_train[f_l])\n",
    "        x_test = scaler.transform(x_test[f_l])    \n",
    "        x_val = scaler.transform(x_val[f_l])\n",
    "            \n",
    "    c = clf(**clf_params)\n",
    "\n",
    "    p_tst, pr_tst = c.fit_predict(x_train, y_train, x_test, y_test, **fit_params)\n",
    "    pr = c.predict(x_val)\n",
    "    \n",
    "    p = np.zeros(pr.shape)\n",
    "    p[pr>0.5] = 1\n",
    "        \n",
    "    return p, pr, p_tst, pr_tst "
   ]
  },
  {
   "cell_type": "markdown",
   "metadata": {},
   "source": [
    "## Результаты на отложенной тестовой выборке (Выделение теста для остановки нейросети)"
   ]
  },
  {
   "cell_type": "code",
   "execution_count": 126,
   "metadata": {
    "collapsed": true
   },
   "outputs": [],
   "source": [
    "train_df_for_test = shuffle(train_df, random_state=10)"
   ]
  },
  {
   "cell_type": "code",
   "execution_count": 127,
   "metadata": {
    "collapsed": true
   },
   "outputs": [],
   "source": [
    "gkf = GroupKFold(n_splits=12)\n",
    "cv = list(gkf.split(train_df_for_test, train_df_for_test[\"ibs\"], groups=train_df_for_test[\"Patient\"]))   "
   ]
  },
  {
   "cell_type": "code",
   "execution_count": 128,
   "metadata": {
    "collapsed": true
   },
   "outputs": [],
   "source": [
    "x_train = train_df_for_test.loc[cv[0][0],:].copy()\n",
    "x_test = train_df_for_test.loc[cv[0][1],:].copy()\n",
    "\n",
    "\n",
    "x_train.reset_index(inplace=True)\n",
    "y_train = x_train[\"ibs\"]\n",
    "x_train.drop(\"ibs\", axis=1, inplace=True)\n",
    "\n",
    "x_test.reset_index(inplace=True)\n",
    "y_test = x_test[\"ibs\"]\n",
    "x_test.drop(\"ibs\", axis=1, inplace=True)"
   ]
  },
  {
   "cell_type": "code",
   "execution_count": 129,
   "metadata": {
    "collapsed": true
   },
   "outputs": [],
   "source": [
    "x_val = test_df.drop(\"ibs\", axis=1)"
   ]
  },
  {
   "cell_type": "code",
   "execution_count": 137,
   "metadata": {
    "collapsed": true
   },
   "outputs": [
    {
     "name": "stdout",
     "output_type": "stream",
     "text": [
      "net1\n"
     ]
    },
    {
     "name": "stderr",
     "output_type": "stream",
     "text": [
      "  1%|          | 1/100 [00:09<14:59,  9.09s/it]"
     ]
    },
    {
     "name": "stdout",
     "output_type": "stream",
     "text": [
      "epoch 1 / 100 in 9.1s: loss 0.694296, trval_rocauc 0.757698, val_rocauc 0.675059, lr 0.000050\n"
     ]
    },
    {
     "name": "stderr",
     "output_type": "stream",
     "text": [
      "\r",
      "  2%|▏         | 2/100 [00:17<14:33,  8.91s/it]"
     ]
    },
    {
     "name": "stdout",
     "output_type": "stream",
     "text": [
      "epoch 2 / 100 in 8.5s: loss 0.696525, trval_rocauc 0.800403, val_rocauc 0.665572, lr 0.000050\n"
     ]
    },
    {
     "name": "stderr",
     "output_type": "stream",
     "text": [
      "\r",
      "  3%|▎         | 3/100 [00:26<14:13,  8.80s/it]"
     ]
    },
    {
     "name": "stdout",
     "output_type": "stream",
     "text": [
      "epoch 3 / 100 in 8.5s: loss 0.693963, trval_rocauc 0.781342, val_rocauc 0.672140, lr 0.000050\n"
     ]
    },
    {
     "name": "stderr",
     "output_type": "stream",
     "text": [
      "\r",
      "  4%|▍         | 4/100 [00:34<13:56,  8.72s/it]"
     ]
    },
    {
     "name": "stdout",
     "output_type": "stream",
     "text": [
      "epoch 4 / 100 in 8.5s: loss 0.693598, trval_rocauc 0.830095, val_rocauc 0.707718, lr 0.000050\n"
     ]
    },
    {
     "name": "stderr",
     "output_type": "stream",
     "text": [
      "\r",
      "  5%|▌         | 5/100 [00:43<13:42,  8.65s/it]"
     ]
    },
    {
     "name": "stdout",
     "output_type": "stream",
     "text": [
      "epoch 5 / 100 in 8.5s: loss 0.692168, trval_rocauc 0.822581, val_rocauc 0.728699, lr 0.000050\n"
     ]
    },
    {
     "name": "stderr",
     "output_type": "stream",
     "text": [
      "\r",
      "  6%|▌         | 6/100 [00:51<13:28,  8.61s/it]"
     ]
    },
    {
     "name": "stdout",
     "output_type": "stream",
     "text": [
      "epoch 6 / 100 in 8.5s: loss 0.692747, trval_rocauc 0.817815, val_rocauc 0.693669, lr 0.000050\n"
     ]
    },
    {
     "name": "stderr",
     "output_type": "stream",
     "text": [
      "\r",
      "  7%|▋         | 7/100 [01:00<13:19,  8.59s/it]"
     ]
    },
    {
     "name": "stdout",
     "output_type": "stream",
     "text": [
      "epoch 7 / 100 in 8.6s: loss 0.692271, trval_rocauc 0.823130, val_rocauc 0.717022, lr 0.000050\n"
     ]
    },
    {
     "name": "stderr",
     "output_type": "stream",
     "text": [
      "\r",
      "  8%|▊         | 8/100 [01:08<13:14,  8.64s/it]"
     ]
    },
    {
     "name": "stdout",
     "output_type": "stream",
     "text": [
      "epoch 8 / 100 in 8.7s: loss 0.692588, trval_rocauc 0.859421, val_rocauc 0.711914, lr 0.000050\n"
     ]
    },
    {
     "name": "stderr",
     "output_type": "stream",
     "text": [
      "\r",
      "  9%|▉         | 9/100 [01:18<13:18,  8.77s/it]"
     ]
    },
    {
     "name": "stdout",
     "output_type": "stream",
     "text": [
      "epoch 9 / 100 in 9.1s: loss 0.689602, trval_rocauc 0.858688, val_rocauc 0.697500, lr 0.000050\n"
     ]
    },
    {
     "name": "stderr",
     "output_type": "stream",
     "text": [
      "\r",
      " 10%|█         | 10/100 [01:26<13:04,  8.71s/it]"
     ]
    },
    {
     "name": "stdout",
     "output_type": "stream",
     "text": [
      "epoch 10 / 100 in 8.6s: loss 0.691370, trval_rocauc 0.885264, val_rocauc 0.715016, lr 0.000050\n"
     ]
    },
    {
     "name": "stderr",
     "output_type": "stream",
     "text": [
      "\r",
      " 11%|█         | 11/100 [01:35<12:50,  8.65s/it]"
     ]
    },
    {
     "name": "stdout",
     "output_type": "stream",
     "text": [
      "epoch 11 / 100 in 8.5s: loss 0.690230, trval_rocauc 0.885630, val_rocauc 0.706805, lr 0.000050\n"
     ]
    },
    {
     "name": "stderr",
     "output_type": "stream",
     "text": [
      "\r",
      " 12%|█▏        | 12/100 [01:43<12:38,  8.61s/it]"
     ]
    },
    {
     "name": "stdout",
     "output_type": "stream",
     "text": [
      "epoch 12 / 100 in 8.5s: loss 0.690542, trval_rocauc 0.882881, val_rocauc 0.733443, lr 0.000050\n"
     ]
    },
    {
     "name": "stderr",
     "output_type": "stream",
     "text": [
      "\r",
      " 13%|█▎        | 13/100 [01:52<12:26,  8.58s/it]"
     ]
    },
    {
     "name": "stdout",
     "output_type": "stream",
     "text": [
      "epoch 13 / 100 in 8.5s: loss 0.689895, trval_rocauc 0.882698, val_rocauc 0.741471, lr 0.000050\n"
     ]
    },
    {
     "name": "stderr",
     "output_type": "stream",
     "text": [
      "\r",
      " 14%|█▍        | 14/100 [02:00<12:16,  8.56s/it]"
     ]
    },
    {
     "name": "stdout",
     "output_type": "stream",
     "text": [
      "epoch 14 / 100 in 8.5s: loss 0.689097, trval_rocauc 0.871701, val_rocauc 0.748951, lr 0.000050\n"
     ]
    },
    {
     "name": "stderr",
     "output_type": "stream",
     "text": [
      "\r",
      " 15%|█▌        | 15/100 [02:09<12:06,  8.54s/it]"
     ]
    },
    {
     "name": "stdout",
     "output_type": "stream",
     "text": [
      "epoch 15 / 100 in 8.5s: loss 0.689237, trval_rocauc 0.895528, val_rocauc 0.750593, lr 0.000050\n"
     ]
    },
    {
     "name": "stderr",
     "output_type": "stream",
     "text": [
      "\r",
      " 16%|█▌        | 16/100 [02:17<11:56,  8.53s/it]"
     ]
    },
    {
     "name": "stdout",
     "output_type": "stream",
     "text": [
      "epoch 16 / 100 in 8.5s: loss 0.690104, trval_rocauc 0.902126, val_rocauc 0.756066, lr 0.000050\n"
     ]
    },
    {
     "name": "stderr",
     "output_type": "stream",
     "text": [
      "\r",
      " 17%|█▋        | 17/100 [02:26<11:47,  8.52s/it]"
     ]
    },
    {
     "name": "stdout",
     "output_type": "stream",
     "text": [
      "epoch 17 / 100 in 8.5s: loss 0.687315, trval_rocauc 0.893512, val_rocauc 0.752417, lr 0.000050\n"
     ]
    },
    {
     "name": "stderr",
     "output_type": "stream",
     "text": [
      "\r",
      " 18%|█▊        | 18/100 [02:34<11:38,  8.51s/it]"
     ]
    },
    {
     "name": "stdout",
     "output_type": "stream",
     "text": [
      "epoch 18 / 100 in 8.5s: loss 0.686766, trval_rocauc 0.892412, val_rocauc 0.750775, lr 0.000050\n"
     ]
    },
    {
     "name": "stderr",
     "output_type": "stream",
     "text": [
      "\r",
      " 19%|█▉        | 19/100 [02:43<11:29,  8.51s/it]"
     ]
    },
    {
     "name": "stdout",
     "output_type": "stream",
     "text": [
      "epoch 19 / 100 in 8.5s: loss 0.689303, trval_rocauc 0.898460, val_rocauc 0.768655, lr 0.000050\n"
     ]
    },
    {
     "name": "stderr",
     "output_type": "stream",
     "text": [
      "\r",
      " 20%|██        | 20/100 [02:51<11:20,  8.50s/it]"
     ]
    },
    {
     "name": "stdout",
     "output_type": "stream",
     "text": [
      "epoch 20 / 100 in 8.5s: loss 0.687358, trval_rocauc 0.910924, val_rocauc 0.768838, lr 0.000050\n"
     ]
    },
    {
     "name": "stderr",
     "output_type": "stream",
     "text": [
      "\r",
      " 21%|██        | 21/100 [03:00<11:12,  8.51s/it]"
     ]
    },
    {
     "name": "stdout",
     "output_type": "stream",
     "text": [
      "epoch 21 / 100 in 8.5s: loss 0.688400, trval_rocauc 0.923204, val_rocauc 0.753512, lr 0.000050\n"
     ]
    },
    {
     "name": "stderr",
     "output_type": "stream",
     "text": [
      "\r",
      " 22%|██▏       | 22/100 [03:08<11:03,  8.51s/it]"
     ]
    },
    {
     "name": "stdout",
     "output_type": "stream",
     "text": [
      "epoch 22 / 100 in 8.5s: loss 0.690755, trval_rocauc 0.929985, val_rocauc 0.787083, lr 0.000050\n"
     ]
    },
    {
     "name": "stderr",
     "output_type": "stream",
     "text": [
      "\r",
      " 23%|██▎       | 23/100 [03:17<11:00,  8.58s/it]"
     ]
    },
    {
     "name": "stdout",
     "output_type": "stream",
     "text": [
      "epoch 23 / 100 in 8.7s: loss 0.686651, trval_rocauc 0.930169, val_rocauc 0.771210, lr 0.000050\n"
     ]
    },
    {
     "name": "stderr",
     "output_type": "stream",
     "text": [
      "\r",
      " 24%|██▍       | 24/100 [03:25<10:51,  8.57s/it]"
     ]
    },
    {
     "name": "stdout",
     "output_type": "stream",
     "text": [
      "epoch 24 / 100 in 8.5s: loss 0.689213, trval_rocauc 0.939150, val_rocauc 0.776501, lr 0.000050\n"
     ]
    },
    {
     "name": "stderr",
     "output_type": "stream",
     "text": [
      "\r",
      " 25%|██▌       | 25/100 [03:34<10:41,  8.55s/it]"
     ]
    },
    {
     "name": "stdout",
     "output_type": "stream",
     "text": [
      "epoch 25 / 100 in 8.5s: loss 0.689185, trval_rocauc 0.940616, val_rocauc 0.775588, lr 0.000050\n"
     ]
    },
    {
     "name": "stderr",
     "output_type": "stream",
     "text": [
      "\r",
      " 26%|██▌       | 26/100 [03:43<10:32,  8.55s/it]"
     ]
    },
    {
     "name": "stdout",
     "output_type": "stream",
     "text": [
      "epoch 26 / 100 in 8.5s: loss 0.686369, trval_rocauc 0.941532, val_rocauc 0.766466, lr 0.000050\n"
     ]
    },
    {
     "name": "stderr",
     "output_type": "stream",
     "text": [
      "\r",
      " 27%|██▋       | 27/100 [03:51<10:23,  8.54s/it]"
     ]
    },
    {
     "name": "stdout",
     "output_type": "stream",
     "text": [
      "epoch 27 / 100 in 8.5s: loss 0.685627, trval_rocauc 0.940982, val_rocauc 0.762087, lr 0.000050\n"
     ]
    },
    {
     "name": "stderr",
     "output_type": "stream",
     "text": [
      "\r",
      " 28%|██▊       | 28/100 [04:00<10:14,  8.53s/it]"
     ]
    },
    {
     "name": "stdout",
     "output_type": "stream",
     "text": [
      "epoch 28 / 100 in 8.5s: loss 0.687494, trval_rocauc 0.943182, val_rocauc 0.776136, lr 0.000050\n"
     ]
    },
    {
     "name": "stderr",
     "output_type": "stream",
     "text": [
      "\r",
      " 29%|██▉       | 29/100 [04:08<10:05,  8.53s/it]"
     ]
    },
    {
     "name": "stdout",
     "output_type": "stream",
     "text": [
      "epoch 29 / 100 in 8.5s: loss 0.688492, trval_rocauc 0.945931, val_rocauc 0.770662, lr 0.000050\n"
     ]
    },
    {
     "name": "stderr",
     "output_type": "stream",
     "text": [
      "\r",
      " 30%|███       | 30/100 [04:17<09:56,  8.53s/it]"
     ]
    },
    {
     "name": "stdout",
     "output_type": "stream",
     "text": [
      "epoch 30 / 100 in 8.5s: loss 0.686809, trval_rocauc 0.952163, val_rocauc 0.772852, lr 0.000050\n"
     ]
    },
    {
     "name": "stderr",
     "output_type": "stream",
     "text": [
      "\r",
      " 31%|███       | 31/100 [04:25<09:47,  8.52s/it]"
     ]
    },
    {
     "name": "stdout",
     "output_type": "stream",
     "text": [
      "epoch 31 / 100 in 8.5s: loss 0.685414, trval_rocauc 0.945748, val_rocauc 0.766284, lr 0.000050\n"
     ]
    },
    {
     "name": "stderr",
     "output_type": "stream",
     "text": [
      "\r",
      " 32%|███▏      | 32/100 [04:34<09:38,  8.51s/it]"
     ]
    },
    {
     "name": "stdout",
     "output_type": "stream",
     "text": [
      "epoch 32 / 100 in 8.5s: loss 0.685573, trval_rocauc 0.949597, val_rocauc 0.770845, lr 0.000050\n"
     ]
    },
    {
     "name": "stderr",
     "output_type": "stream",
     "text": [
      "\r",
      " 33%|███▎      | 33/100 [04:42<09:30,  8.52s/it]"
     ]
    },
    {
     "name": "stdout",
     "output_type": "stream",
     "text": [
      "epoch 33 / 100 in 8.5s: loss 0.684808, trval_rocauc 0.953079, val_rocauc 0.772304, lr 0.000050\n"
     ]
    },
    {
     "name": "stderr",
     "output_type": "stream",
     "text": [
      "\r",
      " 34%|███▍      | 34/100 [04:51<09:22,  8.52s/it]"
     ]
    },
    {
     "name": "stdout",
     "output_type": "stream",
     "text": [
      "epoch 34 / 100 in 8.5s: loss 0.686074, trval_rocauc 0.951430, val_rocauc 0.776501, lr 0.000050\n"
     ]
    },
    {
     "name": "stderr",
     "output_type": "stream",
     "text": [
      "\r",
      " 35%|███▌      | 35/100 [04:59<09:13,  8.51s/it]"
     ]
    },
    {
     "name": "stdout",
     "output_type": "stream",
     "text": [
      "epoch 35 / 100 in 8.5s: loss 0.686480, trval_rocauc 0.958944, val_rocauc 0.777778, lr 0.000050\n"
     ]
    },
    {
     "name": "stderr",
     "output_type": "stream",
     "text": [
      "\r",
      " 36%|███▌      | 36/100 [05:08<09:04,  8.51s/it]"
     ]
    },
    {
     "name": "stdout",
     "output_type": "stream",
     "text": [
      "epoch 36 / 100 in 8.5s: loss 0.686940, trval_rocauc 0.966276, val_rocauc 0.762270, lr 0.000050\n"
     ]
    },
    {
     "name": "stderr",
     "output_type": "stream",
     "text": [
      "\r",
      " 37%|███▋      | 37/100 [05:16<08:59,  8.57s/it]"
     ]
    },
    {
     "name": "stdout",
     "output_type": "stream",
     "text": [
      "epoch 37 / 100 in 8.7s: loss 0.684986, trval_rocauc 0.966459, val_rocauc 0.765189, lr 0.000050\n"
     ]
    },
    {
     "name": "stderr",
     "output_type": "stream",
     "text": [
      "\r",
      " 38%|███▊      | 38/100 [05:25<08:51,  8.57s/it]"
     ]
    },
    {
     "name": "stdout",
     "output_type": "stream",
     "text": [
      "epoch 38 / 100 in 8.6s: loss 0.687889, trval_rocauc 0.966459, val_rocauc 0.773764, lr 0.000050\n"
     ]
    },
    {
     "name": "stderr",
     "output_type": "stream",
     "text": [
      "\r",
      " 39%|███▉      | 39/100 [05:33<08:40,  8.54s/it]"
     ]
    },
    {
     "name": "stdout",
     "output_type": "stream",
     "text": [
      "epoch 39 / 100 in 8.5s: loss 0.686324, trval_rocauc 0.968475, val_rocauc 0.777778, lr 0.000050\n"
     ]
    },
    {
     "name": "stderr",
     "output_type": "stream",
     "text": [
      "\r",
      " 40%|████      | 40/100 [05:42<08:32,  8.53s/it]"
     ]
    },
    {
     "name": "stdout",
     "output_type": "stream",
     "text": [
      "epoch 40 / 100 in 8.5s: loss 0.684055, trval_rocauc 0.973790, val_rocauc 0.776318, lr 0.000050\n"
     ]
    },
    {
     "name": "stderr",
     "output_type": "stream",
     "text": [
      "\r",
      " 41%|████      | 41/100 [05:50<08:23,  8.53s/it]"
     ]
    },
    {
     "name": "stdout",
     "output_type": "stream",
     "text": [
      "epoch 41 / 100 in 8.5s: loss 0.683597, trval_rocauc 0.972874, val_rocauc 0.786718, lr 0.000050\n"
     ]
    },
    {
     "name": "stderr",
     "output_type": "stream",
     "text": [
      "\r",
      " 42%|████▏     | 42/100 [05:59<08:14,  8.52s/it]"
     ]
    },
    {
     "name": "stdout",
     "output_type": "stream",
     "text": [
      "epoch 42 / 100 in 8.5s: loss 0.686625, trval_rocauc 0.974157, val_rocauc 0.777413, lr 0.000050\n"
     ]
    },
    {
     "name": "stderr",
     "output_type": "stream",
     "text": [
      "\r",
      " 43%|████▎     | 43/100 [06:07<08:05,  8.52s/it]"
     ]
    },
    {
     "name": "stdout",
     "output_type": "stream",
     "text": [
      "epoch 43 / 100 in 8.5s: loss 0.686705, trval_rocauc 0.975990, val_rocauc 0.783799, lr 0.000050\n"
     ]
    },
    {
     "name": "stderr",
     "output_type": "stream",
     "text": [
      "\r",
      " 44%|████▍     | 44/100 [06:16<07:57,  8.53s/it]"
     ]
    },
    {
     "name": "stdout",
     "output_type": "stream",
     "text": [
      "epoch 44 / 100 in 8.5s: loss 0.686048, trval_rocauc 0.979289, val_rocauc 0.787083, lr 0.000050\n"
     ]
    },
    {
     "name": "stderr",
     "output_type": "stream",
     "text": [
      "\r",
      " 45%|████▌     | 45/100 [06:24<07:48,  8.52s/it]"
     ]
    },
    {
     "name": "stdout",
     "output_type": "stream",
     "text": [
      "epoch 45 / 100 in 8.5s: loss 0.682749, trval_rocauc 0.970674, val_rocauc 0.770662, lr 0.000050\n"
     ]
    },
    {
     "name": "stderr",
     "output_type": "stream",
     "text": [
      "\r",
      " 46%|████▌     | 46/100 [06:33<07:39,  8.51s/it]"
     ]
    },
    {
     "name": "stdout",
     "output_type": "stream",
     "text": [
      "epoch 46 / 100 in 8.5s: loss 0.683408, trval_rocauc 0.973790, val_rocauc 0.788360, lr 0.000050\n"
     ]
    },
    {
     "name": "stderr",
     "output_type": "stream",
     "text": [
      "\r",
      " 47%|████▋     | 47/100 [06:41<07:30,  8.50s/it]"
     ]
    },
    {
     "name": "stdout",
     "output_type": "stream",
     "text": [
      "epoch 47 / 100 in 8.5s: loss 0.686106, trval_rocauc 0.982221, val_rocauc 0.779237, lr 0.000050\n"
     ]
    },
    {
     "name": "stderr",
     "output_type": "stream",
     "text": [
      "\r",
      " 48%|████▊     | 48/100 [06:50<07:22,  8.50s/it]"
     ]
    },
    {
     "name": "stdout",
     "output_type": "stream",
     "text": [
      "epoch 48 / 100 in 8.5s: loss 0.686533, trval_rocauc 0.982771, val_rocauc 0.790914, lr 0.000050\n"
     ]
    },
    {
     "name": "stderr",
     "output_type": "stream",
     "text": [
      "\r",
      " 49%|████▉     | 49/100 [06:58<07:13,  8.50s/it]"
     ]
    },
    {
     "name": "stdout",
     "output_type": "stream",
     "text": [
      "epoch 49 / 100 in 8.5s: loss 0.683964, trval_rocauc 0.982221, val_rocauc 0.802408, lr 0.000050\n"
     ]
    },
    {
     "name": "stderr",
     "output_type": "stream",
     "text": [
      "\r",
      " 50%|█████     | 50/100 [07:07<07:05,  8.51s/it]"
     ]
    },
    {
     "name": "stdout",
     "output_type": "stream",
     "text": [
      "epoch 50 / 100 in 8.5s: loss 0.682937, trval_rocauc 0.978006, val_rocauc 0.794745, lr 0.000050\n"
     ]
    },
    {
     "name": "stderr",
     "output_type": "stream",
     "text": [
      "\r",
      " 51%|█████     | 51/100 [07:16<06:59,  8.56s/it]"
     ]
    },
    {
     "name": "stdout",
     "output_type": "stream",
     "text": [
      "epoch 51 / 100 in 8.7s: loss 0.680615, trval_rocauc 0.978189, val_rocauc 0.796023, lr 0.000050\n"
     ]
    },
    {
     "name": "stderr",
     "output_type": "stream",
     "text": [
      "\r",
      " 52%|█████▏    | 52/100 [07:24<06:51,  8.57s/it]"
     ]
    },
    {
     "name": "stdout",
     "output_type": "stream",
     "text": [
      "epoch 52 / 100 in 8.6s: loss 0.686821, trval_rocauc 0.981855, val_rocauc 0.795658, lr 0.000050\n"
     ]
    },
    {
     "name": "stderr",
     "output_type": "stream",
     "text": [
      "\r",
      " 53%|█████▎    | 53/100 [07:33<06:41,  8.55s/it]"
     ]
    },
    {
     "name": "stdout",
     "output_type": "stream",
     "text": [
      "epoch 53 / 100 in 8.5s: loss 0.682832, trval_rocauc 0.983504, val_rocauc 0.799854, lr 0.000050\n"
     ]
    },
    {
     "name": "stderr",
     "output_type": "stream",
     "text": [
      "\r",
      " 54%|█████▍    | 54/100 [07:41<06:32,  8.54s/it]"
     ]
    },
    {
     "name": "stdout",
     "output_type": "stream",
     "text": [
      "epoch 54 / 100 in 8.5s: loss 0.684227, trval_rocauc 0.981122, val_rocauc 0.789819, lr 0.000050\n"
     ]
    },
    {
     "name": "stderr",
     "output_type": "stream",
     "text": [
      "\r",
      " 55%|█████▌    | 55/100 [07:50<06:23,  8.52s/it]"
     ]
    },
    {
     "name": "stdout",
     "output_type": "stream",
     "text": [
      "epoch 55 / 100 in 8.5s: loss 0.682377, trval_rocauc 0.982955, val_rocauc 0.792739, lr 0.000050\n"
     ]
    },
    {
     "name": "stderr",
     "output_type": "stream",
     "text": [
      "\r",
      " 56%|█████▌    | 56/100 [07:58<06:14,  8.51s/it]"
     ]
    },
    {
     "name": "stdout",
     "output_type": "stream",
     "text": [
      "epoch 56 / 100 in 8.5s: loss 0.684619, trval_rocauc 0.981305, val_rocauc 0.789454, lr 0.000050\n"
     ]
    },
    {
     "name": "stderr",
     "output_type": "stream",
     "text": [
      "\r",
      " 57%|█████▋    | 57/100 [08:07<06:06,  8.52s/it]"
     ]
    },
    {
     "name": "stdout",
     "output_type": "stream",
     "text": [
      "epoch 57 / 100 in 8.5s: loss 0.684543, trval_rocauc 0.978739, val_rocauc 0.775041, lr 0.000050\n"
     ]
    },
    {
     "name": "stderr",
     "output_type": "stream",
     "text": [
      "\r",
      " 58%|█████▊    | 58/100 [08:15<05:57,  8.52s/it]"
     ]
    },
    {
     "name": "stdout",
     "output_type": "stream",
     "text": [
      "epoch 58 / 100 in 8.5s: loss 0.681508, trval_rocauc 0.978372, val_rocauc 0.775041, lr 0.000050\n"
     ]
    },
    {
     "name": "stderr",
     "output_type": "stream",
     "text": [
      "\r",
      " 59%|█████▉    | 59/100 [08:24<05:48,  8.51s/it]"
     ]
    },
    {
     "name": "stdout",
     "output_type": "stream",
     "text": [
      "epoch 59 / 100 in 8.5s: loss 0.683321, trval_rocauc 0.983871, val_rocauc 0.782704, lr 0.000050\n"
     ]
    },
    {
     "name": "stderr",
     "output_type": "stream",
     "text": [
      "\r",
      " 60%|██████    | 60/100 [08:32<05:40,  8.52s/it]"
     ]
    },
    {
     "name": "stdout",
     "output_type": "stream",
     "text": [
      "epoch 60 / 100 in 8.5s: loss 0.682156, trval_rocauc 0.984787, val_rocauc 0.778690, lr 0.000050\n"
     ]
    },
    {
     "name": "stderr",
     "output_type": "stream",
     "text": [
      "\r",
      " 61%|██████    | 61/100 [08:41<05:32,  8.52s/it]"
     ]
    },
    {
     "name": "stdout",
     "output_type": "stream",
     "text": [
      "epoch 61 / 100 in 8.5s: loss 0.682300, trval_rocauc 0.982221, val_rocauc 0.775406, lr 0.000050\n"
     ]
    },
    {
     "name": "stderr",
     "output_type": "stream",
     "text": [
      "\r",
      " 62%|██████▏   | 62/100 [08:49<05:23,  8.51s/it]"
     ]
    },
    {
     "name": "stdout",
     "output_type": "stream",
     "text": [
      "epoch 62 / 100 in 8.5s: loss 0.683448, trval_rocauc 0.987720, val_rocauc 0.782521, lr 0.000050\n"
     ]
    },
    {
     "name": "stderr",
     "output_type": "stream",
     "text": [
      "\r",
      " 63%|██████▎   | 63/100 [08:58<05:14,  8.50s/it]"
     ]
    },
    {
     "name": "stdout",
     "output_type": "stream",
     "text": [
      "epoch 63 / 100 in 8.5s: loss 0.684385, trval_rocauc 0.991019, val_rocauc 0.778325, lr 0.000050\n"
     ]
    },
    {
     "name": "stderr",
     "output_type": "stream",
     "text": [
      "\r",
      " 64%|██████▍   | 64/100 [09:06<05:06,  8.52s/it]"
     ]
    },
    {
     "name": "stdout",
     "output_type": "stream",
     "text": [
      "epoch 64 / 100 in 8.6s: loss 0.684581, trval_rocauc 0.990469, val_rocauc 0.777230, lr 0.000050\n"
     ]
    },
    {
     "name": "stderr",
     "output_type": "stream",
     "text": [
      "\r",
      " 65%|██████▌   | 65/100 [09:15<04:59,  8.56s/it]"
     ]
    },
    {
     "name": "stdout",
     "output_type": "stream",
     "text": [
      "epoch 65 / 100 in 8.7s: loss 0.682433, trval_rocauc 0.989553, val_rocauc 0.769203, lr 0.000050\n"
     ]
    },
    {
     "name": "stderr",
     "output_type": "stream",
     "text": [
      "\r",
      " 66%|██████▌   | 66/100 [09:24<04:51,  8.57s/it]"
     ]
    },
    {
     "name": "stdout",
     "output_type": "stream",
     "text": [
      "epoch 66 / 100 in 8.6s: loss 0.681597, trval_rocauc 0.990286, val_rocauc 0.764824, lr 0.000050\n"
     ]
    },
    {
     "name": "stderr",
     "output_type": "stream",
     "text": [
      "\r",
      " 67%|██████▋   | 67/100 [09:32<04:42,  8.55s/it]"
     ]
    },
    {
     "name": "stdout",
     "output_type": "stream",
     "text": [
      "epoch 67 / 100 in 8.5s: loss 0.684865, trval_rocauc 0.994501, val_rocauc 0.773034, lr 0.000050\n"
     ]
    },
    {
     "name": "stderr",
     "output_type": "stream",
     "text": [
      "\r",
      " 68%|██████▊   | 68/100 [09:41<04:33,  8.55s/it]"
     ]
    },
    {
     "name": "stdout",
     "output_type": "stream",
     "text": [
      "epoch 68 / 100 in 8.5s: loss 0.683438, trval_rocauc 0.993768, val_rocauc 0.770297, lr 0.000050\n"
     ]
    },
    {
     "name": "stderr",
     "output_type": "stream",
     "text": [
      "\r",
      " 69%|██████▉   | 69/100 [09:49<04:24,  8.54s/it]"
     ]
    },
    {
     "name": "stdout",
     "output_type": "stream",
     "text": [
      "epoch 69 / 100 in 8.5s: loss 0.683279, trval_rocauc 0.989919, val_rocauc 0.765371, lr 0.000050\n"
     ]
    },
    {
     "name": "stderr",
     "output_type": "stream",
     "text": [
      "\r",
      " 70%|███████   | 70/100 [09:58<04:15,  8.53s/it]"
     ]
    },
    {
     "name": "stdout",
     "output_type": "stream",
     "text": [
      "epoch 70 / 100 in 8.5s: loss 0.682546, trval_rocauc 0.992485, val_rocauc 0.769385, lr 0.000050\n"
     ]
    },
    {
     "name": "stderr",
     "output_type": "stream",
     "text": [
      "\r",
      " 71%|███████   | 71/100 [10:06<04:06,  8.51s/it]"
     ]
    },
    {
     "name": "stdout",
     "output_type": "stream",
     "text": [
      "epoch 71 / 100 in 8.5s: loss 0.682174, trval_rocauc 0.993768, val_rocauc 0.774494, lr 0.000050\n"
     ]
    },
    {
     "name": "stderr",
     "output_type": "stream",
     "text": [
      "\r",
      " 72%|███████▏  | 72/100 [10:15<03:58,  8.51s/it]"
     ]
    },
    {
     "name": "stdout",
     "output_type": "stream",
     "text": [
      "epoch 72 / 100 in 8.5s: loss 0.684767, trval_rocauc 0.995418, val_rocauc 0.774859, lr 0.000050\n"
     ]
    },
    {
     "name": "stderr",
     "output_type": "stream",
     "text": [
      "\r",
      " 73%|███████▎  | 73/100 [10:23<03:49,  8.50s/it]"
     ]
    },
    {
     "name": "stdout",
     "output_type": "stream",
     "text": [
      "epoch 73 / 100 in 8.5s: loss 0.681535, trval_rocauc 0.994318, val_rocauc 0.758803, lr 0.000050\n"
     ]
    },
    {
     "name": "stderr",
     "output_type": "stream",
     "text": [
      "\r",
      " 74%|███████▍  | 74/100 [10:32<03:41,  8.50s/it]"
     ]
    },
    {
     "name": "stdout",
     "output_type": "stream",
     "text": [
      "epoch 74 / 100 in 8.5s: loss 0.682213, trval_rocauc 0.996518, val_rocauc 0.771757, lr 0.000050\n"
     ]
    },
    {
     "name": "stderr",
     "output_type": "stream",
     "text": [
      "\r",
      " 75%|███████▌  | 75/100 [10:40<03:32,  8.51s/it]"
     ]
    },
    {
     "name": "stdout",
     "output_type": "stream",
     "text": [
      "epoch 75 / 100 in 8.5s: loss 0.682975, trval_rocauc 0.993952, val_rocauc 0.769932, lr 0.000050\n"
     ]
    },
    {
     "name": "stderr",
     "output_type": "stream",
     "text": [
      "\r",
      " 76%|███████▌  | 76/100 [10:49<03:24,  8.51s/it]"
     ]
    },
    {
     "name": "stdout",
     "output_type": "stream",
     "text": [
      "epoch 76 / 100 in 8.5s: loss 0.685111, trval_rocauc 0.995784, val_rocauc 0.768290, lr 0.000050\n"
     ]
    },
    {
     "name": "stderr",
     "output_type": "stream",
     "text": [
      "\r",
      " 77%|███████▋  | 77/100 [10:57<03:15,  8.51s/it]"
     ]
    },
    {
     "name": "stdout",
     "output_type": "stream",
     "text": [
      "epoch 77 / 100 in 8.5s: loss 0.684255, trval_rocauc 0.995051, val_rocauc 0.753512, lr 0.000050\n"
     ]
    },
    {
     "name": "stderr",
     "output_type": "stream",
     "text": [
      "\r",
      " 78%|███████▊  | 78/100 [11:07<03:14,  8.86s/it]"
     ]
    },
    {
     "name": "stdout",
     "output_type": "stream",
     "text": [
      "epoch 78 / 100 in 9.7s: loss 0.685407, trval_rocauc 0.994135, val_rocauc 0.763182, lr 0.000050\n"
     ]
    },
    {
     "name": "stderr",
     "output_type": "stream",
     "text": [
      "\r",
      " 79%|███████▉  | 79/100 [11:16<03:05,  8.81s/it]"
     ]
    },
    {
     "name": "stdout",
     "output_type": "stream",
     "text": [
      "epoch 79 / 100 in 8.7s: loss 0.679971, trval_rocauc 0.993952, val_rocauc 0.775953, lr 0.000050\n"
     ]
    },
    {
     "name": "stderr",
     "output_type": "stream",
     "text": [
      "\r",
      " 80%|████████  | 80/100 [11:24<02:54,  8.73s/it]"
     ]
    },
    {
     "name": "stdout",
     "output_type": "stream",
     "text": [
      "epoch 80 / 100 in 8.5s: loss 0.683070, trval_rocauc 0.995968, val_rocauc 0.777595, lr 0.000050\n"
     ]
    },
    {
     "name": "stderr",
     "output_type": "stream",
     "text": [
      "\r",
      " 81%|████████  | 81/100 [11:33<02:44,  8.66s/it]"
     ]
    },
    {
     "name": "stdout",
     "output_type": "stream",
     "text": [
      "epoch 81 / 100 in 8.5s: loss 0.682689, trval_rocauc 0.995418, val_rocauc 0.777048, lr 0.000050\n"
     ]
    },
    {
     "name": "stderr",
     "output_type": "stream",
     "text": [
      "\r",
      " 82%|████████▏ | 82/100 [11:41<02:35,  8.61s/it]"
     ]
    },
    {
     "name": "stdout",
     "output_type": "stream",
     "text": [
      "epoch 82 / 100 in 8.5s: loss 0.682882, trval_rocauc 0.995968, val_rocauc 0.782521, lr 0.000050\n"
     ]
    },
    {
     "name": "stderr",
     "output_type": "stream",
     "text": [
      "\r",
      " 83%|████████▎ | 83/100 [11:50<02:25,  8.58s/it]"
     ]
    },
    {
     "name": "stdout",
     "output_type": "stream",
     "text": [
      "epoch 83 / 100 in 8.5s: loss 0.679267, trval_rocauc 0.994318, val_rocauc 0.778325, lr 0.000050\n"
     ]
    },
    {
     "name": "stderr",
     "output_type": "stream",
     "text": [
      "\r",
      " 84%|████████▍ | 84/100 [11:58<02:16,  8.55s/it]"
     ]
    },
    {
     "name": "stdout",
     "output_type": "stream",
     "text": [
      "epoch 84 / 100 in 8.5s: loss 0.681795, trval_rocauc 0.993952, val_rocauc 0.775223, lr 0.000050\n"
     ]
    },
    {
     "name": "stderr",
     "output_type": "stream",
     "text": [
      "\r",
      " 85%|████████▌ | 85/100 [12:07<02:08,  8.54s/it]"
     ]
    },
    {
     "name": "stdout",
     "output_type": "stream",
     "text": [
      "epoch 85 / 100 in 8.5s: loss 0.683654, trval_rocauc 0.993402, val_rocauc 0.781244, lr 0.000050\n"
     ]
    },
    {
     "name": "stderr",
     "output_type": "stream",
     "text": [
      "\r",
      " 86%|████████▌ | 86/100 [12:15<01:59,  8.52s/it]"
     ]
    },
    {
     "name": "stdout",
     "output_type": "stream",
     "text": [
      "epoch 86 / 100 in 8.5s: loss 0.683684, trval_rocauc 0.994685, val_rocauc 0.783434, lr 0.000050\n"
     ]
    },
    {
     "name": "stderr",
     "output_type": "stream",
     "text": [
      "\r",
      " 87%|████████▋ | 87/100 [12:24<01:50,  8.52s/it]"
     ]
    },
    {
     "name": "stdout",
     "output_type": "stream",
     "text": [
      "epoch 87 / 100 in 8.5s: loss 0.681788, trval_rocauc 0.994135, val_rocauc 0.780332, lr 0.000050\n"
     ]
    },
    {
     "name": "stderr",
     "output_type": "stream",
     "text": [
      "\r",
      " 88%|████████▊ | 88/100 [12:32<01:42,  8.51s/it]"
     ]
    },
    {
     "name": "stdout",
     "output_type": "stream",
     "text": [
      "epoch 88 / 100 in 8.5s: loss 0.682399, trval_rocauc 0.995601, val_rocauc 0.773764, lr 0.000050\n"
     ]
    },
    {
     "name": "stderr",
     "output_type": "stream",
     "text": [
      "\r",
      " 89%|████████▉ | 89/100 [12:41<01:33,  8.51s/it]"
     ]
    },
    {
     "name": "stdout",
     "output_type": "stream",
     "text": [
      "epoch 89 / 100 in 8.5s: loss 0.681764, trval_rocauc 0.993952, val_rocauc 0.761905, lr 0.000050\n"
     ]
    },
    {
     "name": "stderr",
     "output_type": "stream",
     "text": [
      "\r",
      " 90%|█████████ | 90/100 [12:49<01:24,  8.50s/it]"
     ]
    },
    {
     "name": "stdout",
     "output_type": "stream",
     "text": [
      "epoch 90 / 100 in 8.5s: loss 0.682971, trval_rocauc 0.995968, val_rocauc 0.769932, lr 0.000050\n"
     ]
    },
    {
     "name": "stderr",
     "output_type": "stream",
     "text": [
      "\r",
      " 91%|█████████ | 91/100 [12:58<01:16,  8.50s/it]"
     ]
    },
    {
     "name": "stdout",
     "output_type": "stream",
     "text": [
      "epoch 91 / 100 in 8.5s: loss 0.684824, trval_rocauc 0.997434, val_rocauc 0.779055, lr 0.000050\n"
     ]
    },
    {
     "name": "stderr",
     "output_type": "stream",
     "text": [
      "\r",
      " 92%|█████████▏| 92/100 [13:06<01:08,  8.51s/it]"
     ]
    },
    {
     "name": "stdout",
     "output_type": "stream",
     "text": [
      "epoch 92 / 100 in 8.5s: loss 0.682808, trval_rocauc 0.997617, val_rocauc 0.771757, lr 0.000050\n"
     ]
    },
    {
     "name": "stderr",
     "output_type": "stream",
     "text": [
      "\r",
      " 93%|█████████▎| 93/100 [13:15<00:59,  8.55s/it]"
     ]
    },
    {
     "name": "stdout",
     "output_type": "stream",
     "text": [
      "epoch 93 / 100 in 8.6s: loss 0.685699, trval_rocauc 0.997251, val_rocauc 0.766831, lr 0.000050\n"
     ]
    },
    {
     "name": "stderr",
     "output_type": "stream",
     "text": [
      "\r",
      " 94%|█████████▍| 94/100 [13:23<00:51,  8.57s/it]"
     ]
    },
    {
     "name": "stdout",
     "output_type": "stream",
     "text": [
      "epoch 94 / 100 in 8.6s: loss 0.681667, trval_rocauc 0.997251, val_rocauc 0.777048, lr 0.000050\n"
     ]
    },
    {
     "name": "stderr",
     "output_type": "stream",
     "text": [
      "\r",
      " 95%|█████████▌| 95/100 [13:32<00:42,  8.55s/it]"
     ]
    },
    {
     "name": "stdout",
     "output_type": "stream",
     "text": [
      "epoch 95 / 100 in 8.5s: loss 0.682194, trval_rocauc 0.995051, val_rocauc 0.775406, lr 0.000050\n"
     ]
    },
    {
     "name": "stderr",
     "output_type": "stream",
     "text": [
      "\r",
      " 96%|█████████▌| 96/100 [13:40<00:34,  8.53s/it]"
     ]
    },
    {
     "name": "stdout",
     "output_type": "stream",
     "text": [
      "epoch 96 / 100 in 8.5s: loss 0.681648, trval_rocauc 0.996518, val_rocauc 0.786900, lr 0.000050\n"
     ]
    },
    {
     "name": "stderr",
     "output_type": "stream",
     "text": [
      "\r",
      " 97%|█████████▋| 97/100 [13:49<00:25,  8.52s/it]"
     ]
    },
    {
     "name": "stdout",
     "output_type": "stream",
     "text": [
      "epoch 97 / 100 in 8.5s: loss 0.679577, trval_rocauc 0.996701, val_rocauc 0.785988, lr 0.000050\n"
     ]
    },
    {
     "name": "stderr",
     "output_type": "stream",
     "text": [
      "\r",
      " 98%|█████████▊| 98/100 [13:57<00:17,  8.51s/it]"
     ]
    },
    {
     "name": "stdout",
     "output_type": "stream",
     "text": [
      "epoch 98 / 100 in 8.5s: loss 0.682148, trval_rocauc 0.998717, val_rocauc 0.789090, lr 0.000050\n"
     ]
    },
    {
     "name": "stderr",
     "output_type": "stream",
     "text": [
      "\r",
      " 99%|█████████▉| 99/100 [14:06<00:08,  8.68s/it]"
     ]
    },
    {
     "name": "stdout",
     "output_type": "stream",
     "text": [
      "epoch 99 / 100 in 9.1s: loss 0.681437, trval_rocauc 0.996334, val_rocauc 0.784893, lr 0.000050\n"
     ]
    },
    {
     "name": "stderr",
     "output_type": "stream",
     "text": [
      "\r",
      "100%|██████████| 100/100 [14:15<00:00,  8.64s/it]"
     ]
    },
    {
     "name": "stdout",
     "output_type": "stream",
     "text": [
      "epoch 100 / 100 in 8.5s: loss 0.682525, trval_rocauc 0.997617, val_rocauc 0.782704, lr 0.000050\n"
     ]
    },
    {
     "name": "stderr",
     "output_type": "stream",
     "text": [
      "\n"
     ]
    }
   ],
   "source": [
    "cnnclf_params = {\"image_shape\":(80,80), \"channels_number\":3, \"lr\":0.00005, \"num_epochs\":100,\n",
    "                 \"batch_size\": 6}\n",
    "cnnfit_params = {}\n",
    "\n",
    "cnn_f = train_df.columns.difference([u'ibs', u'Patient', u'ECG_ID'])\n",
    "\n",
    "p_val, pr_val, p_test, pr_test = get_prediction(CNNC, x_train, y_train, x_test, y_test, x_val, cnn_f, cnnfit_params, cnnclf_params, do_scaling=True)"
   ]
  },
  {
   "cell_type": "code",
   "execution_count": 155,
   "metadata": {
    "collapsed": true
   },
   "outputs": [],
   "source": [
    "def patient_score(label, target_val, p=None):\n",
    "    tmp = pd.DataFrame({'label':label, 'q':target_val == p})\n",
    "    return tmp.groupby('label')['q'].mean().mean()"
   ]
  },
  {
   "cell_type": "code",
   "execution_count": 143,
   "metadata": {
    "collapsed": false
   },
   "outputs": [
    {
     "data": {
      "text/plain": [
       "0.91082631730113728"
      ]
     },
     "execution_count": 143,
     "metadata": {},
     "output_type": "execute_result"
    }
   ],
   "source": [
    "roc_auc_score(test_df[\"ibs\"], pr_val)"
   ]
  },
  {
   "cell_type": "code",
   "execution_count": 160,
   "metadata": {
    "collapsed": true
   },
   "outputs": [
    {
     "name": "stdout",
     "output_type": "stream",
     "text": [
      "i= 0.1  score = 0.536585365854\n",
      "i= 0.15  score = 0.536585365854\n",
      "i= 0.2  score = 0.536585365854\n",
      "i= 0.25  score = 0.536585365854\n",
      "i= 0.3  score = 0.536585365854\n",
      "i= 0.35  score = 0.538617886179\n",
      "i= 0.4  score = 0.624153116531\n",
      "i= 0.45  score = 0.733883156139\n",
      "i= 0.5  score = 0.566056910569\n",
      "i= 0.55  score = 0.481199186992\n",
      "i= 0.6  score = 0.463414634146\n",
      "i= 0.65  score = 0.463414634146\n",
      "i= 0.7  score = 0.463414634146\n",
      "i= 0.75  score = 0.463414634146\n",
      "i= 0.8  score = 0.463414634146\n",
      "i= 0.85  score = 0.463414634146\n"
     ]
    }
   ],
   "source": [
    "l = np.arange(0.1, 0.9, 0.05)\n",
    "for i in l:\n",
    "    tmp_p = np.zeros(pr_test.shape)\n",
    "    tmp_p[pr_test>i] = 1\n",
    "    print \"i=\", i, \" score =\" , patient_score(x_test[\"Patient\"], y_test, tmp_p.reshape(-1))"
   ]
  },
  {
   "cell_type": "code",
   "execution_count": 166,
   "metadata": {
    "collapsed": true
   },
   "outputs": [],
   "source": [
    "p_t = np.zeros(pr_val.shape)\n",
    "p_t[pr_val>0.45] = 1"
   ]
  },
  {
   "cell_type": "code",
   "execution_count": 167,
   "metadata": {
    "collapsed": false
   },
   "outputs": [
    {
     "data": {
      "text/plain": [
       "0.84875558391831529"
      ]
     },
     "execution_count": 167,
     "metadata": {},
     "output_type": "execute_result"
    }
   ],
   "source": [
    "accuracy_score(test_df[\"ibs\"], p_t)"
   ]
  },
  {
   "cell_type": "code",
   "execution_count": 168,
   "metadata": {
    "collapsed": false
   },
   "outputs": [
    {
     "data": {
      "text/plain": [
       "0.79656652360515012"
      ]
     },
     "execution_count": 168,
     "metadata": {},
     "output_type": "execute_result"
    }
   ],
   "source": [
    "f1_score(test_df[\"ibs\"], p_t)"
   ]
  },
  {
   "cell_type": "code",
   "execution_count": 169,
   "metadata": {
    "collapsed": false
   },
   "outputs": [
    {
     "data": {
      "text/plain": [
       "0.7432526815623264"
      ]
     },
     "execution_count": 169,
     "metadata": {},
     "output_type": "execute_result"
    }
   ],
   "source": [
    "patient_score(test_df[\"Patient\"], test_df[\"ibs\"], p_t.reshape(-1))"
   ]
  },
  {
   "cell_type": "code",
   "execution_count": 172,
   "metadata": {
    "collapsed": false
   },
   "outputs": [],
   "source": [
    "r_df = pd.DataFrame(data={\"ibs\":test_df[\"ibs\"], \"ECG_ID\":test_df[\"ECG_ID\"], \"CNN_PR\":pr_val.reshape(-1), \n",
    "                          \"CNN_P\":p_t.reshape(-1)})"
   ]
  },
  {
   "cell_type": "code",
   "execution_count": 174,
   "metadata": {
    "collapsed": false
   },
   "outputs": [],
   "source": [
    "r_df.to_csv(\"cnn_test_results.csv\")"
   ]
  },
  {
   "cell_type": "markdown",
   "metadata": {},
   "source": [
    "## Результаты на кросс-валидации"
   ]
  },
  {
   "cell_type": "code",
   "execution_count": 33,
   "metadata": {
    "collapsed": true
   },
   "outputs": [],
   "source": [
    "gkf = GroupKFold(n_splits=12)\n",
    "cv = list(gkf.split(train_df, train_df[\"ibs\"], groups=train_df[\"Patient\"]))    "
   ]
  },
  {
   "cell_type": "code",
   "execution_count": 34,
   "metadata": {
    "collapsed": false
   },
   "outputs": [],
   "source": [
    "tt = cv_tt(train_df, \"ibs\", cv)"
   ]
  },
  {
   "cell_type": "code",
   "execution_count": 35,
   "metadata": {
    "collapsed": true
   },
   "outputs": [],
   "source": [
    "cnn_f = train_df.columns.difference([u'ibs', u'Patient', u'ECG_ID'])"
   ]
  },
  {
   "cell_type": "code",
   "execution_count": 306,
   "metadata": {
    "collapsed": true
   },
   "outputs": [
    {
     "name": "stderr",
     "output_type": "stream",
     "text": [
      "  0%|          | 0/12 [00:00<?, ?it/s]\n",
      "  0%|          | 0/100 [00:00<?, ?it/s]\u001b[A\n",
      "  1%|          | 1/100 [00:03<05:54,  3.58s/it]"
     ]
    },
    {
     "name": "stdout",
     "output_type": "stream",
     "text": [
      "epoch 1 / 100 in 3.6s: loss 0.696675, trval_rocauc 0.632081, val_rocauc 0.722041, lr 0.000050\n"
     ]
    },
    {
     "name": "stderr",
     "output_type": "stream",
     "text": [
      "\u001b[A\n",
      "  2%|▏         | 2/100 [00:07<05:50,  3.57s/it]"
     ]
    },
    {
     "name": "stdout",
     "output_type": "stream",
     "text": [
      "epoch 2 / 100 in 3.6s: loss 0.694834, trval_rocauc 0.701313, val_rocauc 0.717462, lr 0.000050\n"
     ]
    },
    {
     "name": "stderr",
     "output_type": "stream",
     "text": [
      "\u001b[A\n",
      "  3%|▎         | 3/100 [00:10<05:45,  3.56s/it]"
     ]
    },
    {
     "name": "stdout",
     "output_type": "stream",
     "text": [
      "epoch 3 / 100 in 3.5s: loss 0.693465, trval_rocauc 0.752562, val_rocauc 0.737737, lr 0.000050\n"
     ]
    },
    {
     "name": "stderr",
     "output_type": "stream",
     "text": [
      "\u001b[A\n",
      "  4%|▍         | 4/100 [00:14<05:56,  3.71s/it]"
     ]
    },
    {
     "name": "stdout",
     "output_type": "stream",
     "text": [
      "epoch 4 / 100 in 4.1s: loss 0.692763, trval_rocauc 0.781694, val_rocauc 0.781557, lr 0.000050\n"
     ]
    },
    {
     "name": "stderr",
     "output_type": "stream",
     "text": [
      "\u001b[A\n",
      "  5%|▌         | 5/100 [00:18<05:59,  3.78s/it]"
     ]
    },
    {
     "name": "stdout",
     "output_type": "stream",
     "text": [
      "epoch 5 / 100 in 3.9s: loss 0.692559, trval_rocauc 0.799496, val_rocauc 0.759320, lr 0.000050\n"
     ]
    },
    {
     "name": "stderr",
     "output_type": "stream",
     "text": [
      "\u001b[A\n",
      "  6%|▌         | 6/100 [00:22<06:01,  3.84s/it]"
     ]
    },
    {
     "name": "stdout",
     "output_type": "stream",
     "text": [
      "epoch 6 / 100 in 4.0s: loss 0.690528, trval_rocauc 0.816580, val_rocauc 0.765860, lr 0.000050\n"
     ]
    },
    {
     "name": "stderr",
     "output_type": "stream",
     "text": [
      "\u001b[A\n",
      "  7%|▋         | 7/100 [00:26<05:59,  3.86s/it]"
     ]
    },
    {
     "name": "stdout",
     "output_type": "stream",
     "text": [
      "epoch 7 / 100 in 3.9s: loss 0.689457, trval_rocauc 0.853803, val_rocauc 0.756050, lr 0.000050\n"
     ]
    },
    {
     "name": "stderr",
     "output_type": "stream",
     "text": [
      "\u001b[A\n",
      "  8%|▊         | 8/100 [00:30<05:46,  3.77s/it]"
     ]
    },
    {
     "name": "stdout",
     "output_type": "stream",
     "text": [
      "epoch 8 / 100 in 3.6s: loss 0.688823, trval_rocauc 0.859378, val_rocauc 0.752780, lr 0.000050\n"
     ]
    },
    {
     "name": "stderr",
     "output_type": "stream",
     "text": [
      "\u001b[A\n",
      "  9%|▉         | 9/100 [00:33<05:44,  3.79s/it]"
     ]
    },
    {
     "name": "stdout",
     "output_type": "stream",
     "text": [
      "epoch 9 / 100 in 3.8s: loss 0.689363, trval_rocauc 0.876461, val_rocauc 0.758666, lr 0.000050\n"
     ]
    },
    {
     "name": "stderr",
     "output_type": "stream",
     "text": [
      "\u001b[A\n",
      " 10%|█         | 10/100 [00:37<05:44,  3.83s/it]"
     ]
    },
    {
     "name": "stdout",
     "output_type": "stream",
     "text": [
      "epoch 10 / 100 in 3.9s: loss 0.689383, trval_rocauc 0.894803, val_rocauc 0.805101, lr 0.000050\n"
     ]
    },
    {
     "name": "stderr",
     "output_type": "stream",
     "text": [
      "\u001b[A\n",
      " 11%|█         | 11/100 [00:41<05:35,  3.76s/it]"
     ]
    },
    {
     "name": "stdout",
     "output_type": "stream",
     "text": [
      "epoch 11 / 100 in 3.6s: loss 0.688230, trval_rocauc 0.903794, val_rocauc 0.795291, lr 0.000050\n"
     ]
    },
    {
     "name": "stderr",
     "output_type": "stream",
     "text": [
      "\u001b[A\n",
      " 12%|█▏        | 12/100 [00:45<05:30,  3.76s/it]"
     ]
    },
    {
     "name": "stdout",
     "output_type": "stream",
     "text": [
      "epoch 12 / 100 in 3.7s: loss 0.688846, trval_rocauc 0.917101, val_rocauc 0.804447, lr 0.000050\n"
     ]
    },
    {
     "name": "stderr",
     "output_type": "stream",
     "text": [
      "\u001b[A\n",
      " 13%|█▎        | 13/100 [00:48<05:24,  3.73s/it]"
     ]
    },
    {
     "name": "stdout",
     "output_type": "stream",
     "text": [
      "epoch 13 / 100 in 3.7s: loss 0.687542, trval_rocauc 0.912426, val_rocauc 0.776324, lr 0.000050\n"
     ]
    },
    {
     "name": "stderr",
     "output_type": "stream",
     "text": [
      "\u001b[A\n",
      " 14%|█▍        | 14/100 [00:52<05:25,  3.78s/it]"
     ]
    },
    {
     "name": "stdout",
     "output_type": "stream",
     "text": [
      "epoch 14 / 100 in 3.9s: loss 0.689842, trval_rocauc 0.913325, val_rocauc 0.786789, lr 0.000050\n"
     ]
    },
    {
     "name": "stderr",
     "output_type": "stream",
     "text": [
      "\u001b[A\n",
      " 15%|█▌        | 15/100 [00:56<05:17,  3.74s/it]"
     ]
    },
    {
     "name": "stdout",
     "output_type": "stream",
     "text": [
      "epoch 15 / 100 in 3.6s: loss 0.688372, trval_rocauc 0.918720, val_rocauc 0.808371, lr 0.000050\n"
     ]
    },
    {
     "name": "stderr",
     "output_type": "stream",
     "text": [
      "\u001b[A\n",
      " 16%|█▌        | 16/100 [01:00<05:18,  3.79s/it]"
     ]
    },
    {
     "name": "stdout",
     "output_type": "stream",
     "text": [
      "epoch 16 / 100 in 3.9s: loss 0.687294, trval_rocauc 0.934904, val_rocauc 0.820798, lr 0.000050\n"
     ]
    },
    {
     "name": "stderr",
     "output_type": "stream",
     "text": [
      "\u001b[A\n",
      " 17%|█▋        | 17/100 [01:03<05:09,  3.73s/it]"
     ]
    },
    {
     "name": "stdout",
     "output_type": "stream",
     "text": [
      "epoch 17 / 100 in 3.6s: loss 0.687582, trval_rocauc 0.947851, val_rocauc 0.836494, lr 0.000050\n"
     ]
    },
    {
     "name": "stderr",
     "output_type": "stream",
     "text": [
      "\u001b[A\n",
      " 18%|█▊        | 18/100 [01:07<05:06,  3.74s/it]"
     ]
    },
    {
     "name": "stdout",
     "output_type": "stream",
     "text": [
      "epoch 18 / 100 in 3.8s: loss 0.686103, trval_rocauc 0.957741, val_rocauc 0.835840, lr 0.000050\n"
     ]
    },
    {
     "name": "stderr",
     "output_type": "stream",
     "text": [
      "\u001b[A\n",
      " 19%|█▉        | 19/100 [01:11<05:08,  3.80s/it]"
     ]
    },
    {
     "name": "stdout",
     "output_type": "stream",
     "text": [
      "epoch 19 / 100 in 3.9s: loss 0.683628, trval_rocauc 0.957741, val_rocauc 0.801177, lr 0.000050\n"
     ]
    },
    {
     "name": "stderr",
     "output_type": "stream",
     "text": [
      "\u001b[A\n",
      " 20%|██        | 20/100 [01:15<05:14,  3.93s/it]"
     ]
    },
    {
     "name": "stdout",
     "output_type": "stream",
     "text": [
      "epoch 20 / 100 in 4.2s: loss 0.684426, trval_rocauc 0.954145, val_rocauc 0.781557, lr 0.000050\n"
     ]
    },
    {
     "name": "stderr",
     "output_type": "stream",
     "text": [
      "\u001b[A\n",
      " 21%|██        | 21/100 [01:19<05:05,  3.87s/it]"
     ]
    },
    {
     "name": "stdout",
     "output_type": "stream",
     "text": [
      "epoch 21 / 100 in 3.7s: loss 0.686754, trval_rocauc 0.962237, val_rocauc 0.812296, lr 0.000050\n"
     ]
    },
    {
     "name": "stderr",
     "output_type": "stream",
     "text": [
      "\u001b[A\n",
      " 22%|██▏       | 22/100 [01:23<04:54,  3.77s/it]"
     ]
    },
    {
     "name": "stdout",
     "output_type": "stream",
     "text": [
      "epoch 22 / 100 in 3.5s: loss 0.682885, trval_rocauc 0.969610, val_rocauc 0.790713, lr 0.000050\n"
     ]
    },
    {
     "name": "stderr",
     "output_type": "stream",
     "text": [
      "\u001b[A\n",
      " 23%|██▎       | 23/100 [01:26<04:49,  3.76s/it]"
     ]
    },
    {
     "name": "stdout",
     "output_type": "stream",
     "text": [
      "epoch 23 / 100 in 3.7s: loss 0.686587, trval_rocauc 0.970329, val_rocauc 0.790059, lr 0.000050\n"
     ]
    },
    {
     "name": "stderr",
     "output_type": "stream",
     "text": [
      "\u001b[A\n",
      " 24%|██▍       | 24/100 [01:30<04:49,  3.81s/it]"
     ]
    },
    {
     "name": "stdout",
     "output_type": "stream",
     "text": [
      "epoch 24 / 100 in 3.9s: loss 0.687627, trval_rocauc 0.971947, val_rocauc 0.784173, lr 0.000050\n"
     ]
    },
    {
     "name": "stderr",
     "output_type": "stream",
     "text": [
      "\u001b[A\n",
      " 25%|██▌       | 25/100 [01:34<04:39,  3.73s/it]"
     ]
    },
    {
     "name": "stdout",
     "output_type": "stream",
     "text": [
      "epoch 25 / 100 in 3.5s: loss 0.685583, trval_rocauc 0.967452, val_rocauc 0.792021, lr 0.000050\n"
     ]
    },
    {
     "name": "stderr",
     "output_type": "stream",
     "text": [
      "\u001b[A\n",
      " 26%|██▌       | 26/100 [01:38<04:53,  3.97s/it]"
     ]
    },
    {
     "name": "stdout",
     "output_type": "stream",
     "text": [
      "epoch 26 / 100 in 4.5s: loss 0.685138, trval_rocauc 0.969610, val_rocauc 0.805101, lr 0.000050\n"
     ]
    },
    {
     "name": "stderr",
     "output_type": "stream",
     "text": [
      "\u001b[A\n",
      " 27%|██▋       | 27/100 [01:43<04:53,  4.02s/it]"
     ]
    },
    {
     "name": "stdout",
     "output_type": "stream",
     "text": [
      "epoch 27 / 100 in 4.1s: loss 0.687493, trval_rocauc 0.973386, val_rocauc 0.784173, lr 0.000050\n"
     ]
    },
    {
     "name": "stderr",
     "output_type": "stream",
     "text": [
      "\u001b[A\n",
      " 28%|██▊       | 28/100 [01:46<04:47,  4.00s/it]"
     ]
    },
    {
     "name": "stdout",
     "output_type": "stream",
     "text": [
      "epoch 28 / 100 in 3.9s: loss 0.683620, trval_rocauc 0.974645, val_rocauc 0.745585, lr 0.000050\n"
     ]
    },
    {
     "name": "stderr",
     "output_type": "stream",
     "text": [
      "\u001b[A\n",
      " 29%|██▉       | 29/100 [01:51<04:46,  4.04s/it]"
     ]
    },
    {
     "name": "stdout",
     "output_type": "stream",
     "text": [
      "epoch 29 / 100 in 4.1s: loss 0.682279, trval_rocauc 0.978241, val_rocauc 0.786789, lr 0.000050\n"
     ]
    },
    {
     "name": "stderr",
     "output_type": "stream",
     "text": [
      "\u001b[A\n",
      " 30%|███       | 30/100 [01:55<04:55,  4.23s/it]"
     ]
    },
    {
     "name": "stdout",
     "output_type": "stream",
     "text": [
      "epoch 30 / 100 in 4.7s: loss 0.684441, trval_rocauc 0.985974, val_rocauc 0.801177, lr 0.000050\n"
     ]
    },
    {
     "name": "stderr",
     "output_type": "stream",
     "text": [
      "\u001b[A\n",
      " 31%|███       | 31/100 [01:59<04:50,  4.21s/it]"
     ]
    },
    {
     "name": "stdout",
     "output_type": "stream",
     "text": [
      "epoch 31 / 100 in 4.2s: loss 0.683651, trval_rocauc 0.983636, val_rocauc 0.829300, lr 0.000050\n"
     ]
    },
    {
     "name": "stderr",
     "output_type": "stream",
     "text": [
      "\u001b[A\n",
      " 32%|███▏      | 32/100 [02:04<04:51,  4.29s/it]"
     ]
    },
    {
     "name": "stdout",
     "output_type": "stream",
     "text": [
      "epoch 32 / 100 in 4.5s: loss 0.684997, trval_rocauc 0.985614, val_rocauc 0.858077, lr 0.000050\n"
     ]
    },
    {
     "name": "stderr",
     "output_type": "stream",
     "text": [
      "\u001b[A\n",
      " 33%|███▎      | 33/100 [02:08<04:41,  4.21s/it]"
     ]
    },
    {
     "name": "stdout",
     "output_type": "stream",
     "text": [
      "epoch 33 / 100 in 4.0s: loss 0.684043, trval_rocauc 0.985974, val_rocauc 0.824722, lr 0.000050\n"
     ]
    },
    {
     "name": "stderr",
     "output_type": "stream",
     "text": [
      "\u001b[A\n",
      " 34%|███▍      | 34/100 [02:12<04:30,  4.09s/it]"
     ]
    },
    {
     "name": "stdout",
     "output_type": "stream",
     "text": [
      "epoch 34 / 100 in 3.8s: loss 0.685844, trval_rocauc 0.990649, val_rocauc 0.819490, lr 0.000050\n"
     ]
    },
    {
     "name": "stderr",
     "output_type": "stream",
     "text": [
      "\u001b[A\n",
      " 35%|███▌      | 35/100 [02:16<04:28,  4.13s/it]"
     ]
    },
    {
     "name": "stdout",
     "output_type": "stream",
     "text": [
      "epoch 35 / 100 in 4.2s: loss 0.686275, trval_rocauc 0.989750, val_rocauc 0.837802, lr 0.000050\n"
     ]
    },
    {
     "name": "stderr",
     "output_type": "stream",
     "text": [
      "\u001b[A\n",
      " 36%|███▌      | 36/100 [02:20<04:17,  4.02s/it]"
     ]
    },
    {
     "name": "stdout",
     "output_type": "stream",
     "text": [
      "epoch 36 / 100 in 3.7s: loss 0.685139, trval_rocauc 0.986693, val_rocauc 0.810334, lr 0.000050\n"
     ]
    },
    {
     "name": "stderr",
     "output_type": "stream",
     "text": [
      "\u001b[A\n",
      " 37%|███▋      | 37/100 [02:24<04:11,  3.99s/it]"
     ]
    },
    {
     "name": "stdout",
     "output_type": "stream",
     "text": [
      "epoch 37 / 100 in 3.9s: loss 0.679529, trval_rocauc 0.985974, val_rocauc 0.791367, lr 0.000050\n"
     ]
    },
    {
     "name": "stderr",
     "output_type": "stream",
     "text": [
      "\u001b[A\n",
      " 38%|███▊      | 38/100 [02:27<04:03,  3.92s/it]"
     ]
    },
    {
     "name": "stdout",
     "output_type": "stream",
     "text": [
      "epoch 38 / 100 in 3.8s: loss 0.683749, trval_rocauc 0.989930, val_rocauc 0.801177, lr 0.000050\n"
     ]
    },
    {
     "name": "stderr",
     "output_type": "stream",
     "text": [
      "\u001b[A\n",
      " 39%|███▉      | 39/100 [02:32<04:05,  4.02s/it]"
     ]
    },
    {
     "name": "stdout",
     "output_type": "stream",
     "text": [
      "epoch 39 / 100 in 4.3s: loss 0.683803, trval_rocauc 0.991728, val_rocauc 0.797253, lr 0.000050\n"
     ]
    },
    {
     "name": "stderr",
     "output_type": "stream",
     "text": [
      "\u001b[A\n",
      " 40%|████      | 40/100 [02:35<03:55,  3.93s/it]"
     ]
    },
    {
     "name": "stdout",
     "output_type": "stream",
     "text": [
      "epoch 40 / 100 in 3.7s: loss 0.684390, trval_rocauc 0.993167, val_rocauc 0.784827, lr 0.000050\n"
     ]
    },
    {
     "name": "stderr",
     "output_type": "stream",
     "text": [
      "\u001b[A\n",
      " 41%|████      | 41/100 [02:40<03:59,  4.05s/it]"
     ]
    },
    {
     "name": "stdout",
     "output_type": "stream",
     "text": [
      "epoch 41 / 100 in 4.3s: loss 0.684636, trval_rocauc 0.993886, val_rocauc 0.781557, lr 0.000050\n"
     ]
    },
    {
     "name": "stderr",
     "output_type": "stream",
     "text": [
      "\u001b[A\n",
      " 42%|████▏     | 42/100 [02:45<04:08,  4.28s/it]"
     ]
    },
    {
     "name": "stdout",
     "output_type": "stream",
     "text": [
      "epoch 42 / 100 in 4.8s: loss 0.682470, trval_rocauc 0.991189, val_rocauc 0.763244, lr 0.000050\n"
     ]
    },
    {
     "name": "stderr",
     "output_type": "stream",
     "text": [
      "\u001b[A\n",
      " 43%|████▎     | 43/100 [02:49<04:10,  4.40s/it]"
     ]
    },
    {
     "name": "stdout",
     "output_type": "stream",
     "text": [
      "epoch 43 / 100 in 4.7s: loss 0.684882, trval_rocauc 0.992627, val_rocauc 0.792021, lr 0.000050\n"
     ]
    },
    {
     "name": "stderr",
     "output_type": "stream",
     "text": [
      "\u001b[A\n",
      " 44%|████▍     | 44/100 [02:54<04:04,  4.37s/it]"
     ]
    },
    {
     "name": "stdout",
     "output_type": "stream",
     "text": [
      "epoch 44 / 100 in 4.3s: loss 0.687884, trval_rocauc 0.992627, val_rocauc 0.804447, lr 0.000050\n"
     ]
    },
    {
     "name": "stderr",
     "output_type": "stream",
     "text": [
      "\u001b[A\n",
      " 45%|████▌     | 45/100 [02:57<03:48,  4.15s/it]"
     ]
    },
    {
     "name": "stdout",
     "output_type": "stream",
     "text": [
      "epoch 45 / 100 in 3.6s: loss 0.685328, trval_rocauc 0.989031, val_rocauc 0.837802, lr 0.000050\n"
     ]
    },
    {
     "name": "stderr",
     "output_type": "stream",
     "text": [
      "\u001b[A\n",
      " 46%|████▌     | 46/100 [03:01<03:34,  3.97s/it]"
     ]
    },
    {
     "name": "stdout",
     "output_type": "stream",
     "text": [
      "epoch 46 / 100 in 3.6s: loss 0.684169, trval_rocauc 0.987592, val_rocauc 0.832570, lr 0.000050\n"
     ]
    },
    {
     "name": "stderr",
     "output_type": "stream",
     "text": [
      "\u001b[A\n",
      " 47%|████▋     | 47/100 [03:05<03:28,  3.94s/it]"
     ]
    },
    {
     "name": "stdout",
     "output_type": "stream",
     "text": [
      "epoch 47 / 100 in 3.9s: loss 0.683484, trval_rocauc 0.993886, val_rocauc 0.796599, lr 0.000050\n"
     ]
    },
    {
     "name": "stderr",
     "output_type": "stream",
     "text": [
      "\u001b[A\n",
      " 48%|████▊     | 48/100 [03:09<03:26,  3.96s/it]"
     ]
    },
    {
     "name": "stdout",
     "output_type": "stream",
     "text": [
      "epoch 48 / 100 in 4.0s: loss 0.684000, trval_rocauc 0.993347, val_rocauc 0.797907, lr 0.000050\n"
     ]
    },
    {
     "name": "stderr",
     "output_type": "stream",
     "text": [
      "\u001b[A\n",
      " 49%|████▉     | 49/100 [03:12<03:15,  3.83s/it]"
     ]
    },
    {
     "name": "stdout",
     "output_type": "stream",
     "text": [
      "epoch 49 / 100 in 3.5s: loss 0.684009, trval_rocauc 0.991728, val_rocauc 0.763244, lr 0.000050\n"
     ]
    },
    {
     "name": "stderr",
     "output_type": "stream",
     "text": [
      "\u001b[A\n",
      " 50%|█████     | 50/100 [03:16<03:07,  3.74s/it]"
     ]
    },
    {
     "name": "stdout",
     "output_type": "stream",
     "text": [
      "epoch 50 / 100 in 3.5s: loss 0.683514, trval_rocauc 0.992627, val_rocauc 0.740353, lr 0.000050\n"
     ]
    },
    {
     "name": "stderr",
     "output_type": "stream",
     "text": [
      "\u001b[A\n",
      " 51%|█████     | 51/100 [03:19<03:04,  3.76s/it]"
     ]
    },
    {
     "name": "stdout",
     "output_type": "stream",
     "text": [
      "epoch 51 / 100 in 3.8s: loss 0.683756, trval_rocauc 0.994066, val_rocauc 0.760628, lr 0.000050\n"
     ]
    },
    {
     "name": "stderr",
     "output_type": "stream",
     "text": [
      "\u001b[A\n",
      " 52%|█████▏    | 52/100 [03:24<03:09,  3.96s/it]"
     ]
    },
    {
     "name": "stdout",
     "output_type": "stream",
     "text": [
      "epoch 52 / 100 in 4.4s: loss 0.683726, trval_rocauc 0.994246, val_rocauc 0.765860, lr 0.000050\n"
     ]
    },
    {
     "name": "stderr",
     "output_type": "stream",
     "text": [
      "\u001b[A\n",
      " 53%|█████▎    | 53/100 [03:28<03:11,  4.07s/it]"
     ]
    },
    {
     "name": "stdout",
     "output_type": "stream",
     "text": [
      "epoch 53 / 100 in 4.3s: loss 0.681443, trval_rocauc 0.991548, val_rocauc 0.773054, lr 0.000050\n"
     ]
    },
    {
     "name": "stderr",
     "output_type": "stream",
     "text": [
      "\u001b[A\n",
      " 54%|█████▍    | 54/100 [03:32<03:07,  4.07s/it]"
     ]
    },
    {
     "name": "stdout",
     "output_type": "stream",
     "text": [
      "epoch 54 / 100 in 4.1s: loss 0.685460, trval_rocauc 0.996404, val_rocauc 0.799869, lr 0.000050\n"
     ]
    },
    {
     "name": "stderr",
     "output_type": "stream",
     "text": [
      "\u001b[A\n",
      " 55%|█████▌    | 55/100 [03:37<03:10,  4.22s/it]"
     ]
    },
    {
     "name": "stdout",
     "output_type": "stream",
     "text": [
      "epoch 55 / 100 in 4.6s: loss 0.681607, trval_rocauc 0.995504, val_rocauc 0.773054, lr 0.000050\n"
     ]
    },
    {
     "name": "stderr",
     "output_type": "stream",
     "text": [
      "\u001b[A\n",
      " 56%|█████▌    | 56/100 [03:41<03:03,  4.17s/it]"
     ]
    },
    {
     "name": "stdout",
     "output_type": "stream",
     "text": [
      "epoch 56 / 100 in 4.0s: loss 0.683110, trval_rocauc 0.996763, val_rocauc 0.797253, lr 0.000050\n"
     ]
    },
    {
     "name": "stderr",
     "output_type": "stream",
     "text": [
      "\u001b[A\n",
      " 57%|█████▋    | 57/100 [03:45<02:55,  4.08s/it]"
     ]
    },
    {
     "name": "stdout",
     "output_type": "stream",
     "text": [
      "epoch 57 / 100 in 3.9s: loss 0.684701, trval_rocauc 0.998202, val_rocauc 0.822106, lr 0.000050\n"
     ]
    },
    {
     "name": "stderr",
     "output_type": "stream",
     "text": [
      "\u001b[A\n",
      " 58%|█████▊    | 58/100 [03:49<02:53,  4.14s/it]"
     ]
    },
    {
     "name": "stdout",
     "output_type": "stream",
     "text": [
      "epoch 58 / 100 in 4.3s: loss 0.682729, trval_rocauc 0.997842, val_rocauc 0.790059, lr 0.000050\n"
     ]
    },
    {
     "name": "stderr",
     "output_type": "stream",
     "text": [
      "\u001b[A\n",
      " 59%|█████▉    | 59/100 [03:54<03:01,  4.42s/it]"
     ]
    },
    {
     "name": "stdout",
     "output_type": "stream",
     "text": [
      "epoch 59 / 100 in 5.1s: loss 0.683201, trval_rocauc 0.997123, val_rocauc 0.786135, lr 0.000050\n"
     ]
    },
    {
     "name": "stderr",
     "output_type": "stream",
     "text": [
      "\u001b[A\n",
      " 60%|██████    | 60/100 [03:59<03:02,  4.56s/it]"
     ]
    },
    {
     "name": "stdout",
     "output_type": "stream",
     "text": [
      "epoch 60 / 100 in 4.9s: loss 0.682867, trval_rocauc 0.996583, val_rocauc 0.819490, lr 0.000050\n"
     ]
    },
    {
     "name": "stderr",
     "output_type": "stream",
     "text": [
      "\u001b[A\n",
      " 61%|██████    | 61/100 [04:03<02:52,  4.42s/it]"
     ]
    },
    {
     "name": "stdout",
     "output_type": "stream",
     "text": [
      "epoch 61 / 100 in 4.1s: loss 0.683531, trval_rocauc 0.998741, val_rocauc 0.807063, lr 0.000050\n"
     ]
    },
    {
     "name": "stderr",
     "output_type": "stream",
     "text": [
      "\u001b[A\n",
      " 62%|██████▏   | 62/100 [04:07<02:40,  4.22s/it]"
     ]
    },
    {
     "name": "stdout",
     "output_type": "stream",
     "text": [
      "epoch 62 / 100 in 3.8s: loss 0.679572, trval_rocauc 0.997123, val_rocauc 0.802485, lr 0.000050\n"
     ]
    },
    {
     "name": "stderr",
     "output_type": "stream",
     "text": [
      "\u001b[A\n",
      " 63%|██████▎   | 63/100 [04:10<02:29,  4.03s/it]"
     ]
    },
    {
     "name": "stdout",
     "output_type": "stream",
     "text": [
      "epoch 63 / 100 in 3.6s: loss 0.684003, trval_rocauc 0.998022, val_rocauc 0.793983, lr 0.000050\n"
     ]
    },
    {
     "name": "stderr",
     "output_type": "stream",
     "text": [
      "\u001b[A\n",
      " 64%|██████▍   | 64/100 [04:14<02:19,  3.88s/it]"
     ]
    },
    {
     "name": "stdout",
     "output_type": "stream",
     "text": [
      "epoch 64 / 100 in 3.5s: loss 0.680439, trval_rocauc 0.997123, val_rocauc 0.795291, lr 0.000050\n"
     ]
    },
    {
     "name": "stderr",
     "output_type": "stream",
     "text": [
      "\u001b[A\n",
      " 65%|██████▌   | 65/100 [04:17<02:12,  3.77s/it]"
     ]
    },
    {
     "name": "stdout",
     "output_type": "stream",
     "text": [
      "epoch 65 / 100 in 3.5s: loss 0.683575, trval_rocauc 0.996044, val_rocauc 0.776324, lr 0.000050\n"
     ]
    },
    {
     "name": "stderr",
     "output_type": "stream",
     "text": [
      "\u001b[A\n",
      " 66%|██████▌   | 66/100 [04:22<02:11,  3.88s/it]"
     ]
    },
    {
     "name": "stdout",
     "output_type": "stream",
     "text": [
      "epoch 66 / 100 in 4.1s: loss 0.680923, trval_rocauc 0.993886, val_rocauc 0.752780, lr 0.000050\n"
     ]
    },
    {
     "name": "stderr",
     "output_type": "stream",
     "text": [
      "\u001b[A\n",
      " 67%|██████▋   | 67/100 [04:26<02:08,  3.90s/it]"
     ]
    },
    {
     "name": "stdout",
     "output_type": "stream",
     "text": [
      "epoch 67 / 100 in 3.9s: loss 0.680595, trval_rocauc 0.995504, val_rocauc 0.757358, lr 0.000050\n"
     ]
    },
    {
     "name": "stderr",
     "output_type": "stream",
     "text": [
      "\u001b[A\n",
      " 68%|██████▊   | 68/100 [04:29<02:03,  3.86s/it]"
     ]
    },
    {
     "name": "stdout",
     "output_type": "stream",
     "text": [
      "epoch 68 / 100 in 3.8s: loss 0.683357, trval_rocauc 0.996044, val_rocauc 0.788751, lr 0.000050\n"
     ]
    },
    {
     "name": "stderr",
     "output_type": "stream",
     "text": [
      "\u001b[A\n",
      " 69%|██████▉   | 69/100 [04:33<02:00,  3.87s/it]"
     ]
    },
    {
     "name": "stdout",
     "output_type": "stream",
     "text": [
      "epoch 69 / 100 in 3.9s: loss 0.682903, trval_rocauc 0.997482, val_rocauc 0.791367, lr 0.000050\n"
     ]
    },
    {
     "name": "stderr",
     "output_type": "stream",
     "text": [
      "\u001b[A\n",
      " 70%|███████   | 70/100 [04:37<01:52,  3.77s/it]"
     ]
    },
    {
     "name": "stdout",
     "output_type": "stream",
     "text": [
      "epoch 70 / 100 in 3.5s: loss 0.681110, trval_rocauc 0.997482, val_rocauc 0.741661, lr 0.000050\n"
     ]
    },
    {
     "name": "stderr",
     "output_type": "stream",
     "text": [
      "\u001b[A\n",
      " 71%|███████   | 71/100 [04:40<01:47,  3.70s/it]"
     ]
    },
    {
     "name": "stdout",
     "output_type": "stream",
     "text": [
      "epoch 71 / 100 in 3.6s: loss 0.684310, trval_rocauc 0.998741, val_rocauc 0.752780, lr 0.000050\n"
     ]
    },
    {
     "name": "stderr",
     "output_type": "stream",
     "text": [
      "\u001b[A\n",
      " 72%|███████▏  | 72/100 [04:44<01:42,  3.66s/it]"
     ]
    },
    {
     "name": "stdout",
     "output_type": "stream",
     "text": [
      "epoch 72 / 100 in 3.5s: loss 0.680186, trval_rocauc 0.998741, val_rocauc 0.752126, lr 0.000050\n"
     ]
    },
    {
     "name": "stderr",
     "output_type": "stream",
     "text": [
      "\u001b[A\n",
      " 73%|███████▎  | 73/100 [04:47<01:37,  3.62s/it]"
     ]
    },
    {
     "name": "stdout",
     "output_type": "stream",
     "text": [
      "epoch 73 / 100 in 3.5s: loss 0.682581, trval_rocauc 0.998561, val_rocauc 0.780249, lr 0.000050\n"
     ]
    },
    {
     "name": "stderr",
     "output_type": "stream",
     "text": [
      "\u001b[A\n",
      " 74%|███████▍  | 74/100 [04:51<01:33,  3.59s/it]"
     ]
    },
    {
     "name": "stdout",
     "output_type": "stream",
     "text": [
      "epoch 74 / 100 in 3.5s: loss 0.682186, trval_rocauc 0.999281, val_rocauc 0.790059, lr 0.000050\n"
     ]
    },
    {
     "name": "stderr",
     "output_type": "stream",
     "text": [
      "\u001b[A\n",
      " 75%|███████▌  | 75/100 [04:55<01:33,  3.73s/it]"
     ]
    },
    {
     "name": "stdout",
     "output_type": "stream",
     "text": [
      "epoch 75 / 100 in 4.0s: loss 0.683456, trval_rocauc 0.999281, val_rocauc 0.768476, lr 0.000050\n"
     ]
    },
    {
     "name": "stderr",
     "output_type": "stream",
     "text": [
      "\u001b[A\n",
      " 76%|███████▌  | 76/100 [04:59<01:30,  3.75s/it]"
     ]
    },
    {
     "name": "stdout",
     "output_type": "stream",
     "text": [
      "epoch 76 / 100 in 3.8s: loss 0.682297, trval_rocauc 0.999101, val_rocauc 0.757358, lr 0.000050\n"
     ]
    },
    {
     "name": "stderr",
     "output_type": "stream",
     "text": [
      "\u001b[A\n",
      " 77%|███████▋  | 77/100 [05:03<01:30,  3.92s/it]"
     ]
    },
    {
     "name": "stdout",
     "output_type": "stream",
     "text": [
      "epoch 77 / 100 in 4.3s: loss 0.685265, trval_rocauc 0.998921, val_rocauc 0.781557, lr 0.000050\n"
     ]
    },
    {
     "name": "stderr",
     "output_type": "stream",
     "text": [
      "\u001b[A\n",
      " 78%|███████▊  | 78/100 [05:07<01:24,  3.85s/it]"
     ]
    },
    {
     "name": "stdout",
     "output_type": "stream",
     "text": [
      "epoch 78 / 100 in 3.7s: loss 0.682002, trval_rocauc 0.999101, val_rocauc 0.770438, lr 0.000050\n"
     ]
    },
    {
     "name": "stderr",
     "output_type": "stream",
     "text": [
      "\u001b[A\n",
      " 79%|███████▉  | 79/100 [05:10<01:19,  3.78s/it]"
     ]
    },
    {
     "name": "stdout",
     "output_type": "stream",
     "text": [
      "epoch 79 / 100 in 3.6s: loss 0.682343, trval_rocauc 0.998741, val_rocauc 0.769130, lr 0.000050\n"
     ]
    },
    {
     "name": "stderr",
     "output_type": "stream",
     "text": [
      "\u001b[A\n",
      " 80%|████████  | 80/100 [05:14<01:14,  3.72s/it]"
     ]
    },
    {
     "name": "stdout",
     "output_type": "stream",
     "text": [
      "epoch 80 / 100 in 3.6s: loss 0.680829, trval_rocauc 0.999281, val_rocauc 0.795291, lr 0.000050\n"
     ]
    },
    {
     "name": "stderr",
     "output_type": "stream",
     "text": [
      "\u001b[A\n",
      " 81%|████████  | 81/100 [05:18<01:11,  3.78s/it]"
     ]
    },
    {
     "name": "stdout",
     "output_type": "stream",
     "text": [
      "epoch 81 / 100 in 3.9s: loss 0.685601, trval_rocauc 0.999101, val_rocauc 0.778286, lr 0.000050\n"
     ]
    },
    {
     "name": "stderr",
     "output_type": "stream",
     "text": [
      "\u001b[A\n",
      " 82%|████████▏ | 82/100 [05:22<01:08,  3.79s/it]"
     ]
    },
    {
     "name": "stdout",
     "output_type": "stream",
     "text": [
      "epoch 82 / 100 in 3.8s: loss 0.684501, trval_rocauc 0.998561, val_rocauc 0.789405, lr 0.000050\n"
     ]
    },
    {
     "name": "stderr",
     "output_type": "stream",
     "text": [
      "\u001b[A\n",
      " 83%|████████▎ | 83/100 [05:25<01:03,  3.71s/it]"
     ]
    },
    {
     "name": "stdout",
     "output_type": "stream",
     "text": [
      "epoch 83 / 100 in 3.5s: loss 0.678963, trval_rocauc 0.998382, val_rocauc 0.761282, lr 0.000050\n"
     ]
    },
    {
     "name": "stderr",
     "output_type": "stream",
     "text": [
      "\u001b[A\n",
      " 84%|████████▍ | 84/100 [05:29<01:01,  3.84s/it]"
     ]
    },
    {
     "name": "stdout",
     "output_type": "stream",
     "text": [
      "epoch 84 / 100 in 4.1s: loss 0.681527, trval_rocauc 0.998921, val_rocauc 0.769130, lr 0.000050\n"
     ]
    },
    {
     "name": "stderr",
     "output_type": "stream",
     "text": [
      "\u001b[A\n",
      " 85%|████████▌ | 85/100 [05:33<00:56,  3.74s/it]"
     ]
    },
    {
     "name": "stdout",
     "output_type": "stream",
     "text": [
      "epoch 85 / 100 in 3.5s: loss 0.680375, trval_rocauc 0.998741, val_rocauc 0.776978, lr 0.000050\n"
     ]
    },
    {
     "name": "stderr",
     "output_type": "stream",
     "text": [
      "\u001b[A\n",
      " 86%|████████▌ | 86/100 [05:37<00:53,  3.81s/it]"
     ]
    },
    {
     "name": "stdout",
     "output_type": "stream",
     "text": [
      "epoch 86 / 100 in 4.0s: loss 0.682611, trval_rocauc 0.999281, val_rocauc 0.788751, lr 0.000050\n"
     ]
    },
    {
     "name": "stderr",
     "output_type": "stream",
     "text": [
      "\u001b[A\n",
      " 87%|████████▋ | 87/100 [05:41<00:49,  3.82s/it]"
     ]
    },
    {
     "name": "stdout",
     "output_type": "stream",
     "text": [
      "epoch 87 / 100 in 3.8s: loss 0.682165, trval_rocauc 0.999101, val_rocauc 0.764552, lr 0.000050\n"
     ]
    },
    {
     "name": "stderr",
     "output_type": "stream",
     "text": [
      "\u001b[A\n",
      " 88%|████████▊ | 88/100 [05:44<00:44,  3.74s/it]"
     ]
    },
    {
     "name": "stdout",
     "output_type": "stream",
     "text": [
      "epoch 88 / 100 in 3.5s: loss 0.681583, trval_rocauc 0.999281, val_rocauc 0.752126, lr 0.000050\n"
     ]
    },
    {
     "name": "stderr",
     "output_type": "stream",
     "text": [
      "\u001b[A\n",
      " 89%|████████▉ | 89/100 [05:48<00:42,  3.87s/it]"
     ]
    },
    {
     "name": "stdout",
     "output_type": "stream",
     "text": [
      "epoch 89 / 100 in 4.2s: loss 0.680727, trval_rocauc 0.999461, val_rocauc 0.760628, lr 0.000050\n"
     ]
    },
    {
     "name": "stderr",
     "output_type": "stream",
     "text": [
      "\u001b[A\n",
      " 90%|█████████ | 90/100 [05:52<00:38,  3.83s/it]"
     ]
    },
    {
     "name": "stdout",
     "output_type": "stream",
     "text": [
      "epoch 90 / 100 in 3.8s: loss 0.682253, trval_rocauc 0.999820, val_rocauc 0.748201, lr 0.000050\n"
     ]
    },
    {
     "name": "stderr",
     "output_type": "stream",
     "text": [
      "\u001b[A\n",
      " 91%|█████████ | 91/100 [05:56<00:34,  3.83s/it]"
     ]
    },
    {
     "name": "stdout",
     "output_type": "stream",
     "text": [
      "epoch 91 / 100 in 3.8s: loss 0.680880, trval_rocauc 0.999640, val_rocauc 0.723349, lr 0.000050\n"
     ]
    },
    {
     "name": "stderr",
     "output_type": "stream",
     "text": [
      "\u001b[A\n",
      " 92%|█████████▏| 92/100 [06:00<00:31,  3.88s/it]"
     ]
    },
    {
     "name": "stdout",
     "output_type": "stream",
     "text": [
      "epoch 92 / 100 in 4.0s: loss 0.682115, trval_rocauc 0.999820, val_rocauc 0.725965, lr 0.000050\n"
     ]
    },
    {
     "name": "stderr",
     "output_type": "stream",
     "text": [
      "\u001b[A\n",
      " 93%|█████████▎| 93/100 [06:04<00:26,  3.78s/it]"
     ]
    },
    {
     "name": "stdout",
     "output_type": "stream",
     "text": [
      "epoch 93 / 100 in 3.6s: loss 0.681898, trval_rocauc 0.999461, val_rocauc 0.700458, lr 0.000050\n"
     ]
    },
    {
     "name": "stderr",
     "output_type": "stream",
     "text": [
      "\u001b[A\n",
      " 94%|█████████▍| 94/100 [06:07<00:22,  3.82s/it]"
     ]
    },
    {
     "name": "stdout",
     "output_type": "stream",
     "text": [
      "epoch 94 / 100 in 3.9s: loss 0.683022, trval_rocauc 0.999640, val_rocauc 0.716154, lr 0.000050\n"
     ]
    },
    {
     "name": "stderr",
     "output_type": "stream",
     "text": [
      "\u001b[A\n",
      " 95%|█████████▌| 95/100 [06:13<00:21,  4.22s/it]"
     ]
    },
    {
     "name": "stdout",
     "output_type": "stream",
     "text": [
      "epoch 95 / 100 in 5.2s: loss 0.678371, trval_rocauc 0.999640, val_rocauc 0.713538, lr 0.000050\n"
     ]
    },
    {
     "name": "stderr",
     "output_type": "stream",
     "text": [
      "\u001b[A\n",
      " 96%|█████████▌| 96/100 [06:17<00:16,  4.13s/it]"
     ]
    },
    {
     "name": "stdout",
     "output_type": "stream",
     "text": [
      "epoch 96 / 100 in 3.9s: loss 0.679929, trval_rocauc 0.999281, val_rocauc 0.718116, lr 0.000050\n"
     ]
    },
    {
     "name": "stderr",
     "output_type": "stream",
     "text": [
      "\u001b[A\n",
      " 97%|█████████▋| 97/100 [06:20<00:12,  4.00s/it]"
     ]
    },
    {
     "name": "stdout",
     "output_type": "stream",
     "text": [
      "epoch 97 / 100 in 3.7s: loss 0.684928, trval_rocauc 0.999461, val_rocauc 0.710922, lr 0.000050\n"
     ]
    },
    {
     "name": "stderr",
     "output_type": "stream",
     "text": [
      "\u001b[A\n",
      " 98%|█████████▊| 98/100 [06:24<00:07,  3.93s/it]"
     ]
    },
    {
     "name": "stdout",
     "output_type": "stream",
     "text": [
      "epoch 98 / 100 in 3.8s: loss 0.680158, trval_rocauc 0.999461, val_rocauc 0.708960, lr 0.000050\n"
     ]
    },
    {
     "name": "stderr",
     "output_type": "stream",
     "text": [
      "\u001b[A\n",
      " 99%|█████████▉| 99/100 [06:28<00:03,  3.89s/it]"
     ]
    },
    {
     "name": "stdout",
     "output_type": "stream",
     "text": [
      "epoch 99 / 100 in 3.8s: loss 0.679976, trval_rocauc 0.997303, val_rocauc 0.669719, lr 0.000050\n"
     ]
    },
    {
     "name": "stderr",
     "output_type": "stream",
     "text": [
      "\u001b[A\n",
      "100%|██████████| 100/100 [06:31<00:00,  3.80s/it]\u001b[A\n",
      "  8%|▊         | 1/12 [06:34<1:12:19, 394.51s/it]"
     ]
    },
    {
     "name": "stdout",
     "output_type": "stream",
     "text": [
      "epoch 100 / 100 in 3.6s: loss 0.681035, trval_rocauc 0.998741, val_rocauc 0.695226, lr 0.000050\n"
     ]
    },
    {
     "name": "stderr",
     "output_type": "stream",
     "text": [
      "\n",
      "  0%|          | 0/100 [00:00<?, ?it/s]\u001b[A\n",
      "  1%|          | 1/100 [00:03<05:49,  3.53s/it]"
     ]
    },
    {
     "name": "stdout",
     "output_type": "stream",
     "text": [
      "epoch 1 / 100 in 3.5s: loss 0.697178, trval_rocauc 0.688672, val_rocauc 0.618253, lr 0.000050\n"
     ]
    },
    {
     "name": "stderr",
     "output_type": "stream",
     "text": [
      "\u001b[A\n",
      "  2%|▏         | 2/100 [00:07<05:46,  3.54s/it]"
     ]
    },
    {
     "name": "stdout",
     "output_type": "stream",
     "text": [
      "epoch 2 / 100 in 3.6s: loss 0.696109, trval_rocauc 0.743687, val_rocauc 0.626776, lr 0.000050\n"
     ]
    },
    {
     "name": "stderr",
     "output_type": "stream",
     "text": [
      "\u001b[A\n",
      "  3%|▎         | 3/100 [00:11<06:21,  3.94s/it]"
     ]
    },
    {
     "name": "stdout",
     "output_type": "stream",
     "text": [
      "epoch 3 / 100 in 4.9s: loss 0.695963, trval_rocauc 0.761183, val_rocauc 0.597656, lr 0.000050\n"
     ]
    },
    {
     "name": "stderr",
     "output_type": "stream",
     "text": [
      "\u001b[A\n",
      "  4%|▍         | 4/100 [00:16<06:39,  4.16s/it]"
     ]
    },
    {
     "name": "stdout",
     "output_type": "stream",
     "text": [
      "epoch 4 / 100 in 4.7s: loss 0.693767, trval_rocauc 0.781025, val_rocauc 0.592685, lr 0.000050\n"
     ]
    },
    {
     "name": "stderr",
     "output_type": "stream",
     "text": [
      "\u001b[A\n",
      "  5%|▌         | 5/100 [00:21<06:53,  4.35s/it]"
     ]
    },
    {
     "name": "stdout",
     "output_type": "stream",
     "text": [
      "epoch 5 / 100 in 4.8s: loss 0.693131, trval_rocauc 0.820346, val_rocauc 0.597301, lr 0.000050\n"
     ]
    },
    {
     "name": "stderr",
     "output_type": "stream",
     "text": [
      "\u001b[A\n",
      "  6%|▌         | 6/100 [00:26<06:58,  4.45s/it]"
     ]
    },
    {
     "name": "stdout",
     "output_type": "stream",
     "text": [
      "epoch 6 / 100 in 4.7s: loss 0.691771, trval_rocauc 0.843615, val_rocauc 0.600497, lr 0.000050\n"
     ]
    },
    {
     "name": "stderr",
     "output_type": "stream",
     "text": [
      "\u001b[A\n",
      "  7%|▋         | 7/100 [00:29<06:34,  4.24s/it]"
     ]
    },
    {
     "name": "stdout",
     "output_type": "stream",
     "text": [
      "epoch 7 / 100 in 3.7s: loss 0.690665, trval_rocauc 0.862013, val_rocauc 0.624290, lr 0.000050\n"
     ]
    },
    {
     "name": "stderr",
     "output_type": "stream",
     "text": [
      "\u001b[A\n",
      "  8%|▊         | 8/100 [00:33<06:17,  4.10s/it]"
     ]
    },
    {
     "name": "stdout",
     "output_type": "stream",
     "text": [
      "epoch 8 / 100 in 3.8s: loss 0.692391, trval_rocauc 0.850649, val_rocauc 0.611506, lr 0.000050\n"
     ]
    },
    {
     "name": "stderr",
     "output_type": "stream",
     "text": [
      "\u001b[A\n",
      "  9%|▉         | 9/100 [00:37<06:00,  3.96s/it]"
     ]
    },
    {
     "name": "stdout",
     "output_type": "stream",
     "text": [
      "epoch 9 / 100 in 3.6s: loss 0.690413, trval_rocauc 0.859307, val_rocauc 0.625000, lr 0.000050\n"
     ]
    },
    {
     "name": "stderr",
     "output_type": "stream",
     "text": [
      "\u001b[A\n",
      " 10%|█         | 10/100 [00:40<05:48,  3.87s/it]"
     ]
    },
    {
     "name": "stdout",
     "output_type": "stream",
     "text": [
      "epoch 10 / 100 in 3.7s: loss 0.691095, trval_rocauc 0.889430, val_rocauc 0.637074, lr 0.000050\n"
     ]
    },
    {
     "name": "stderr",
     "output_type": "stream",
     "text": [
      "\u001b[A\n",
      " 11%|█         | 11/100 [00:44<05:36,  3.78s/it]"
     ]
    },
    {
     "name": "stdout",
     "output_type": "stream",
     "text": [
      "epoch 11 / 100 in 3.6s: loss 0.690283, trval_rocauc 0.889250, val_rocauc 0.638849, lr 0.000050\n"
     ]
    },
    {
     "name": "stderr",
     "output_type": "stream",
     "text": [
      "\u001b[A\n",
      " 12%|█▏        | 12/100 [00:47<05:19,  3.63s/it]"
     ]
    },
    {
     "name": "stdout",
     "output_type": "stream",
     "text": [
      "epoch 12 / 100 in 3.3s: loss 0.688814, trval_rocauc 0.913961, val_rocauc 0.642756, lr 0.000050\n"
     ]
    },
    {
     "name": "stderr",
     "output_type": "stream",
     "text": [
      "\u001b[A\n",
      " 13%|█▎        | 13/100 [00:51<05:14,  3.61s/it]"
     ]
    },
    {
     "name": "stdout",
     "output_type": "stream",
     "text": [
      "epoch 13 / 100 in 3.6s: loss 0.688238, trval_rocauc 0.915404, val_rocauc 0.655895, lr 0.000050\n"
     ]
    },
    {
     "name": "stderr",
     "output_type": "stream",
     "text": [
      "\u001b[A\n",
      " 14%|█▍        | 14/100 [00:55<05:12,  3.64s/it]"
     ]
    },
    {
     "name": "stdout",
     "output_type": "stream",
     "text": [
      "epoch 14 / 100 in 3.7s: loss 0.687157, trval_rocauc 0.921898, val_rocauc 0.641335, lr 0.000050\n"
     ]
    },
    {
     "name": "stderr",
     "output_type": "stream",
     "text": [
      "\u001b[A\n",
      " 15%|█▌        | 15/100 [00:58<05:09,  3.64s/it]"
     ]
    },
    {
     "name": "stdout",
     "output_type": "stream",
     "text": [
      "epoch 15 / 100 in 3.6s: loss 0.688352, trval_rocauc 0.938853, val_rocauc 0.649503, lr 0.000050\n"
     ]
    },
    {
     "name": "stderr",
     "output_type": "stream",
     "text": [
      "\u001b[A\n",
      " 16%|█▌        | 16/100 [01:02<05:09,  3.68s/it]"
     ]
    },
    {
     "name": "stdout",
     "output_type": "stream",
     "text": [
      "epoch 16 / 100 in 3.8s: loss 0.688569, trval_rocauc 0.941378, val_rocauc 0.679332, lr 0.000050\n"
     ]
    },
    {
     "name": "stderr",
     "output_type": "stream",
     "text": [
      "\u001b[A\n",
      " 17%|█▋        | 17/100 [01:05<04:58,  3.59s/it]"
     ]
    },
    {
     "name": "stdout",
     "output_type": "stream",
     "text": [
      "epoch 17 / 100 in 3.4s: loss 0.688667, trval_rocauc 0.947872, val_rocauc 0.666193, lr 0.000050\n"
     ]
    },
    {
     "name": "stderr",
     "output_type": "stream",
     "text": [
      "\u001b[A\n",
      " 18%|█▊        | 18/100 [01:09<04:57,  3.63s/it]"
     ]
    },
    {
     "name": "stdout",
     "output_type": "stream",
     "text": [
      "epoch 18 / 100 in 3.7s: loss 0.688754, trval_rocauc 0.949675, val_rocauc 0.663352, lr 0.000050\n"
     ]
    },
    {
     "name": "stderr",
     "output_type": "stream",
     "text": [
      "\u001b[A\n",
      " 19%|█▉        | 19/100 [01:13<04:58,  3.69s/it]"
     ]
    },
    {
     "name": "stdout",
     "output_type": "stream",
     "text": [
      "epoch 19 / 100 in 3.8s: loss 0.689074, trval_rocauc 0.943903, val_rocauc 0.681463, lr 0.000050\n"
     ]
    },
    {
     "name": "stderr",
     "output_type": "stream",
     "text": [
      "\u001b[A\n",
      " 20%|██        | 20/100 [01:16<04:51,  3.65s/it]"
     ]
    },
    {
     "name": "stdout",
     "output_type": "stream",
     "text": [
      "epoch 20 / 100 in 3.6s: loss 0.687537, trval_rocauc 0.954365, val_rocauc 0.640625, lr 0.000050\n"
     ]
    },
    {
     "name": "stderr",
     "output_type": "stream",
     "text": [
      "\u001b[A\n",
      " 21%|██        | 21/100 [01:20<04:44,  3.60s/it]"
     ]
    },
    {
     "name": "stdout",
     "output_type": "stream",
     "text": [
      "epoch 21 / 100 in 3.5s: loss 0.686451, trval_rocauc 0.955267, val_rocauc 0.660156, lr 0.000050\n"
     ]
    },
    {
     "name": "stderr",
     "output_type": "stream",
     "text": [
      "\u001b[A\n",
      " 22%|██▏       | 22/100 [01:24<04:42,  3.62s/it]"
     ]
    },
    {
     "name": "stdout",
     "output_type": "stream",
     "text": [
      "epoch 22 / 100 in 3.7s: loss 0.687917, trval_rocauc 0.955087, val_rocauc 0.647727, lr 0.000050\n"
     ]
    },
    {
     "name": "stderr",
     "output_type": "stream",
     "text": [
      "\u001b[A\n",
      " 23%|██▎       | 23/100 [01:27<04:41,  3.66s/it]"
     ]
    },
    {
     "name": "stdout",
     "output_type": "stream",
     "text": [
      "epoch 23 / 100 in 3.7s: loss 0.683072, trval_rocauc 0.955087, val_rocauc 0.642756, lr 0.000050\n"
     ]
    },
    {
     "name": "stderr",
     "output_type": "stream",
     "text": [
      "\u001b[A\n",
      " 24%|██▍       | 24/100 [01:31<04:34,  3.61s/it]"
     ]
    },
    {
     "name": "stdout",
     "output_type": "stream",
     "text": [
      "epoch 24 / 100 in 3.5s: loss 0.686841, trval_rocauc 0.961941, val_rocauc 0.629972, lr 0.000050\n"
     ]
    },
    {
     "name": "stderr",
     "output_type": "stream",
     "text": [
      "\u001b[A\n",
      " 25%|██▌       | 25/100 [01:35<04:32,  3.64s/it]"
     ]
    },
    {
     "name": "stdout",
     "output_type": "stream",
     "text": [
      "epoch 25 / 100 in 3.7s: loss 0.685991, trval_rocauc 0.960317, val_rocauc 0.629261, lr 0.000050\n"
     ]
    },
    {
     "name": "stderr",
     "output_type": "stream",
     "text": [
      "\u001b[A\n",
      " 26%|██▌       | 26/100 [01:38<04:31,  3.67s/it]"
     ]
    },
    {
     "name": "stdout",
     "output_type": "stream",
     "text": [
      "epoch 26 / 100 in 3.7s: loss 0.685493, trval_rocauc 0.965188, val_rocauc 0.617543, lr 0.000050\n"
     ]
    },
    {
     "name": "stderr",
     "output_type": "stream",
     "text": [
      "\u001b[A\n",
      " 27%|██▋       | 27/100 [01:42<04:23,  3.62s/it]"
     ]
    },
    {
     "name": "stdout",
     "output_type": "stream",
     "text": [
      "epoch 27 / 100 in 3.5s: loss 0.682861, trval_rocauc 0.961760, val_rocauc 0.624290, lr 0.000050\n"
     ]
    },
    {
     "name": "stderr",
     "output_type": "stream",
     "text": [
      "\u001b[A\n",
      " 28%|██▊       | 28/100 [01:45<04:20,  3.62s/it]"
     ]
    },
    {
     "name": "stdout",
     "output_type": "stream",
     "text": [
      "epoch 28 / 100 in 3.6s: loss 0.687458, trval_rocauc 0.968434, val_rocauc 0.647372, lr 0.000050\n"
     ]
    },
    {
     "name": "stderr",
     "output_type": "stream",
     "text": [
      "\u001b[A\n",
      " 29%|██▉       | 29/100 [01:49<04:18,  3.64s/it]"
     ]
    },
    {
     "name": "stdout",
     "output_type": "stream",
     "text": [
      "epoch 29 / 100 in 3.7s: loss 0.684136, trval_rocauc 0.971140, val_rocauc 0.655895, lr 0.000050\n"
     ]
    },
    {
     "name": "stderr",
     "output_type": "stream",
     "text": [
      "\u001b[A\n",
      " 30%|███       | 30/100 [01:54<04:47,  4.11s/it]"
     ]
    },
    {
     "name": "stdout",
     "output_type": "stream",
     "text": [
      "epoch 30 / 100 in 5.2s: loss 0.687070, trval_rocauc 0.972583, val_rocauc 0.678267, lr 0.000050\n"
     ]
    },
    {
     "name": "stderr",
     "output_type": "stream",
     "text": [
      "\u001b[A\n",
      " 31%|███       | 31/100 [01:58<04:42,  4.09s/it]"
     ]
    },
    {
     "name": "stdout",
     "output_type": "stream",
     "text": [
      "epoch 31 / 100 in 4.0s: loss 0.688111, trval_rocauc 0.978716, val_rocauc 0.659446, lr 0.000050\n"
     ]
    },
    {
     "name": "stderr",
     "output_type": "stream",
     "text": [
      "\u001b[A\n",
      " 32%|███▏      | 32/100 [02:02<04:25,  3.90s/it]"
     ]
    },
    {
     "name": "stdout",
     "output_type": "stream",
     "text": [
      "epoch 32 / 100 in 3.5s: loss 0.685000, trval_rocauc 0.973846, val_rocauc 0.634588, lr 0.000050\n"
     ]
    },
    {
     "name": "stderr",
     "output_type": "stream",
     "text": [
      "\u001b[A\n",
      " 33%|███▎      | 33/100 [02:05<04:13,  3.79s/it]"
     ]
    },
    {
     "name": "stdout",
     "output_type": "stream",
     "text": [
      "epoch 33 / 100 in 3.5s: loss 0.679545, trval_rocauc 0.973846, val_rocauc 0.647372, lr 0.000050\n"
     ]
    },
    {
     "name": "stderr",
     "output_type": "stream",
     "text": [
      "\u001b[A\n",
      " 34%|███▍      | 34/100 [02:09<04:04,  3.70s/it]"
     ]
    },
    {
     "name": "stdout",
     "output_type": "stream",
     "text": [
      "epoch 34 / 100 in 3.5s: loss 0.684288, trval_rocauc 0.977994, val_rocauc 0.636009, lr 0.000050\n"
     ]
    },
    {
     "name": "stderr",
     "output_type": "stream",
     "text": [
      "\u001b[A\n",
      " 35%|███▌      | 35/100 [02:13<04:00,  3.69s/it]"
     ]
    },
    {
     "name": "stdout",
     "output_type": "stream",
     "text": [
      "epoch 35 / 100 in 3.7s: loss 0.684487, trval_rocauc 0.979618, val_rocauc 0.638494, lr 0.000050\n"
     ]
    },
    {
     "name": "stderr",
     "output_type": "stream",
     "text": [
      "\u001b[A\n",
      " 36%|███▌      | 36/100 [02:16<03:53,  3.64s/it]"
     ]
    },
    {
     "name": "stdout",
     "output_type": "stream",
     "text": [
      "epoch 36 / 100 in 3.5s: loss 0.683788, trval_rocauc 0.979618, val_rocauc 0.636719, lr 0.000050\n"
     ]
    },
    {
     "name": "stderr",
     "output_type": "stream",
     "text": [
      "\u001b[A\n",
      " 37%|███▋      | 37/100 [02:20<03:49,  3.65s/it]"
     ]
    },
    {
     "name": "stdout",
     "output_type": "stream",
     "text": [
      "epoch 37 / 100 in 3.7s: loss 0.685489, trval_rocauc 0.981061, val_rocauc 0.636719, lr 0.000050\n"
     ]
    },
    {
     "name": "stderr",
     "output_type": "stream",
     "text": [
      "\u001b[A\n",
      " 38%|███▊      | 38/100 [02:23<03:43,  3.60s/it]"
     ]
    },
    {
     "name": "stdout",
     "output_type": "stream",
     "text": [
      "epoch 38 / 100 in 3.5s: loss 0.686194, trval_rocauc 0.979798, val_rocauc 0.659446, lr 0.000050\n"
     ]
    },
    {
     "name": "stderr",
     "output_type": "stream",
     "text": [
      "\u001b[A\n",
      " 39%|███▉      | 39/100 [02:27<03:41,  3.64s/it]"
     ]
    },
    {
     "name": "stdout",
     "output_type": "stream",
     "text": [
      "epoch 39 / 100 in 3.7s: loss 0.682396, trval_rocauc 0.981061, val_rocauc 0.644886, lr 0.000050\n"
     ]
    },
    {
     "name": "stderr",
     "output_type": "stream",
     "text": [
      "\u001b[A\n",
      " 40%|████      | 40/100 [02:30<03:32,  3.55s/it]"
     ]
    },
    {
     "name": "stdout",
     "output_type": "stream",
     "text": [
      "epoch 40 / 100 in 3.3s: loss 0.686153, trval_rocauc 0.984307, val_rocauc 0.638494, lr 0.000050\n"
     ]
    },
    {
     "name": "stderr",
     "output_type": "stream",
     "text": [
      "\u001b[A\n",
      " 41%|████      | 41/100 [02:34<03:24,  3.47s/it]"
     ]
    },
    {
     "name": "stdout",
     "output_type": "stream",
     "text": [
      "epoch 41 / 100 in 3.3s: loss 0.683244, trval_rocauc 0.986472, val_rocauc 0.645952, lr 0.000050\n"
     ]
    },
    {
     "name": "stderr",
     "output_type": "stream",
     "text": [
      "\u001b[A\n",
      " 42%|████▏     | 42/100 [02:37<03:18,  3.41s/it]"
     ]
    },
    {
     "name": "stdout",
     "output_type": "stream",
     "text": [
      "epoch 42 / 100 in 3.3s: loss 0.683216, trval_rocauc 0.986472, val_rocauc 0.644531, lr 0.000050\n"
     ]
    },
    {
     "name": "stderr",
     "output_type": "stream",
     "text": [
      "\u001b[A\n",
      " 43%|████▎     | 43/100 [02:40<03:12,  3.37s/it]"
     ]
    },
    {
     "name": "stdout",
     "output_type": "stream",
     "text": [
      "epoch 43 / 100 in 3.3s: loss 0.686357, trval_rocauc 0.987734, val_rocauc 0.636719, lr 0.000050\n"
     ]
    },
    {
     "name": "stderr",
     "output_type": "stream",
     "text": [
      "\u001b[A\n",
      " 44%|████▍     | 44/100 [02:44<03:11,  3.41s/it]"
     ]
    },
    {
     "name": "stdout",
     "output_type": "stream",
     "text": [
      "epoch 44 / 100 in 3.5s: loss 0.686088, trval_rocauc 0.989538, val_rocauc 0.637429, lr 0.000050\n"
     ]
    },
    {
     "name": "stderr",
     "output_type": "stream",
     "text": [
      "\u001b[A\n",
      " 45%|████▌     | 45/100 [02:48<03:20,  3.64s/it]"
     ]
    },
    {
     "name": "stdout",
     "output_type": "stream",
     "text": [
      "epoch 45 / 100 in 4.2s: loss 0.682494, trval_rocauc 0.981962, val_rocauc 0.622159, lr 0.000050\n"
     ]
    },
    {
     "name": "stderr",
     "output_type": "stream",
     "text": [
      "\u001b[A\n",
      " 46%|████▌     | 46/100 [02:51<03:17,  3.66s/it]"
     ]
    },
    {
     "name": "stdout",
     "output_type": "stream",
     "text": [
      "epoch 46 / 100 in 3.7s: loss 0.681264, trval_rocauc 0.987915, val_rocauc 0.626065, lr 0.000050\n"
     ]
    },
    {
     "name": "stderr",
     "output_type": "stream",
     "text": [
      "\u001b[A\n",
      " 47%|████▋     | 47/100 [02:55<03:10,  3.60s/it]"
     ]
    },
    {
     "name": "stdout",
     "output_type": "stream",
     "text": [
      "epoch 47 / 100 in 3.5s: loss 0.683568, trval_rocauc 0.985750, val_rocauc 0.618608, lr 0.000050\n"
     ]
    },
    {
     "name": "stderr",
     "output_type": "stream",
     "text": [
      "\u001b[A\n",
      " 48%|████▊     | 48/100 [02:59<03:08,  3.62s/it]"
     ]
    },
    {
     "name": "stdout",
     "output_type": "stream",
     "text": [
      "epoch 48 / 100 in 3.7s: loss 0.686717, trval_rocauc 0.985931, val_rocauc 0.625710, lr 0.000050\n"
     ]
    },
    {
     "name": "stderr",
     "output_type": "stream",
     "text": [
      "\u001b[A\n",
      " 49%|████▉     | 49/100 [03:02<03:01,  3.56s/it]"
     ]
    },
    {
     "name": "stdout",
     "output_type": "stream",
     "text": [
      "epoch 49 / 100 in 3.4s: loss 0.682384, trval_rocauc 0.988095, val_rocauc 0.642756, lr 0.000050\n"
     ]
    },
    {
     "name": "stderr",
     "output_type": "stream",
     "text": [
      "\u001b[A\n",
      " 50%|█████     | 50/100 [03:06<03:01,  3.63s/it]"
     ]
    },
    {
     "name": "stdout",
     "output_type": "stream",
     "text": [
      "epoch 50 / 100 in 3.8s: loss 0.683949, trval_rocauc 0.991162, val_rocauc 0.641690, lr 0.000050\n"
     ]
    },
    {
     "name": "stderr",
     "output_type": "stream",
     "text": [
      "\u001b[A\n",
      " 51%|█████     | 51/100 [03:09<02:58,  3.64s/it]"
     ]
    },
    {
     "name": "stdout",
     "output_type": "stream",
     "text": [
      "epoch 51 / 100 in 3.7s: loss 0.685670, trval_rocauc 0.990981, val_rocauc 0.632102, lr 0.000050\n"
     ]
    },
    {
     "name": "stderr",
     "output_type": "stream",
     "text": [
      "\u001b[A\n",
      " 52%|█████▏    | 52/100 [03:13<02:53,  3.62s/it]"
     ]
    },
    {
     "name": "stdout",
     "output_type": "stream",
     "text": [
      "epoch 52 / 100 in 3.6s: loss 0.683285, trval_rocauc 0.992785, val_rocauc 0.627131, lr 0.000050\n"
     ]
    },
    {
     "name": "stderr",
     "output_type": "stream",
     "text": [
      "\u001b[A\n",
      " 53%|█████▎    | 53/100 [03:16<02:46,  3.55s/it]"
     ]
    },
    {
     "name": "stdout",
     "output_type": "stream",
     "text": [
      "epoch 53 / 100 in 3.4s: loss 0.683342, trval_rocauc 0.992605, val_rocauc 0.628551, lr 0.000050\n"
     ]
    },
    {
     "name": "stderr",
     "output_type": "stream",
     "text": [
      "\u001b[A\n",
      " 54%|█████▍    | 54/100 [03:20<02:48,  3.66s/it]"
     ]
    },
    {
     "name": "stdout",
     "output_type": "stream",
     "text": [
      "epoch 54 / 100 in 3.9s: loss 0.681699, trval_rocauc 0.992063, val_rocauc 0.635653, lr 0.000050\n"
     ]
    },
    {
     "name": "stderr",
     "output_type": "stream",
     "text": [
      "\u001b[A\n",
      " 55%|█████▌    | 55/100 [03:24<02:44,  3.65s/it]"
     ]
    },
    {
     "name": "stdout",
     "output_type": "stream",
     "text": [
      "epoch 55 / 100 in 3.6s: loss 0.685415, trval_rocauc 0.992063, val_rocauc 0.641335, lr 0.000050\n"
     ]
    },
    {
     "name": "stderr",
     "output_type": "stream",
     "text": [
      "\u001b[A\n",
      " 56%|█████▌    | 56/100 [03:28<02:39,  3.62s/it]"
     ]
    },
    {
     "name": "stdout",
     "output_type": "stream",
     "text": [
      "epoch 56 / 100 in 3.6s: loss 0.683153, trval_rocauc 0.992424, val_rocauc 0.637429, lr 0.000050\n"
     ]
    },
    {
     "name": "stderr",
     "output_type": "stream",
     "text": [
      "\u001b[A\n",
      " 57%|█████▋    | 57/100 [03:32<02:48,  3.92s/it]"
     ]
    },
    {
     "name": "stdout",
     "output_type": "stream",
     "text": [
      "epoch 57 / 100 in 4.6s: loss 0.684154, trval_rocauc 0.993867, val_rocauc 0.644531, lr 0.000050\n"
     ]
    },
    {
     "name": "stderr",
     "output_type": "stream",
     "text": [
      "\u001b[A\n",
      " 58%|█████▊    | 58/100 [03:36<02:46,  3.95s/it]"
     ]
    },
    {
     "name": "stdout",
     "output_type": "stream",
     "text": [
      "epoch 58 / 100 in 4.0s: loss 0.683358, trval_rocauc 0.994769, val_rocauc 0.642045, lr 0.000050\n"
     ]
    },
    {
     "name": "stderr",
     "output_type": "stream",
     "text": [
      "\u001b[A\n",
      " 59%|█████▉    | 59/100 [03:40<02:39,  3.88s/it]"
     ]
    },
    {
     "name": "stdout",
     "output_type": "stream",
     "text": [
      "epoch 59 / 100 in 3.7s: loss 0.685689, trval_rocauc 0.994949, val_rocauc 0.642401, lr 0.000050\n"
     ]
    },
    {
     "name": "stderr",
     "output_type": "stream",
     "text": [
      "\u001b[A\n",
      " 60%|██████    | 60/100 [03:43<02:28,  3.72s/it]"
     ]
    },
    {
     "name": "stdout",
     "output_type": "stream",
     "text": [
      "epoch 60 / 100 in 3.3s: loss 0.684342, trval_rocauc 0.995130, val_rocauc 0.639915, lr 0.000050\n"
     ]
    },
    {
     "name": "stderr",
     "output_type": "stream",
     "text": [
      "\u001b[A\n",
      " 61%|██████    | 61/100 [03:47<02:20,  3.59s/it]"
     ]
    },
    {
     "name": "stdout",
     "output_type": "stream",
     "text": [
      "epoch 61 / 100 in 3.3s: loss 0.681970, trval_rocauc 0.996212, val_rocauc 0.639915, lr 0.000050\n"
     ]
    },
    {
     "name": "stderr",
     "output_type": "stream",
     "text": [
      "\u001b[A\n",
      " 62%|██████▏   | 62/100 [03:51<02:23,  3.77s/it]"
     ]
    },
    {
     "name": "stdout",
     "output_type": "stream",
     "text": [
      "epoch 62 / 100 in 4.2s: loss 0.681346, trval_rocauc 0.997294, val_rocauc 0.631037, lr 0.000050\n"
     ]
    },
    {
     "name": "stderr",
     "output_type": "stream",
     "text": [
      "\u001b[A\n",
      " 63%|██████▎   | 63/100 [03:56<02:34,  4.17s/it]"
     ]
    },
    {
     "name": "stdout",
     "output_type": "stream",
     "text": [
      "epoch 63 / 100 in 5.1s: loss 0.681875, trval_rocauc 0.995671, val_rocauc 0.614347, lr 0.000050\n"
     ]
    },
    {
     "name": "stderr",
     "output_type": "stream",
     "text": [
      "\u001b[A\n",
      " 64%|██████▍   | 64/100 [04:00<02:35,  4.31s/it]"
     ]
    },
    {
     "name": "stdout",
     "output_type": "stream",
     "text": [
      "epoch 64 / 100 in 4.6s: loss 0.684678, trval_rocauc 0.996032, val_rocauc 0.621804, lr 0.000050\n"
     ]
    },
    {
     "name": "stderr",
     "output_type": "stream",
     "text": [
      "\u001b[A\n",
      " 65%|██████▌   | 65/100 [04:05<02:32,  4.36s/it]"
     ]
    },
    {
     "name": "stdout",
     "output_type": "stream",
     "text": [
      "epoch 65 / 100 in 4.5s: loss 0.683124, trval_rocauc 0.996212, val_rocauc 0.622869, lr 0.000050\n"
     ]
    },
    {
     "name": "stderr",
     "output_type": "stream",
     "text": [
      "\u001b[A\n",
      " 66%|██████▌   | 66/100 [04:10<02:35,  4.56s/it]"
     ]
    },
    {
     "name": "stdout",
     "output_type": "stream",
     "text": [
      "epoch 66 / 100 in 5.0s: loss 0.684189, trval_rocauc 0.996753, val_rocauc 0.621449, lr 0.000050\n"
     ]
    },
    {
     "name": "stderr",
     "output_type": "stream",
     "text": [
      "\u001b[A\n",
      " 67%|██████▋   | 67/100 [04:14<02:26,  4.45s/it]"
     ]
    },
    {
     "name": "stdout",
     "output_type": "stream",
     "text": [
      "epoch 67 / 100 in 4.2s: loss 0.682398, trval_rocauc 0.996032, val_rocauc 0.629972, lr 0.000050\n"
     ]
    },
    {
     "name": "stderr",
     "output_type": "stream",
     "text": [
      "\u001b[A\n",
      " 68%|██████▊   | 68/100 [04:18<02:11,  4.12s/it]"
     ]
    },
    {
     "name": "stdout",
     "output_type": "stream",
     "text": [
      "epoch 68 / 100 in 3.4s: loss 0.684913, trval_rocauc 0.995851, val_rocauc 0.639560, lr 0.000050\n"
     ]
    },
    {
     "name": "stderr",
     "output_type": "stream",
     "text": [
      "\u001b[A\n",
      " 69%|██████▉   | 69/100 [04:21<02:05,  4.04s/it]"
     ]
    },
    {
     "name": "stdout",
     "output_type": "stream",
     "text": [
      "epoch 69 / 100 in 3.9s: loss 0.680440, trval_rocauc 0.994769, val_rocauc 0.631747, lr 0.000050\n"
     ]
    },
    {
     "name": "stderr",
     "output_type": "stream",
     "text": [
      "\u001b[A\n",
      " 70%|███████   | 70/100 [04:25<01:54,  3.82s/it]"
     ]
    },
    {
     "name": "stdout",
     "output_type": "stream",
     "text": [
      "epoch 70 / 100 in 3.3s: loss 0.683179, trval_rocauc 0.996573, val_rocauc 0.647372, lr 0.000050\n"
     ]
    },
    {
     "name": "stderr",
     "output_type": "stream",
     "text": [
      "\u001b[A\n",
      " 71%|███████   | 71/100 [04:28<01:49,  3.79s/it]"
     ]
    },
    {
     "name": "stdout",
     "output_type": "stream",
     "text": [
      "epoch 71 / 100 in 3.7s: loss 0.683776, trval_rocauc 0.997114, val_rocauc 0.628906, lr 0.000050\n"
     ]
    },
    {
     "name": "stderr",
     "output_type": "stream",
     "text": [
      "\u001b[A\n",
      " 72%|███████▏  | 72/100 [04:32<01:42,  3.65s/it]"
     ]
    },
    {
     "name": "stdout",
     "output_type": "stream",
     "text": [
      "epoch 72 / 100 in 3.3s: loss 0.683099, trval_rocauc 0.998196, val_rocauc 0.629616, lr 0.000050\n"
     ]
    },
    {
     "name": "stderr",
     "output_type": "stream",
     "text": [
      "\u001b[A\n",
      " 73%|███████▎  | 73/100 [04:35<01:35,  3.54s/it]"
     ]
    },
    {
     "name": "stdout",
     "output_type": "stream",
     "text": [
      "epoch 73 / 100 in 3.3s: loss 0.682743, trval_rocauc 0.998377, val_rocauc 0.629261, lr 0.000050\n"
     ]
    },
    {
     "name": "stderr",
     "output_type": "stream",
     "text": [
      "\u001b[A\n",
      " 74%|███████▍  | 74/100 [04:38<01:29,  3.46s/it]"
     ]
    },
    {
     "name": "stdout",
     "output_type": "stream",
     "text": [
      "epoch 74 / 100 in 3.3s: loss 0.682719, trval_rocauc 0.998377, val_rocauc 0.622159, lr 0.000050\n"
     ]
    },
    {
     "name": "stderr",
     "output_type": "stream",
     "text": [
      "\u001b[A\n",
      " 75%|███████▌  | 75/100 [04:42<01:29,  3.59s/it]"
     ]
    },
    {
     "name": "stdout",
     "output_type": "stream",
     "text": [
      "epoch 75 / 100 in 3.9s: loss 0.683762, trval_rocauc 0.998918, val_rocauc 0.631392, lr 0.000050\n"
     ]
    },
    {
     "name": "stderr",
     "output_type": "stream",
     "text": [
      "\u001b[A\n",
      " 76%|███████▌  | 76/100 [04:46<01:27,  3.66s/it]"
     ]
    },
    {
     "name": "stdout",
     "output_type": "stream",
     "text": [
      "epoch 76 / 100 in 3.8s: loss 0.682934, trval_rocauc 0.998737, val_rocauc 0.631392, lr 0.000050\n"
     ]
    },
    {
     "name": "stderr",
     "output_type": "stream",
     "text": [
      "\u001b[A\n",
      " 77%|███████▋  | 77/100 [04:49<01:23,  3.61s/it]"
     ]
    },
    {
     "name": "stdout",
     "output_type": "stream",
     "text": [
      "epoch 77 / 100 in 3.5s: loss 0.680498, trval_rocauc 0.999278, val_rocauc 0.633523, lr 0.000050\n"
     ]
    },
    {
     "name": "stderr",
     "output_type": "stream",
     "text": [
      "\u001b[A\n",
      " 78%|███████▊  | 78/100 [04:53<01:18,  3.57s/it]"
     ]
    },
    {
     "name": "stdout",
     "output_type": "stream",
     "text": [
      "epoch 78 / 100 in 3.5s: loss 0.685009, trval_rocauc 0.998016, val_rocauc 0.619673, lr 0.000050\n"
     ]
    },
    {
     "name": "stderr",
     "output_type": "stream",
     "text": [
      "\u001b[A\n",
      " 79%|███████▉  | 79/100 [04:57<01:14,  3.57s/it]"
     ]
    },
    {
     "name": "stdout",
     "output_type": "stream",
     "text": [
      "epoch 79 / 100 in 3.6s: loss 0.679463, trval_rocauc 0.996392, val_rocauc 0.622869, lr 0.000050\n"
     ]
    },
    {
     "name": "stderr",
     "output_type": "stream",
     "text": [
      "\u001b[A\n",
      " 80%|████████  | 80/100 [05:00<01:09,  3.49s/it]"
     ]
    },
    {
     "name": "stdout",
     "output_type": "stream",
     "text": [
      "epoch 80 / 100 in 3.3s: loss 0.684727, trval_rocauc 0.997655, val_rocauc 0.619318, lr 0.000050\n"
     ]
    },
    {
     "name": "stderr",
     "output_type": "stream",
     "text": [
      "\u001b[A\n",
      " 81%|████████  | 81/100 [05:03<01:05,  3.42s/it]"
     ]
    },
    {
     "name": "stdout",
     "output_type": "stream",
     "text": [
      "epoch 81 / 100 in 3.3s: loss 0.680731, trval_rocauc 0.995130, val_rocauc 0.619318, lr 0.000050\n"
     ]
    },
    {
     "name": "stderr",
     "output_type": "stream",
     "text": [
      "\u001b[A\n",
      " 82%|████████▏ | 82/100 [05:06<01:00,  3.38s/it]"
     ]
    },
    {
     "name": "stdout",
     "output_type": "stream",
     "text": [
      "epoch 82 / 100 in 3.3s: loss 0.681562, trval_rocauc 0.997294, val_rocauc 0.626776, lr 0.000050\n"
     ]
    },
    {
     "name": "stderr",
     "output_type": "stream",
     "text": [
      "\u001b[A\n",
      " 83%|████████▎ | 83/100 [05:10<00:58,  3.45s/it]"
     ]
    },
    {
     "name": "stdout",
     "output_type": "stream",
     "text": [
      "epoch 83 / 100 in 3.6s: loss 0.682048, trval_rocauc 0.997114, val_rocauc 0.633168, lr 0.000050\n"
     ]
    },
    {
     "name": "stderr",
     "output_type": "stream",
     "text": [
      "\u001b[A\n",
      " 84%|████████▍ | 84/100 [05:14<00:58,  3.65s/it]"
     ]
    },
    {
     "name": "stdout",
     "output_type": "stream",
     "text": [
      "epoch 84 / 100 in 4.1s: loss 0.682846, trval_rocauc 0.998557, val_rocauc 0.616122, lr 0.000050\n"
     ]
    },
    {
     "name": "stderr",
     "output_type": "stream",
     "text": [
      "\u001b[A\n",
      " 85%|████████▌ | 85/100 [05:18<00:58,  3.87s/it]"
     ]
    },
    {
     "name": "stdout",
     "output_type": "stream",
     "text": [
      "epoch 85 / 100 in 4.4s: loss 0.678843, trval_rocauc 0.999098, val_rocauc 0.609020, lr 0.000050\n"
     ]
    },
    {
     "name": "stderr",
     "output_type": "stream",
     "text": [
      "\u001b[A\n",
      " 86%|████████▌ | 86/100 [05:22<00:54,  3.90s/it]"
     ]
    },
    {
     "name": "stdout",
     "output_type": "stream",
     "text": [
      "epoch 86 / 100 in 4.0s: loss 0.685321, trval_rocauc 0.999278, val_rocauc 0.619673, lr 0.000050\n"
     ]
    },
    {
     "name": "stderr",
     "output_type": "stream",
     "text": [
      "\u001b[A\n",
      " 87%|████████▋ | 87/100 [05:27<00:54,  4.19s/it]"
     ]
    },
    {
     "name": "stdout",
     "output_type": "stream",
     "text": [
      "epoch 87 / 100 in 4.9s: loss 0.683719, trval_rocauc 0.998918, val_rocauc 0.617543, lr 0.000050\n"
     ]
    },
    {
     "name": "stderr",
     "output_type": "stream",
     "text": [
      "\u001b[A\n",
      " 88%|████████▊ | 88/100 [05:32<00:52,  4.39s/it]"
     ]
    },
    {
     "name": "stdout",
     "output_type": "stream",
     "text": [
      "epoch 88 / 100 in 4.9s: loss 0.682235, trval_rocauc 1.000000, val_rocauc 0.618608, lr 0.000050\n"
     ]
    },
    {
     "name": "stderr",
     "output_type": "stream",
     "text": [
      "\u001b[A\n",
      " 89%|████████▉ | 89/100 [05:36<00:46,  4.26s/it]"
     ]
    },
    {
     "name": "stdout",
     "output_type": "stream",
     "text": [
      "epoch 89 / 100 in 4.0s: loss 0.680794, trval_rocauc 1.000000, val_rocauc 0.606534, lr 0.000050\n"
     ]
    },
    {
     "name": "stderr",
     "output_type": "stream",
     "text": [
      "\u001b[A\n",
      " 90%|█████████ | 90/100 [05:40<00:40,  4.05s/it]"
     ]
    },
    {
     "name": "stdout",
     "output_type": "stream",
     "text": [
      "epoch 90 / 100 in 3.6s: loss 0.676756, trval_rocauc 1.000000, val_rocauc 0.622869, lr 0.000050\n"
     ]
    },
    {
     "name": "stderr",
     "output_type": "stream",
     "text": [
      "\u001b[A\n",
      " 91%|█████████ | 91/100 [05:43<00:35,  3.90s/it]"
     ]
    },
    {
     "name": "stdout",
     "output_type": "stream",
     "text": [
      "epoch 91 / 100 in 3.5s: loss 0.681351, trval_rocauc 1.000000, val_rocauc 0.613991, lr 0.000050\n"
     ]
    },
    {
     "name": "stderr",
     "output_type": "stream",
     "text": [
      "\u001b[A\n",
      " 92%|█████████▏| 92/100 [05:47<00:29,  3.72s/it]"
     ]
    },
    {
     "name": "stdout",
     "output_type": "stream",
     "text": [
      "epoch 92 / 100 in 3.3s: loss 0.682132, trval_rocauc 1.000000, val_rocauc 0.601918, lr 0.000050\n"
     ]
    },
    {
     "name": "stderr",
     "output_type": "stream",
     "text": [
      "\u001b[A\n",
      " 93%|█████████▎| 93/100 [05:50<00:25,  3.58s/it]"
     ]
    },
    {
     "name": "stdout",
     "output_type": "stream",
     "text": [
      "epoch 93 / 100 in 3.3s: loss 0.681439, trval_rocauc 1.000000, val_rocauc 0.595526, lr 0.000050\n"
     ]
    },
    {
     "name": "stderr",
     "output_type": "stream",
     "text": [
      "\u001b[A\n",
      " 94%|█████████▍| 94/100 [05:54<00:21,  3.64s/it]"
     ]
    },
    {
     "name": "stdout",
     "output_type": "stream",
     "text": [
      "epoch 94 / 100 in 3.8s: loss 0.675777, trval_rocauc 0.999820, val_rocauc 0.608310, lr 0.000050\n"
     ]
    },
    {
     "name": "stderr",
     "output_type": "stream",
     "text": [
      "\u001b[A\n",
      " 95%|█████████▌| 95/100 [05:57<00:18,  3.66s/it]"
     ]
    },
    {
     "name": "stdout",
     "output_type": "stream",
     "text": [
      "epoch 95 / 100 in 3.7s: loss 0.684684, trval_rocauc 1.000000, val_rocauc 0.612926, lr 0.000050\n"
     ]
    },
    {
     "name": "stderr",
     "output_type": "stream",
     "text": [
      "\u001b[A\n",
      " 96%|█████████▌| 96/100 [06:02<00:15,  3.90s/it]"
     ]
    },
    {
     "name": "stdout",
     "output_type": "stream",
     "text": [
      "epoch 96 / 100 in 4.5s: loss 0.684008, trval_rocauc 1.000000, val_rocauc 0.624290, lr 0.000050\n"
     ]
    },
    {
     "name": "stderr",
     "output_type": "stream",
     "text": [
      "\u001b[A\n",
      " 97%|█████████▋| 97/100 [06:06<00:11,  3.89s/it]"
     ]
    },
    {
     "name": "stdout",
     "output_type": "stream",
     "text": [
      "epoch 97 / 100 in 3.9s: loss 0.681904, trval_rocauc 1.000000, val_rocauc 0.617898, lr 0.000050\n"
     ]
    },
    {
     "name": "stderr",
     "output_type": "stream",
     "text": [
      "\u001b[A\n",
      " 98%|█████████▊| 98/100 [06:09<00:07,  3.72s/it]"
     ]
    },
    {
     "name": "stdout",
     "output_type": "stream",
     "text": [
      "epoch 98 / 100 in 3.3s: loss 0.681674, trval_rocauc 1.000000, val_rocauc 0.616477, lr 0.000050\n"
     ]
    },
    {
     "name": "stderr",
     "output_type": "stream",
     "text": [
      "\u001b[A\n",
      " 99%|█████████▉| 99/100 [06:12<00:03,  3.59s/it]"
     ]
    },
    {
     "name": "stdout",
     "output_type": "stream",
     "text": [
      "epoch 99 / 100 in 3.3s: loss 0.681907, trval_rocauc 1.000000, val_rocauc 0.617898, lr 0.000050\n"
     ]
    },
    {
     "name": "stderr",
     "output_type": "stream",
     "text": [
      "\u001b[A\n",
      "100%|██████████| 100/100 [06:16<00:00,  3.51s/it]\u001b[A\n",
      " 17%|█▋        | 2/12 [12:52<1:04:56, 389.69s/it]"
     ]
    },
    {
     "name": "stdout",
     "output_type": "stream",
     "text": [
      "epoch 100 / 100 in 3.3s: loss 0.685082, trval_rocauc 1.000000, val_rocauc 0.612571, lr 0.000050\n"
     ]
    },
    {
     "name": "stderr",
     "output_type": "stream",
     "text": [
      "\n",
      "  0%|          | 0/100 [00:00<?, ?it/s]\u001b[A\n",
      "  1%|          | 1/100 [00:03<06:00,  3.64s/it]"
     ]
    },
    {
     "name": "stdout",
     "output_type": "stream",
     "text": [
      "epoch 1 / 100 in 3.6s: loss 0.697816, trval_rocauc 0.634389, val_rocauc 0.614801, lr 0.000050\n"
     ]
    },
    {
     "name": "stderr",
     "output_type": "stream",
     "text": [
      "\u001b[A\n",
      "  2%|▏         | 2/100 [00:07<05:52,  3.60s/it]"
     ]
    },
    {
     "name": "stdout",
     "output_type": "stream",
     "text": [
      "epoch 2 / 100 in 3.5s: loss 0.695056, trval_rocauc 0.689412, val_rocauc 0.650583, lr 0.000050\n"
     ]
    },
    {
     "name": "stderr",
     "output_type": "stream",
     "text": [
      "\u001b[A\n",
      "  3%|▎         | 3/100 [00:10<05:43,  3.54s/it]"
     ]
    },
    {
     "name": "stdout",
     "output_type": "stream",
     "text": [
      "epoch 3 / 100 in 3.4s: loss 0.693192, trval_rocauc 0.725249, val_rocauc 0.666034, lr 0.000050\n"
     ]
    },
    {
     "name": "stderr",
     "output_type": "stream",
     "text": [
      "\u001b[A\n",
      "  4%|▍         | 4/100 [00:14<05:41,  3.55s/it]"
     ]
    },
    {
     "name": "stdout",
     "output_type": "stream",
     "text": [
      "epoch 4 / 100 in 3.6s: loss 0.694086, trval_rocauc 0.767783, val_rocauc 0.659257, lr 0.000050\n"
     ]
    },
    {
     "name": "stderr",
     "output_type": "stream",
     "text": [
      "\u001b[A\n",
      "  5%|▌         | 5/100 [00:17<05:42,  3.61s/it]"
     ]
    },
    {
     "name": "stdout",
     "output_type": "stream",
     "text": [
      "epoch 5 / 100 in 3.7s: loss 0.690648, trval_rocauc 0.799095, val_rocauc 0.632150, lr 0.000050\n"
     ]
    },
    {
     "name": "stderr",
     "output_type": "stream",
     "text": [
      "\u001b[A\n",
      "  6%|▌         | 6/100 [00:21<05:41,  3.63s/it]"
     ]
    },
    {
     "name": "stdout",
     "output_type": "stream",
     "text": [
      "epoch 6 / 100 in 3.7s: loss 0.692883, trval_rocauc 0.805792, val_rocauc 0.688805, lr 0.000050\n"
     ]
    },
    {
     "name": "stderr",
     "output_type": "stream",
     "text": [
      "\u001b[A\n",
      "  7%|▋         | 7/100 [00:25<05:38,  3.63s/it]"
     ]
    },
    {
     "name": "stdout",
     "output_type": "stream",
     "text": [
      "epoch 7 / 100 in 3.6s: loss 0.691645, trval_rocauc 0.841991, val_rocauc 0.662239, lr 0.000050\n"
     ]
    },
    {
     "name": "stderr",
     "output_type": "stream",
     "text": [
      "\u001b[A\n",
      "  8%|▊         | 8/100 [00:28<05:29,  3.58s/it]"
     ]
    },
    {
     "name": "stdout",
     "output_type": "stream",
     "text": [
      "epoch 8 / 100 in 3.5s: loss 0.690567, trval_rocauc 0.867330, val_rocauc 0.703714, lr 0.000050\n"
     ]
    },
    {
     "name": "stderr",
     "output_type": "stream",
     "text": [
      "\u001b[A\n",
      "  9%|▉         | 9/100 [00:32<05:40,  3.74s/it]"
     ]
    },
    {
     "name": "stdout",
     "output_type": "stream",
     "text": [
      "epoch 9 / 100 in 4.1s: loss 0.686874, trval_rocauc 0.883801, val_rocauc 0.685009, lr 0.000050\n"
     ]
    },
    {
     "name": "stderr",
     "output_type": "stream",
     "text": [
      "\u001b[A\n",
      " 10%|█         | 10/100 [00:36<05:32,  3.70s/it]"
     ]
    },
    {
     "name": "stdout",
     "output_type": "stream",
     "text": [
      "epoch 10 / 100 in 3.6s: loss 0.691480, trval_rocauc 0.875656, val_rocauc 0.693955, lr 0.000050\n"
     ]
    },
    {
     "name": "stderr",
     "output_type": "stream",
     "text": [
      "\u001b[A\n",
      " 11%|█         | 11/100 [00:40<05:41,  3.84s/it]"
     ]
    },
    {
     "name": "stdout",
     "output_type": "stream",
     "text": [
      "epoch 11 / 100 in 4.2s: loss 0.689600, trval_rocauc 0.885249, val_rocauc 0.695310, lr 0.000050\n"
     ]
    },
    {
     "name": "stderr",
     "output_type": "stream",
     "text": [
      "\u001b[A\n",
      " 12%|█▏        | 12/100 [00:44<05:33,  3.79s/it]"
     ]
    },
    {
     "name": "stdout",
     "output_type": "stream",
     "text": [
      "epoch 12 / 100 in 3.7s: loss 0.687068, trval_rocauc 0.891946, val_rocauc 0.707238, lr 0.000050\n"
     ]
    },
    {
     "name": "stderr",
     "output_type": "stream",
     "text": [
      "\u001b[A\n",
      " 13%|█▎        | 13/100 [00:47<05:21,  3.70s/it]"
     ]
    },
    {
     "name": "stdout",
     "output_type": "stream",
     "text": [
      "epoch 13 / 100 in 3.5s: loss 0.689176, trval_rocauc 0.908959, val_rocauc 0.704798, lr 0.000050\n"
     ]
    },
    {
     "name": "stderr",
     "output_type": "stream",
     "text": [
      "\u001b[A\n",
      " 14%|█▍        | 14/100 [00:51<05:14,  3.65s/it]"
     ]
    },
    {
     "name": "stdout",
     "output_type": "stream",
     "text": [
      "epoch 14 / 100 in 3.5s: loss 0.689027, trval_rocauc 0.910045, val_rocauc 0.696124, lr 0.000050\n"
     ]
    },
    {
     "name": "stderr",
     "output_type": "stream",
     "text": [
      "\u001b[A\n",
      " 15%|█▌        | 15/100 [00:54<05:05,  3.59s/it]"
     ]
    },
    {
     "name": "stdout",
     "output_type": "stream",
     "text": [
      "epoch 15 / 100 in 3.5s: loss 0.689038, trval_rocauc 0.922534, val_rocauc 0.706696, lr 0.000050\n"
     ]
    },
    {
     "name": "stderr",
     "output_type": "stream",
     "text": [
      "\u001b[A\n",
      " 16%|█▌        | 16/100 [00:58<05:01,  3.59s/it]"
     ]
    },
    {
     "name": "stdout",
     "output_type": "stream",
     "text": [
      "epoch 16 / 100 in 3.6s: loss 0.687437, trval_rocauc 0.934842, val_rocauc 0.714015, lr 0.000050\n"
     ]
    },
    {
     "name": "stderr",
     "output_type": "stream",
     "text": [
      "\u001b[A\n",
      " 17%|█▋        | 17/100 [01:01<04:54,  3.55s/it]"
     ]
    },
    {
     "name": "stdout",
     "output_type": "stream",
     "text": [
      "epoch 17 / 100 in 3.5s: loss 0.687308, trval_rocauc 0.942986, val_rocauc 0.709948, lr 0.000050\n"
     ]
    },
    {
     "name": "stderr",
     "output_type": "stream",
     "text": [
      "\u001b[A\n",
      " 18%|█▊        | 18/100 [01:05<04:48,  3.52s/it]"
     ]
    },
    {
     "name": "stdout",
     "output_type": "stream",
     "text": [
      "epoch 18 / 100 in 3.4s: loss 0.685806, trval_rocauc 0.946063, val_rocauc 0.693684, lr 0.000050\n"
     ]
    },
    {
     "name": "stderr",
     "output_type": "stream",
     "text": [
      "\u001b[A\n",
      " 19%|█▉        | 19/100 [01:08<04:42,  3.49s/it]"
     ]
    },
    {
     "name": "stdout",
     "output_type": "stream",
     "text": [
      "epoch 19 / 100 in 3.4s: loss 0.685898, trval_rocauc 0.946063, val_rocauc 0.689076, lr 0.000050\n"
     ]
    },
    {
     "name": "stderr",
     "output_type": "stream",
     "text": [
      "\u001b[A\n",
      " 20%|██        | 20/100 [01:11<04:36,  3.45s/it]"
     ]
    },
    {
     "name": "stdout",
     "output_type": "stream",
     "text": [
      "epoch 20 / 100 in 3.4s: loss 0.687667, trval_rocauc 0.952941, val_rocauc 0.690160, lr 0.000050\n"
     ]
    },
    {
     "name": "stderr",
     "output_type": "stream",
     "text": [
      "\u001b[A\n",
      " 21%|██        | 21/100 [01:15<04:30,  3.42s/it]"
     ]
    },
    {
     "name": "stdout",
     "output_type": "stream",
     "text": [
      "epoch 21 / 100 in 3.3s: loss 0.686414, trval_rocauc 0.954751, val_rocauc 0.702901, lr 0.000050\n"
     ]
    },
    {
     "name": "stderr",
     "output_type": "stream",
     "text": [
      "\u001b[A\n",
      " 22%|██▏       | 22/100 [01:18<04:25,  3.40s/it]"
     ]
    },
    {
     "name": "stdout",
     "output_type": "stream",
     "text": [
      "epoch 22 / 100 in 3.4s: loss 0.687783, trval_rocauc 0.957647, val_rocauc 0.687449, lr 0.000050\n"
     ]
    },
    {
     "name": "stderr",
     "output_type": "stream",
     "text": [
      "\u001b[A\n",
      " 23%|██▎       | 23/100 [01:22<04:36,  3.59s/it]"
     ]
    },
    {
     "name": "stdout",
     "output_type": "stream",
     "text": [
      "epoch 23 / 100 in 4.0s: loss 0.685179, trval_rocauc 0.963801, val_rocauc 0.705882, lr 0.000050\n"
     ]
    },
    {
     "name": "stderr",
     "output_type": "stream",
     "text": [
      "\u001b[A\n",
      " 24%|██▍       | 24/100 [01:26<04:32,  3.59s/it]"
     ]
    },
    {
     "name": "stdout",
     "output_type": "stream",
     "text": [
      "epoch 24 / 100 in 3.6s: loss 0.688012, trval_rocauc 0.963077, val_rocauc 0.692600, lr 0.000050\n"
     ]
    },
    {
     "name": "stderr",
     "output_type": "stream",
     "text": [
      "\u001b[A\n",
      " 25%|██▌       | 25/100 [01:29<04:25,  3.54s/it]"
     ]
    },
    {
     "name": "stdout",
     "output_type": "stream",
     "text": [
      "epoch 25 / 100 in 3.4s: loss 0.682564, trval_rocauc 0.965792, val_rocauc 0.684467, lr 0.000050\n"
     ]
    },
    {
     "name": "stderr",
     "output_type": "stream",
     "text": [
      "\u001b[A\n",
      " 26%|██▌       | 26/100 [01:33<04:17,  3.48s/it]"
     ]
    },
    {
     "name": "stdout",
     "output_type": "stream",
     "text": [
      "epoch 26 / 100 in 3.3s: loss 0.685089, trval_rocauc 0.969593, val_rocauc 0.669558, lr 0.000050\n"
     ]
    },
    {
     "name": "stderr",
     "output_type": "stream",
     "text": [
      "\u001b[A\n",
      " 27%|██▋       | 27/100 [01:36<04:11,  3.45s/it]"
     ]
    },
    {
     "name": "stdout",
     "output_type": "stream",
     "text": [
      "epoch 27 / 100 in 3.4s: loss 0.686296, trval_rocauc 0.976471, val_rocauc 0.691515, lr 0.000050\n"
     ]
    },
    {
     "name": "stderr",
     "output_type": "stream",
     "text": [
      "\u001b[A\n",
      " 28%|██▊       | 28/100 [01:40<04:12,  3.51s/it]"
     ]
    },
    {
     "name": "stdout",
     "output_type": "stream",
     "text": [
      "epoch 28 / 100 in 3.7s: loss 0.684139, trval_rocauc 0.980090, val_rocauc 0.716725, lr 0.000050\n"
     ]
    },
    {
     "name": "stderr",
     "output_type": "stream",
     "text": [
      "\u001b[A\n",
      " 29%|██▉       | 29/100 [01:43<04:10,  3.53s/it]"
     ]
    },
    {
     "name": "stdout",
     "output_type": "stream",
     "text": [
      "epoch 29 / 100 in 3.6s: loss 0.684939, trval_rocauc 0.983167, val_rocauc 0.692057, lr 0.000050\n"
     ]
    },
    {
     "name": "stderr",
     "output_type": "stream",
     "text": [
      "\u001b[A\n",
      " 30%|███       | 30/100 [01:46<04:02,  3.47s/it]"
     ]
    },
    {
     "name": "stdout",
     "output_type": "stream",
     "text": [
      "epoch 30 / 100 in 3.3s: loss 0.681408, trval_rocauc 0.982443, val_rocauc 0.708593, lr 0.000050\n"
     ]
    },
    {
     "name": "stderr",
     "output_type": "stream",
     "text": [
      "\u001b[A\n",
      " 31%|███       | 31/100 [01:50<04:03,  3.52s/it]"
     ]
    },
    {
     "name": "stdout",
     "output_type": "stream",
     "text": [
      "epoch 31 / 100 in 3.6s: loss 0.686903, trval_rocauc 0.987149, val_rocauc 0.720249, lr 0.000050\n"
     ]
    },
    {
     "name": "stderr",
     "output_type": "stream",
     "text": [
      "\u001b[A\n",
      " 32%|███▏      | 32/100 [01:55<04:19,  3.82s/it]"
     ]
    },
    {
     "name": "stdout",
     "output_type": "stream",
     "text": [
      "epoch 32 / 100 in 4.5s: loss 0.685879, trval_rocauc 0.987692, val_rocauc 0.728382, lr 0.000050\n"
     ]
    },
    {
     "name": "stderr",
     "output_type": "stream",
     "text": [
      "\u001b[A\n",
      " 33%|███▎      | 33/100 [01:59<04:27,  3.99s/it]"
     ]
    },
    {
     "name": "stdout",
     "output_type": "stream",
     "text": [
      "epoch 33 / 100 in 4.4s: loss 0.681563, trval_rocauc 0.985339, val_rocauc 0.716996, lr 0.000050\n"
     ]
    },
    {
     "name": "stderr",
     "output_type": "stream",
     "text": [
      "\u001b[A\n",
      " 34%|███▍      | 34/100 [02:03<04:24,  4.01s/it]"
     ]
    },
    {
     "name": "stdout",
     "output_type": "stream",
     "text": [
      "epoch 34 / 100 in 4.1s: loss 0.681918, trval_rocauc 0.984072, val_rocauc 0.714828, lr 0.000050\n"
     ]
    },
    {
     "name": "stderr",
     "output_type": "stream",
     "text": [
      "\u001b[A\n",
      " 35%|███▌      | 35/100 [02:06<04:07,  3.81s/it]"
     ]
    },
    {
     "name": "stdout",
     "output_type": "stream",
     "text": [
      "epoch 35 / 100 in 3.4s: loss 0.685408, trval_rocauc 0.985520, val_rocauc 0.729195, lr 0.000050\n"
     ]
    },
    {
     "name": "stderr",
     "output_type": "stream",
     "text": [
      "\u001b[A\n",
      " 36%|███▌      | 36/100 [02:10<03:54,  3.66s/it]"
     ]
    },
    {
     "name": "stdout",
     "output_type": "stream",
     "text": [
      "epoch 36 / 100 in 3.3s: loss 0.684971, trval_rocauc 0.986787, val_rocauc 0.746544, lr 0.000050\n"
     ]
    },
    {
     "name": "stderr",
     "output_type": "stream",
     "text": [
      "\u001b[A\n",
      " 37%|███▋      | 37/100 [02:13<03:43,  3.55s/it]"
     ]
    },
    {
     "name": "stdout",
     "output_type": "stream",
     "text": [
      "epoch 37 / 100 in 3.3s: loss 0.685061, trval_rocauc 0.991131, val_rocauc 0.724316, lr 0.000050\n"
     ]
    },
    {
     "name": "stderr",
     "output_type": "stream",
     "text": [
      "\u001b[A\n",
      " 38%|███▊      | 38/100 [02:16<03:36,  3.49s/it]"
     ]
    },
    {
     "name": "stdout",
     "output_type": "stream",
     "text": [
      "epoch 38 / 100 in 3.3s: loss 0.683347, trval_rocauc 0.988235, val_rocauc 0.708593, lr 0.000050\n"
     ]
    },
    {
     "name": "stderr",
     "output_type": "stream",
     "text": [
      "\u001b[A\n",
      " 39%|███▉      | 39/100 [02:20<03:29,  3.43s/it]"
     ]
    },
    {
     "name": "stdout",
     "output_type": "stream",
     "text": [
      "epoch 39 / 100 in 3.3s: loss 0.683696, trval_rocauc 0.991312, val_rocauc 0.711033, lr 0.000050\n"
     ]
    },
    {
     "name": "stderr",
     "output_type": "stream",
     "text": [
      "\u001b[A\n",
      " 40%|████      | 40/100 [02:23<03:23,  3.39s/it]"
     ]
    },
    {
     "name": "stdout",
     "output_type": "stream",
     "text": [
      "epoch 40 / 100 in 3.3s: loss 0.683357, trval_rocauc 0.991493, val_rocauc 0.724316, lr 0.000050\n"
     ]
    },
    {
     "name": "stderr",
     "output_type": "stream",
     "text": [
      "\u001b[A\n",
      " 41%|████      | 41/100 [02:27<03:26,  3.50s/it]"
     ]
    },
    {
     "name": "stdout",
     "output_type": "stream",
     "text": [
      "epoch 41 / 100 in 3.8s: loss 0.684752, trval_rocauc 0.994208, val_rocauc 0.718623, lr 0.000050\n"
     ]
    },
    {
     "name": "stderr",
     "output_type": "stream",
     "text": [
      "\u001b[A\n",
      " 42%|████▏     | 42/100 [02:31<03:45,  3.88s/it]"
     ]
    },
    {
     "name": "stdout",
     "output_type": "stream",
     "text": [
      "epoch 42 / 100 in 4.8s: loss 0.683534, trval_rocauc 0.992760, val_rocauc 0.729737, lr 0.000050\n"
     ]
    },
    {
     "name": "stderr",
     "output_type": "stream",
     "text": [
      "\u001b[A\n",
      " 43%|████▎     | 43/100 [02:35<03:37,  3.82s/it]"
     ]
    },
    {
     "name": "stdout",
     "output_type": "stream",
     "text": [
      "epoch 43 / 100 in 3.7s: loss 0.683515, trval_rocauc 0.991674, val_rocauc 0.729195, lr 0.000050\n"
     ]
    },
    {
     "name": "stderr",
     "output_type": "stream",
     "text": [
      "\u001b[A\n",
      " 44%|████▍     | 44/100 [02:38<03:24,  3.65s/it]"
     ]
    },
    {
     "name": "stdout",
     "output_type": "stream",
     "text": [
      "epoch 44 / 100 in 3.3s: loss 0.681551, trval_rocauc 0.994208, val_rocauc 0.727840, lr 0.000050\n"
     ]
    },
    {
     "name": "stderr",
     "output_type": "stream",
     "text": [
      "\u001b[A\n",
      " 45%|████▌     | 45/100 [02:42<03:14,  3.54s/it]"
     ]
    },
    {
     "name": "stdout",
     "output_type": "stream",
     "text": [
      "epoch 45 / 100 in 3.3s: loss 0.684770, trval_rocauc 0.994932, val_rocauc 0.721334, lr 0.000050\n"
     ]
    },
    {
     "name": "stderr",
     "output_type": "stream",
     "text": [
      "\u001b[A\n",
      " 46%|████▌     | 46/100 [02:45<03:06,  3.46s/it]"
     ]
    },
    {
     "name": "stdout",
     "output_type": "stream",
     "text": [
      "epoch 46 / 100 in 3.3s: loss 0.684335, trval_rocauc 0.996199, val_rocauc 0.730008, lr 0.000050\n"
     ]
    },
    {
     "name": "stderr",
     "output_type": "stream",
     "text": [
      "\u001b[A\n",
      " 47%|████▋     | 47/100 [02:48<03:00,  3.40s/it]"
     ]
    },
    {
     "name": "stdout",
     "output_type": "stream",
     "text": [
      "epoch 47 / 100 in 3.3s: loss 0.683308, trval_rocauc 0.994389, val_rocauc 0.721605, lr 0.000050\n"
     ]
    },
    {
     "name": "stderr",
     "output_type": "stream",
     "text": [
      "\u001b[A\n",
      " 48%|████▊     | 48/100 [02:51<02:54,  3.36s/it]"
     ]
    },
    {
     "name": "stdout",
     "output_type": "stream",
     "text": [
      "epoch 48 / 100 in 3.3s: loss 0.685225, trval_rocauc 0.994751, val_rocauc 0.731364, lr 0.000050\n"
     ]
    },
    {
     "name": "stderr",
     "output_type": "stream",
     "text": [
      "\u001b[A\n",
      " 49%|████▉     | 49/100 [02:55<02:49,  3.33s/it]"
     ]
    },
    {
     "name": "stdout",
     "output_type": "stream",
     "text": [
      "epoch 49 / 100 in 3.3s: loss 0.686201, trval_rocauc 0.994751, val_rocauc 0.728653, lr 0.000050\n"
     ]
    },
    {
     "name": "stderr",
     "output_type": "stream",
     "text": [
      "\u001b[A\n",
      " 50%|█████     | 50/100 [02:58<02:45,  3.32s/it]"
     ]
    },
    {
     "name": "stdout",
     "output_type": "stream",
     "text": [
      "epoch 50 / 100 in 3.3s: loss 0.682757, trval_rocauc 0.994932, val_rocauc 0.699105, lr 0.000050\n"
     ]
    },
    {
     "name": "stderr",
     "output_type": "stream",
     "text": [
      "\u001b[A\n",
      " 51%|█████     | 51/100 [03:01<02:41,  3.30s/it]"
     ]
    },
    {
     "name": "stdout",
     "output_type": "stream",
     "text": [
      "epoch 51 / 100 in 3.3s: loss 0.684779, trval_rocauc 0.997285, val_rocauc 0.710491, lr 0.000050\n"
     ]
    },
    {
     "name": "stderr",
     "output_type": "stream",
     "text": [
      "\u001b[A\n",
      " 52%|█████▏    | 52/100 [03:05<02:38,  3.29s/it]"
     ]
    },
    {
     "name": "stdout",
     "output_type": "stream",
     "text": [
      "epoch 52 / 100 in 3.3s: loss 0.685261, trval_rocauc 0.997466, val_rocauc 0.723502, lr 0.000050\n"
     ]
    },
    {
     "name": "stderr",
     "output_type": "stream",
     "text": [
      "\u001b[A\n",
      " 53%|█████▎    | 53/100 [03:08<02:34,  3.29s/it]"
     ]
    },
    {
     "name": "stdout",
     "output_type": "stream",
     "text": [
      "epoch 53 / 100 in 3.3s: loss 0.684305, trval_rocauc 0.997104, val_rocauc 0.720520, lr 0.000050\n"
     ]
    },
    {
     "name": "stderr",
     "output_type": "stream",
     "text": [
      "\u001b[A\n",
      " 54%|█████▍    | 54/100 [03:11<02:30,  3.28s/it]"
     ]
    },
    {
     "name": "stdout",
     "output_type": "stream",
     "text": [
      "epoch 54 / 100 in 3.3s: loss 0.684256, trval_rocauc 0.996380, val_rocauc 0.716183, lr 0.000050\n"
     ]
    },
    {
     "name": "stderr",
     "output_type": "stream",
     "text": [
      "\u001b[A\n",
      " 55%|█████▌    | 55/100 [03:14<02:27,  3.28s/it]"
     ]
    },
    {
     "name": "stdout",
     "output_type": "stream",
     "text": [
      "epoch 55 / 100 in 3.3s: loss 0.683927, trval_rocauc 0.993122, val_rocauc 0.728382, lr 0.000050\n"
     ]
    },
    {
     "name": "stderr",
     "output_type": "stream",
     "text": [
      "\u001b[A\n",
      " 56%|█████▌    | 56/100 [03:18<02:24,  3.27s/it]"
     ]
    },
    {
     "name": "stdout",
     "output_type": "stream",
     "text": [
      "epoch 56 / 100 in 3.3s: loss 0.680451, trval_rocauc 0.992579, val_rocauc 0.745731, lr 0.000050\n"
     ]
    },
    {
     "name": "stderr",
     "output_type": "stream",
     "text": [
      "\u001b[A\n",
      " 57%|█████▋    | 57/100 [03:21<02:20,  3.28s/it]"
     ]
    },
    {
     "name": "stdout",
     "output_type": "stream",
     "text": [
      "epoch 57 / 100 in 3.3s: loss 0.685695, trval_rocauc 0.993484, val_rocauc 0.729195, lr 0.000050\n"
     ]
    },
    {
     "name": "stderr",
     "output_type": "stream",
     "text": [
      "\u001b[A\n",
      " 58%|█████▊    | 58/100 [03:24<02:17,  3.28s/it]"
     ]
    },
    {
     "name": "stdout",
     "output_type": "stream",
     "text": [
      "epoch 58 / 100 in 3.3s: loss 0.682011, trval_rocauc 0.995113, val_rocauc 0.727840, lr 0.000050\n"
     ]
    },
    {
     "name": "stderr",
     "output_type": "stream",
     "text": [
      "\u001b[A\n",
      " 59%|█████▉    | 59/100 [03:28<02:14,  3.29s/it]"
     ]
    },
    {
     "name": "stdout",
     "output_type": "stream",
     "text": [
      "epoch 59 / 100 in 3.3s: loss 0.683249, trval_rocauc 0.998190, val_rocauc 0.703443, lr 0.000050\n"
     ]
    },
    {
     "name": "stderr",
     "output_type": "stream",
     "text": [
      "\u001b[A\n",
      " 60%|██████    | 60/100 [03:31<02:11,  3.29s/it]"
     ]
    },
    {
     "name": "stdout",
     "output_type": "stream",
     "text": [
      "epoch 60 / 100 in 3.3s: loss 0.683154, trval_rocauc 0.997104, val_rocauc 0.690702, lr 0.000050\n"
     ]
    },
    {
     "name": "stderr",
     "output_type": "stream",
     "text": [
      "\u001b[A\n",
      " 61%|██████    | 61/100 [03:34<02:08,  3.29s/it]"
     ]
    },
    {
     "name": "stdout",
     "output_type": "stream",
     "text": [
      "epoch 61 / 100 in 3.3s: loss 0.680520, trval_rocauc 0.996742, val_rocauc 0.702629, lr 0.000050\n"
     ]
    },
    {
     "name": "stderr",
     "output_type": "stream",
     "text": [
      "\u001b[A\n",
      " 62%|██████▏   | 62/100 [03:37<02:05,  3.30s/it]"
     ]
    },
    {
     "name": "stdout",
     "output_type": "stream",
     "text": [
      "epoch 62 / 100 in 3.3s: loss 0.680439, trval_rocauc 0.998190, val_rocauc 0.710491, lr 0.000050\n"
     ]
    },
    {
     "name": "stderr",
     "output_type": "stream",
     "text": [
      "\u001b[A\n",
      " 63%|██████▎   | 63/100 [03:41<02:03,  3.35s/it]"
     ]
    },
    {
     "name": "stdout",
     "output_type": "stream",
     "text": [
      "epoch 63 / 100 in 3.5s: loss 0.681361, trval_rocauc 0.997104, val_rocauc 0.702358, lr 0.000050\n"
     ]
    },
    {
     "name": "stderr",
     "output_type": "stream",
     "text": [
      "\u001b[A\n",
      " 64%|██████▍   | 64/100 [03:44<01:59,  3.33s/it]"
     ]
    },
    {
     "name": "stdout",
     "output_type": "stream",
     "text": [
      "epoch 64 / 100 in 3.3s: loss 0.684291, trval_rocauc 0.996742, val_rocauc 0.712930, lr 0.000050\n"
     ]
    },
    {
     "name": "stderr",
     "output_type": "stream",
     "text": [
      "\u001b[A\n",
      " 65%|██████▌   | 65/100 [03:48<01:56,  3.32s/it]"
     ]
    },
    {
     "name": "stdout",
     "output_type": "stream",
     "text": [
      "epoch 65 / 100 in 3.3s: loss 0.682130, trval_rocauc 0.996561, val_rocauc 0.711575, lr 0.000050\n"
     ]
    },
    {
     "name": "stderr",
     "output_type": "stream",
     "text": [
      "\u001b[A\n",
      " 66%|██████▌   | 66/100 [03:51<01:53,  3.32s/it]"
     ]
    },
    {
     "name": "stdout",
     "output_type": "stream",
     "text": [
      "epoch 66 / 100 in 3.3s: loss 0.682726, trval_rocauc 0.998552, val_rocauc 0.728382, lr 0.000050\n"
     ]
    },
    {
     "name": "stderr",
     "output_type": "stream",
     "text": [
      "\u001b[A\n",
      " 67%|██████▋   | 67/100 [03:54<01:49,  3.32s/it]"
     ]
    },
    {
     "name": "stdout",
     "output_type": "stream",
     "text": [
      "epoch 67 / 100 in 3.3s: loss 0.684166, trval_rocauc 0.999638, val_rocauc 0.738683, lr 0.000050\n"
     ]
    },
    {
     "name": "stderr",
     "output_type": "stream",
     "text": [
      "\u001b[A\n",
      " 68%|██████▊   | 68/100 [03:57<01:46,  3.32s/it]"
     ]
    },
    {
     "name": "stdout",
     "output_type": "stream",
     "text": [
      "epoch 68 / 100 in 3.3s: loss 0.682631, trval_rocauc 1.000000, val_rocauc 0.754405, lr 0.000050\n"
     ]
    },
    {
     "name": "stderr",
     "output_type": "stream",
     "text": [
      "\u001b[A\n",
      " 69%|██████▉   | 69/100 [04:01<01:42,  3.31s/it]"
     ]
    },
    {
     "name": "stdout",
     "output_type": "stream",
     "text": [
      "epoch 69 / 100 in 3.3s: loss 0.683711, trval_rocauc 1.000000, val_rocauc 0.749526, lr 0.000050\n"
     ]
    },
    {
     "name": "stderr",
     "output_type": "stream",
     "text": [
      "\u001b[A\n",
      " 70%|███████   | 70/100 [04:04<01:39,  3.30s/it]"
     ]
    },
    {
     "name": "stdout",
     "output_type": "stream",
     "text": [
      "epoch 70 / 100 in 3.3s: loss 0.684331, trval_rocauc 0.999276, val_rocauc 0.725942, lr 0.000050\n"
     ]
    },
    {
     "name": "stderr",
     "output_type": "stream",
     "text": [
      "\u001b[A\n",
      " 71%|███████   | 71/100 [04:07<01:35,  3.30s/it]"
     ]
    },
    {
     "name": "stdout",
     "output_type": "stream",
     "text": [
      "epoch 71 / 100 in 3.3s: loss 0.682376, trval_rocauc 0.999095, val_rocauc 0.726484, lr 0.000050\n"
     ]
    },
    {
     "name": "stderr",
     "output_type": "stream",
     "text": [
      "\u001b[A\n",
      " 72%|███████▏  | 72/100 [04:11<01:31,  3.28s/it]"
     ]
    },
    {
     "name": "stdout",
     "output_type": "stream",
     "text": [
      "epoch 72 / 100 in 3.3s: loss 0.682280, trval_rocauc 0.999819, val_rocauc 0.721605, lr 0.000050\n"
     ]
    },
    {
     "name": "stderr",
     "output_type": "stream",
     "text": [
      "\u001b[A\n",
      " 73%|███████▎  | 73/100 [04:14<01:28,  3.28s/it]"
     ]
    },
    {
     "name": "stdout",
     "output_type": "stream",
     "text": [
      "epoch 73 / 100 in 3.3s: loss 0.680796, trval_rocauc 1.000000, val_rocauc 0.731364, lr 0.000050\n"
     ]
    },
    {
     "name": "stderr",
     "output_type": "stream",
     "text": [
      "\u001b[A\n",
      " 74%|███████▍  | 74/100 [04:17<01:25,  3.28s/it]"
     ]
    },
    {
     "name": "stdout",
     "output_type": "stream",
     "text": [
      "epoch 74 / 100 in 3.3s: loss 0.679922, trval_rocauc 1.000000, val_rocauc 0.727840, lr 0.000050\n"
     ]
    },
    {
     "name": "stderr",
     "output_type": "stream",
     "text": [
      "\u001b[A\n",
      " 75%|███████▌  | 75/100 [04:20<01:21,  3.28s/it]"
     ]
    },
    {
     "name": "stdout",
     "output_type": "stream",
     "text": [
      "epoch 75 / 100 in 3.3s: loss 0.682677, trval_rocauc 1.000000, val_rocauc 0.740580, lr 0.000050\n"
     ]
    },
    {
     "name": "stderr",
     "output_type": "stream",
     "text": [
      "\u001b[A\n",
      " 76%|███████▌  | 76/100 [04:24<01:18,  3.28s/it]"
     ]
    },
    {
     "name": "stdout",
     "output_type": "stream",
     "text": [
      "epoch 76 / 100 in 3.3s: loss 0.681100, trval_rocauc 1.000000, val_rocauc 0.747628, lr 0.000050\n"
     ]
    },
    {
     "name": "stderr",
     "output_type": "stream",
     "text": [
      "\u001b[A\n",
      " 77%|███████▋  | 77/100 [04:27<01:15,  3.28s/it]"
     ]
    },
    {
     "name": "stdout",
     "output_type": "stream",
     "text": [
      "epoch 77 / 100 in 3.3s: loss 0.682815, trval_rocauc 0.999638, val_rocauc 0.740038, lr 0.000050\n"
     ]
    },
    {
     "name": "stderr",
     "output_type": "stream",
     "text": [
      "\u001b[A\n",
      " 78%|███████▊  | 78/100 [04:30<01:12,  3.28s/it]"
     ]
    },
    {
     "name": "stdout",
     "output_type": "stream",
     "text": [
      "epoch 78 / 100 in 3.3s: loss 0.683245, trval_rocauc 0.999457, val_rocauc 0.742478, lr 0.000050\n"
     ]
    },
    {
     "name": "stderr",
     "output_type": "stream",
     "text": [
      "\u001b[A\n",
      " 79%|███████▉  | 79/100 [04:34<01:08,  3.28s/it]"
     ]
    },
    {
     "name": "stdout",
     "output_type": "stream",
     "text": [
      "epoch 79 / 100 in 3.3s: loss 0.681920, trval_rocauc 0.999638, val_rocauc 0.750339, lr 0.000050\n"
     ]
    },
    {
     "name": "stderr",
     "output_type": "stream",
     "text": [
      "\u001b[A\n",
      " 80%|████████  | 80/100 [04:37<01:05,  3.29s/it]"
     ]
    },
    {
     "name": "stdout",
     "output_type": "stream",
     "text": [
      "epoch 80 / 100 in 3.3s: loss 0.681982, trval_rocauc 0.999095, val_rocauc 0.743020, lr 0.000050\n"
     ]
    },
    {
     "name": "stderr",
     "output_type": "stream",
     "text": [
      "\u001b[A\n",
      " 81%|████████  | 81/100 [04:40<01:02,  3.29s/it]"
     ]
    },
    {
     "name": "stdout",
     "output_type": "stream",
     "text": [
      "epoch 81 / 100 in 3.3s: loss 0.684309, trval_rocauc 0.999638, val_rocauc 0.734074, lr 0.000050\n"
     ]
    },
    {
     "name": "stderr",
     "output_type": "stream",
     "text": [
      "\u001b[A\n",
      " 82%|████████▏ | 82/100 [04:43<00:59,  3.29s/it]"
     ]
    },
    {
     "name": "stdout",
     "output_type": "stream",
     "text": [
      "epoch 82 / 100 in 3.3s: loss 0.683092, trval_rocauc 0.999457, val_rocauc 0.731364, lr 0.000050\n"
     ]
    },
    {
     "name": "stderr",
     "output_type": "stream",
     "text": [
      "\u001b[A\n",
      " 83%|████████▎ | 83/100 [04:47<00:55,  3.29s/it]"
     ]
    },
    {
     "name": "stdout",
     "output_type": "stream",
     "text": [
      "epoch 83 / 100 in 3.3s: loss 0.680005, trval_rocauc 0.998552, val_rocauc 0.732990, lr 0.000050\n"
     ]
    },
    {
     "name": "stderr",
     "output_type": "stream",
     "text": [
      "\u001b[A\n",
      " 84%|████████▍ | 84/100 [04:50<00:52,  3.29s/it]"
     ]
    },
    {
     "name": "stdout",
     "output_type": "stream",
     "text": [
      "epoch 84 / 100 in 3.3s: loss 0.683213, trval_rocauc 0.999457, val_rocauc 0.715641, lr 0.000050\n"
     ]
    },
    {
     "name": "stderr",
     "output_type": "stream",
     "text": [
      "\u001b[A\n",
      " 85%|████████▌ | 85/100 [04:53<00:49,  3.28s/it]"
     ]
    },
    {
     "name": "stdout",
     "output_type": "stream",
     "text": [
      "epoch 85 / 100 in 3.3s: loss 0.682680, trval_rocauc 0.998552, val_rocauc 0.726755, lr 0.000050\n"
     ]
    },
    {
     "name": "stderr",
     "output_type": "stream",
     "text": [
      "\u001b[A\n",
      " 86%|████████▌ | 86/100 [04:57<00:45,  3.28s/it]"
     ]
    },
    {
     "name": "stdout",
     "output_type": "stream",
     "text": [
      "epoch 86 / 100 in 3.3s: loss 0.679350, trval_rocauc 0.999095, val_rocauc 0.754134, lr 0.000050\n"
     ]
    },
    {
     "name": "stderr",
     "output_type": "stream",
     "text": [
      "\u001b[A\n",
      " 87%|████████▋ | 87/100 [05:00<00:42,  3.27s/it]"
     ]
    },
    {
     "name": "stdout",
     "output_type": "stream",
     "text": [
      "epoch 87 / 100 in 3.3s: loss 0.679724, trval_rocauc 0.999819, val_rocauc 0.755489, lr 0.000050\n"
     ]
    },
    {
     "name": "stderr",
     "output_type": "stream",
     "text": [
      "\u001b[A\n",
      " 88%|████████▊ | 88/100 [05:03<00:39,  3.27s/it]"
     ]
    },
    {
     "name": "stdout",
     "output_type": "stream",
     "text": [
      "epoch 88 / 100 in 3.3s: loss 0.684905, trval_rocauc 0.999638, val_rocauc 0.743291, lr 0.000050\n"
     ]
    },
    {
     "name": "stderr",
     "output_type": "stream",
     "text": [
      "\u001b[A\n",
      " 89%|████████▉ | 89/100 [05:06<00:36,  3.28s/it]"
     ]
    },
    {
     "name": "stdout",
     "output_type": "stream",
     "text": [
      "epoch 89 / 100 in 3.3s: loss 0.680416, trval_rocauc 1.000000, val_rocauc 0.744375, lr 0.000050\n"
     ]
    },
    {
     "name": "stderr",
     "output_type": "stream",
     "text": [
      "\u001b[A\n",
      " 90%|█████████ | 90/100 [05:10<00:32,  3.28s/it]"
     ]
    },
    {
     "name": "stdout",
     "output_type": "stream",
     "text": [
      "epoch 90 / 100 in 3.3s: loss 0.680684, trval_rocauc 0.998914, val_rocauc 0.738683, lr 0.000050\n"
     ]
    },
    {
     "name": "stderr",
     "output_type": "stream",
     "text": [
      "\u001b[A\n",
      " 91%|█████████ | 91/100 [05:13<00:29,  3.28s/it]"
     ]
    },
    {
     "name": "stdout",
     "output_type": "stream",
     "text": [
      "epoch 91 / 100 in 3.3s: loss 0.682159, trval_rocauc 0.998914, val_rocauc 0.739496, lr 0.000050\n"
     ]
    },
    {
     "name": "stderr",
     "output_type": "stream",
     "text": [
      "\u001b[A\n",
      " 92%|█████████▏| 92/100 [05:16<00:26,  3.28s/it]"
     ]
    },
    {
     "name": "stdout",
     "output_type": "stream",
     "text": [
      "epoch 92 / 100 in 3.3s: loss 0.683790, trval_rocauc 0.999638, val_rocauc 0.727026, lr 0.000050\n"
     ]
    },
    {
     "name": "stderr",
     "output_type": "stream",
     "text": [
      "\u001b[A\n",
      " 93%|█████████▎| 93/100 [05:19<00:22,  3.28s/it]"
     ]
    },
    {
     "name": "stdout",
     "output_type": "stream",
     "text": [
      "epoch 93 / 100 in 3.3s: loss 0.677789, trval_rocauc 0.999638, val_rocauc 0.734888, lr 0.000050\n"
     ]
    },
    {
     "name": "stderr",
     "output_type": "stream",
     "text": [
      "\u001b[A\n",
      " 94%|█████████▍| 94/100 [05:23<00:19,  3.28s/it]"
     ]
    },
    {
     "name": "stdout",
     "output_type": "stream",
     "text": [
      "epoch 94 / 100 in 3.3s: loss 0.682279, trval_rocauc 1.000000, val_rocauc 0.727568, lr 0.000050\n"
     ]
    },
    {
     "name": "stderr",
     "output_type": "stream",
     "text": [
      "\u001b[A\n",
      " 95%|█████████▌| 95/100 [05:26<00:16,  3.27s/it]"
     ]
    },
    {
     "name": "stdout",
     "output_type": "stream",
     "text": [
      "epoch 95 / 100 in 3.3s: loss 0.681557, trval_rocauc 1.000000, val_rocauc 0.731364, lr 0.000050\n"
     ]
    },
    {
     "name": "stderr",
     "output_type": "stream",
     "text": [
      "\u001b[A\n",
      " 96%|█████████▌| 96/100 [05:29<00:13,  3.27s/it]"
     ]
    },
    {
     "name": "stdout",
     "output_type": "stream",
     "text": [
      "epoch 96 / 100 in 3.3s: loss 0.683902, trval_rocauc 1.000000, val_rocauc 0.736785, lr 0.000050\n"
     ]
    },
    {
     "name": "stderr",
     "output_type": "stream",
     "text": [
      "\u001b[A\n",
      " 97%|█████████▋| 97/100 [05:33<00:09,  3.27s/it]"
     ]
    },
    {
     "name": "stdout",
     "output_type": "stream",
     "text": [
      "epoch 97 / 100 in 3.3s: loss 0.684275, trval_rocauc 1.000000, val_rocauc 0.744104, lr 0.000050\n"
     ]
    },
    {
     "name": "stderr",
     "output_type": "stream",
     "text": [
      "\u001b[A\n",
      " 98%|█████████▊| 98/100 [05:36<00:06,  3.28s/it]"
     ]
    },
    {
     "name": "stdout",
     "output_type": "stream",
     "text": [
      "epoch 98 / 100 in 3.3s: loss 0.678658, trval_rocauc 0.999638, val_rocauc 0.756031, lr 0.000050\n"
     ]
    },
    {
     "name": "stderr",
     "output_type": "stream",
     "text": [
      "\u001b[A\n",
      " 99%|█████████▉| 99/100 [05:39<00:03,  3.32s/it]"
     ]
    },
    {
     "name": "stdout",
     "output_type": "stream",
     "text": [
      "epoch 99 / 100 in 3.4s: loss 0.685037, trval_rocauc 0.999638, val_rocauc 0.765519, lr 0.000050\n"
     ]
    },
    {
     "name": "stderr",
     "output_type": "stream",
     "text": [
      "\u001b[A\n",
      "100%|██████████| 100/100 [05:43<00:00,  3.32s/it]\u001b[A\n",
      " 25%|██▌       | 3/12 [18:38<56:28, 376.51s/it]  "
     ]
    },
    {
     "name": "stdout",
     "output_type": "stream",
     "text": [
      "epoch 100 / 100 in 3.3s: loss 0.679802, trval_rocauc 1.000000, val_rocauc 0.775820, lr 0.000050\n"
     ]
    },
    {
     "name": "stderr",
     "output_type": "stream",
     "text": [
      "\n",
      "  0%|          | 0/100 [00:00<?, ?it/s]\u001b[A\n",
      "  1%|          | 1/100 [00:03<05:25,  3.28s/it]"
     ]
    },
    {
     "name": "stdout",
     "output_type": "stream",
     "text": [
      "epoch 1 / 100 in 3.3s: loss 0.697877, trval_rocauc 0.575694, val_rocauc 0.648810, lr 0.000050\n"
     ]
    },
    {
     "name": "stderr",
     "output_type": "stream",
     "text": [
      "\u001b[A\n",
      "  2%|▏         | 2/100 [00:06<05:22,  3.29s/it]"
     ]
    },
    {
     "name": "stdout",
     "output_type": "stream",
     "text": [
      "epoch 2 / 100 in 3.3s: loss 0.695583, trval_rocauc 0.626603, val_rocauc 0.716931, lr 0.000050\n"
     ]
    },
    {
     "name": "stderr",
     "output_type": "stream",
     "text": [
      "\u001b[A\n",
      "  3%|▎         | 3/100 [00:09<05:19,  3.29s/it]"
     ]
    },
    {
     "name": "stdout",
     "output_type": "stream",
     "text": [
      "epoch 3 / 100 in 3.3s: loss 0.695377, trval_rocauc 0.677895, val_rocauc 0.721230, lr 0.000050\n"
     ]
    },
    {
     "name": "stderr",
     "output_type": "stream",
     "text": [
      "\u001b[A\n",
      "  4%|▍         | 4/100 [00:13<05:15,  3.29s/it]"
     ]
    },
    {
     "name": "stdout",
     "output_type": "stream",
     "text": [
      "epoch 4 / 100 in 3.3s: loss 0.692276, trval_rocauc 0.717321, val_rocauc 0.790013, lr 0.000050\n"
     ]
    },
    {
     "name": "stderr",
     "output_type": "stream",
     "text": [
      "\u001b[A\n",
      "  5%|▌         | 5/100 [00:16<05:12,  3.29s/it]"
     ]
    },
    {
     "name": "stdout",
     "output_type": "stream",
     "text": [
      "epoch 5 / 100 in 3.3s: loss 0.693185, trval_rocauc 0.787368, val_rocauc 0.780754, lr 0.000050\n"
     ]
    },
    {
     "name": "stderr",
     "output_type": "stream",
     "text": [
      "\u001b[A\n",
      "  6%|▌         | 6/100 [00:19<05:08,  3.29s/it]"
     ]
    },
    {
     "name": "stdout",
     "output_type": "stream",
     "text": [
      "epoch 6 / 100 in 3.3s: loss 0.689950, trval_rocauc 0.805167, val_rocauc 0.790013, lr 0.000050\n"
     ]
    },
    {
     "name": "stderr",
     "output_type": "stream",
     "text": [
      "\u001b[A\n",
      "  7%|▋         | 7/100 [00:23<05:05,  3.28s/it]"
     ]
    },
    {
     "name": "stdout",
     "output_type": "stream",
     "text": [
      "epoch 7 / 100 in 3.3s: loss 0.689848, trval_rocauc 0.833301, val_rocauc 0.796296, lr 0.000050\n"
     ]
    },
    {
     "name": "stderr",
     "output_type": "stream",
     "text": [
      "\u001b[A\n",
      "  8%|▊         | 8/100 [00:26<05:01,  3.27s/it]"
     ]
    },
    {
     "name": "stdout",
     "output_type": "stream",
     "text": [
      "epoch 8 / 100 in 3.3s: loss 0.689721, trval_rocauc 0.850335, val_rocauc 0.782407, lr 0.000050\n"
     ]
    },
    {
     "name": "stderr",
     "output_type": "stream",
     "text": [
      "\u001b[A\n",
      "  9%|▉         | 9/100 [00:29<04:58,  3.28s/it]"
     ]
    },
    {
     "name": "stdout",
     "output_type": "stream",
     "text": [
      "epoch 9 / 100 in 3.3s: loss 0.690622, trval_rocauc 0.869474, val_rocauc 0.817460, lr 0.000050\n"
     ]
    },
    {
     "name": "stderr",
     "output_type": "stream",
     "text": [
      "\u001b[A\n",
      " 10%|█         | 10/100 [00:32<04:54,  3.28s/it]"
     ]
    },
    {
     "name": "stdout",
     "output_type": "stream",
     "text": [
      "epoch 10 / 100 in 3.3s: loss 0.689479, trval_rocauc 0.896459, val_rocauc 0.829696, lr 0.000050\n"
     ]
    },
    {
     "name": "stderr",
     "output_type": "stream",
     "text": [
      "\u001b[A\n",
      " 11%|█         | 11/100 [00:36<04:51,  3.27s/it]"
     ]
    },
    {
     "name": "stdout",
     "output_type": "stream",
     "text": [
      "epoch 11 / 100 in 3.3s: loss 0.687965, trval_rocauc 0.898756, val_rocauc 0.823082, lr 0.000050\n"
     ]
    },
    {
     "name": "stderr",
     "output_type": "stream",
     "text": [
      "\u001b[A\n",
      " 12%|█▏        | 12/100 [00:39<04:48,  3.28s/it]"
     ]
    },
    {
     "name": "stdout",
     "output_type": "stream",
     "text": [
      "epoch 12 / 100 in 3.3s: loss 0.687518, trval_rocauc 0.906986, val_rocauc 0.840939, lr 0.000050\n"
     ]
    },
    {
     "name": "stderr",
     "output_type": "stream",
     "text": [
      "\u001b[A\n",
      " 13%|█▎        | 13/100 [00:42<04:44,  3.27s/it]"
     ]
    },
    {
     "name": "stdout",
     "output_type": "stream",
     "text": [
      "epoch 13 / 100 in 3.3s: loss 0.689516, trval_rocauc 0.915407, val_rocauc 0.821759, lr 0.000050\n"
     ]
    },
    {
     "name": "stderr",
     "output_type": "stream",
     "text": [
      "\u001b[A\n",
      " 14%|█▍        | 14/100 [00:45<04:41,  3.27s/it]"
     ]
    },
    {
     "name": "stdout",
     "output_type": "stream",
     "text": [
      "epoch 14 / 100 in 3.3s: loss 0.687207, trval_rocauc 0.924785, val_rocauc 0.808532, lr 0.000050\n"
     ]
    },
    {
     "name": "stderr",
     "output_type": "stream",
     "text": [
      "\u001b[A\n",
      " 15%|█▌        | 15/100 [00:49<04:37,  3.27s/it]"
     ]
    },
    {
     "name": "stdout",
     "output_type": "stream",
     "text": [
      "epoch 15 / 100 in 3.3s: loss 0.686428, trval_rocauc 0.931866, val_rocauc 0.803902, lr 0.000050\n"
     ]
    },
    {
     "name": "stderr",
     "output_type": "stream",
     "text": [
      "\u001b[A\n",
      " 16%|█▌        | 16/100 [00:52<04:35,  3.28s/it]"
     ]
    },
    {
     "name": "stdout",
     "output_type": "stream",
     "text": [
      "epoch 16 / 100 in 3.3s: loss 0.688029, trval_rocauc 0.938756, val_rocauc 0.781085, lr 0.000050\n"
     ]
    },
    {
     "name": "stderr",
     "output_type": "stream",
     "text": [
      "\u001b[A\n",
      " 17%|█▋        | 17/100 [00:55<04:31,  3.27s/it]"
     ]
    },
    {
     "name": "stdout",
     "output_type": "stream",
     "text": [
      "epoch 17 / 100 in 3.3s: loss 0.687344, trval_rocauc 0.941244, val_rocauc 0.791005, lr 0.000050\n"
     ]
    },
    {
     "name": "stderr",
     "output_type": "stream",
     "text": [
      "\u001b[A\n",
      " 18%|█▊        | 18/100 [00:58<04:28,  3.27s/it]"
     ]
    },
    {
     "name": "stdout",
     "output_type": "stream",
     "text": [
      "epoch 18 / 100 in 3.3s: loss 0.687680, trval_rocauc 0.946220, val_rocauc 0.785714, lr 0.000050\n"
     ]
    },
    {
     "name": "stderr",
     "output_type": "stream",
     "text": [
      "\u001b[A\n",
      " 19%|█▉        | 19/100 [01:02<04:24,  3.27s/it]"
     ]
    },
    {
     "name": "stdout",
     "output_type": "stream",
     "text": [
      "epoch 19 / 100 in 3.3s: loss 0.687415, trval_rocauc 0.944880, val_rocauc 0.766534, lr 0.000050\n"
     ]
    },
    {
     "name": "stderr",
     "output_type": "stream",
     "text": [
      "\u001b[A\n",
      " 20%|██        | 20/100 [01:05<04:21,  3.27s/it]"
     ]
    },
    {
     "name": "stdout",
     "output_type": "stream",
     "text": [
      "epoch 20 / 100 in 3.3s: loss 0.687074, trval_rocauc 0.951962, val_rocauc 0.755291, lr 0.000050\n"
     ]
    },
    {
     "name": "stderr",
     "output_type": "stream",
     "text": [
      "\u001b[A\n",
      " 21%|██        | 21/100 [01:08<04:18,  3.27s/it]"
     ]
    },
    {
     "name": "stdout",
     "output_type": "stream",
     "text": [
      "epoch 21 / 100 in 3.3s: loss 0.685668, trval_rocauc 0.955981, val_rocauc 0.773810, lr 0.000050\n"
     ]
    },
    {
     "name": "stderr",
     "output_type": "stream",
     "text": [
      "\u001b[A\n",
      " 22%|██▏       | 22/100 [01:12<04:15,  3.27s/it]"
     ]
    },
    {
     "name": "stdout",
     "output_type": "stream",
     "text": [
      "epoch 22 / 100 in 3.3s: loss 0.686427, trval_rocauc 0.953684, val_rocauc 0.796627, lr 0.000050\n"
     ]
    },
    {
     "name": "stderr",
     "output_type": "stream",
     "text": [
      "\u001b[A\n",
      " 23%|██▎       | 23/100 [01:15<04:11,  3.27s/it]"
     ]
    },
    {
     "name": "stdout",
     "output_type": "stream",
     "text": [
      "epoch 23 / 100 in 3.3s: loss 0.687882, trval_rocauc 0.963828, val_rocauc 0.799272, lr 0.000050\n"
     ]
    },
    {
     "name": "stderr",
     "output_type": "stream",
     "text": [
      "\u001b[A\n",
      " 24%|██▍       | 24/100 [01:18<04:08,  3.26s/it]"
     ]
    },
    {
     "name": "stdout",
     "output_type": "stream",
     "text": [
      "epoch 24 / 100 in 3.3s: loss 0.685070, trval_rocauc 0.970335, val_rocauc 0.816468, lr 0.000050\n"
     ]
    },
    {
     "name": "stderr",
     "output_type": "stream",
     "text": [
      "\u001b[A\n",
      " 25%|██▌       | 25/100 [01:21<04:05,  3.28s/it]"
     ]
    },
    {
     "name": "stdout",
     "output_type": "stream",
     "text": [
      "epoch 25 / 100 in 3.3s: loss 0.685203, trval_rocauc 0.968995, val_rocauc 0.803241, lr 0.000050\n"
     ]
    },
    {
     "name": "stderr",
     "output_type": "stream",
     "text": [
      "\u001b[A\n",
      " 26%|██▌       | 26/100 [01:25<04:02,  3.27s/it]"
     ]
    },
    {
     "name": "stdout",
     "output_type": "stream",
     "text": [
      "epoch 26 / 100 in 3.3s: loss 0.686969, trval_rocauc 0.968230, val_rocauc 0.814484, lr 0.000050\n"
     ]
    },
    {
     "name": "stderr",
     "output_type": "stream",
     "text": [
      "\u001b[A\n",
      " 27%|██▋       | 27/100 [01:28<03:58,  3.27s/it]"
     ]
    },
    {
     "name": "stdout",
     "output_type": "stream",
     "text": [
      "epoch 27 / 100 in 3.3s: loss 0.683756, trval_rocauc 0.962488, val_rocauc 0.816468, lr 0.000050\n"
     ]
    },
    {
     "name": "stderr",
     "output_type": "stream",
     "text": [
      "\u001b[A\n",
      " 28%|██▊       | 28/100 [01:31<03:55,  3.27s/it]"
     ]
    },
    {
     "name": "stdout",
     "output_type": "stream",
     "text": [
      "epoch 28 / 100 in 3.3s: loss 0.684910, trval_rocauc 0.961148, val_rocauc 0.805556, lr 0.000050\n"
     ]
    },
    {
     "name": "stderr",
     "output_type": "stream",
     "text": [
      "\u001b[A\n",
      " 29%|██▉       | 29/100 [01:34<03:52,  3.27s/it]"
     ]
    },
    {
     "name": "stdout",
     "output_type": "stream",
     "text": [
      "epoch 29 / 100 in 3.3s: loss 0.684457, trval_rocauc 0.964593, val_rocauc 0.809193, lr 0.000050\n"
     ]
    },
    {
     "name": "stderr",
     "output_type": "stream",
     "text": [
      "\u001b[A\n",
      " 30%|███       | 30/100 [01:38<03:48,  3.27s/it]"
     ]
    },
    {
     "name": "stdout",
     "output_type": "stream",
     "text": [
      "epoch 30 / 100 in 3.3s: loss 0.687161, trval_rocauc 0.967656, val_rocauc 0.790344, lr 0.000050\n"
     ]
    },
    {
     "name": "stderr",
     "output_type": "stream",
     "text": [
      "\u001b[A\n",
      " 31%|███       | 31/100 [01:41<03:45,  3.26s/it]"
     ]
    },
    {
     "name": "stdout",
     "output_type": "stream",
     "text": [
      "epoch 31 / 100 in 3.3s: loss 0.683835, trval_rocauc 0.968038, val_rocauc 0.802910, lr 0.000050\n"
     ]
    },
    {
     "name": "stderr",
     "output_type": "stream",
     "text": [
      "\u001b[A\n",
      " 32%|███▏      | 32/100 [01:46<04:07,  3.65s/it]"
     ]
    },
    {
     "name": "stdout",
     "output_type": "stream",
     "text": [
      "epoch 32 / 100 in 4.5s: loss 0.684431, trval_rocauc 0.968804, val_rocauc 0.786376, lr 0.000050\n"
     ]
    },
    {
     "name": "stderr",
     "output_type": "stream",
     "text": [
      "\u001b[A\n",
      " 33%|███▎      | 33/100 [01:51<04:35,  4.11s/it]"
     ]
    },
    {
     "name": "stdout",
     "output_type": "stream",
     "text": [
      "epoch 33 / 100 in 5.2s: loss 0.680296, trval_rocauc 0.968612, val_rocauc 0.824405, lr 0.000050\n"
     ]
    },
    {
     "name": "stderr",
     "output_type": "stream",
     "text": [
      "\u001b[A\n",
      " 34%|███▍      | 34/100 [01:56<04:51,  4.41s/it]"
     ]
    },
    {
     "name": "stdout",
     "output_type": "stream",
     "text": [
      "epoch 34 / 100 in 5.1s: loss 0.684969, trval_rocauc 0.973971, val_rocauc 0.802249, lr 0.000050\n"
     ]
    },
    {
     "name": "stderr",
     "output_type": "stream",
     "text": [
      "\u001b[A\n",
      " 35%|███▌      | 35/100 [02:01<04:58,  4.60s/it]"
     ]
    },
    {
     "name": "stdout",
     "output_type": "stream",
     "text": [
      "epoch 35 / 100 in 5.0s: loss 0.682597, trval_rocauc 0.975694, val_rocauc 0.810185, lr 0.000050\n"
     ]
    },
    {
     "name": "stderr",
     "output_type": "stream",
     "text": [
      "\u001b[A\n",
      " 36%|███▌      | 36/100 [02:06<04:58,  4.66s/it]"
     ]
    },
    {
     "name": "stdout",
     "output_type": "stream",
     "text": [
      "epoch 36 / 100 in 4.8s: loss 0.686581, trval_rocauc 0.973780, val_rocauc 0.807540, lr 0.000050\n"
     ]
    },
    {
     "name": "stderr",
     "output_type": "stream",
     "text": [
      "\u001b[A\n",
      " 37%|███▋      | 37/100 [02:10<04:46,  4.55s/it]"
     ]
    },
    {
     "name": "stdout",
     "output_type": "stream",
     "text": [
      "epoch 37 / 100 in 4.3s: loss 0.682928, trval_rocauc 0.976459, val_rocauc 0.814153, lr 0.000050\n"
     ]
    },
    {
     "name": "stderr",
     "output_type": "stream",
     "text": [
      "\u001b[A\n",
      " 38%|███▊      | 38/100 [02:15<04:42,  4.55s/it]"
     ]
    },
    {
     "name": "stdout",
     "output_type": "stream",
     "text": [
      "epoch 38 / 100 in 4.5s: loss 0.684159, trval_rocauc 0.980096, val_rocauc 0.827381, lr 0.000050\n"
     ]
    },
    {
     "name": "stderr",
     "output_type": "stream",
     "text": [
      "\u001b[A\n",
      " 39%|███▉      | 39/100 [02:19<04:32,  4.46s/it]"
     ]
    },
    {
     "name": "stdout",
     "output_type": "stream",
     "text": [
      "epoch 39 / 100 in 4.3s: loss 0.684037, trval_rocauc 0.980287, val_rocauc 0.827050, lr 0.000050\n"
     ]
    },
    {
     "name": "stderr",
     "output_type": "stream",
     "text": [
      "\u001b[A\n",
      " 40%|████      | 40/100 [02:23<04:19,  4.32s/it]"
     ]
    },
    {
     "name": "stdout",
     "output_type": "stream",
     "text": [
      "epoch 40 / 100 in 4.0s: loss 0.684513, trval_rocauc 0.976842, val_rocauc 0.843585, lr 0.000050\n"
     ]
    },
    {
     "name": "stderr",
     "output_type": "stream",
     "text": [
      "\u001b[A\n",
      " 41%|████      | 41/100 [02:26<03:57,  4.03s/it]"
     ]
    },
    {
     "name": "stdout",
     "output_type": "stream",
     "text": [
      "epoch 41 / 100 in 3.4s: loss 0.683323, trval_rocauc 0.981627, val_rocauc 0.834325, lr 0.000050\n"
     ]
    },
    {
     "name": "stderr",
     "output_type": "stream",
     "text": [
      "\u001b[A\n",
      " 42%|████▏     | 42/100 [02:29<03:41,  3.82s/it]"
     ]
    },
    {
     "name": "stdout",
     "output_type": "stream",
     "text": [
      "epoch 42 / 100 in 3.3s: loss 0.681281, trval_rocauc 0.979904, val_rocauc 0.835648, lr 0.000050\n"
     ]
    },
    {
     "name": "stderr",
     "output_type": "stream",
     "text": [
      "\u001b[A\n",
      " 43%|████▎     | 43/100 [02:33<03:29,  3.67s/it]"
     ]
    },
    {
     "name": "stdout",
     "output_type": "stream",
     "text": [
      "epoch 43 / 100 in 3.3s: loss 0.684901, trval_rocauc 0.984498, val_rocauc 0.816799, lr 0.000050\n"
     ]
    },
    {
     "name": "stderr",
     "output_type": "stream",
     "text": [
      "\u001b[A\n",
      " 44%|████▍     | 44/100 [02:36<03:19,  3.56s/it]"
     ]
    },
    {
     "name": "stdout",
     "output_type": "stream",
     "text": [
      "epoch 44 / 100 in 3.3s: loss 0.681696, trval_rocauc 0.986220, val_rocauc 0.788360, lr 0.000050\n"
     ]
    },
    {
     "name": "stderr",
     "output_type": "stream",
     "text": [
      "\u001b[A\n",
      " 45%|████▌     | 45/100 [02:39<03:11,  3.47s/it]"
     ]
    },
    {
     "name": "stdout",
     "output_type": "stream",
     "text": [
      "epoch 45 / 100 in 3.3s: loss 0.684841, trval_rocauc 0.984498, val_rocauc 0.808532, lr 0.000050\n"
     ]
    },
    {
     "name": "stderr",
     "output_type": "stream",
     "text": [
      "\u001b[A\n",
      " 46%|████▌     | 46/100 [02:43<03:04,  3.42s/it]"
     ]
    },
    {
     "name": "stdout",
     "output_type": "stream",
     "text": [
      "epoch 46 / 100 in 3.3s: loss 0.685638, trval_rocauc 0.986986, val_rocauc 0.818452, lr 0.000050\n"
     ]
    },
    {
     "name": "stderr",
     "output_type": "stream",
     "text": [
      "\u001b[A\n",
      " 47%|████▋     | 47/100 [02:46<02:58,  3.38s/it]"
     ]
    },
    {
     "name": "stdout",
     "output_type": "stream",
     "text": [
      "epoch 47 / 100 in 3.3s: loss 0.685761, trval_rocauc 0.986411, val_rocauc 0.795635, lr 0.000050\n"
     ]
    },
    {
     "name": "stderr",
     "output_type": "stream",
     "text": [
      "\u001b[A\n",
      " 48%|████▊     | 48/100 [02:49<02:54,  3.35s/it]"
     ]
    },
    {
     "name": "stdout",
     "output_type": "stream",
     "text": [
      "epoch 48 / 100 in 3.3s: loss 0.685180, trval_rocauc 0.988517, val_rocauc 0.798280, lr 0.000050\n"
     ]
    },
    {
     "name": "stderr",
     "output_type": "stream",
     "text": [
      "\u001b[A\n",
      " 49%|████▉     | 49/100 [02:52<02:49,  3.32s/it]"
     ]
    },
    {
     "name": "stdout",
     "output_type": "stream",
     "text": [
      "epoch 49 / 100 in 3.3s: loss 0.685282, trval_rocauc 0.989665, val_rocauc 0.776786, lr 0.000050\n"
     ]
    },
    {
     "name": "stderr",
     "output_type": "stream",
     "text": [
      "\u001b[A\n",
      " 50%|█████     | 50/100 [02:56<02:45,  3.31s/it]"
     ]
    },
    {
     "name": "stdout",
     "output_type": "stream",
     "text": [
      "epoch 50 / 100 in 3.3s: loss 0.683518, trval_rocauc 0.989474, val_rocauc 0.786045, lr 0.000050\n"
     ]
    },
    {
     "name": "stderr",
     "output_type": "stream",
     "text": [
      "\u001b[A\n",
      " 51%|█████     | 51/100 [02:59<02:42,  3.33s/it]"
     ]
    },
    {
     "name": "stdout",
     "output_type": "stream",
     "text": [
      "epoch 51 / 100 in 3.4s: loss 0.685190, trval_rocauc 0.988517, val_rocauc 0.784392, lr 0.000050\n"
     ]
    },
    {
     "name": "stderr",
     "output_type": "stream",
     "text": [
      "\u001b[A\n",
      " 52%|█████▏    | 52/100 [03:02<02:39,  3.32s/it]"
     ]
    },
    {
     "name": "stdout",
     "output_type": "stream",
     "text": [
      "epoch 52 / 100 in 3.3s: loss 0.685056, trval_rocauc 0.990622, val_rocauc 0.775794, lr 0.000050\n"
     ]
    },
    {
     "name": "stderr",
     "output_type": "stream",
     "text": [
      "\u001b[A\n",
      " 53%|█████▎    | 53/100 [03:06<02:36,  3.32s/it]"
     ]
    },
    {
     "name": "stdout",
     "output_type": "stream",
     "text": [
      "epoch 53 / 100 in 3.3s: loss 0.685470, trval_rocauc 0.992727, val_rocauc 0.773148, lr 0.000050\n"
     ]
    },
    {
     "name": "stderr",
     "output_type": "stream",
     "text": [
      "\u001b[A\n",
      " 54%|█████▍    | 54/100 [03:09<02:32,  3.31s/it]"
     ]
    },
    {
     "name": "stdout",
     "output_type": "stream",
     "text": [
      "epoch 54 / 100 in 3.3s: loss 0.685345, trval_rocauc 0.993493, val_rocauc 0.767526, lr 0.000050\n"
     ]
    },
    {
     "name": "stderr",
     "output_type": "stream",
     "text": [
      "\u001b[A\n",
      " 55%|█████▌    | 55/100 [03:12<02:29,  3.32s/it]"
     ]
    },
    {
     "name": "stdout",
     "output_type": "stream",
     "text": [
      "epoch 55 / 100 in 3.3s: loss 0.681971, trval_rocauc 0.993684, val_rocauc 0.815807, lr 0.000050\n"
     ]
    },
    {
     "name": "stderr",
     "output_type": "stream",
     "text": [
      "\u001b[A\n",
      " 56%|█████▌    | 56/100 [03:16<02:25,  3.31s/it]"
     ]
    },
    {
     "name": "stdout",
     "output_type": "stream",
     "text": [
      "epoch 56 / 100 in 3.3s: loss 0.681403, trval_rocauc 0.994067, val_rocauc 0.814484, lr 0.000050\n"
     ]
    },
    {
     "name": "stderr",
     "output_type": "stream",
     "text": [
      "\u001b[A\n",
      " 57%|█████▋    | 57/100 [03:19<02:22,  3.31s/it]"
     ]
    },
    {
     "name": "stdout",
     "output_type": "stream",
     "text": [
      "epoch 57 / 100 in 3.3s: loss 0.683698, trval_rocauc 0.994258, val_rocauc 0.806217, lr 0.000050\n"
     ]
    },
    {
     "name": "stderr",
     "output_type": "stream",
     "text": [
      "\u001b[A\n",
      " 58%|█████▊    | 58/100 [03:22<02:18,  3.30s/it]"
     ]
    },
    {
     "name": "stdout",
     "output_type": "stream",
     "text": [
      "epoch 58 / 100 in 3.3s: loss 0.681636, trval_rocauc 0.993876, val_rocauc 0.800926, lr 0.000050\n"
     ]
    },
    {
     "name": "stderr",
     "output_type": "stream",
     "text": [
      "\u001b[A\n",
      " 59%|█████▉    | 59/100 [03:26<02:15,  3.30s/it]"
     ]
    },
    {
     "name": "stdout",
     "output_type": "stream",
     "text": [
      "epoch 59 / 100 in 3.3s: loss 0.682216, trval_rocauc 0.990813, val_rocauc 0.817791, lr 0.000050\n"
     ]
    },
    {
     "name": "stderr",
     "output_type": "stream",
     "text": [
      "\u001b[A\n",
      " 60%|██████    | 60/100 [03:29<02:11,  3.30s/it]"
     ]
    },
    {
     "name": "stdout",
     "output_type": "stream",
     "text": [
      "epoch 60 / 100 in 3.3s: loss 0.680567, trval_rocauc 0.990622, val_rocauc 0.814484, lr 0.000050\n"
     ]
    },
    {
     "name": "stderr",
     "output_type": "stream",
     "text": [
      "\u001b[A\n",
      " 61%|██████    | 61/100 [03:32<02:08,  3.29s/it]"
     ]
    },
    {
     "name": "stdout",
     "output_type": "stream",
     "text": [
      "epoch 61 / 100 in 3.3s: loss 0.684646, trval_rocauc 0.989665, val_rocauc 0.802910, lr 0.000050\n"
     ]
    },
    {
     "name": "stderr",
     "output_type": "stream",
     "text": [
      "\u001b[A\n",
      " 62%|██████▏   | 62/100 [03:35<02:05,  3.29s/it]"
     ]
    },
    {
     "name": "stdout",
     "output_type": "stream",
     "text": [
      "epoch 62 / 100 in 3.3s: loss 0.684506, trval_rocauc 0.986029, val_rocauc 0.758929, lr 0.000050\n"
     ]
    },
    {
     "name": "stderr",
     "output_type": "stream",
     "text": [
      "\u001b[A\n",
      " 63%|██████▎   | 63/100 [03:39<02:01,  3.28s/it]"
     ]
    },
    {
     "name": "stdout",
     "output_type": "stream",
     "text": [
      "epoch 63 / 100 in 3.3s: loss 0.680334, trval_rocauc 0.988517, val_rocauc 0.755952, lr 0.000050\n"
     ]
    },
    {
     "name": "stderr",
     "output_type": "stream",
     "text": [
      "\u001b[A\n",
      " 64%|██████▍   | 64/100 [03:42<01:57,  3.27s/it]"
     ]
    },
    {
     "name": "stdout",
     "output_type": "stream",
     "text": [
      "epoch 64 / 100 in 3.3s: loss 0.684542, trval_rocauc 0.991388, val_rocauc 0.742394, lr 0.000050\n"
     ]
    },
    {
     "name": "stderr",
     "output_type": "stream",
     "text": [
      "\u001b[A\n",
      " 65%|██████▌   | 65/100 [03:45<01:54,  3.27s/it]"
     ]
    },
    {
     "name": "stdout",
     "output_type": "stream",
     "text": [
      "epoch 65 / 100 in 3.3s: loss 0.683400, trval_rocauc 0.989474, val_rocauc 0.776786, lr 0.000050\n"
     ]
    },
    {
     "name": "stderr",
     "output_type": "stream",
     "text": [
      "\u001b[A\n",
      " 66%|██████▌   | 66/100 [03:48<01:50,  3.26s/it]"
     ]
    },
    {
     "name": "stdout",
     "output_type": "stream",
     "text": [
      "epoch 66 / 100 in 3.2s: loss 0.684871, trval_rocauc 0.985072, val_rocauc 0.764220, lr 0.000050\n"
     ]
    },
    {
     "name": "stderr",
     "output_type": "stream",
     "text": [
      "\u001b[A\n",
      " 67%|██████▋   | 67/100 [03:52<01:47,  3.27s/it]"
     ]
    },
    {
     "name": "stdout",
     "output_type": "stream",
     "text": [
      "epoch 67 / 100 in 3.3s: loss 0.682294, trval_rocauc 0.986603, val_rocauc 0.722553, lr 0.000050\n"
     ]
    },
    {
     "name": "stderr",
     "output_type": "stream",
     "text": [
      "\u001b[A\n",
      " 68%|██████▊   | 68/100 [03:55<01:46,  3.32s/it]"
     ]
    },
    {
     "name": "stdout",
     "output_type": "stream",
     "text": [
      "epoch 68 / 100 in 3.4s: loss 0.680356, trval_rocauc 0.992727, val_rocauc 0.771495, lr 0.000050\n"
     ]
    },
    {
     "name": "stderr",
     "output_type": "stream",
     "text": [
      "\u001b[A\n",
      " 69%|██████▉   | 69/100 [03:58<01:42,  3.30s/it]"
     ]
    },
    {
     "name": "stdout",
     "output_type": "stream",
     "text": [
      "epoch 69 / 100 in 3.3s: loss 0.681119, trval_rocauc 0.991196, val_rocauc 0.764550, lr 0.000050\n"
     ]
    },
    {
     "name": "stderr",
     "output_type": "stream",
     "text": [
      "\u001b[A\n",
      " 70%|███████   | 70/100 [04:02<01:38,  3.30s/it]"
     ]
    },
    {
     "name": "stdout",
     "output_type": "stream",
     "text": [
      "epoch 70 / 100 in 3.3s: loss 0.680456, trval_rocauc 0.991579, val_rocauc 0.776455, lr 0.000050\n"
     ]
    },
    {
     "name": "stderr",
     "output_type": "stream",
     "text": [
      "\u001b[A\n",
      " 71%|███████   | 71/100 [04:05<01:35,  3.30s/it]"
     ]
    },
    {
     "name": "stdout",
     "output_type": "stream",
     "text": [
      "epoch 71 / 100 in 3.3s: loss 0.675846, trval_rocauc 0.993684, val_rocauc 0.799934, lr 0.000050\n"
     ]
    },
    {
     "name": "stderr",
     "output_type": "stream",
     "text": [
      "\u001b[A\n",
      " 72%|███████▏  | 72/100 [04:08<01:32,  3.30s/it]"
     ]
    },
    {
     "name": "stdout",
     "output_type": "stream",
     "text": [
      "epoch 72 / 100 in 3.3s: loss 0.681467, trval_rocauc 0.991579, val_rocauc 0.799934, lr 0.000050\n"
     ]
    },
    {
     "name": "stderr",
     "output_type": "stream",
     "text": [
      "\u001b[A\n",
      " 73%|███████▎  | 73/100 [04:12<01:29,  3.30s/it]"
     ]
    },
    {
     "name": "stdout",
     "output_type": "stream",
     "text": [
      "epoch 73 / 100 in 3.3s: loss 0.682305, trval_rocauc 0.995981, val_rocauc 0.770172, lr 0.000050\n"
     ]
    },
    {
     "name": "stderr",
     "output_type": "stream",
     "text": [
      "\u001b[A\n",
      " 74%|███████▍  | 74/100 [04:15<01:25,  3.30s/it]"
     ]
    },
    {
     "name": "stdout",
     "output_type": "stream",
     "text": [
      "epoch 74 / 100 in 3.3s: loss 0.682900, trval_rocauc 0.996172, val_rocauc 0.753638, lr 0.000050\n"
     ]
    },
    {
     "name": "stderr",
     "output_type": "stream",
     "text": [
      "\u001b[A\n",
      " 75%|███████▌  | 75/100 [04:18<01:22,  3.29s/it]"
     ]
    },
    {
     "name": "stdout",
     "output_type": "stream",
     "text": [
      "epoch 75 / 100 in 3.3s: loss 0.683256, trval_rocauc 0.995215, val_rocauc 0.735780, lr 0.000050\n"
     ]
    },
    {
     "name": "stderr",
     "output_type": "stream",
     "text": [
      "\u001b[A\n",
      " 76%|███████▌  | 76/100 [04:21<01:18,  3.29s/it]"
     ]
    },
    {
     "name": "stdout",
     "output_type": "stream",
     "text": [
      "epoch 76 / 100 in 3.3s: loss 0.684017, trval_rocauc 0.995215, val_rocauc 0.729828, lr 0.000050\n"
     ]
    },
    {
     "name": "stderr",
     "output_type": "stream",
     "text": [
      "\u001b[A\n",
      " 77%|███████▋  | 77/100 [04:25<01:15,  3.28s/it]"
     ]
    },
    {
     "name": "stdout",
     "output_type": "stream",
     "text": [
      "epoch 77 / 100 in 3.3s: loss 0.684108, trval_rocauc 0.994067, val_rocauc 0.758267, lr 0.000050\n"
     ]
    },
    {
     "name": "stderr",
     "output_type": "stream",
     "text": [
      "\u001b[A\n",
      " 78%|███████▊  | 78/100 [04:28<01:12,  3.28s/it]"
     ]
    },
    {
     "name": "stdout",
     "output_type": "stream",
     "text": [
      "epoch 78 / 100 in 3.3s: loss 0.681771, trval_rocauc 0.994258, val_rocauc 0.775463, lr 0.000050\n"
     ]
    },
    {
     "name": "stderr",
     "output_type": "stream",
     "text": [
      "\u001b[A\n",
      " 79%|███████▉  | 79/100 [04:31<01:08,  3.27s/it]"
     ]
    },
    {
     "name": "stdout",
     "output_type": "stream",
     "text": [
      "epoch 79 / 100 in 3.3s: loss 0.683695, trval_rocauc 0.993876, val_rocauc 0.740741, lr 0.000050\n"
     ]
    },
    {
     "name": "stderr",
     "output_type": "stream",
     "text": [
      "\u001b[A\n",
      " 80%|████████  | 80/100 [04:34<01:05,  3.27s/it]"
     ]
    },
    {
     "name": "stdout",
     "output_type": "stream",
     "text": [
      "epoch 80 / 100 in 3.3s: loss 0.683740, trval_rocauc 0.993493, val_rocauc 0.737765, lr 0.000050\n"
     ]
    },
    {
     "name": "stderr",
     "output_type": "stream",
     "text": [
      "\u001b[A\n",
      " 81%|████████  | 81/100 [04:38<01:02,  3.27s/it]"
     ]
    },
    {
     "name": "stdout",
     "output_type": "stream",
     "text": [
      "epoch 81 / 100 in 3.3s: loss 0.683658, trval_rocauc 0.993684, val_rocauc 0.743056, lr 0.000050\n"
     ]
    },
    {
     "name": "stderr",
     "output_type": "stream",
     "text": [
      "\u001b[A\n",
      " 82%|████████▏ | 82/100 [04:41<00:58,  3.26s/it]"
     ]
    },
    {
     "name": "stdout",
     "output_type": "stream",
     "text": [
      "epoch 82 / 100 in 3.2s: loss 0.680730, trval_rocauc 0.997129, val_rocauc 0.755952, lr 0.000050\n"
     ]
    },
    {
     "name": "stderr",
     "output_type": "stream",
     "text": [
      "\u001b[A\n",
      " 83%|████████▎ | 83/100 [04:44<00:55,  3.26s/it]"
     ]
    },
    {
     "name": "stdout",
     "output_type": "stream",
     "text": [
      "epoch 83 / 100 in 3.3s: loss 0.685372, trval_rocauc 0.997703, val_rocauc 0.717593, lr 0.000050\n"
     ]
    },
    {
     "name": "stderr",
     "output_type": "stream",
     "text": [
      "\u001b[A\n",
      " 84%|████████▍ | 84/100 [04:47<00:52,  3.26s/it]"
     ]
    },
    {
     "name": "stdout",
     "output_type": "stream",
     "text": [
      "epoch 84 / 100 in 3.3s: loss 0.682777, trval_rocauc 0.998278, val_rocauc 0.745370, lr 0.000050\n"
     ]
    },
    {
     "name": "stderr",
     "output_type": "stream",
     "text": [
      "\u001b[A\n",
      " 85%|████████▌ | 85/100 [04:51<00:48,  3.26s/it]"
     ]
    },
    {
     "name": "stdout",
     "output_type": "stream",
     "text": [
      "epoch 85 / 100 in 3.3s: loss 0.682230, trval_rocauc 0.995789, val_rocauc 0.738095, lr 0.000050\n"
     ]
    },
    {
     "name": "stderr",
     "output_type": "stream",
     "text": [
      "\u001b[A\n",
      " 86%|████████▌ | 86/100 [04:54<00:45,  3.27s/it]"
     ]
    },
    {
     "name": "stdout",
     "output_type": "stream",
     "text": [
      "epoch 86 / 100 in 3.3s: loss 0.682560, trval_rocauc 0.995981, val_rocauc 0.704365, lr 0.000050\n"
     ]
    },
    {
     "name": "stderr",
     "output_type": "stream",
     "text": [
      "\u001b[A\n",
      " 87%|████████▋ | 87/100 [04:57<00:42,  3.27s/it]"
     ]
    },
    {
     "name": "stdout",
     "output_type": "stream",
     "text": [
      "epoch 87 / 100 in 3.3s: loss 0.683237, trval_rocauc 0.997703, val_rocauc 0.709325, lr 0.000050\n"
     ]
    },
    {
     "name": "stderr",
     "output_type": "stream",
     "text": [
      "\u001b[A\n",
      " 88%|████████▊ | 88/100 [05:01<00:39,  3.27s/it]"
     ]
    },
    {
     "name": "stdout",
     "output_type": "stream",
     "text": [
      "epoch 88 / 100 in 3.3s: loss 0.683880, trval_rocauc 0.997321, val_rocauc 0.694444, lr 0.000050\n"
     ]
    },
    {
     "name": "stderr",
     "output_type": "stream",
     "text": [
      "\u001b[A\n",
      " 89%|████████▉ | 89/100 [05:04<00:35,  3.27s/it]"
     ]
    },
    {
     "name": "stdout",
     "output_type": "stream",
     "text": [
      "epoch 89 / 100 in 3.3s: loss 0.682518, trval_rocauc 0.997129, val_rocauc 0.704034, lr 0.000050\n"
     ]
    },
    {
     "name": "stderr",
     "output_type": "stream",
     "text": [
      "\u001b[A\n",
      " 90%|█████████ | 90/100 [05:07<00:32,  3.27s/it]"
     ]
    },
    {
     "name": "stdout",
     "output_type": "stream",
     "text": [
      "epoch 90 / 100 in 3.3s: loss 0.679260, trval_rocauc 0.996172, val_rocauc 0.722553, lr 0.000050\n"
     ]
    },
    {
     "name": "stderr",
     "output_type": "stream",
     "text": [
      "\u001b[A\n",
      " 91%|█████████ | 91/100 [05:10<00:29,  3.27s/it]"
     ]
    },
    {
     "name": "stdout",
     "output_type": "stream",
     "text": [
      "epoch 91 / 100 in 3.3s: loss 0.682574, trval_rocauc 0.995981, val_rocauc 0.726521, lr 0.000050\n"
     ]
    },
    {
     "name": "stderr",
     "output_type": "stream",
     "text": [
      "\u001b[A\n",
      " 92%|█████████▏| 92/100 [05:14<00:26,  3.26s/it]"
     ]
    },
    {
     "name": "stdout",
     "output_type": "stream",
     "text": [
      "epoch 92 / 100 in 3.2s: loss 0.678296, trval_rocauc 0.995024, val_rocauc 0.737434, lr 0.000050\n"
     ]
    },
    {
     "name": "stderr",
     "output_type": "stream",
     "text": [
      "\u001b[A\n",
      " 93%|█████████▎| 93/100 [05:17<00:22,  3.26s/it]"
     ]
    },
    {
     "name": "stdout",
     "output_type": "stream",
     "text": [
      "epoch 93 / 100 in 3.3s: loss 0.681239, trval_rocauc 0.996555, val_rocauc 0.716931, lr 0.000050\n"
     ]
    },
    {
     "name": "stderr",
     "output_type": "stream",
     "text": [
      "\u001b[A\n",
      " 94%|█████████▍| 94/100 [05:20<00:19,  3.26s/it]"
     ]
    },
    {
     "name": "stdout",
     "output_type": "stream",
     "text": [
      "epoch 94 / 100 in 3.3s: loss 0.679414, trval_rocauc 0.995981, val_rocauc 0.744709, lr 0.000050\n"
     ]
    },
    {
     "name": "stderr",
     "output_type": "stream",
     "text": [
      "\u001b[A\n",
      " 95%|█████████▌| 95/100 [05:23<00:16,  3.26s/it]"
     ]
    },
    {
     "name": "stdout",
     "output_type": "stream",
     "text": [
      "epoch 95 / 100 in 3.2s: loss 0.684031, trval_rocauc 0.999234, val_rocauc 0.734788, lr 0.000050\n"
     ]
    },
    {
     "name": "stderr",
     "output_type": "stream",
     "text": [
      "\u001b[A\n",
      " 96%|█████████▌| 96/100 [05:27<00:13,  3.26s/it]"
     ]
    },
    {
     "name": "stdout",
     "output_type": "stream",
     "text": [
      "epoch 96 / 100 in 3.3s: loss 0.681604, trval_rocauc 0.998660, val_rocauc 0.746362, lr 0.000050\n"
     ]
    },
    {
     "name": "stderr",
     "output_type": "stream",
     "text": [
      "\u001b[A\n",
      " 97%|█████████▋| 97/100 [05:30<00:09,  3.26s/it]"
     ]
    },
    {
     "name": "stdout",
     "output_type": "stream",
     "text": [
      "epoch 97 / 100 in 3.3s: loss 0.684235, trval_rocauc 0.999426, val_rocauc 0.731151, lr 0.000050\n"
     ]
    },
    {
     "name": "stderr",
     "output_type": "stream",
     "text": [
      "\u001b[A\n",
      " 98%|█████████▊| 98/100 [05:33<00:06,  3.25s/it]"
     ]
    },
    {
     "name": "stdout",
     "output_type": "stream",
     "text": [
      "epoch 98 / 100 in 3.2s: loss 0.680690, trval_rocauc 0.999426, val_rocauc 0.724206, lr 0.000050\n"
     ]
    },
    {
     "name": "stderr",
     "output_type": "stream",
     "text": [
      "\u001b[A\n",
      " 99%|█████████▉| 99/100 [05:36<00:03,  3.25s/it]"
     ]
    },
    {
     "name": "stdout",
     "output_type": "stream",
     "text": [
      "epoch 99 / 100 in 3.2s: loss 0.678717, trval_rocauc 0.999234, val_rocauc 0.742063, lr 0.000050\n"
     ]
    },
    {
     "name": "stderr",
     "output_type": "stream",
     "text": [
      "\u001b[A\n",
      "100%|██████████| 100/100 [05:40<00:00,  3.25s/it]\u001b[A\n",
      " 33%|███▎      | 4/12 [24:21<48:50, 366.30s/it]"
     ]
    },
    {
     "name": "stdout",
     "output_type": "stream",
     "text": [
      "epoch 100 / 100 in 3.3s: loss 0.684000, trval_rocauc 0.999426, val_rocauc 0.738426, lr 0.000050\n"
     ]
    },
    {
     "name": "stderr",
     "output_type": "stream",
     "text": [
      "\n",
      "  0%|          | 0/100 [00:00<?, ?it/s]\u001b[A\n",
      "  1%|          | 1/100 [00:03<05:23,  3.26s/it]"
     ]
    },
    {
     "name": "stdout",
     "output_type": "stream",
     "text": [
      "epoch 1 / 100 in 3.3s: loss 0.694375, trval_rocauc 0.588959, val_rocauc 0.479529, lr 0.000050\n"
     ]
    },
    {
     "name": "stderr",
     "output_type": "stream",
     "text": [
      "\u001b[A\n",
      "  2%|▏         | 2/100 [00:06<05:20,  3.27s/it]"
     ]
    },
    {
     "name": "stdout",
     "output_type": "stream",
     "text": [
      "epoch 2 / 100 in 3.3s: loss 0.696053, trval_rocauc 0.687240, val_rocauc 0.584677, lr 0.000050\n"
     ]
    },
    {
     "name": "stderr",
     "output_type": "stream",
     "text": [
      "\u001b[A\n",
      "  3%|▎         | 3/100 [00:09<05:18,  3.28s/it]"
     ]
    },
    {
     "name": "stdout",
     "output_type": "stream",
     "text": [
      "epoch 3 / 100 in 3.3s: loss 0.690590, trval_rocauc 0.752217, val_rocauc 0.697581, lr 0.000050\n"
     ]
    },
    {
     "name": "stderr",
     "output_type": "stream",
     "text": [
      "\u001b[A\n",
      "  4%|▍         | 4/100 [00:13<05:20,  3.34s/it]"
     ]
    },
    {
     "name": "stdout",
     "output_type": "stream",
     "text": [
      "epoch 4 / 100 in 3.5s: loss 0.690535, trval_rocauc 0.816471, val_rocauc 0.691998, lr 0.000050\n"
     ]
    },
    {
     "name": "stderr",
     "output_type": "stream",
     "text": [
      "\u001b[A\n",
      "  5%|▌         | 5/100 [00:16<05:16,  3.33s/it]"
     ]
    },
    {
     "name": "stdout",
     "output_type": "stream",
     "text": [
      "epoch 5 / 100 in 3.3s: loss 0.690410, trval_rocauc 0.841629, val_rocauc 0.732940, lr 0.000050\n"
     ]
    },
    {
     "name": "stderr",
     "output_type": "stream",
     "text": [
      "\u001b[A\n",
      "  6%|▌         | 6/100 [00:19<05:13,  3.33s/it]"
     ]
    },
    {
     "name": "stdout",
     "output_type": "stream",
     "text": [
      "epoch 6 / 100 in 3.3s: loss 0.689563, trval_rocauc 0.857195, val_rocauc 0.741935, lr 0.000050\n"
     ]
    },
    {
     "name": "stderr",
     "output_type": "stream",
     "text": [
      "\u001b[A\n",
      "  7%|▋         | 7/100 [00:23<05:09,  3.33s/it]"
     ]
    },
    {
     "name": "stdout",
     "output_type": "stream",
     "text": [
      "epoch 7 / 100 in 3.3s: loss 0.691322, trval_rocauc 0.862805, val_rocauc 0.780707, lr 0.000050\n"
     ]
    },
    {
     "name": "stderr",
     "output_type": "stream",
     "text": [
      "\u001b[A\n",
      "  8%|▊         | 8/100 [00:26<05:06,  3.33s/it]"
     ]
    },
    {
     "name": "stdout",
     "output_type": "stream",
     "text": [
      "epoch 8 / 100 in 3.3s: loss 0.691109, trval_rocauc 0.887602, val_rocauc 0.744107, lr 0.000050\n"
     ]
    },
    {
     "name": "stderr",
     "output_type": "stream",
     "text": [
      "\u001b[A\n",
      "  9%|▉         | 9/100 [00:29<05:01,  3.31s/it]"
     ]
    },
    {
     "name": "stdout",
     "output_type": "stream",
     "text": [
      "epoch 9 / 100 in 3.3s: loss 0.690270, trval_rocauc 0.906425, val_rocauc 0.770782, lr 0.000050\n"
     ]
    },
    {
     "name": "stderr",
     "output_type": "stream",
     "text": [
      "\u001b[A\n",
      " 10%|█         | 10/100 [00:33<04:57,  3.30s/it]"
     ]
    },
    {
     "name": "stdout",
     "output_type": "stream",
     "text": [
      "epoch 10 / 100 in 3.3s: loss 0.687104, trval_rocauc 0.910407, val_rocauc 0.777295, lr 0.000050\n"
     ]
    },
    {
     "name": "stderr",
     "output_type": "stream",
     "text": [
      "\u001b[A\n",
      " 11%|█         | 11/100 [00:36<04:53,  3.30s/it]"
     ]
    },
    {
     "name": "stdout",
     "output_type": "stream",
     "text": [
      "epoch 11 / 100 in 3.3s: loss 0.689216, trval_rocauc 0.918914, val_rocauc 0.768300, lr 0.000050\n"
     ]
    },
    {
     "name": "stderr",
     "output_type": "stream",
     "text": [
      "\u001b[A\n",
      " 12%|█▏        | 12/100 [00:39<04:50,  3.30s/it]"
     ]
    },
    {
     "name": "stdout",
     "output_type": "stream",
     "text": [
      "epoch 12 / 100 in 3.3s: loss 0.686058, trval_rocauc 0.916742, val_rocauc 0.787531, lr 0.000050\n"
     ]
    },
    {
     "name": "stderr",
     "output_type": "stream",
     "text": [
      "\u001b[A\n",
      " 13%|█▎        | 13/100 [00:43<04:46,  3.29s/it]"
     ]
    },
    {
     "name": "stdout",
     "output_type": "stream",
     "text": [
      "epoch 13 / 100 in 3.3s: loss 0.688486, trval_rocauc 0.923439, val_rocauc 0.778226, lr 0.000050\n"
     ]
    },
    {
     "name": "stderr",
     "output_type": "stream",
     "text": [
      "\u001b[A\n",
      " 14%|█▍        | 14/100 [00:46<04:42,  3.29s/it]"
     ]
    },
    {
     "name": "stdout",
     "output_type": "stream",
     "text": [
      "epoch 14 / 100 in 3.3s: loss 0.688375, trval_rocauc 0.923439, val_rocauc 0.804591, lr 0.000050\n"
     ]
    },
    {
     "name": "stderr",
     "output_type": "stream",
     "text": [
      "\u001b[A\n",
      " 15%|█▌        | 15/100 [00:49<04:39,  3.29s/it]"
     ]
    },
    {
     "name": "stdout",
     "output_type": "stream",
     "text": [
      "epoch 15 / 100 in 3.3s: loss 0.689874, trval_rocauc 0.932851, val_rocauc 0.796216, lr 0.000050\n"
     ]
    },
    {
     "name": "stderr",
     "output_type": "stream",
     "text": [
      "\u001b[A\n",
      " 16%|█▌        | 16/100 [00:52<04:35,  3.28s/it]"
     ]
    },
    {
     "name": "stdout",
     "output_type": "stream",
     "text": [
      "epoch 16 / 100 in 3.3s: loss 0.687481, trval_rocauc 0.937738, val_rocauc 0.795285, lr 0.000050\n"
     ]
    },
    {
     "name": "stderr",
     "output_type": "stream",
     "text": [
      "\u001b[A\n",
      " 17%|█▋        | 17/100 [00:56<04:32,  3.28s/it]"
     ]
    },
    {
     "name": "stdout",
     "output_type": "stream",
     "text": [
      "epoch 17 / 100 in 3.3s: loss 0.687526, trval_rocauc 0.941900, val_rocauc 0.808933, lr 0.000050\n"
     ]
    },
    {
     "name": "stderr",
     "output_type": "stream",
     "text": [
      "\u001b[A\n",
      " 18%|█▊        | 18/100 [00:59<04:28,  3.28s/it]"
     ]
    },
    {
     "name": "stdout",
     "output_type": "stream",
     "text": [
      "epoch 18 / 100 in 3.3s: loss 0.688031, trval_rocauc 0.952760, val_rocauc 0.802419, lr 0.000050\n"
     ]
    },
    {
     "name": "stderr",
     "output_type": "stream",
     "text": [
      "\u001b[A\n",
      " 19%|█▉        | 19/100 [01:02<04:25,  3.28s/it]"
     ]
    },
    {
     "name": "stdout",
     "output_type": "stream",
     "text": [
      "epoch 19 / 100 in 3.3s: loss 0.685295, trval_rocauc 0.955294, val_rocauc 0.816998, lr 0.000050\n"
     ]
    },
    {
     "name": "stderr",
     "output_type": "stream",
     "text": [
      "\u001b[A\n",
      " 20%|██        | 20/100 [01:05<04:21,  3.27s/it]"
     ]
    },
    {
     "name": "stdout",
     "output_type": "stream",
     "text": [
      "epoch 20 / 100 in 3.3s: loss 0.684707, trval_rocauc 0.961448, val_rocauc 0.796836, lr 0.000050\n"
     ]
    },
    {
     "name": "stderr",
     "output_type": "stream",
     "text": [
      "\u001b[A\n",
      " 21%|██        | 21/100 [01:09<04:19,  3.28s/it]"
     ]
    },
    {
     "name": "stdout",
     "output_type": "stream",
     "text": [
      "epoch 21 / 100 in 3.3s: loss 0.688223, trval_rocauc 0.965430, val_rocauc 0.813586, lr 0.000050\n"
     ]
    },
    {
     "name": "stderr",
     "output_type": "stream",
     "text": [
      "\u001b[A\n",
      " 22%|██▏       | 22/100 [01:12<04:15,  3.28s/it]"
     ]
    },
    {
     "name": "stdout",
     "output_type": "stream",
     "text": [
      "epoch 22 / 100 in 3.3s: loss 0.686312, trval_rocauc 0.966516, val_rocauc 0.791873, lr 0.000050\n"
     ]
    },
    {
     "name": "stderr",
     "output_type": "stream",
     "text": [
      "\u001b[A\n",
      " 23%|██▎       | 23/100 [01:15<04:12,  3.28s/it]"
     ]
    },
    {
     "name": "stdout",
     "output_type": "stream",
     "text": [
      "epoch 23 / 100 in 3.3s: loss 0.686869, trval_rocauc 0.973394, val_rocauc 0.784739, lr 0.000050\n"
     ]
    },
    {
     "name": "stderr",
     "output_type": "stream",
     "text": [
      "\u001b[A\n",
      " 24%|██▍       | 24/100 [01:19<04:09,  3.28s/it]"
     ]
    },
    {
     "name": "stdout",
     "output_type": "stream",
     "text": [
      "epoch 24 / 100 in 3.3s: loss 0.684415, trval_rocauc 0.970498, val_rocauc 0.811725, lr 0.000050\n"
     ]
    },
    {
     "name": "stderr",
     "output_type": "stream",
     "text": [
      "\u001b[A\n",
      " 25%|██▌       | 25/100 [01:22<04:06,  3.28s/it]"
     ]
    },
    {
     "name": "stdout",
     "output_type": "stream",
     "text": [
      "epoch 25 / 100 in 3.3s: loss 0.684449, trval_rocauc 0.979005, val_rocauc 0.774504, lr 0.000050\n"
     ]
    },
    {
     "name": "stderr",
     "output_type": "stream",
     "text": [
      "\u001b[A\n",
      " 26%|██▌       | 26/100 [01:25<04:02,  3.28s/it]"
     ]
    },
    {
     "name": "stdout",
     "output_type": "stream",
     "text": [
      "epoch 26 / 100 in 3.3s: loss 0.688558, trval_rocauc 0.981357, val_rocauc 0.802419, lr 0.000050\n"
     ]
    },
    {
     "name": "stderr",
     "output_type": "stream",
     "text": [
      "\u001b[A\n",
      " 27%|██▋       | 27/100 [01:28<03:59,  3.28s/it]"
     ]
    },
    {
     "name": "stdout",
     "output_type": "stream",
     "text": [
      "epoch 27 / 100 in 3.3s: loss 0.683859, trval_rocauc 0.979729, val_rocauc 0.790012, lr 0.000050\n"
     ]
    },
    {
     "name": "stderr",
     "output_type": "stream",
     "text": [
      "\u001b[A\n",
      " 28%|██▊       | 28/100 [01:32<03:56,  3.28s/it]"
     ]
    },
    {
     "name": "stdout",
     "output_type": "stream",
     "text": [
      "epoch 28 / 100 in 3.3s: loss 0.684033, trval_rocauc 0.983348, val_rocauc 0.789702, lr 0.000050\n"
     ]
    },
    {
     "name": "stderr",
     "output_type": "stream",
     "text": [
      "\u001b[A\n",
      " 29%|██▉       | 29/100 [01:35<03:52,  3.28s/it]"
     ]
    },
    {
     "name": "stdout",
     "output_type": "stream",
     "text": [
      "epoch 29 / 100 in 3.3s: loss 0.684926, trval_rocauc 0.985158, val_rocauc 0.798697, lr 0.000050\n"
     ]
    },
    {
     "name": "stderr",
     "output_type": "stream",
     "text": [
      "\u001b[A\n",
      " 30%|███       | 30/100 [01:38<03:50,  3.29s/it]"
     ]
    },
    {
     "name": "stdout",
     "output_type": "stream",
     "text": [
      "epoch 30 / 100 in 3.3s: loss 0.683097, trval_rocauc 0.984072, val_rocauc 0.803350, lr 0.000050\n"
     ]
    },
    {
     "name": "stderr",
     "output_type": "stream",
     "text": [
      "\u001b[A\n",
      " 31%|███       | 31/100 [01:42<03:46,  3.28s/it]"
     ]
    },
    {
     "name": "stdout",
     "output_type": "stream",
     "text": [
      "epoch 31 / 100 in 3.3s: loss 0.684785, trval_rocauc 0.982805, val_rocauc 0.813896, lr 0.000050\n"
     ]
    },
    {
     "name": "stderr",
     "output_type": "stream",
     "text": [
      "\u001b[A\n",
      " 32%|███▏      | 32/100 [01:45<03:43,  3.28s/it]"
     ]
    },
    {
     "name": "stdout",
     "output_type": "stream",
     "text": [
      "epoch 32 / 100 in 3.3s: loss 0.684745, trval_rocauc 0.982805, val_rocauc 0.811104, lr 0.000050\n"
     ]
    },
    {
     "name": "stderr",
     "output_type": "stream",
     "text": [
      "\u001b[A\n",
      " 33%|███▎      | 33/100 [01:48<03:40,  3.28s/it]"
     ]
    },
    {
     "name": "stdout",
     "output_type": "stream",
     "text": [
      "epoch 33 / 100 in 3.3s: loss 0.686175, trval_rocauc 0.985339, val_rocauc 0.789082, lr 0.000050\n"
     ]
    },
    {
     "name": "stderr",
     "output_type": "stream",
     "text": [
      "\u001b[A\n",
      " 34%|███▍      | 34/100 [01:51<03:36,  3.28s/it]"
     ]
    },
    {
     "name": "stdout",
     "output_type": "stream",
     "text": [
      "epoch 34 / 100 in 3.3s: loss 0.684804, trval_rocauc 0.986787, val_rocauc 0.797457, lr 0.000050\n"
     ]
    },
    {
     "name": "stderr",
     "output_type": "stream",
     "text": [
      "\u001b[A\n",
      " 35%|███▌      | 35/100 [01:55<03:33,  3.28s/it]"
     ]
    },
    {
     "name": "stdout",
     "output_type": "stream",
     "text": [
      "epoch 35 / 100 in 3.3s: loss 0.681413, trval_rocauc 0.984977, val_rocauc 0.812345, lr 0.000050\n"
     ]
    },
    {
     "name": "stderr",
     "output_type": "stream",
     "text": [
      "\u001b[A\n",
      " 36%|███▌      | 36/100 [01:58<03:30,  3.28s/it]"
     ]
    },
    {
     "name": "stdout",
     "output_type": "stream",
     "text": [
      "epoch 36 / 100 in 3.3s: loss 0.683378, trval_rocauc 0.985339, val_rocauc 0.823821, lr 0.000050\n"
     ]
    },
    {
     "name": "stderr",
     "output_type": "stream",
     "text": [
      "\u001b[A\n",
      " 37%|███▋      | 37/100 [02:01<03:26,  3.28s/it]"
     ]
    },
    {
     "name": "stdout",
     "output_type": "stream",
     "text": [
      "epoch 37 / 100 in 3.3s: loss 0.684746, trval_rocauc 0.988054, val_rocauc 0.819479, lr 0.000050\n"
     ]
    },
    {
     "name": "stderr",
     "output_type": "stream",
     "text": [
      "\u001b[A\n",
      " 38%|███▊      | 38/100 [02:05<03:23,  3.28s/it]"
     ]
    },
    {
     "name": "stdout",
     "output_type": "stream",
     "text": [
      "epoch 38 / 100 in 3.3s: loss 0.683885, trval_rocauc 0.988778, val_rocauc 0.815136, lr 0.000050\n"
     ]
    },
    {
     "name": "stderr",
     "output_type": "stream",
     "text": [
      "\u001b[A\n",
      " 39%|███▉      | 39/100 [02:08<03:20,  3.28s/it]"
     ]
    },
    {
     "name": "stdout",
     "output_type": "stream",
     "text": [
      "epoch 39 / 100 in 3.3s: loss 0.685008, trval_rocauc 0.987873, val_rocauc 0.817308, lr 0.000050\n"
     ]
    },
    {
     "name": "stderr",
     "output_type": "stream",
     "text": [
      "\u001b[A\n",
      " 40%|████      | 40/100 [02:11<03:20,  3.33s/it]"
     ]
    },
    {
     "name": "stdout",
     "output_type": "stream",
     "text": [
      "epoch 40 / 100 in 3.4s: loss 0.683576, trval_rocauc 0.986787, val_rocauc 0.826923, lr 0.000050\n"
     ]
    },
    {
     "name": "stderr",
     "output_type": "stream",
     "text": [
      "\u001b[A\n",
      " 41%|████      | 41/100 [02:15<03:16,  3.33s/it]"
     ]
    },
    {
     "name": "stdout",
     "output_type": "stream",
     "text": [
      "epoch 41 / 100 in 3.3s: loss 0.684531, trval_rocauc 0.988778, val_rocauc 0.820099, lr 0.000050\n"
     ]
    },
    {
     "name": "stderr",
     "output_type": "stream",
     "text": [
      "\u001b[A\n",
      " 42%|████▏     | 42/100 [02:18<03:12,  3.31s/it]"
     ]
    },
    {
     "name": "stdout",
     "output_type": "stream",
     "text": [
      "epoch 42 / 100 in 3.3s: loss 0.683686, trval_rocauc 0.986787, val_rocauc 0.817928, lr 0.000050\n"
     ]
    },
    {
     "name": "stderr",
     "output_type": "stream",
     "text": [
      "\u001b[A\n",
      " 43%|████▎     | 43/100 [02:21<03:08,  3.31s/it]"
     ]
    },
    {
     "name": "stdout",
     "output_type": "stream",
     "text": [
      "epoch 43 / 100 in 3.3s: loss 0.684970, trval_rocauc 0.987692, val_rocauc 0.817928, lr 0.000050\n"
     ]
    },
    {
     "name": "stderr",
     "output_type": "stream",
     "text": [
      "\u001b[A\n",
      " 44%|████▍     | 44/100 [02:24<03:05,  3.31s/it]"
     ]
    },
    {
     "name": "stdout",
     "output_type": "stream",
     "text": [
      "epoch 44 / 100 in 3.3s: loss 0.683593, trval_rocauc 0.988778, val_rocauc 0.821030, lr 0.000050\n"
     ]
    },
    {
     "name": "stderr",
     "output_type": "stream",
     "text": [
      "\u001b[A\n",
      " 45%|████▌     | 45/100 [02:28<03:01,  3.31s/it]"
     ]
    },
    {
     "name": "stdout",
     "output_type": "stream",
     "text": [
      "epoch 45 / 100 in 3.3s: loss 0.684597, trval_rocauc 0.988597, val_rocauc 0.823821, lr 0.000050\n"
     ]
    },
    {
     "name": "stderr",
     "output_type": "stream",
     "text": [
      "\u001b[A\n",
      " 46%|████▌     | 46/100 [02:31<02:58,  3.30s/it]"
     ]
    },
    {
     "name": "stdout",
     "output_type": "stream",
     "text": [
      "epoch 46 / 100 in 3.3s: loss 0.683137, trval_rocauc 0.990226, val_rocauc 0.830335, lr 0.000050\n"
     ]
    },
    {
     "name": "stderr",
     "output_type": "stream",
     "text": [
      "\u001b[A\n",
      " 47%|████▋     | 47/100 [02:34<02:54,  3.29s/it]"
     ]
    },
    {
     "name": "stdout",
     "output_type": "stream",
     "text": [
      "epoch 47 / 100 in 3.3s: loss 0.684156, trval_rocauc 0.992398, val_rocauc 0.814206, lr 0.000050\n"
     ]
    },
    {
     "name": "stderr",
     "output_type": "stream",
     "text": [
      "\u001b[A\n",
      " 48%|████▊     | 48/100 [02:38<02:51,  3.30s/it]"
     ]
    },
    {
     "name": "stdout",
     "output_type": "stream",
     "text": [
      "epoch 48 / 100 in 3.3s: loss 0.685191, trval_rocauc 0.991855, val_rocauc 0.821030, lr 0.000050\n"
     ]
    },
    {
     "name": "stderr",
     "output_type": "stream",
     "text": [
      "\u001b[A\n",
      " 49%|████▉     | 49/100 [02:41<02:47,  3.29s/it]"
     ]
    },
    {
     "name": "stdout",
     "output_type": "stream",
     "text": [
      "epoch 49 / 100 in 3.3s: loss 0.681548, trval_rocauc 0.990407, val_rocauc 0.802730, lr 0.000050\n"
     ]
    },
    {
     "name": "stderr",
     "output_type": "stream",
     "text": [
      "\u001b[A\n",
      " 50%|█████     | 50/100 [02:44<02:44,  3.28s/it]"
     ]
    },
    {
     "name": "stdout",
     "output_type": "stream",
     "text": [
      "epoch 50 / 100 in 3.3s: loss 0.681754, trval_rocauc 0.990588, val_rocauc 0.820720, lr 0.000050\n"
     ]
    },
    {
     "name": "stderr",
     "output_type": "stream",
     "text": [
      "\u001b[A\n",
      " 51%|█████     | 51/100 [02:47<02:41,  3.29s/it]"
     ]
    },
    {
     "name": "stdout",
     "output_type": "stream",
     "text": [
      "epoch 51 / 100 in 3.3s: loss 0.685850, trval_rocauc 0.991131, val_rocauc 0.827233, lr 0.000050\n"
     ]
    },
    {
     "name": "stderr",
     "output_type": "stream",
     "text": [
      "\u001b[A\n",
      " 52%|█████▏    | 52/100 [02:51<02:37,  3.28s/it]"
     ]
    },
    {
     "name": "stdout",
     "output_type": "stream",
     "text": [
      "epoch 52 / 100 in 3.3s: loss 0.680438, trval_rocauc 0.988054, val_rocauc 0.819789, lr 0.000050\n"
     ]
    },
    {
     "name": "stderr",
     "output_type": "stream",
     "text": [
      "\u001b[A\n",
      " 53%|█████▎    | 53/100 [02:54<02:34,  3.28s/it]"
     ]
    },
    {
     "name": "stdout",
     "output_type": "stream",
     "text": [
      "epoch 53 / 100 in 3.3s: loss 0.681599, trval_rocauc 0.990950, val_rocauc 0.834677, lr 0.000050\n"
     ]
    },
    {
     "name": "stderr",
     "output_type": "stream",
     "text": [
      "\u001b[A\n",
      " 54%|█████▍    | 54/100 [02:57<02:30,  3.27s/it]"
     ]
    },
    {
     "name": "stdout",
     "output_type": "stream",
     "text": [
      "epoch 54 / 100 in 3.3s: loss 0.685333, trval_rocauc 0.990588, val_rocauc 0.833437, lr 0.000050\n"
     ]
    },
    {
     "name": "stderr",
     "output_type": "stream",
     "text": [
      "\u001b[A\n",
      " 55%|█████▌    | 55/100 [03:01<02:27,  3.28s/it]"
     ]
    },
    {
     "name": "stdout",
     "output_type": "stream",
     "text": [
      "epoch 55 / 100 in 3.3s: loss 0.682084, trval_rocauc 0.992579, val_rocauc 0.826923, lr 0.000050\n"
     ]
    },
    {
     "name": "stderr",
     "output_type": "stream",
     "text": [
      "\u001b[A\n",
      " 56%|█████▌    | 56/100 [03:04<02:24,  3.28s/it]"
     ]
    },
    {
     "name": "stdout",
     "output_type": "stream",
     "text": [
      "epoch 56 / 100 in 3.3s: loss 0.681926, trval_rocauc 0.991493, val_rocauc 0.826613, lr 0.000050\n"
     ]
    },
    {
     "name": "stderr",
     "output_type": "stream",
     "text": [
      "\u001b[A\n",
      " 57%|█████▋    | 57/100 [03:07<02:20,  3.28s/it]"
     ]
    },
    {
     "name": "stdout",
     "output_type": "stream",
     "text": [
      "epoch 57 / 100 in 3.3s: loss 0.684774, trval_rocauc 0.994389, val_rocauc 0.817928, lr 0.000050\n"
     ]
    },
    {
     "name": "stderr",
     "output_type": "stream",
     "text": [
      "\u001b[A\n",
      " 58%|█████▊    | 58/100 [03:10<02:17,  3.28s/it]"
     ]
    },
    {
     "name": "stdout",
     "output_type": "stream",
     "text": [
      "epoch 58 / 100 in 3.3s: loss 0.681689, trval_rocauc 0.992579, val_rocauc 0.816998, lr 0.000050\n"
     ]
    },
    {
     "name": "stderr",
     "output_type": "stream",
     "text": [
      "\u001b[A\n",
      " 59%|█████▉    | 59/100 [03:14<02:14,  3.28s/it]"
     ]
    },
    {
     "name": "stdout",
     "output_type": "stream",
     "text": [
      "epoch 59 / 100 in 3.3s: loss 0.679230, trval_rocauc 0.991674, val_rocauc 0.836228, lr 0.000050\n"
     ]
    },
    {
     "name": "stderr",
     "output_type": "stream",
     "text": [
      "\u001b[A\n",
      " 60%|██████    | 60/100 [03:17<02:11,  3.28s/it]"
     ]
    },
    {
     "name": "stdout",
     "output_type": "stream",
     "text": [
      "epoch 60 / 100 in 3.3s: loss 0.684971, trval_rocauc 0.992398, val_rocauc 0.840571, lr 0.000050\n"
     ]
    },
    {
     "name": "stderr",
     "output_type": "stream",
     "text": [
      "\u001b[A\n",
      " 61%|██████    | 61/100 [03:20<02:07,  3.28s/it]"
     ]
    },
    {
     "name": "stdout",
     "output_type": "stream",
     "text": [
      "epoch 61 / 100 in 3.3s: loss 0.676484, trval_rocauc 0.989502, val_rocauc 0.856079, lr 0.000050\n"
     ]
    },
    {
     "name": "stderr",
     "output_type": "stream",
     "text": [
      "\u001b[A\n",
      " 62%|██████▏   | 62/100 [03:24<02:04,  3.28s/it]"
     ]
    },
    {
     "name": "stdout",
     "output_type": "stream",
     "text": [
      "epoch 62 / 100 in 3.3s: loss 0.683809, trval_rocauc 0.992398, val_rocauc 0.831576, lr 0.000050\n"
     ]
    },
    {
     "name": "stderr",
     "output_type": "stream",
     "text": [
      "\u001b[A\n",
      " 63%|██████▎   | 63/100 [03:27<02:01,  3.27s/it]"
     ]
    },
    {
     "name": "stdout",
     "output_type": "stream",
     "text": [
      "epoch 63 / 100 in 3.3s: loss 0.683024, trval_rocauc 0.995475, val_rocauc 0.828474, lr 0.000050\n"
     ]
    },
    {
     "name": "stderr",
     "output_type": "stream",
     "text": [
      "\u001b[A\n",
      " 64%|██████▍   | 64/100 [03:30<01:57,  3.27s/it]"
     ]
    },
    {
     "name": "stdout",
     "output_type": "stream",
     "text": [
      "epoch 64 / 100 in 3.3s: loss 0.686658, trval_rocauc 0.995837, val_rocauc 0.828164, lr 0.000050\n"
     ]
    },
    {
     "name": "stderr",
     "output_type": "stream",
     "text": [
      "\u001b[A\n",
      " 65%|██████▌   | 65/100 [03:33<01:54,  3.27s/it]"
     ]
    },
    {
     "name": "stdout",
     "output_type": "stream",
     "text": [
      "epoch 65 / 100 in 3.3s: loss 0.678191, trval_rocauc 0.995656, val_rocauc 0.830335, lr 0.000050\n"
     ]
    },
    {
     "name": "stderr",
     "output_type": "stream",
     "text": [
      "\u001b[A\n",
      " 66%|██████▌   | 66/100 [03:37<01:51,  3.28s/it]"
     ]
    },
    {
     "name": "stdout",
     "output_type": "stream",
     "text": [
      "epoch 66 / 100 in 3.3s: loss 0.684616, trval_rocauc 0.996380, val_rocauc 0.813275, lr 0.000050\n"
     ]
    },
    {
     "name": "stderr",
     "output_type": "stream",
     "text": [
      "\u001b[A\n",
      " 67%|██████▋   | 67/100 [03:40<01:48,  3.28s/it]"
     ]
    },
    {
     "name": "stdout",
     "output_type": "stream",
     "text": [
      "epoch 67 / 100 in 3.3s: loss 0.684192, trval_rocauc 0.996018, val_rocauc 0.803040, lr 0.000050\n"
     ]
    },
    {
     "name": "stderr",
     "output_type": "stream",
     "text": [
      "\u001b[A\n",
      " 68%|██████▊   | 68/100 [03:43<01:44,  3.27s/it]"
     ]
    },
    {
     "name": "stdout",
     "output_type": "stream",
     "text": [
      "epoch 68 / 100 in 3.3s: loss 0.683712, trval_rocauc 0.997104, val_rocauc 0.797146, lr 0.000050\n"
     ]
    },
    {
     "name": "stderr",
     "output_type": "stream",
     "text": [
      "\u001b[A\n",
      " 69%|██████▉   | 69/100 [03:46<01:41,  3.28s/it]"
     ]
    },
    {
     "name": "stdout",
     "output_type": "stream",
     "text": [
      "epoch 69 / 100 in 3.3s: loss 0.681449, trval_rocauc 0.994751, val_rocauc 0.799318, lr 0.000050\n"
     ]
    },
    {
     "name": "stderr",
     "output_type": "stream",
     "text": [
      "\u001b[A\n",
      " 70%|███████   | 70/100 [03:50<01:38,  3.27s/it]"
     ]
    },
    {
     "name": "stdout",
     "output_type": "stream",
     "text": [
      "epoch 70 / 100 in 3.3s: loss 0.680798, trval_rocauc 0.993303, val_rocauc 0.794665, lr 0.000050\n"
     ]
    },
    {
     "name": "stderr",
     "output_type": "stream",
     "text": [
      "\u001b[A\n",
      " 71%|███████   | 71/100 [03:53<01:34,  3.28s/it]"
     ]
    },
    {
     "name": "stdout",
     "output_type": "stream",
     "text": [
      "epoch 71 / 100 in 3.3s: loss 0.684107, trval_rocauc 0.995113, val_rocauc 0.811104, lr 0.000050\n"
     ]
    },
    {
     "name": "stderr",
     "output_type": "stream",
     "text": [
      "\u001b[A\n",
      " 72%|███████▏  | 72/100 [03:56<01:31,  3.29s/it]"
     ]
    },
    {
     "name": "stdout",
     "output_type": "stream",
     "text": [
      "epoch 72 / 100 in 3.3s: loss 0.681337, trval_rocauc 0.995475, val_rocauc 0.810484, lr 0.000050\n"
     ]
    },
    {
     "name": "stderr",
     "output_type": "stream",
     "text": [
      "\u001b[A\n",
      " 73%|███████▎  | 73/100 [04:00<01:28,  3.28s/it]"
     ]
    },
    {
     "name": "stdout",
     "output_type": "stream",
     "text": [
      "epoch 73 / 100 in 3.3s: loss 0.683302, trval_rocauc 0.996742, val_rocauc 0.818548, lr 0.000050\n"
     ]
    },
    {
     "name": "stderr",
     "output_type": "stream",
     "text": [
      "\u001b[A\n",
      " 74%|███████▍  | 74/100 [04:03<01:25,  3.28s/it]"
     ]
    },
    {
     "name": "stdout",
     "output_type": "stream",
     "text": [
      "epoch 74 / 100 in 3.3s: loss 0.684192, trval_rocauc 0.997104, val_rocauc 0.811414, lr 0.000050\n"
     ]
    },
    {
     "name": "stderr",
     "output_type": "stream",
     "text": [
      "\u001b[A\n",
      " 75%|███████▌  | 75/100 [04:06<01:21,  3.28s/it]"
     ]
    },
    {
     "name": "stdout",
     "output_type": "stream",
     "text": [
      "epoch 75 / 100 in 3.3s: loss 0.679350, trval_rocauc 0.997647, val_rocauc 0.820720, lr 0.000050\n"
     ]
    },
    {
     "name": "stderr",
     "output_type": "stream",
     "text": [
      "\u001b[A\n",
      " 76%|███████▌  | 76/100 [04:09<01:18,  3.28s/it]"
     ]
    },
    {
     "name": "stdout",
     "output_type": "stream",
     "text": [
      "epoch 76 / 100 in 3.3s: loss 0.684630, trval_rocauc 0.998009, val_rocauc 0.824132, lr 0.000050\n"
     ]
    },
    {
     "name": "stderr",
     "output_type": "stream",
     "text": [
      "\u001b[A\n",
      " 77%|███████▋  | 77/100 [04:13<01:16,  3.35s/it]"
     ]
    },
    {
     "name": "stdout",
     "output_type": "stream",
     "text": [
      "epoch 77 / 100 in 3.5s: loss 0.683716, trval_rocauc 0.998371, val_rocauc 0.812345, lr 0.000050\n"
     ]
    },
    {
     "name": "stderr",
     "output_type": "stream",
     "text": [
      "\u001b[A\n",
      " 78%|███████▊  | 78/100 [04:16<01:13,  3.33s/it]"
     ]
    },
    {
     "name": "stdout",
     "output_type": "stream",
     "text": [
      "epoch 78 / 100 in 3.3s: loss 0.682213, trval_rocauc 0.997647, val_rocauc 0.816067, lr 0.000050\n"
     ]
    },
    {
     "name": "stderr",
     "output_type": "stream",
     "text": [
      "\u001b[A\n",
      " 79%|███████▉  | 79/100 [04:19<01:09,  3.31s/it]"
     ]
    },
    {
     "name": "stdout",
     "output_type": "stream",
     "text": [
      "epoch 79 / 100 in 3.3s: loss 0.683023, trval_rocauc 0.997285, val_rocauc 0.821650, lr 0.000050\n"
     ]
    },
    {
     "name": "stderr",
     "output_type": "stream",
     "text": [
      "\u001b[A\n",
      " 80%|████████  | 80/100 [04:23<01:06,  3.31s/it]"
     ]
    },
    {
     "name": "stdout",
     "output_type": "stream",
     "text": [
      "epoch 80 / 100 in 3.3s: loss 0.683374, trval_rocauc 0.997285, val_rocauc 0.815136, lr 0.000050\n"
     ]
    },
    {
     "name": "stderr",
     "output_type": "stream",
     "text": [
      "\u001b[A\n",
      " 81%|████████  | 81/100 [04:26<01:02,  3.31s/it]"
     ]
    },
    {
     "name": "stdout",
     "output_type": "stream",
     "text": [
      "epoch 81 / 100 in 3.3s: loss 0.683711, trval_rocauc 0.996923, val_rocauc 0.813586, lr 0.000050\n"
     ]
    },
    {
     "name": "stderr",
     "output_type": "stream",
     "text": [
      "\u001b[A\n",
      " 82%|████████▏ | 82/100 [04:29<00:59,  3.30s/it]"
     ]
    },
    {
     "name": "stdout",
     "output_type": "stream",
     "text": [
      "epoch 82 / 100 in 3.3s: loss 0.683640, trval_rocauc 0.998009, val_rocauc 0.823201, lr 0.000050\n"
     ]
    },
    {
     "name": "stderr",
     "output_type": "stream",
     "text": [
      "\u001b[A\n",
      " 83%|████████▎ | 83/100 [04:33<00:55,  3.29s/it]"
     ]
    },
    {
     "name": "stdout",
     "output_type": "stream",
     "text": [
      "epoch 83 / 100 in 3.3s: loss 0.680214, trval_rocauc 0.996561, val_rocauc 0.829715, lr 0.000050\n"
     ]
    },
    {
     "name": "stderr",
     "output_type": "stream",
     "text": [
      "\u001b[A\n",
      " 84%|████████▍ | 84/100 [04:36<00:52,  3.29s/it]"
     ]
    },
    {
     "name": "stdout",
     "output_type": "stream",
     "text": [
      "epoch 84 / 100 in 3.3s: loss 0.680415, trval_rocauc 0.996561, val_rocauc 0.835608, lr 0.000050\n"
     ]
    },
    {
     "name": "stderr",
     "output_type": "stream",
     "text": [
      "\u001b[A\n",
      " 85%|████████▌ | 85/100 [04:39<00:49,  3.29s/it]"
     ]
    },
    {
     "name": "stdout",
     "output_type": "stream",
     "text": [
      "epoch 85 / 100 in 3.3s: loss 0.681418, trval_rocauc 0.997285, val_rocauc 0.824132, lr 0.000050\n"
     ]
    },
    {
     "name": "stderr",
     "output_type": "stream",
     "text": [
      "\u001b[A\n",
      " 86%|████████▌ | 86/100 [04:42<00:45,  3.28s/it]"
     ]
    },
    {
     "name": "stdout",
     "output_type": "stream",
     "text": [
      "epoch 86 / 100 in 3.3s: loss 0.682174, trval_rocauc 0.998190, val_rocauc 0.821030, lr 0.000050\n"
     ]
    },
    {
     "name": "stderr",
     "output_type": "stream",
     "text": [
      "\u001b[A\n",
      " 87%|████████▋ | 87/100 [04:46<00:42,  3.28s/it]"
     ]
    },
    {
     "name": "stdout",
     "output_type": "stream",
     "text": [
      "epoch 87 / 100 in 3.3s: loss 0.679289, trval_rocauc 0.998371, val_rocauc 0.819789, lr 0.000050\n"
     ]
    },
    {
     "name": "stderr",
     "output_type": "stream",
     "text": [
      "\u001b[A\n",
      " 88%|████████▊ | 88/100 [04:49<00:39,  3.28s/it]"
     ]
    },
    {
     "name": "stdout",
     "output_type": "stream",
     "text": [
      "epoch 88 / 100 in 3.3s: loss 0.681104, trval_rocauc 0.998733, val_rocauc 0.826303, lr 0.000050\n"
     ]
    },
    {
     "name": "stderr",
     "output_type": "stream",
     "text": [
      "\u001b[A\n",
      " 89%|████████▉ | 89/100 [04:52<00:36,  3.28s/it]"
     ]
    },
    {
     "name": "stdout",
     "output_type": "stream",
     "text": [
      "epoch 89 / 100 in 3.3s: loss 0.682754, trval_rocauc 0.999276, val_rocauc 0.813586, lr 0.000050\n"
     ]
    },
    {
     "name": "stderr",
     "output_type": "stream",
     "text": [
      "\u001b[A\n",
      " 90%|█████████ | 90/100 [04:56<00:32,  3.27s/it]"
     ]
    },
    {
     "name": "stdout",
     "output_type": "stream",
     "text": [
      "epoch 90 / 100 in 3.3s: loss 0.683000, trval_rocauc 1.000000, val_rocauc 0.815136, lr 0.000050\n"
     ]
    },
    {
     "name": "stderr",
     "output_type": "stream",
     "text": [
      "\u001b[A\n",
      " 91%|█████████ | 91/100 [04:59<00:29,  3.27s/it]"
     ]
    },
    {
     "name": "stdout",
     "output_type": "stream",
     "text": [
      "epoch 91 / 100 in 3.3s: loss 0.681132, trval_rocauc 0.999819, val_rocauc 0.813586, lr 0.000050\n"
     ]
    },
    {
     "name": "stderr",
     "output_type": "stream",
     "text": [
      "\u001b[A\n",
      " 92%|█████████▏| 92/100 [05:02<00:26,  3.27s/it]"
     ]
    },
    {
     "name": "stdout",
     "output_type": "stream",
     "text": [
      "epoch 92 / 100 in 3.3s: loss 0.683982, trval_rocauc 1.000000, val_rocauc 0.812655, lr 0.000050\n"
     ]
    },
    {
     "name": "stderr",
     "output_type": "stream",
     "text": [
      "\u001b[A\n",
      " 93%|█████████▎| 93/100 [05:05<00:22,  3.27s/it]"
     ]
    },
    {
     "name": "stdout",
     "output_type": "stream",
     "text": [
      "epoch 93 / 100 in 3.3s: loss 0.682225, trval_rocauc 0.999819, val_rocauc 0.801179, lr 0.000050\n"
     ]
    },
    {
     "name": "stderr",
     "output_type": "stream",
     "text": [
      "\u001b[A\n",
      " 94%|█████████▍| 94/100 [05:09<00:19,  3.27s/it]"
     ]
    },
    {
     "name": "stdout",
     "output_type": "stream",
     "text": [
      "epoch 94 / 100 in 3.3s: loss 0.676971, trval_rocauc 0.999276, val_rocauc 0.811414, lr 0.000050\n"
     ]
    },
    {
     "name": "stderr",
     "output_type": "stream",
     "text": [
      "\u001b[A\n",
      " 95%|█████████▌| 95/100 [05:12<00:16,  3.27s/it]"
     ]
    },
    {
     "name": "stdout",
     "output_type": "stream",
     "text": [
      "epoch 95 / 100 in 3.3s: loss 0.685029, trval_rocauc 1.000000, val_rocauc 0.808313, lr 0.000050\n"
     ]
    },
    {
     "name": "stderr",
     "output_type": "stream",
     "text": [
      "\u001b[A\n",
      " 96%|█████████▌| 96/100 [05:15<00:13,  3.27s/it]"
     ]
    },
    {
     "name": "stdout",
     "output_type": "stream",
     "text": [
      "epoch 96 / 100 in 3.3s: loss 0.680781, trval_rocauc 1.000000, val_rocauc 0.806452, lr 0.000050\n"
     ]
    },
    {
     "name": "stderr",
     "output_type": "stream",
     "text": [
      "\u001b[A\n",
      " 97%|█████████▋| 97/100 [05:18<00:09,  3.27s/it]"
     ]
    },
    {
     "name": "stdout",
     "output_type": "stream",
     "text": [
      "epoch 97 / 100 in 3.3s: loss 0.680538, trval_rocauc 0.999819, val_rocauc 0.810174, lr 0.000050\n"
     ]
    },
    {
     "name": "stderr",
     "output_type": "stream",
     "text": [
      "\u001b[A\n",
      " 98%|█████████▊| 98/100 [05:22<00:06,  3.27s/it]"
     ]
    },
    {
     "name": "stdout",
     "output_type": "stream",
     "text": [
      "epoch 98 / 100 in 3.3s: loss 0.680321, trval_rocauc 1.000000, val_rocauc 0.813275, lr 0.000050\n"
     ]
    },
    {
     "name": "stderr",
     "output_type": "stream",
     "text": [
      "\u001b[A\n",
      " 99%|█████████▉| 99/100 [05:25<00:03,  3.27s/it]"
     ]
    },
    {
     "name": "stdout",
     "output_type": "stream",
     "text": [
      "epoch 99 / 100 in 3.3s: loss 0.682663, trval_rocauc 0.999819, val_rocauc 0.825682, lr 0.000050\n"
     ]
    },
    {
     "name": "stderr",
     "output_type": "stream",
     "text": [
      "\u001b[A\n",
      "100%|██████████| 100/100 [05:28<00:00,  3.27s/it]\u001b[A\n",
      " 42%|████▏     | 5/12 [29:52<41:30, 355.73s/it]"
     ]
    },
    {
     "name": "stdout",
     "output_type": "stream",
     "text": [
      "epoch 100 / 100 in 3.3s: loss 0.682684, trval_rocauc 1.000000, val_rocauc 0.825993, lr 0.000050\n"
     ]
    },
    {
     "name": "stderr",
     "output_type": "stream",
     "text": [
      "\n",
      "  0%|          | 0/100 [00:00<?, ?it/s]\u001b[A\n",
      "  1%|          | 1/100 [00:03<05:22,  3.26s/it]"
     ]
    },
    {
     "name": "stdout",
     "output_type": "stream",
     "text": [
      "epoch 1 / 100 in 3.3s: loss 0.698809, trval_rocauc 0.644985, val_rocauc 0.613040, lr 0.000050\n"
     ]
    },
    {
     "name": "stderr",
     "output_type": "stream",
     "text": [
      "\u001b[A\n",
      "  2%|▏         | 2/100 [00:06<05:20,  3.27s/it]"
     ]
    },
    {
     "name": "stdout",
     "output_type": "stream",
     "text": [
      "epoch 2 / 100 in 3.3s: loss 0.696901, trval_rocauc 0.692406, val_rocauc 0.655093, lr 0.000050\n"
     ]
    },
    {
     "name": "stderr",
     "output_type": "stream",
     "text": [
      "\u001b[A\n",
      "  3%|▎         | 3/100 [00:09<05:16,  3.27s/it]"
     ]
    },
    {
     "name": "stdout",
     "output_type": "stream",
     "text": [
      "epoch 3 / 100 in 3.3s: loss 0.694101, trval_rocauc 0.740007, val_rocauc 0.703125, lr 0.000050\n"
     ]
    },
    {
     "name": "stderr",
     "output_type": "stream",
     "text": [
      "\u001b[A\n",
      "  4%|▍         | 4/100 [00:13<05:13,  3.27s/it]"
     ]
    },
    {
     "name": "stdout",
     "output_type": "stream",
     "text": [
      "epoch 4 / 100 in 3.3s: loss 0.693953, trval_rocauc 0.770349, val_rocauc 0.672454, lr 0.000050\n"
     ]
    },
    {
     "name": "stderr",
     "output_type": "stream",
     "text": [
      "\u001b[A\n",
      "  5%|▌         | 5/100 [00:16<05:10,  3.27s/it]"
     ]
    },
    {
     "name": "stdout",
     "output_type": "stream",
     "text": [
      "epoch 5 / 100 in 3.3s: loss 0.692387, trval_rocauc 0.817769, val_rocauc 0.711998, lr 0.000050\n"
     ]
    },
    {
     "name": "stderr",
     "output_type": "stream",
     "text": [
      "\u001b[A\n",
      "  6%|▌         | 6/100 [00:19<05:07,  3.27s/it]"
     ]
    },
    {
     "name": "stdout",
     "output_type": "stream",
     "text": [
      "epoch 6 / 100 in 3.3s: loss 0.690373, trval_rocauc 0.835574, val_rocauc 0.708526, lr 0.000050\n"
     ]
    },
    {
     "name": "stderr",
     "output_type": "stream",
     "text": [
      "\u001b[A\n",
      "  7%|▋         | 7/100 [00:22<05:04,  3.27s/it]"
     ]
    },
    {
     "name": "stdout",
     "output_type": "stream",
     "text": [
      "epoch 7 / 100 in 3.3s: loss 0.691204, trval_rocauc 0.843750, val_rocauc 0.724344, lr 0.000050\n"
     ]
    },
    {
     "name": "stderr",
     "output_type": "stream",
     "text": [
      "\u001b[A\n",
      "  8%|▊         | 8/100 [00:26<05:01,  3.27s/it]"
     ]
    },
    {
     "name": "stdout",
     "output_type": "stream",
     "text": [
      "epoch 8 / 100 in 3.3s: loss 0.689462, trval_rocauc 0.850836, val_rocauc 0.726852, lr 0.000050\n"
     ]
    },
    {
     "name": "stderr",
     "output_type": "stream",
     "text": [
      "\u001b[A\n",
      "  9%|▉         | 9/100 [00:29<04:57,  3.27s/it]"
     ]
    },
    {
     "name": "stdout",
     "output_type": "stream",
     "text": [
      "epoch 9 / 100 in 3.3s: loss 0.690666, trval_rocauc 0.869731, val_rocauc 0.746528, lr 0.000050\n"
     ]
    },
    {
     "name": "stderr",
     "output_type": "stream",
     "text": [
      "\u001b[A\n",
      " 10%|█         | 10/100 [00:32<04:54,  3.27s/it]"
     ]
    },
    {
     "name": "stdout",
     "output_type": "stream",
     "text": [
      "epoch 10 / 100 in 3.3s: loss 0.690961, trval_rocauc 0.879360, val_rocauc 0.750193, lr 0.000050\n"
     ]
    },
    {
     "name": "stderr",
     "output_type": "stream",
     "text": [
      "\u001b[A\n",
      " 11%|█         | 11/100 [00:36<04:51,  3.27s/it]"
     ]
    },
    {
     "name": "stdout",
     "output_type": "stream",
     "text": [
      "epoch 11 / 100 in 3.3s: loss 0.690374, trval_rocauc 0.891352, val_rocauc 0.734375, lr 0.000050\n"
     ]
    },
    {
     "name": "stderr",
     "output_type": "stream",
     "text": [
      "\u001b[A\n",
      " 12%|█▏        | 12/100 [00:39<04:48,  3.28s/it]"
     ]
    },
    {
     "name": "stdout",
     "output_type": "stream",
     "text": [
      "epoch 12 / 100 in 3.3s: loss 0.688090, trval_rocauc 0.890080, val_rocauc 0.746335, lr 0.000050\n"
     ]
    },
    {
     "name": "stderr",
     "output_type": "stream",
     "text": [
      "\u001b[A\n",
      " 13%|█▎        | 13/100 [00:42<04:51,  3.35s/it]"
     ]
    },
    {
     "name": "stdout",
     "output_type": "stream",
     "text": [
      "epoch 13 / 100 in 3.5s: loss 0.689520, trval_rocauc 0.897166, val_rocauc 0.743634, lr 0.000050\n"
     ]
    },
    {
     "name": "stderr",
     "output_type": "stream",
     "text": [
      "\u001b[A\n",
      " 14%|█▍        | 14/100 [00:46<04:45,  3.32s/it]"
     ]
    },
    {
     "name": "stdout",
     "output_type": "stream",
     "text": [
      "epoch 14 / 100 in 3.3s: loss 0.688417, trval_rocauc 0.909520, val_rocauc 0.750965, lr 0.000050\n"
     ]
    },
    {
     "name": "stderr",
     "output_type": "stream",
     "text": [
      "\u001b[A\n",
      " 15%|█▌        | 15/100 [00:49<04:41,  3.31s/it]"
     ]
    },
    {
     "name": "stdout",
     "output_type": "stream",
     "text": [
      "epoch 15 / 100 in 3.3s: loss 0.688206, trval_rocauc 0.911701, val_rocauc 0.749807, lr 0.000050\n"
     ]
    },
    {
     "name": "stderr",
     "output_type": "stream",
     "text": [
      "\u001b[A\n",
      " 16%|█▌        | 16/100 [00:52<04:37,  3.31s/it]"
     ]
    },
    {
     "name": "stdout",
     "output_type": "stream",
     "text": [
      "epoch 16 / 100 in 3.3s: loss 0.688564, trval_rocauc 0.922057, val_rocauc 0.756752, lr 0.000050\n"
     ]
    },
    {
     "name": "stderr",
     "output_type": "stream",
     "text": [
      "\u001b[A\n",
      " 17%|█▋        | 17/100 [00:55<04:34,  3.31s/it]"
     ]
    },
    {
     "name": "stdout",
     "output_type": "stream",
     "text": [
      "epoch 17 / 100 in 3.3s: loss 0.686078, trval_rocauc 0.936773, val_rocauc 0.756559, lr 0.000050\n"
     ]
    },
    {
     "name": "stderr",
     "output_type": "stream",
     "text": [
      "\u001b[A\n",
      " 18%|█▊        | 18/100 [00:59<04:30,  3.30s/it]"
     ]
    },
    {
     "name": "stdout",
     "output_type": "stream",
     "text": [
      "epoch 18 / 100 in 3.3s: loss 0.689701, trval_rocauc 0.943496, val_rocauc 0.749807, lr 0.000050\n"
     ]
    },
    {
     "name": "stderr",
     "output_type": "stream",
     "text": [
      "\u001b[A\n",
      " 19%|█▉        | 19/100 [01:02<04:26,  3.29s/it]"
     ]
    },
    {
     "name": "stdout",
     "output_type": "stream",
     "text": [
      "epoch 19 / 100 in 3.3s: loss 0.688202, trval_rocauc 0.943132, val_rocauc 0.752894, lr 0.000050\n"
     ]
    },
    {
     "name": "stderr",
     "output_type": "stream",
     "text": [
      "\u001b[A\n",
      " 20%|██        | 20/100 [01:05<04:22,  3.29s/it]"
     ]
    },
    {
     "name": "stdout",
     "output_type": "stream",
     "text": [
      "epoch 20 / 100 in 3.3s: loss 0.686584, trval_rocauc 0.955124, val_rocauc 0.742284, lr 0.000050\n"
     ]
    },
    {
     "name": "stderr",
     "output_type": "stream",
     "text": [
      "\u001b[A\n",
      " 21%|██        | 21/100 [01:09<04:19,  3.29s/it]"
     ]
    },
    {
     "name": "stdout",
     "output_type": "stream",
     "text": [
      "epoch 21 / 100 in 3.3s: loss 0.688218, trval_rocauc 0.958394, val_rocauc 0.733989, lr 0.000050\n"
     ]
    },
    {
     "name": "stderr",
     "output_type": "stream",
     "text": [
      "\u001b[A\n",
      " 22%|██▏       | 22/100 [01:12<04:15,  3.28s/it]"
     ]
    },
    {
     "name": "stdout",
     "output_type": "stream",
     "text": [
      "epoch 22 / 100 in 3.3s: loss 0.686594, trval_rocauc 0.957667, val_rocauc 0.762539, lr 0.000050\n"
     ]
    },
    {
     "name": "stderr",
     "output_type": "stream",
     "text": [
      "\u001b[A\n",
      " 23%|██▎       | 23/100 [01:15<04:16,  3.33s/it]"
     ]
    },
    {
     "name": "stdout",
     "output_type": "stream",
     "text": [
      "epoch 23 / 100 in 3.4s: loss 0.686998, trval_rocauc 0.966751, val_rocauc 0.742670, lr 0.000050\n"
     ]
    },
    {
     "name": "stderr",
     "output_type": "stream",
     "text": [
      "\u001b[A\n",
      " 24%|██▍       | 24/100 [01:19<04:11,  3.31s/it]"
     ]
    },
    {
     "name": "stdout",
     "output_type": "stream",
     "text": [
      "epoch 24 / 100 in 3.3s: loss 0.687142, trval_rocauc 0.972202, val_rocauc 0.755787, lr 0.000050\n"
     ]
    },
    {
     "name": "stderr",
     "output_type": "stream",
     "text": [
      "\u001b[A\n",
      " 25%|██▌       | 25/100 [01:22<04:06,  3.29s/it]"
     ]
    },
    {
     "name": "stdout",
     "output_type": "stream",
     "text": [
      "epoch 25 / 100 in 3.2s: loss 0.685104, trval_rocauc 0.977471, val_rocauc 0.757523, lr 0.000050\n"
     ]
    },
    {
     "name": "stderr",
     "output_type": "stream",
     "text": [
      "\u001b[A\n",
      " 26%|██▌       | 26/100 [01:25<04:02,  3.28s/it]"
     ]
    },
    {
     "name": "stdout",
     "output_type": "stream",
     "text": [
      "epoch 26 / 100 in 3.3s: loss 0.686053, trval_rocauc 0.979469, val_rocauc 0.756944, lr 0.000050\n"
     ]
    },
    {
     "name": "stderr",
     "output_type": "stream",
     "text": [
      "\u001b[A\n",
      " 27%|██▋       | 27/100 [01:28<03:58,  3.27s/it]"
     ]
    },
    {
     "name": "stdout",
     "output_type": "stream",
     "text": [
      "epoch 27 / 100 in 3.2s: loss 0.686130, trval_rocauc 0.987464, val_rocauc 0.744020, lr 0.000050\n"
     ]
    },
    {
     "name": "stderr",
     "output_type": "stream",
     "text": [
      "\u001b[A\n",
      " 28%|██▊       | 28/100 [01:32<03:54,  3.26s/it]"
     ]
    },
    {
     "name": "stdout",
     "output_type": "stream",
     "text": [
      "epoch 28 / 100 in 3.2s: loss 0.686332, trval_rocauc 0.988735, val_rocauc 0.733796, lr 0.000050\n"
     ]
    },
    {
     "name": "stderr",
     "output_type": "stream",
     "text": [
      "\u001b[A\n",
      " 29%|██▉       | 29/100 [01:35<03:51,  3.26s/it]"
     ]
    },
    {
     "name": "stdout",
     "output_type": "stream",
     "text": [
      "epoch 29 / 100 in 3.3s: loss 0.684392, trval_rocauc 0.988372, val_rocauc 0.751929, lr 0.000050\n"
     ]
    },
    {
     "name": "stderr",
     "output_type": "stream",
     "text": [
      "\u001b[A\n",
      " 30%|███       | 30/100 [01:38<03:48,  3.27s/it]"
     ]
    },
    {
     "name": "stdout",
     "output_type": "stream",
     "text": [
      "epoch 30 / 100 in 3.3s: loss 0.685173, trval_rocauc 0.987827, val_rocauc 0.749035, lr 0.000050\n"
     ]
    },
    {
     "name": "stderr",
     "output_type": "stream",
     "text": [
      "\u001b[A\n",
      " 31%|███       | 31/100 [01:41<03:45,  3.26s/it]"
     ]
    },
    {
     "name": "stdout",
     "output_type": "stream",
     "text": [
      "epoch 31 / 100 in 3.3s: loss 0.685177, trval_rocauc 0.981286, val_rocauc 0.766397, lr 0.000050\n"
     ]
    },
    {
     "name": "stderr",
     "output_type": "stream",
     "text": [
      "\u001b[A\n",
      " 32%|███▏      | 32/100 [01:45<03:41,  3.26s/it]"
     ]
    },
    {
     "name": "stdout",
     "output_type": "stream",
     "text": [
      "epoch 32 / 100 in 3.2s: loss 0.684310, trval_rocauc 0.983467, val_rocauc 0.764660, lr 0.000050\n"
     ]
    },
    {
     "name": "stderr",
     "output_type": "stream",
     "text": [
      "\u001b[A\n",
      " 33%|███▎      | 33/100 [01:48<03:38,  3.26s/it]"
     ]
    },
    {
     "name": "stdout",
     "output_type": "stream",
     "text": [
      "epoch 33 / 100 in 3.3s: loss 0.685790, trval_rocauc 0.985283, val_rocauc 0.761188, lr 0.000050\n"
     ]
    },
    {
     "name": "stderr",
     "output_type": "stream",
     "text": [
      "\u001b[A\n",
      " 34%|███▍      | 34/100 [01:51<03:34,  3.26s/it]"
     ]
    },
    {
     "name": "stdout",
     "output_type": "stream",
     "text": [
      "epoch 34 / 100 in 3.3s: loss 0.685738, trval_rocauc 0.986737, val_rocauc 0.748264, lr 0.000050\n"
     ]
    },
    {
     "name": "stderr",
     "output_type": "stream",
     "text": [
      "\u001b[A\n",
      " 35%|███▌      | 35/100 [01:54<03:31,  3.25s/it]"
     ]
    },
    {
     "name": "stdout",
     "output_type": "stream",
     "text": [
      "epoch 35 / 100 in 3.2s: loss 0.682024, trval_rocauc 0.982013, val_rocauc 0.748650, lr 0.000050\n"
     ]
    },
    {
     "name": "stderr",
     "output_type": "stream",
     "text": [
      "\u001b[A\n",
      " 36%|███▌      | 36/100 [01:58<03:27,  3.25s/it]"
     ]
    },
    {
     "name": "stdout",
     "output_type": "stream",
     "text": [
      "epoch 36 / 100 in 3.2s: loss 0.682291, trval_rocauc 0.983103, val_rocauc 0.762346, lr 0.000050\n"
     ]
    },
    {
     "name": "stderr",
     "output_type": "stream",
     "text": [
      "\u001b[A\n",
      " 37%|███▋      | 37/100 [02:01<03:24,  3.25s/it]"
     ]
    },
    {
     "name": "stdout",
     "output_type": "stream",
     "text": [
      "epoch 37 / 100 in 3.2s: loss 0.684167, trval_rocauc 0.990007, val_rocauc 0.746335, lr 0.000050\n"
     ]
    },
    {
     "name": "stderr",
     "output_type": "stream",
     "text": [
      "\u001b[A\n",
      " 38%|███▊      | 38/100 [02:04<03:21,  3.25s/it]"
     ]
    },
    {
     "name": "stdout",
     "output_type": "stream",
     "text": [
      "epoch 38 / 100 in 3.2s: loss 0.683290, trval_rocauc 0.989462, val_rocauc 0.748071, lr 0.000050\n"
     ]
    },
    {
     "name": "stderr",
     "output_type": "stream",
     "text": [
      "\u001b[A\n",
      " 39%|███▉      | 39/100 [02:07<03:18,  3.26s/it]"
     ]
    },
    {
     "name": "stdout",
     "output_type": "stream",
     "text": [
      "epoch 39 / 100 in 3.3s: loss 0.681866, trval_rocauc 0.993278, val_rocauc 0.745563, lr 0.000050\n"
     ]
    },
    {
     "name": "stderr",
     "output_type": "stream",
     "text": [
      "\u001b[A\n",
      " 40%|████      | 40/100 [02:11<03:15,  3.25s/it]"
     ]
    },
    {
     "name": "stdout",
     "output_type": "stream",
     "text": [
      "epoch 40 / 100 in 3.2s: loss 0.684612, trval_rocauc 0.990189, val_rocauc 0.753858, lr 0.000050\n"
     ]
    },
    {
     "name": "stderr",
     "output_type": "stream",
     "text": [
      "\u001b[A\n",
      " 41%|████      | 41/100 [02:14<03:11,  3.25s/it]"
     ]
    },
    {
     "name": "stdout",
     "output_type": "stream",
     "text": [
      "epoch 41 / 100 in 3.2s: loss 0.684914, trval_rocauc 0.992369, val_rocauc 0.750386, lr 0.000050\n"
     ]
    },
    {
     "name": "stderr",
     "output_type": "stream",
     "text": [
      "\u001b[A\n",
      " 42%|████▏     | 42/100 [02:17<03:08,  3.25s/it]"
     ]
    },
    {
     "name": "stdout",
     "output_type": "stream",
     "text": [
      "epoch 42 / 100 in 3.2s: loss 0.685443, trval_rocauc 0.997638, val_rocauc 0.745756, lr 0.000050\n"
     ]
    },
    {
     "name": "stderr",
     "output_type": "stream",
     "text": [
      "\u001b[A\n",
      " 43%|████▎     | 43/100 [02:20<03:05,  3.25s/it]"
     ]
    },
    {
     "name": "stdout",
     "output_type": "stream",
     "text": [
      "epoch 43 / 100 in 3.3s: loss 0.684686, trval_rocauc 0.994004, val_rocauc 0.743248, lr 0.000050\n"
     ]
    },
    {
     "name": "stderr",
     "output_type": "stream",
     "text": [
      "\u001b[A\n",
      " 44%|████▍     | 44/100 [02:24<03:01,  3.25s/it]"
     ]
    },
    {
     "name": "stdout",
     "output_type": "stream",
     "text": [
      "epoch 44 / 100 in 3.2s: loss 0.682343, trval_rocauc 0.993278, val_rocauc 0.727816, lr 0.000050\n"
     ]
    },
    {
     "name": "stderr",
     "output_type": "stream",
     "text": [
      "\u001b[A\n",
      " 45%|████▌     | 45/100 [02:27<02:58,  3.25s/it]"
     ]
    },
    {
     "name": "stdout",
     "output_type": "stream",
     "text": [
      "epoch 45 / 100 in 3.2s: loss 0.685026, trval_rocauc 0.988554, val_rocauc 0.770833, lr 0.000050\n"
     ]
    },
    {
     "name": "stderr",
     "output_type": "stream",
     "text": [
      "\u001b[A\n",
      " 46%|████▌     | 46/100 [02:30<02:55,  3.25s/it]"
     ]
    },
    {
     "name": "stdout",
     "output_type": "stream",
     "text": [
      "epoch 46 / 100 in 3.2s: loss 0.683732, trval_rocauc 0.994913, val_rocauc 0.755401, lr 0.000050\n"
     ]
    },
    {
     "name": "stderr",
     "output_type": "stream",
     "text": [
      "\u001b[A\n",
      " 47%|████▋     | 47/100 [02:33<02:52,  3.25s/it]"
     ]
    },
    {
     "name": "stdout",
     "output_type": "stream",
     "text": [
      "epoch 47 / 100 in 3.2s: loss 0.682726, trval_rocauc 0.997093, val_rocauc 0.750386, lr 0.000050\n"
     ]
    },
    {
     "name": "stderr",
     "output_type": "stream",
     "text": [
      "\u001b[A\n",
      " 48%|████▊     | 48/100 [02:37<02:49,  3.26s/it]"
     ]
    },
    {
     "name": "stdout",
     "output_type": "stream",
     "text": [
      "epoch 48 / 100 in 3.3s: loss 0.684176, trval_rocauc 0.996185, val_rocauc 0.735147, lr 0.000050\n"
     ]
    },
    {
     "name": "stderr",
     "output_type": "stream",
     "text": [
      "\u001b[A\n",
      " 49%|████▉     | 49/100 [02:40<02:48,  3.31s/it]"
     ]
    },
    {
     "name": "stdout",
     "output_type": "stream",
     "text": [
      "epoch 49 / 100 in 3.4s: loss 0.684171, trval_rocauc 0.995276, val_rocauc 0.749807, lr 0.000050\n"
     ]
    },
    {
     "name": "stderr",
     "output_type": "stream",
     "text": [
      "\u001b[A\n",
      " 50%|█████     | 50/100 [02:43<02:44,  3.29s/it]"
     ]
    },
    {
     "name": "stdout",
     "output_type": "stream",
     "text": [
      "epoch 50 / 100 in 3.3s: loss 0.683248, trval_rocauc 0.997638, val_rocauc 0.744599, lr 0.000050\n"
     ]
    },
    {
     "name": "stderr",
     "output_type": "stream",
     "text": [
      "\u001b[A\n",
      " 51%|█████     | 51/100 [02:47<02:40,  3.28s/it]"
     ]
    },
    {
     "name": "stdout",
     "output_type": "stream",
     "text": [
      "epoch 51 / 100 in 3.2s: loss 0.682618, trval_rocauc 0.997093, val_rocauc 0.738233, lr 0.000050\n"
     ]
    },
    {
     "name": "stderr",
     "output_type": "stream",
     "text": [
      "\u001b[A\n",
      " 52%|█████▏    | 52/100 [02:50<02:37,  3.27s/it]"
     ]
    },
    {
     "name": "stdout",
     "output_type": "stream",
     "text": [
      "epoch 52 / 100 in 3.3s: loss 0.681531, trval_rocauc 0.999092, val_rocauc 0.718364, lr 0.000050\n"
     ]
    },
    {
     "name": "stderr",
     "output_type": "stream",
     "text": [
      "\u001b[A\n",
      " 53%|█████▎    | 53/100 [02:53<02:33,  3.27s/it]"
     ]
    },
    {
     "name": "stdout",
     "output_type": "stream",
     "text": [
      "epoch 53 / 100 in 3.3s: loss 0.682336, trval_rocauc 0.997638, val_rocauc 0.764082, lr 0.000050\n"
     ]
    },
    {
     "name": "stderr",
     "output_type": "stream",
     "text": [
      "\u001b[A\n",
      " 54%|█████▍    | 54/100 [02:56<02:29,  3.26s/it]"
     ]
    },
    {
     "name": "stdout",
     "output_type": "stream",
     "text": [
      "epoch 54 / 100 in 3.2s: loss 0.680523, trval_rocauc 0.998910, val_rocauc 0.747492, lr 0.000050\n"
     ]
    },
    {
     "name": "stderr",
     "output_type": "stream",
     "text": [
      "\u001b[A\n",
      " 55%|█████▌    | 55/100 [03:00<02:26,  3.26s/it]"
     ]
    },
    {
     "name": "stdout",
     "output_type": "stream",
     "text": [
      "epoch 55 / 100 in 3.2s: loss 0.679378, trval_rocauc 0.998183, val_rocauc 0.762539, lr 0.000050\n"
     ]
    },
    {
     "name": "stderr",
     "output_type": "stream",
     "text": [
      "\u001b[A\n",
      " 56%|█████▌    | 56/100 [03:03<02:23,  3.25s/it]"
     ]
    },
    {
     "name": "stdout",
     "output_type": "stream",
     "text": [
      "epoch 56 / 100 in 3.2s: loss 0.683715, trval_rocauc 0.999818, val_rocauc 0.748071, lr 0.000050\n"
     ]
    },
    {
     "name": "stderr",
     "output_type": "stream",
     "text": [
      "\u001b[A\n",
      " 57%|█████▋    | 57/100 [03:06<02:20,  3.26s/it]"
     ]
    },
    {
     "name": "stdout",
     "output_type": "stream",
     "text": [
      "epoch 57 / 100 in 3.3s: loss 0.682650, trval_rocauc 1.000000, val_rocauc 0.760224, lr 0.000050\n"
     ]
    },
    {
     "name": "stderr",
     "output_type": "stream",
     "text": [
      "\u001b[A\n",
      " 58%|█████▊    | 58/100 [03:09<02:16,  3.25s/it]"
     ]
    },
    {
     "name": "stdout",
     "output_type": "stream",
     "text": [
      "epoch 58 / 100 in 3.2s: loss 0.683567, trval_rocauc 1.000000, val_rocauc 0.736883, lr 0.000050\n"
     ]
    },
    {
     "name": "stderr",
     "output_type": "stream",
     "text": [
      "\u001b[A\n",
      " 59%|█████▉    | 59/100 [03:13<02:13,  3.25s/it]"
     ]
    },
    {
     "name": "stdout",
     "output_type": "stream",
     "text": [
      "epoch 59 / 100 in 3.2s: loss 0.684025, trval_rocauc 0.999455, val_rocauc 0.748071, lr 0.000050\n"
     ]
    },
    {
     "name": "stderr",
     "output_type": "stream",
     "text": [
      "\u001b[A\n",
      " 60%|██████    | 60/100 [03:16<02:09,  3.25s/it]"
     ]
    },
    {
     "name": "stdout",
     "output_type": "stream",
     "text": [
      "epoch 60 / 100 in 3.2s: loss 0.684808, trval_rocauc 0.999273, val_rocauc 0.759838, lr 0.000050\n"
     ]
    },
    {
     "name": "stderr",
     "output_type": "stream",
     "text": [
      "\u001b[A\n",
      " 61%|██████    | 61/100 [03:19<02:06,  3.24s/it]"
     ]
    },
    {
     "name": "stdout",
     "output_type": "stream",
     "text": [
      "epoch 61 / 100 in 3.2s: loss 0.681759, trval_rocauc 0.999455, val_rocauc 0.750772, lr 0.000050\n"
     ]
    },
    {
     "name": "stderr",
     "output_type": "stream",
     "text": [
      "\u001b[A\n",
      " 62%|██████▏   | 62/100 [03:22<02:03,  3.25s/it]"
     ]
    },
    {
     "name": "stdout",
     "output_type": "stream",
     "text": [
      "epoch 62 / 100 in 3.2s: loss 0.682197, trval_rocauc 0.999455, val_rocauc 0.757137, lr 0.000050\n"
     ]
    },
    {
     "name": "stderr",
     "output_type": "stream",
     "text": [
      "\u001b[A\n",
      " 63%|██████▎   | 63/100 [03:26<02:00,  3.25s/it]"
     ]
    },
    {
     "name": "stdout",
     "output_type": "stream",
     "text": [
      "epoch 63 / 100 in 3.3s: loss 0.682759, trval_rocauc 0.999273, val_rocauc 0.752508, lr 0.000050\n"
     ]
    },
    {
     "name": "stderr",
     "output_type": "stream",
     "text": [
      "\u001b[A\n",
      " 64%|██████▍   | 64/100 [03:29<01:56,  3.25s/it]"
     ]
    },
    {
     "name": "stdout",
     "output_type": "stream",
     "text": [
      "epoch 64 / 100 in 3.2s: loss 0.682303, trval_rocauc 0.999637, val_rocauc 0.758102, lr 0.000050\n"
     ]
    },
    {
     "name": "stderr",
     "output_type": "stream",
     "text": [
      "\u001b[A\n",
      " 65%|██████▌   | 65/100 [03:32<01:53,  3.25s/it]"
     ]
    },
    {
     "name": "stdout",
     "output_type": "stream",
     "text": [
      "epoch 65 / 100 in 3.2s: loss 0.681864, trval_rocauc 1.000000, val_rocauc 0.748843, lr 0.000050\n"
     ]
    },
    {
     "name": "stderr",
     "output_type": "stream",
     "text": [
      "\u001b[A\n",
      " 66%|██████▌   | 66/100 [03:35<01:50,  3.25s/it]"
     ]
    },
    {
     "name": "stdout",
     "output_type": "stream",
     "text": [
      "epoch 66 / 100 in 3.2s: loss 0.680033, trval_rocauc 0.999818, val_rocauc 0.747685, lr 0.000050\n"
     ]
    },
    {
     "name": "stderr",
     "output_type": "stream",
     "text": [
      "\u001b[A\n",
      " 67%|██████▋   | 67/100 [03:39<01:47,  3.25s/it]"
     ]
    },
    {
     "name": "stdout",
     "output_type": "stream",
     "text": [
      "epoch 67 / 100 in 3.3s: loss 0.686810, trval_rocauc 1.000000, val_rocauc 0.764660, lr 0.000050\n"
     ]
    },
    {
     "name": "stderr",
     "output_type": "stream",
     "text": [
      "\u001b[A\n",
      " 68%|██████▊   | 68/100 [03:42<01:43,  3.25s/it]"
     ]
    },
    {
     "name": "stdout",
     "output_type": "stream",
     "text": [
      "epoch 68 / 100 in 3.2s: loss 0.680334, trval_rocauc 1.000000, val_rocauc 0.744020, lr 0.000050\n"
     ]
    },
    {
     "name": "stderr",
     "output_type": "stream",
     "text": [
      "\u001b[A\n",
      " 69%|██████▉   | 69/100 [03:45<01:40,  3.25s/it]"
     ]
    },
    {
     "name": "stdout",
     "output_type": "stream",
     "text": [
      "epoch 69 / 100 in 3.2s: loss 0.681808, trval_rocauc 1.000000, val_rocauc 0.766782, lr 0.000050\n"
     ]
    },
    {
     "name": "stderr",
     "output_type": "stream",
     "text": [
      "\u001b[A\n",
      " 70%|███████   | 70/100 [03:48<01:37,  3.25s/it]"
     ]
    },
    {
     "name": "stdout",
     "output_type": "stream",
     "text": [
      "epoch 70 / 100 in 3.2s: loss 0.681523, trval_rocauc 1.000000, val_rocauc 0.768711, lr 0.000050\n"
     ]
    },
    {
     "name": "stderr",
     "output_type": "stream",
     "text": [
      "\u001b[A\n",
      " 71%|███████   | 71/100 [03:51<01:34,  3.25s/it]"
     ]
    },
    {
     "name": "stdout",
     "output_type": "stream",
     "text": [
      "epoch 71 / 100 in 3.2s: loss 0.683761, trval_rocauc 1.000000, val_rocauc 0.760610, lr 0.000050\n"
     ]
    },
    {
     "name": "stderr",
     "output_type": "stream",
     "text": [
      "\u001b[A\n",
      " 72%|███████▏  | 72/100 [03:55<01:30,  3.24s/it]"
     ]
    },
    {
     "name": "stdout",
     "output_type": "stream",
     "text": [
      "epoch 72 / 100 in 3.2s: loss 0.681900, trval_rocauc 1.000000, val_rocauc 0.758295, lr 0.000050\n"
     ]
    },
    {
     "name": "stderr",
     "output_type": "stream",
     "text": [
      "\u001b[A\n",
      " 73%|███████▎  | 73/100 [03:58<01:27,  3.24s/it]"
     ]
    },
    {
     "name": "stdout",
     "output_type": "stream",
     "text": [
      "epoch 73 / 100 in 3.2s: loss 0.680633, trval_rocauc 1.000000, val_rocauc 0.753279, lr 0.000050\n"
     ]
    },
    {
     "name": "stderr",
     "output_type": "stream",
     "text": [
      "\u001b[A\n",
      " 74%|███████▍  | 74/100 [04:01<01:24,  3.24s/it]"
     ]
    },
    {
     "name": "stdout",
     "output_type": "stream",
     "text": [
      "epoch 74 / 100 in 3.2s: loss 0.680005, trval_rocauc 1.000000, val_rocauc 0.753279, lr 0.000050\n"
     ]
    },
    {
     "name": "stderr",
     "output_type": "stream",
     "text": [
      "\u001b[A\n",
      " 75%|███████▌  | 75/100 [04:04<01:21,  3.24s/it]"
     ]
    },
    {
     "name": "stdout",
     "output_type": "stream",
     "text": [
      "epoch 75 / 100 in 3.2s: loss 0.680526, trval_rocauc 0.999273, val_rocauc 0.728974, lr 0.000050\n"
     ]
    },
    {
     "name": "stderr",
     "output_type": "stream",
     "text": [
      "\u001b[A\n",
      " 76%|███████▌  | 76/100 [04:08<01:18,  3.25s/it]"
     ]
    },
    {
     "name": "stdout",
     "output_type": "stream",
     "text": [
      "epoch 76 / 100 in 3.3s: loss 0.680387, trval_rocauc 0.999455, val_rocauc 0.744985, lr 0.000050\n"
     ]
    },
    {
     "name": "stderr",
     "output_type": "stream",
     "text": [
      "\u001b[A\n",
      " 77%|███████▋  | 77/100 [04:11<01:14,  3.25s/it]"
     ]
    },
    {
     "name": "stdout",
     "output_type": "stream",
     "text": [
      "epoch 77 / 100 in 3.2s: loss 0.682241, trval_rocauc 0.999273, val_rocauc 0.723380, lr 0.000050\n"
     ]
    },
    {
     "name": "stderr",
     "output_type": "stream",
     "text": [
      "\u001b[A\n",
      " 78%|███████▊  | 78/100 [04:14<01:11,  3.25s/it]"
     ]
    },
    {
     "name": "stdout",
     "output_type": "stream",
     "text": [
      "epoch 78 / 100 in 3.2s: loss 0.682452, trval_rocauc 0.999092, val_rocauc 0.733218, lr 0.000050\n"
     ]
    },
    {
     "name": "stderr",
     "output_type": "stream",
     "text": [
      "\u001b[A\n",
      " 79%|███████▉  | 79/100 [04:17<01:08,  3.24s/it]"
     ]
    },
    {
     "name": "stdout",
     "output_type": "stream",
     "text": [
      "epoch 79 / 100 in 3.2s: loss 0.681442, trval_rocauc 0.999455, val_rocauc 0.739198, lr 0.000050\n"
     ]
    },
    {
     "name": "stderr",
     "output_type": "stream",
     "text": [
      "\u001b[A\n",
      " 80%|████████  | 80/100 [04:21<01:04,  3.24s/it]"
     ]
    },
    {
     "name": "stdout",
     "output_type": "stream",
     "text": [
      "epoch 80 / 100 in 3.2s: loss 0.682585, trval_rocauc 0.999637, val_rocauc 0.736111, lr 0.000050\n"
     ]
    },
    {
     "name": "stderr",
     "output_type": "stream",
     "text": [
      "\u001b[A\n",
      " 81%|████████  | 81/100 [04:24<01:01,  3.24s/it]"
     ]
    },
    {
     "name": "stdout",
     "output_type": "stream",
     "text": [
      "epoch 81 / 100 in 3.2s: loss 0.682902, trval_rocauc 0.998728, val_rocauc 0.740741, lr 0.000050\n"
     ]
    },
    {
     "name": "stderr",
     "output_type": "stream",
     "text": [
      "\u001b[A\n",
      " 82%|████████▏ | 82/100 [04:27<00:58,  3.24s/it]"
     ]
    },
    {
     "name": "stdout",
     "output_type": "stream",
     "text": [
      "epoch 82 / 100 in 3.2s: loss 0.682874, trval_rocauc 0.999273, val_rocauc 0.741705, lr 0.000050\n"
     ]
    },
    {
     "name": "stderr",
     "output_type": "stream",
     "text": [
      "\u001b[A\n",
      " 83%|████████▎ | 83/100 [04:30<00:55,  3.24s/it]"
     ]
    },
    {
     "name": "stdout",
     "output_type": "stream",
     "text": [
      "epoch 83 / 100 in 3.2s: loss 0.683674, trval_rocauc 0.999637, val_rocauc 0.735147, lr 0.000050\n"
     ]
    },
    {
     "name": "stderr",
     "output_type": "stream",
     "text": [
      "\u001b[A\n",
      " 84%|████████▍ | 84/100 [04:34<00:51,  3.24s/it]"
     ]
    },
    {
     "name": "stdout",
     "output_type": "stream",
     "text": [
      "epoch 84 / 100 in 3.2s: loss 0.678745, trval_rocauc 0.999455, val_rocauc 0.764853, lr 0.000050\n"
     ]
    },
    {
     "name": "stderr",
     "output_type": "stream",
     "text": [
      "\u001b[A\n",
      " 85%|████████▌ | 85/100 [04:37<00:48,  3.25s/it]"
     ]
    },
    {
     "name": "stdout",
     "output_type": "stream",
     "text": [
      "epoch 85 / 100 in 3.3s: loss 0.684234, trval_rocauc 0.999637, val_rocauc 0.749421, lr 0.000050\n"
     ]
    },
    {
     "name": "stderr",
     "output_type": "stream",
     "text": [
      "\u001b[A\n",
      " 86%|████████▌ | 86/100 [04:40<00:45,  3.24s/it]"
     ]
    },
    {
     "name": "stdout",
     "output_type": "stream",
     "text": [
      "epoch 86 / 100 in 3.2s: loss 0.679182, trval_rocauc 0.998910, val_rocauc 0.772762, lr 0.000050\n"
     ]
    },
    {
     "name": "stderr",
     "output_type": "stream",
     "text": [
      "\u001b[A\n",
      " 87%|████████▋ | 87/100 [04:43<00:42,  3.24s/it]"
     ]
    },
    {
     "name": "stdout",
     "output_type": "stream",
     "text": [
      "epoch 87 / 100 in 3.2s: loss 0.683314, trval_rocauc 1.000000, val_rocauc 0.753086, lr 0.000050\n"
     ]
    },
    {
     "name": "stderr",
     "output_type": "stream",
     "text": [
      "\u001b[A\n",
      " 88%|████████▊ | 88/100 [04:47<00:38,  3.24s/it]"
     ]
    },
    {
     "name": "stdout",
     "output_type": "stream",
     "text": [
      "epoch 88 / 100 in 3.2s: loss 0.682832, trval_rocauc 0.999455, val_rocauc 0.765625, lr 0.000050\n"
     ]
    },
    {
     "name": "stderr",
     "output_type": "stream",
     "text": [
      "\u001b[A\n",
      " 89%|████████▉ | 89/100 [04:50<00:35,  3.24s/it]"
     ]
    },
    {
     "name": "stdout",
     "output_type": "stream",
     "text": [
      "epoch 89 / 100 in 3.2s: loss 0.686099, trval_rocauc 1.000000, val_rocauc 0.745949, lr 0.000050\n"
     ]
    },
    {
     "name": "stderr",
     "output_type": "stream",
     "text": [
      "\u001b[A\n",
      " 90%|█████████ | 90/100 [04:53<00:32,  3.24s/it]"
     ]
    },
    {
     "name": "stdout",
     "output_type": "stream",
     "text": [
      "epoch 90 / 100 in 3.2s: loss 0.682757, trval_rocauc 1.000000, val_rocauc 0.745370, lr 0.000050\n"
     ]
    },
    {
     "name": "stderr",
     "output_type": "stream",
     "text": [
      "\u001b[A\n",
      " 91%|█████████ | 91/100 [04:56<00:29,  3.25s/it]"
     ]
    },
    {
     "name": "stdout",
     "output_type": "stream",
     "text": [
      "epoch 91 / 100 in 3.3s: loss 0.681537, trval_rocauc 1.000000, val_rocauc 0.739776, lr 0.000050\n"
     ]
    },
    {
     "name": "stderr",
     "output_type": "stream",
     "text": [
      "\u001b[A\n",
      " 92%|█████████▏| 92/100 [05:00<00:26,  3.29s/it]"
     ]
    },
    {
     "name": "stdout",
     "output_type": "stream",
     "text": [
      "epoch 92 / 100 in 3.4s: loss 0.683287, trval_rocauc 1.000000, val_rocauc 0.741898, lr 0.000050\n"
     ]
    },
    {
     "name": "stderr",
     "output_type": "stream",
     "text": [
      "\u001b[A\n",
      " 93%|█████████▎| 93/100 [05:03<00:22,  3.27s/it]"
     ]
    },
    {
     "name": "stdout",
     "output_type": "stream",
     "text": [
      "epoch 93 / 100 in 3.2s: loss 0.678963, trval_rocauc 1.000000, val_rocauc 0.756752, lr 0.000050\n"
     ]
    },
    {
     "name": "stderr",
     "output_type": "stream",
     "text": [
      "\u001b[A\n",
      " 94%|█████████▍| 94/100 [05:06<00:19,  3.27s/it]"
     ]
    },
    {
     "name": "stdout",
     "output_type": "stream",
     "text": [
      "epoch 94 / 100 in 3.3s: loss 0.682597, trval_rocauc 1.000000, val_rocauc 0.762153, lr 0.000050\n"
     ]
    },
    {
     "name": "stderr",
     "output_type": "stream",
     "text": [
      "\u001b[A\n",
      " 95%|█████████▌| 95/100 [05:09<00:16,  3.26s/it]"
     ]
    },
    {
     "name": "stdout",
     "output_type": "stream",
     "text": [
      "epoch 95 / 100 in 3.2s: loss 0.681469, trval_rocauc 1.000000, val_rocauc 0.769290, lr 0.000050\n"
     ]
    },
    {
     "name": "stderr",
     "output_type": "stream",
     "text": [
      "\u001b[A\n",
      " 96%|█████████▌| 96/100 [05:13<00:13,  3.25s/it]"
     ]
    },
    {
     "name": "stdout",
     "output_type": "stream",
     "text": [
      "epoch 96 / 100 in 3.2s: loss 0.679110, trval_rocauc 1.000000, val_rocauc 0.752315, lr 0.000050\n"
     ]
    },
    {
     "name": "stderr",
     "output_type": "stream",
     "text": [
      "\u001b[A\n",
      " 97%|█████████▋| 97/100 [05:16<00:09,  3.25s/it]"
     ]
    },
    {
     "name": "stdout",
     "output_type": "stream",
     "text": [
      "epoch 97 / 100 in 3.2s: loss 0.680013, trval_rocauc 1.000000, val_rocauc 0.753665, lr 0.000050\n"
     ]
    },
    {
     "name": "stderr",
     "output_type": "stream",
     "text": [
      "\u001b[A\n",
      " 98%|█████████▊| 98/100 [05:19<00:06,  3.24s/it]"
     ]
    },
    {
     "name": "stdout",
     "output_type": "stream",
     "text": [
      "epoch 98 / 100 in 3.2s: loss 0.680271, trval_rocauc 1.000000, val_rocauc 0.766590, lr 0.000050\n"
     ]
    },
    {
     "name": "stderr",
     "output_type": "stream",
     "text": [
      "\u001b[A\n",
      " 99%|█████████▉| 99/100 [05:22<00:03,  3.24s/it]"
     ]
    },
    {
     "name": "stdout",
     "output_type": "stream",
     "text": [
      "epoch 99 / 100 in 3.2s: loss 0.684891, trval_rocauc 1.000000, val_rocauc 0.749421, lr 0.000050\n"
     ]
    },
    {
     "name": "stderr",
     "output_type": "stream",
     "text": [
      "\u001b[A\n",
      "100%|██████████| 100/100 [05:26<00:00,  3.24s/it]\u001b[A\n",
      " 50%|█████     | 6/12 [35:20<34:44, 347.47s/it]"
     ]
    },
    {
     "name": "stdout",
     "output_type": "stream",
     "text": [
      "epoch 100 / 100 in 3.2s: loss 0.679317, trval_rocauc 1.000000, val_rocauc 0.747106, lr 0.000050\n"
     ]
    },
    {
     "name": "stderr",
     "output_type": "stream",
     "text": [
      "\n",
      "  0%|          | 0/100 [00:00<?, ?it/s]\u001b[A\n",
      "  1%|          | 1/100 [00:03<05:23,  3.27s/it]"
     ]
    },
    {
     "name": "stdout",
     "output_type": "stream",
     "text": [
      "epoch 1 / 100 in 3.3s: loss 0.699202, trval_rocauc 0.642987, val_rocauc 0.588526, lr 0.000050\n"
     ]
    },
    {
     "name": "stderr",
     "output_type": "stream",
     "text": [
      "\u001b[A\n",
      "  2%|▏         | 2/100 [00:06<05:20,  3.27s/it]"
     ]
    },
    {
     "name": "stdout",
     "output_type": "stream",
     "text": [
      "epoch 2 / 100 in 3.3s: loss 0.695834, trval_rocauc 0.694586, val_rocauc 0.628229, lr 0.000050\n"
     ]
    },
    {
     "name": "stderr",
     "output_type": "stream",
     "text": [
      "\u001b[A\n",
      "  3%|▎         | 3/100 [00:09<05:17,  3.28s/it]"
     ]
    },
    {
     "name": "stdout",
     "output_type": "stream",
     "text": [
      "epoch 3 / 100 in 3.3s: loss 0.693217, trval_rocauc 0.744731, val_rocauc 0.656915, lr 0.000050\n"
     ]
    },
    {
     "name": "stderr",
     "output_type": "stream",
     "text": [
      "\u001b[A\n",
      "  4%|▍         | 4/100 [00:13<05:14,  3.28s/it]"
     ]
    },
    {
     "name": "stdout",
     "output_type": "stream",
     "text": [
      "epoch 4 / 100 in 3.3s: loss 0.692167, trval_rocauc 0.753815, val_rocauc 0.672872, lr 0.000050\n"
     ]
    },
    {
     "name": "stderr",
     "output_type": "stream",
     "text": [
      "\u001b[A\n",
      "  5%|▌         | 5/100 [00:16<05:11,  3.27s/it]"
     ]
    },
    {
     "name": "stdout",
     "output_type": "stream",
     "text": [
      "epoch 5 / 100 in 3.3s: loss 0.691872, trval_rocauc 0.786156, val_rocauc 0.671922, lr 0.000050\n"
     ]
    },
    {
     "name": "stderr",
     "output_type": "stream",
     "text": [
      "\u001b[A\n",
      "  6%|▌         | 6/100 [00:19<05:07,  3.27s/it]"
     ]
    },
    {
     "name": "stdout",
     "output_type": "stream",
     "text": [
      "epoch 6 / 100 in 3.3s: loss 0.689074, trval_rocauc 0.818859, val_rocauc 0.671733, lr 0.000050\n"
     ]
    },
    {
     "name": "stderr",
     "output_type": "stream",
     "text": [
      "\u001b[A\n",
      "  7%|▋         | 7/100 [00:22<05:04,  3.27s/it]"
     ]
    },
    {
     "name": "stdout",
     "output_type": "stream",
     "text": [
      "epoch 7 / 100 in 3.3s: loss 0.690991, trval_rocauc 0.832667, val_rocauc 0.697378, lr 0.000050\n"
     ]
    },
    {
     "name": "stderr",
     "output_type": "stream",
     "text": [
      "\u001b[A\n",
      "  8%|▊         | 8/100 [00:26<05:00,  3.27s/it]"
     ]
    },
    {
     "name": "stdout",
     "output_type": "stream",
     "text": [
      "epoch 8 / 100 in 3.3s: loss 0.690588, trval_rocauc 0.853016, val_rocauc 0.685980, lr 0.000050\n"
     ]
    },
    {
     "name": "stderr",
     "output_type": "stream",
     "text": [
      "\u001b[A\n",
      "  9%|▉         | 9/100 [00:29<04:57,  3.27s/it]"
     ]
    },
    {
     "name": "stdout",
     "output_type": "stream",
     "text": [
      "epoch 9 / 100 in 3.3s: loss 0.689343, trval_rocauc 0.864281, val_rocauc 0.683891, lr 0.000050\n"
     ]
    },
    {
     "name": "stderr",
     "output_type": "stream",
     "text": [
      "\u001b[A\n",
      " 10%|█         | 10/100 [00:32<04:54,  3.27s/it]"
     ]
    },
    {
     "name": "stdout",
     "output_type": "stream",
     "text": [
      "epoch 10 / 100 in 3.3s: loss 0.688362, trval_rocauc 0.869004, val_rocauc 0.673822, lr 0.000050\n"
     ]
    },
    {
     "name": "stderr",
     "output_type": "stream",
     "text": [
      "\u001b[A\n",
      " 11%|█         | 11/100 [00:35<04:50,  3.26s/it]"
     ]
    },
    {
     "name": "stdout",
     "output_type": "stream",
     "text": [
      "epoch 11 / 100 in 3.3s: loss 0.687958, trval_rocauc 0.872820, val_rocauc 0.678761, lr 0.000050\n"
     ]
    },
    {
     "name": "stderr",
     "output_type": "stream",
     "text": [
      "\u001b[A\n",
      " 12%|█▏        | 12/100 [00:39<04:48,  3.28s/it]"
     ]
    },
    {
     "name": "stdout",
     "output_type": "stream",
     "text": [
      "epoch 12 / 100 in 3.3s: loss 0.689482, trval_rocauc 0.896621, val_rocauc 0.698708, lr 0.000050\n"
     ]
    },
    {
     "name": "stderr",
     "output_type": "stream",
     "text": [
      "\u001b[A\n",
      " 13%|█▎        | 13/100 [00:42<04:45,  3.28s/it]"
     ]
    },
    {
     "name": "stdout",
     "output_type": "stream",
     "text": [
      "epoch 13 / 100 in 3.3s: loss 0.688399, trval_rocauc 0.898256, val_rocauc 0.692059, lr 0.000050\n"
     ]
    },
    {
     "name": "stderr",
     "output_type": "stream",
     "text": [
      "\u001b[A\n",
      " 14%|█▍        | 14/100 [00:45<04:41,  3.27s/it]"
     ]
    },
    {
     "name": "stdout",
     "output_type": "stream",
     "text": [
      "epoch 14 / 100 in 3.3s: loss 0.686399, trval_rocauc 0.913881, val_rocauc 0.703837, lr 0.000050\n"
     ]
    },
    {
     "name": "stderr",
     "output_type": "stream",
     "text": [
      "\u001b[A\n",
      " 15%|█▌        | 15/100 [00:49<04:37,  3.27s/it]"
     ]
    },
    {
     "name": "stdout",
     "output_type": "stream",
     "text": [
      "epoch 15 / 100 in 3.3s: loss 0.688022, trval_rocauc 0.925145, val_rocauc 0.704977, lr 0.000050\n"
     ]
    },
    {
     "name": "stderr",
     "output_type": "stream",
     "text": [
      "\u001b[A\n",
      " 16%|█▌        | 16/100 [00:52<04:34,  3.27s/it]"
     ]
    },
    {
     "name": "stdout",
     "output_type": "stream",
     "text": [
      "epoch 16 / 100 in 3.3s: loss 0.686554, trval_rocauc 0.924964, val_rocauc 0.701748, lr 0.000050\n"
     ]
    },
    {
     "name": "stderr",
     "output_type": "stream",
     "text": [
      "\u001b[A\n",
      " 17%|█▋        | 17/100 [00:55<04:30,  3.26s/it]"
     ]
    },
    {
     "name": "stdout",
     "output_type": "stream",
     "text": [
      "epoch 17 / 100 in 3.3s: loss 0.687752, trval_rocauc 0.932594, val_rocauc 0.689020, lr 0.000050\n"
     ]
    },
    {
     "name": "stderr",
     "output_type": "stream",
     "text": [
      "\u001b[A\n",
      " 18%|█▊        | 18/100 [00:58<04:27,  3.26s/it]"
     ]
    },
    {
     "name": "stdout",
     "output_type": "stream",
     "text": [
      "epoch 18 / 100 in 3.3s: loss 0.688146, trval_rocauc 0.940589, val_rocauc 0.718845, lr 0.000050\n"
     ]
    },
    {
     "name": "stderr",
     "output_type": "stream",
     "text": [
      "\u001b[A\n",
      " 19%|█▉        | 19/100 [01:02<04:24,  3.26s/it]"
     ]
    },
    {
     "name": "stdout",
     "output_type": "stream",
     "text": [
      "epoch 19 / 100 in 3.3s: loss 0.687131, trval_rocauc 0.944586, val_rocauc 0.722264, lr 0.000050\n"
     ]
    },
    {
     "name": "stderr",
     "output_type": "stream",
     "text": [
      "\u001b[A\n",
      " 20%|██        | 20/100 [01:05<04:20,  3.26s/it]"
     ]
    },
    {
     "name": "stdout",
     "output_type": "stream",
     "text": [
      "epoch 20 / 100 in 3.3s: loss 0.686142, trval_rocauc 0.945312, val_rocauc 0.729673, lr 0.000050\n"
     ]
    },
    {
     "name": "stderr",
     "output_type": "stream",
     "text": [
      "\u001b[A\n",
      " 21%|██        | 21/100 [01:08<04:17,  3.27s/it]"
     ]
    },
    {
     "name": "stdout",
     "output_type": "stream",
     "text": [
      "epoch 21 / 100 in 3.3s: loss 0.687836, trval_rocauc 0.945676, val_rocauc 0.735752, lr 0.000050\n"
     ]
    },
    {
     "name": "stderr",
     "output_type": "stream",
     "text": [
      "\u001b[A\n",
      " 22%|██▏       | 22/100 [01:11<04:14,  3.26s/it]"
     ]
    },
    {
     "name": "stdout",
     "output_type": "stream",
     "text": [
      "epoch 22 / 100 in 3.2s: loss 0.688997, trval_rocauc 0.948401, val_rocauc 0.718845, lr 0.000050\n"
     ]
    },
    {
     "name": "stderr",
     "output_type": "stream",
     "text": [
      "\u001b[A\n",
      " 23%|██▎       | 23/100 [01:15<04:10,  3.26s/it]"
     ]
    },
    {
     "name": "stdout",
     "output_type": "stream",
     "text": [
      "epoch 23 / 100 in 3.3s: loss 0.685902, trval_rocauc 0.961119, val_rocauc 0.718845, lr 0.000050\n"
     ]
    },
    {
     "name": "stderr",
     "output_type": "stream",
     "text": [
      "\u001b[A\n",
      " 24%|██▍       | 24/100 [01:18<04:07,  3.26s/it]"
     ]
    },
    {
     "name": "stdout",
     "output_type": "stream",
     "text": [
      "epoch 24 / 100 in 3.3s: loss 0.686123, trval_rocauc 0.958031, val_rocauc 0.708587, lr 0.000050\n"
     ]
    },
    {
     "name": "stderr",
     "output_type": "stream",
     "text": [
      "\u001b[A\n",
      " 25%|██▌       | 25/100 [01:21<04:04,  3.26s/it]"
     ]
    },
    {
     "name": "stdout",
     "output_type": "stream",
     "text": [
      "epoch 25 / 100 in 3.3s: loss 0.686398, trval_rocauc 0.961664, val_rocauc 0.712766, lr 0.000050\n"
     ]
    },
    {
     "name": "stderr",
     "output_type": "stream",
     "text": [
      "\u001b[A\n",
      " 26%|██▌       | 26/100 [01:24<04:01,  3.27s/it]"
     ]
    },
    {
     "name": "stdout",
     "output_type": "stream",
     "text": [
      "epoch 26 / 100 in 3.3s: loss 0.685624, trval_rocauc 0.968568, val_rocauc 0.720745, lr 0.000050\n"
     ]
    },
    {
     "name": "stderr",
     "output_type": "stream",
     "text": [
      "\u001b[A\n",
      " 27%|██▋       | 27/100 [01:28<03:58,  3.26s/it]"
     ]
    },
    {
     "name": "stdout",
     "output_type": "stream",
     "text": [
      "epoch 27 / 100 in 3.3s: loss 0.685246, trval_rocauc 0.972565, val_rocauc 0.723594, lr 0.000050\n"
     ]
    },
    {
     "name": "stderr",
     "output_type": "stream",
     "text": [
      "\u001b[A\n",
      " 28%|██▊       | 28/100 [01:31<03:54,  3.26s/it]"
     ]
    },
    {
     "name": "stdout",
     "output_type": "stream",
     "text": [
      "epoch 28 / 100 in 3.3s: loss 0.686784, trval_rocauc 0.971839, val_rocauc 0.720745, lr 0.000050\n"
     ]
    },
    {
     "name": "stderr",
     "output_type": "stream",
     "text": [
      "\u001b[A\n",
      " 29%|██▉       | 29/100 [01:34<03:51,  3.26s/it]"
     ]
    },
    {
     "name": "stdout",
     "output_type": "stream",
     "text": [
      "epoch 29 / 100 in 3.3s: loss 0.684154, trval_rocauc 0.978198, val_rocauc 0.724164, lr 0.000050\n"
     ]
    },
    {
     "name": "stderr",
     "output_type": "stream",
     "text": [
      "\u001b[A\n",
      " 30%|███       | 30/100 [01:37<03:48,  3.26s/it]"
     ]
    },
    {
     "name": "stdout",
     "output_type": "stream",
     "text": [
      "epoch 30 / 100 in 3.3s: loss 0.685298, trval_rocauc 0.979106, val_rocauc 0.710486, lr 0.000050\n"
     ]
    },
    {
     "name": "stderr",
     "output_type": "stream",
     "text": [
      "\u001b[A\n",
      " 31%|███       | 31/100 [01:41<03:45,  3.26s/it]"
     ]
    },
    {
     "name": "stdout",
     "output_type": "stream",
     "text": [
      "epoch 31 / 100 in 3.3s: loss 0.686470, trval_rocauc 0.982013, val_rocauc 0.722454, lr 0.000050\n"
     ]
    },
    {
     "name": "stderr",
     "output_type": "stream",
     "text": [
      "\u001b[A\n",
      " 32%|███▏      | 32/100 [01:44<03:41,  3.26s/it]"
     ]
    },
    {
     "name": "stdout",
     "output_type": "stream",
     "text": [
      "epoch 32 / 100 in 3.3s: loss 0.683251, trval_rocauc 0.971657, val_rocauc 0.740691, lr 0.000050\n"
     ]
    },
    {
     "name": "stderr",
     "output_type": "stream",
     "text": [
      "\u001b[A\n",
      " 33%|███▎      | 33/100 [01:47<03:38,  3.26s/it]"
     ]
    },
    {
     "name": "stdout",
     "output_type": "stream",
     "text": [
      "epoch 33 / 100 in 3.3s: loss 0.686151, trval_rocauc 0.979651, val_rocauc 0.734233, lr 0.000050\n"
     ]
    },
    {
     "name": "stderr",
     "output_type": "stream",
     "text": [
      "\u001b[A\n",
      " 34%|███▍      | 34/100 [01:51<03:35,  3.26s/it]"
     ]
    },
    {
     "name": "stdout",
     "output_type": "stream",
     "text": [
      "epoch 34 / 100 in 3.3s: loss 0.686775, trval_rocauc 0.987464, val_rocauc 0.727964, lr 0.000050\n"
     ]
    },
    {
     "name": "stderr",
     "output_type": "stream",
     "text": [
      "\u001b[A\n",
      " 35%|███▌      | 35/100 [01:54<03:32,  3.26s/it]"
     ]
    },
    {
     "name": "stdout",
     "output_type": "stream",
     "text": [
      "epoch 35 / 100 in 3.3s: loss 0.682202, trval_rocauc 0.986919, val_rocauc 0.729863, lr 0.000050\n"
     ]
    },
    {
     "name": "stderr",
     "output_type": "stream",
     "text": [
      "\u001b[A\n",
      " 36%|███▌      | 36/100 [01:57<03:28,  3.26s/it]"
     ]
    },
    {
     "name": "stdout",
     "output_type": "stream",
     "text": [
      "epoch 36 / 100 in 3.3s: loss 0.685892, trval_rocauc 0.992006, val_rocauc 0.720745, lr 0.000050\n"
     ]
    },
    {
     "name": "stderr",
     "output_type": "stream",
     "text": [
      "\u001b[A\n",
      " 37%|███▋      | 37/100 [02:00<03:25,  3.26s/it]"
     ]
    },
    {
     "name": "stdout",
     "output_type": "stream",
     "text": [
      "epoch 37 / 100 in 3.3s: loss 0.683692, trval_rocauc 0.989826, val_rocauc 0.728533, lr 0.000050\n"
     ]
    },
    {
     "name": "stderr",
     "output_type": "stream",
     "text": [
      "\u001b[A\n",
      " 38%|███▊      | 38/100 [02:04<03:22,  3.26s/it]"
     ]
    },
    {
     "name": "stdout",
     "output_type": "stream",
     "text": [
      "epoch 38 / 100 in 3.3s: loss 0.683354, trval_rocauc 0.993823, val_rocauc 0.731193, lr 0.000050\n"
     ]
    },
    {
     "name": "stderr",
     "output_type": "stream",
     "text": [
      "\u001b[A\n",
      " 39%|███▉      | 39/100 [02:07<03:18,  3.26s/it]"
     ]
    },
    {
     "name": "stdout",
     "output_type": "stream",
     "text": [
      "epoch 39 / 100 in 3.3s: loss 0.682739, trval_rocauc 0.992006, val_rocauc 0.718845, lr 0.000050\n"
     ]
    },
    {
     "name": "stderr",
     "output_type": "stream",
     "text": [
      "\u001b[A\n",
      " 40%|████      | 40/100 [02:10<03:16,  3.27s/it]"
     ]
    },
    {
     "name": "stdout",
     "output_type": "stream",
     "text": [
      "epoch 40 / 100 in 3.3s: loss 0.683631, trval_rocauc 0.989644, val_rocauc 0.720175, lr 0.000050\n"
     ]
    },
    {
     "name": "stderr",
     "output_type": "stream",
     "text": [
      "\u001b[A\n",
      " 41%|████      | 41/100 [02:13<03:12,  3.27s/it]"
     ]
    },
    {
     "name": "stdout",
     "output_type": "stream",
     "text": [
      "epoch 41 / 100 in 3.3s: loss 0.684724, trval_rocauc 0.989826, val_rocauc 0.710106, lr 0.000050\n"
     ]
    },
    {
     "name": "stderr",
     "output_type": "stream",
     "text": [
      "\u001b[A\n",
      " 42%|████▏     | 42/100 [02:17<03:09,  3.26s/it]"
     ]
    },
    {
     "name": "stdout",
     "output_type": "stream",
     "text": [
      "epoch 42 / 100 in 3.3s: loss 0.686018, trval_rocauc 0.993459, val_rocauc 0.711056, lr 0.000050\n"
     ]
    },
    {
     "name": "stderr",
     "output_type": "stream",
     "text": [
      "\u001b[A\n",
      " 43%|████▎     | 43/100 [02:20<03:05,  3.26s/it]"
     ]
    },
    {
     "name": "stdout",
     "output_type": "stream",
     "text": [
      "epoch 43 / 100 in 3.3s: loss 0.681660, trval_rocauc 0.993823, val_rocauc 0.704027, lr 0.000050\n"
     ]
    },
    {
     "name": "stderr",
     "output_type": "stream",
     "text": [
      "\u001b[A\n",
      " 44%|████▍     | 44/100 [02:23<03:02,  3.26s/it]"
     ]
    },
    {
     "name": "stdout",
     "output_type": "stream",
     "text": [
      "epoch 44 / 100 in 3.3s: loss 0.685553, trval_rocauc 0.993278, val_rocauc 0.707827, lr 0.000050\n"
     ]
    },
    {
     "name": "stderr",
     "output_type": "stream",
     "text": [
      "\u001b[A\n",
      " 45%|████▌     | 45/100 [02:26<02:59,  3.26s/it]"
     ]
    },
    {
     "name": "stdout",
     "output_type": "stream",
     "text": [
      "epoch 45 / 100 in 3.3s: loss 0.683081, trval_rocauc 0.995640, val_rocauc 0.700608, lr 0.000050\n"
     ]
    },
    {
     "name": "stderr",
     "output_type": "stream",
     "text": [
      "\u001b[A\n",
      " 46%|████▌     | 46/100 [02:30<02:56,  3.26s/it]"
     ]
    },
    {
     "name": "stdout",
     "output_type": "stream",
     "text": [
      "epoch 46 / 100 in 3.2s: loss 0.683347, trval_rocauc 0.997456, val_rocauc 0.690160, lr 0.000050\n"
     ]
    },
    {
     "name": "stderr",
     "output_type": "stream",
     "text": [
      "\u001b[A\n",
      " 47%|████▋     | 47/100 [02:33<02:52,  3.26s/it]"
     ]
    },
    {
     "name": "stdout",
     "output_type": "stream",
     "text": [
      "epoch 47 / 100 in 3.3s: loss 0.683399, trval_rocauc 0.996911, val_rocauc 0.699088, lr 0.000050\n"
     ]
    },
    {
     "name": "stderr",
     "output_type": "stream",
     "text": [
      "\u001b[A\n",
      " 48%|████▊     | 48/100 [02:36<02:49,  3.26s/it]"
     ]
    },
    {
     "name": "stdout",
     "output_type": "stream",
     "text": [
      "epoch 48 / 100 in 3.3s: loss 0.684933, trval_rocauc 0.997638, val_rocauc 0.696998, lr 0.000050\n"
     ]
    },
    {
     "name": "stderr",
     "output_type": "stream",
     "text": [
      "\u001b[A\n",
      " 49%|████▉     | 49/100 [02:40<02:46,  3.27s/it]"
     ]
    },
    {
     "name": "stdout",
     "output_type": "stream",
     "text": [
      "epoch 49 / 100 in 3.3s: loss 0.685134, trval_rocauc 0.996730, val_rocauc 0.709536, lr 0.000050\n"
     ]
    },
    {
     "name": "stderr",
     "output_type": "stream",
     "text": [
      "\u001b[A\n",
      " 50%|█████     | 50/100 [02:43<02:43,  3.26s/it]"
     ]
    },
    {
     "name": "stdout",
     "output_type": "stream",
     "text": [
      "epoch 50 / 100 in 3.3s: loss 0.681290, trval_rocauc 0.996185, val_rocauc 0.715995, lr 0.000050\n"
     ]
    },
    {
     "name": "stderr",
     "output_type": "stream",
     "text": [
      "\u001b[A\n",
      " 51%|█████     | 51/100 [02:46<02:39,  3.26s/it]"
     ]
    },
    {
     "name": "stdout",
     "output_type": "stream",
     "text": [
      "epoch 51 / 100 in 3.3s: loss 0.683833, trval_rocauc 0.995640, val_rocauc 0.712576, lr 0.000050\n"
     ]
    },
    {
     "name": "stderr",
     "output_type": "stream",
     "text": [
      "\u001b[A\n",
      " 52%|█████▏    | 52/100 [02:49<02:36,  3.26s/it]"
     ]
    },
    {
     "name": "stdout",
     "output_type": "stream",
     "text": [
      "epoch 52 / 100 in 3.3s: loss 0.682560, trval_rocauc 0.995276, val_rocauc 0.711056, lr 0.000050\n"
     ]
    },
    {
     "name": "stderr",
     "output_type": "stream",
     "text": [
      "\u001b[A\n",
      " 53%|█████▎    | 53/100 [02:53<02:33,  3.26s/it]"
     ]
    },
    {
     "name": "stdout",
     "output_type": "stream",
     "text": [
      "epoch 53 / 100 in 3.3s: loss 0.682244, trval_rocauc 0.997275, val_rocauc 0.708397, lr 0.000050\n"
     ]
    },
    {
     "name": "stderr",
     "output_type": "stream",
     "text": [
      "\u001b[A\n",
      " 54%|█████▍    | 54/100 [02:56<02:29,  3.26s/it]"
     ]
    },
    {
     "name": "stdout",
     "output_type": "stream",
     "text": [
      "epoch 54 / 100 in 3.3s: loss 0.683452, trval_rocauc 0.997820, val_rocauc 0.715426, lr 0.000050\n"
     ]
    },
    {
     "name": "stderr",
     "output_type": "stream",
     "text": [
      "\u001b[A\n",
      " 55%|█████▌    | 55/100 [02:59<02:26,  3.26s/it]"
     ]
    },
    {
     "name": "stdout",
     "output_type": "stream",
     "text": [
      "epoch 55 / 100 in 3.3s: loss 0.682821, trval_rocauc 0.998001, val_rocauc 0.739932, lr 0.000050\n"
     ]
    },
    {
     "name": "stderr",
     "output_type": "stream",
     "text": [
      "\u001b[A\n",
      " 56%|█████▌    | 56/100 [03:02<02:23,  3.26s/it]"
     ]
    },
    {
     "name": "stdout",
     "output_type": "stream",
     "text": [
      "epoch 56 / 100 in 3.3s: loss 0.681160, trval_rocauc 0.995458, val_rocauc 0.731003, lr 0.000050\n"
     ]
    },
    {
     "name": "stderr",
     "output_type": "stream",
     "text": [
      "\u001b[A\n",
      " 57%|█████▋    | 57/100 [03:06<02:20,  3.26s/it]"
     ]
    },
    {
     "name": "stdout",
     "output_type": "stream",
     "text": [
      "epoch 57 / 100 in 3.3s: loss 0.684174, trval_rocauc 0.996730, val_rocauc 0.738792, lr 0.000050\n"
     ]
    },
    {
     "name": "stderr",
     "output_type": "stream",
     "text": [
      "\u001b[A\n",
      " 58%|█████▊    | 58/100 [03:09<02:17,  3.26s/it]"
     ]
    },
    {
     "name": "stdout",
     "output_type": "stream",
     "text": [
      "epoch 58 / 100 in 3.3s: loss 0.684464, trval_rocauc 0.996911, val_rocauc 0.724354, lr 0.000050\n"
     ]
    },
    {
     "name": "stderr",
     "output_type": "stream",
     "text": [
      "\u001b[A\n",
      " 59%|█████▉    | 59/100 [03:12<02:13,  3.26s/it]"
     ]
    },
    {
     "name": "stdout",
     "output_type": "stream",
     "text": [
      "epoch 59 / 100 in 3.3s: loss 0.684019, trval_rocauc 0.997820, val_rocauc 0.724164, lr 0.000050\n"
     ]
    },
    {
     "name": "stderr",
     "output_type": "stream",
     "text": [
      "\u001b[A\n",
      " 60%|██████    | 60/100 [03:15<02:10,  3.26s/it]"
     ]
    },
    {
     "name": "stdout",
     "output_type": "stream",
     "text": [
      "epoch 60 / 100 in 3.2s: loss 0.684486, trval_rocauc 0.997638, val_rocauc 0.709157, lr 0.000050\n"
     ]
    },
    {
     "name": "stderr",
     "output_type": "stream",
     "text": [
      "\u001b[A\n",
      " 61%|██████    | 61/100 [03:19<02:06,  3.26s/it]"
     ]
    },
    {
     "name": "stdout",
     "output_type": "stream",
     "text": [
      "epoch 61 / 100 in 3.3s: loss 0.684437, trval_rocauc 0.998547, val_rocauc 0.719795, lr 0.000050\n"
     ]
    },
    {
     "name": "stderr",
     "output_type": "stream",
     "text": [
      "\u001b[A\n",
      " 62%|██████▏   | 62/100 [03:22<02:03,  3.25s/it]"
     ]
    },
    {
     "name": "stdout",
     "output_type": "stream",
     "text": [
      "epoch 62 / 100 in 3.2s: loss 0.681085, trval_rocauc 0.996730, val_rocauc 0.725684, lr 0.000050\n"
     ]
    },
    {
     "name": "stderr",
     "output_type": "stream",
     "text": [
      "\u001b[A\n",
      " 63%|██████▎   | 63/100 [03:25<02:00,  3.25s/it]"
     ]
    },
    {
     "name": "stdout",
     "output_type": "stream",
     "text": [
      "epoch 63 / 100 in 3.3s: loss 0.683269, trval_rocauc 0.996911, val_rocauc 0.725494, lr 0.000050\n"
     ]
    },
    {
     "name": "stderr",
     "output_type": "stream",
     "text": [
      "\u001b[A\n",
      " 64%|██████▍   | 64/100 [03:28<01:57,  3.26s/it]"
     ]
    },
    {
     "name": "stdout",
     "output_type": "stream",
     "text": [
      "epoch 64 / 100 in 3.3s: loss 0.683579, trval_rocauc 0.998365, val_rocauc 0.748860, lr 0.000050\n"
     ]
    },
    {
     "name": "stderr",
     "output_type": "stream",
     "text": [
      "\u001b[A\n",
      " 65%|██████▌   | 65/100 [03:32<01:56,  3.32s/it]"
     ]
    },
    {
     "name": "stdout",
     "output_type": "stream",
     "text": [
      "epoch 65 / 100 in 3.5s: loss 0.683348, trval_rocauc 0.997093, val_rocauc 0.739742, lr 0.000050\n"
     ]
    },
    {
     "name": "stderr",
     "output_type": "stream",
     "text": [
      "\u001b[A\n",
      " 66%|██████▌   | 66/100 [03:35<01:52,  3.30s/it]"
     ]
    },
    {
     "name": "stdout",
     "output_type": "stream",
     "text": [
      "epoch 66 / 100 in 3.3s: loss 0.680659, trval_rocauc 0.997820, val_rocauc 0.724924, lr 0.000050\n"
     ]
    },
    {
     "name": "stderr",
     "output_type": "stream",
     "text": [
      "\u001b[A\n",
      " 67%|██████▋   | 67/100 [03:38<01:48,  3.30s/it]"
     ]
    },
    {
     "name": "stdout",
     "output_type": "stream",
     "text": [
      "epoch 67 / 100 in 3.3s: loss 0.680478, trval_rocauc 0.998728, val_rocauc 0.736322, lr 0.000050\n"
     ]
    },
    {
     "name": "stderr",
     "output_type": "stream",
     "text": [
      "\u001b[A\n",
      " 68%|██████▊   | 68/100 [03:42<01:45,  3.28s/it]"
     ]
    },
    {
     "name": "stdout",
     "output_type": "stream",
     "text": [
      "epoch 68 / 100 in 3.2s: loss 0.683699, trval_rocauc 0.999818, val_rocauc 0.734802, lr 0.000050\n"
     ]
    },
    {
     "name": "stderr",
     "output_type": "stream",
     "text": [
      "\u001b[A\n",
      " 69%|██████▉   | 69/100 [03:45<01:41,  3.27s/it]"
     ]
    },
    {
     "name": "stdout",
     "output_type": "stream",
     "text": [
      "epoch 69 / 100 in 3.3s: loss 0.682561, trval_rocauc 0.999818, val_rocauc 0.722644, lr 0.000050\n"
     ]
    },
    {
     "name": "stderr",
     "output_type": "stream",
     "text": [
      "\u001b[A\n",
      " 70%|███████   | 70/100 [03:48<01:38,  3.27s/it]"
     ]
    },
    {
     "name": "stdout",
     "output_type": "stream",
     "text": [
      "epoch 70 / 100 in 3.3s: loss 0.685521, trval_rocauc 0.999818, val_rocauc 0.736512, lr 0.000050\n"
     ]
    },
    {
     "name": "stderr",
     "output_type": "stream",
     "text": [
      "\u001b[A\n",
      " 71%|███████   | 71/100 [03:51<01:34,  3.26s/it]"
     ]
    },
    {
     "name": "stdout",
     "output_type": "stream",
     "text": [
      "epoch 71 / 100 in 3.2s: loss 0.684897, trval_rocauc 0.999818, val_rocauc 0.736702, lr 0.000050\n"
     ]
    },
    {
     "name": "stderr",
     "output_type": "stream",
     "text": [
      "\u001b[A\n",
      " 72%|███████▏  | 72/100 [03:55<01:31,  3.26s/it]"
     ]
    },
    {
     "name": "stdout",
     "output_type": "stream",
     "text": [
      "epoch 72 / 100 in 3.3s: loss 0.683124, trval_rocauc 1.000000, val_rocauc 0.739552, lr 0.000050\n"
     ]
    },
    {
     "name": "stderr",
     "output_type": "stream",
     "text": [
      "\u001b[A\n",
      " 73%|███████▎  | 73/100 [03:58<01:27,  3.26s/it]"
     ]
    },
    {
     "name": "stdout",
     "output_type": "stream",
     "text": [
      "epoch 73 / 100 in 3.2s: loss 0.683137, trval_rocauc 0.999455, val_rocauc 0.734992, lr 0.000050\n"
     ]
    },
    {
     "name": "stderr",
     "output_type": "stream",
     "text": [
      "\u001b[A\n",
      " 74%|███████▍  | 74/100 [04:01<01:24,  3.25s/it]"
     ]
    },
    {
     "name": "stdout",
     "output_type": "stream",
     "text": [
      "epoch 74 / 100 in 3.2s: loss 0.679594, trval_rocauc 0.998728, val_rocauc 0.727774, lr 0.000050\n"
     ]
    },
    {
     "name": "stderr",
     "output_type": "stream",
     "text": [
      "\u001b[A\n",
      " 75%|███████▌  | 75/100 [04:04<01:21,  3.25s/it]"
     ]
    },
    {
     "name": "stdout",
     "output_type": "stream",
     "text": [
      "epoch 75 / 100 in 3.2s: loss 0.682131, trval_rocauc 1.000000, val_rocauc 0.719605, lr 0.000050\n"
     ]
    },
    {
     "name": "stderr",
     "output_type": "stream",
     "text": [
      "\u001b[A\n",
      " 76%|███████▌  | 76/100 [04:08<01:18,  3.26s/it]"
     ]
    },
    {
     "name": "stdout",
     "output_type": "stream",
     "text": [
      "epoch 76 / 100 in 3.3s: loss 0.683123, trval_rocauc 1.000000, val_rocauc 0.728153, lr 0.000050\n"
     ]
    },
    {
     "name": "stderr",
     "output_type": "stream",
     "text": [
      "\u001b[A\n",
      " 77%|███████▋  | 77/100 [04:11<01:14,  3.26s/it]"
     ]
    },
    {
     "name": "stdout",
     "output_type": "stream",
     "text": [
      "epoch 77 / 100 in 3.3s: loss 0.682930, trval_rocauc 1.000000, val_rocauc 0.734612, lr 0.000050\n"
     ]
    },
    {
     "name": "stderr",
     "output_type": "stream",
     "text": [
      "\u001b[A\n",
      " 78%|███████▊  | 78/100 [04:14<01:11,  3.25s/it]"
     ]
    },
    {
     "name": "stdout",
     "output_type": "stream",
     "text": [
      "epoch 78 / 100 in 3.2s: loss 0.681516, trval_rocauc 1.000000, val_rocauc 0.741451, lr 0.000050\n"
     ]
    },
    {
     "name": "stderr",
     "output_type": "stream",
     "text": [
      "\u001b[A\n",
      " 79%|███████▉  | 79/100 [04:17<01:08,  3.25s/it]"
     ]
    },
    {
     "name": "stdout",
     "output_type": "stream",
     "text": [
      "epoch 79 / 100 in 3.2s: loss 0.681988, trval_rocauc 1.000000, val_rocauc 0.736322, lr 0.000050\n"
     ]
    },
    {
     "name": "stderr",
     "output_type": "stream",
     "text": [
      "\u001b[A\n",
      " 80%|████████  | 80/100 [04:21<01:05,  3.25s/it]"
     ]
    },
    {
     "name": "stdout",
     "output_type": "stream",
     "text": [
      "epoch 80 / 100 in 3.3s: loss 0.682548, trval_rocauc 1.000000, val_rocauc 0.733663, lr 0.000050\n"
     ]
    },
    {
     "name": "stderr",
     "output_type": "stream",
     "text": [
      "\u001b[A\n",
      " 81%|████████  | 81/100 [04:24<01:01,  3.25s/it]"
     ]
    },
    {
     "name": "stdout",
     "output_type": "stream",
     "text": [
      "epoch 81 / 100 in 3.2s: loss 0.681215, trval_rocauc 1.000000, val_rocauc 0.738412, lr 0.000050\n"
     ]
    },
    {
     "name": "stderr",
     "output_type": "stream",
     "text": [
      "\u001b[A\n",
      " 82%|████████▏ | 82/100 [04:27<00:58,  3.25s/it]"
     ]
    },
    {
     "name": "stdout",
     "output_type": "stream",
     "text": [
      "epoch 82 / 100 in 3.2s: loss 0.679954, trval_rocauc 0.999637, val_rocauc 0.736512, lr 0.000050\n"
     ]
    },
    {
     "name": "stderr",
     "output_type": "stream",
     "text": [
      "\u001b[A\n",
      " 83%|████████▎ | 83/100 [04:30<00:55,  3.25s/it]"
     ]
    },
    {
     "name": "stdout",
     "output_type": "stream",
     "text": [
      "epoch 83 / 100 in 3.2s: loss 0.684805, trval_rocauc 1.000000, val_rocauc 0.731573, lr 0.000050\n"
     ]
    },
    {
     "name": "stderr",
     "output_type": "stream",
     "text": [
      "\u001b[A\n",
      " 84%|████████▍ | 84/100 [04:34<00:51,  3.25s/it]"
     ]
    },
    {
     "name": "stdout",
     "output_type": "stream",
     "text": [
      "epoch 84 / 100 in 3.2s: loss 0.683264, trval_rocauc 0.999637, val_rocauc 0.755699, lr 0.000050\n"
     ]
    },
    {
     "name": "stderr",
     "output_type": "stream",
     "text": [
      "\u001b[A\n",
      " 85%|████████▌ | 85/100 [04:37<00:48,  3.24s/it]"
     ]
    },
    {
     "name": "stdout",
     "output_type": "stream",
     "text": [
      "epoch 85 / 100 in 3.2s: loss 0.682974, trval_rocauc 1.000000, val_rocauc 0.746201, lr 0.000050\n"
     ]
    },
    {
     "name": "stderr",
     "output_type": "stream",
     "text": [
      "\u001b[A\n",
      " 86%|████████▌ | 86/100 [04:40<00:45,  3.25s/it]"
     ]
    },
    {
     "name": "stdout",
     "output_type": "stream",
     "text": [
      "epoch 86 / 100 in 3.3s: loss 0.682219, trval_rocauc 1.000000, val_rocauc 0.734992, lr 0.000050\n"
     ]
    },
    {
     "name": "stderr",
     "output_type": "stream",
     "text": [
      "\u001b[A\n",
      " 87%|████████▋ | 87/100 [04:43<00:42,  3.28s/it]"
     ]
    },
    {
     "name": "stdout",
     "output_type": "stream",
     "text": [
      "epoch 87 / 100 in 3.3s: loss 0.680293, trval_rocauc 1.000000, val_rocauc 0.741831, lr 0.000050\n"
     ]
    },
    {
     "name": "stderr",
     "output_type": "stream",
     "text": [
      "\u001b[A\n",
      " 88%|████████▊ | 88/100 [04:47<00:39,  3.27s/it]"
     ]
    },
    {
     "name": "stdout",
     "output_type": "stream",
     "text": [
      "epoch 88 / 100 in 3.3s: loss 0.684497, trval_rocauc 1.000000, val_rocauc 0.732333, lr 0.000050\n"
     ]
    },
    {
     "name": "stderr",
     "output_type": "stream",
     "text": [
      "\u001b[A\n",
      " 89%|████████▉ | 89/100 [04:50<00:35,  3.26s/it]"
     ]
    },
    {
     "name": "stdout",
     "output_type": "stream",
     "text": [
      "epoch 89 / 100 in 3.2s: loss 0.684678, trval_rocauc 1.000000, val_rocauc 0.743921, lr 0.000050\n"
     ]
    },
    {
     "name": "stderr",
     "output_type": "stream",
     "text": [
      "\u001b[A\n",
      " 90%|█████████ | 90/100 [04:53<00:32,  3.26s/it]"
     ]
    },
    {
     "name": "stdout",
     "output_type": "stream",
     "text": [
      "epoch 90 / 100 in 3.2s: loss 0.679410, trval_rocauc 0.999818, val_rocauc 0.742211, lr 0.000050\n"
     ]
    },
    {
     "name": "stderr",
     "output_type": "stream",
     "text": [
      "\u001b[A\n",
      " 91%|█████████ | 91/100 [04:56<00:29,  3.25s/it]"
     ]
    },
    {
     "name": "stdout",
     "output_type": "stream",
     "text": [
      "epoch 91 / 100 in 3.2s: loss 0.682700, trval_rocauc 1.000000, val_rocauc 0.762918, lr 0.000050\n"
     ]
    },
    {
     "name": "stderr",
     "output_type": "stream",
     "text": [
      "\u001b[A\n",
      " 92%|█████████▏| 92/100 [05:00<00:26,  3.28s/it]"
     ]
    },
    {
     "name": "stdout",
     "output_type": "stream",
     "text": [
      "epoch 92 / 100 in 3.3s: loss 0.682916, trval_rocauc 0.999637, val_rocauc 0.756079, lr 0.000050\n"
     ]
    },
    {
     "name": "stderr",
     "output_type": "stream",
     "text": [
      "\u001b[A\n",
      " 93%|█████████▎| 93/100 [05:03<00:22,  3.27s/it]"
     ]
    },
    {
     "name": "stdout",
     "output_type": "stream",
     "text": [
      "epoch 93 / 100 in 3.2s: loss 0.682015, trval_rocauc 1.000000, val_rocauc 0.747150, lr 0.000050\n"
     ]
    },
    {
     "name": "stderr",
     "output_type": "stream",
     "text": [
      "\u001b[A\n",
      " 94%|█████████▍| 94/100 [05:06<00:19,  3.26s/it]"
     ]
    },
    {
     "name": "stdout",
     "output_type": "stream",
     "text": [
      "epoch 94 / 100 in 3.2s: loss 0.681907, trval_rocauc 0.999818, val_rocauc 0.745441, lr 0.000050\n"
     ]
    },
    {
     "name": "stderr",
     "output_type": "stream",
     "text": [
      "\u001b[A\n",
      " 95%|█████████▌| 95/100 [05:10<00:16,  3.27s/it]"
     ]
    },
    {
     "name": "stdout",
     "output_type": "stream",
     "text": [
      "epoch 95 / 100 in 3.3s: loss 0.681024, trval_rocauc 0.999818, val_rocauc 0.748480, lr 0.000050\n"
     ]
    },
    {
     "name": "stderr",
     "output_type": "stream",
     "text": [
      "\u001b[A\n",
      " 96%|█████████▌| 96/100 [05:13<00:13,  3.26s/it]"
     ]
    },
    {
     "name": "stdout",
     "output_type": "stream",
     "text": [
      "epoch 96 / 100 in 3.2s: loss 0.683586, trval_rocauc 0.999637, val_rocauc 0.757409, lr 0.000050\n"
     ]
    },
    {
     "name": "stderr",
     "output_type": "stream",
     "text": [
      "\u001b[A\n",
      " 97%|█████████▋| 97/100 [05:16<00:09,  3.26s/it]"
     ]
    },
    {
     "name": "stdout",
     "output_type": "stream",
     "text": [
      "epoch 97 / 100 in 3.3s: loss 0.682839, trval_rocauc 0.999273, val_rocauc 0.759498, lr 0.000050\n"
     ]
    },
    {
     "name": "stderr",
     "output_type": "stream",
     "text": [
      "\u001b[A\n",
      " 98%|█████████▊| 98/100 [05:20<00:06,  3.31s/it]"
     ]
    },
    {
     "name": "stdout",
     "output_type": "stream",
     "text": [
      "epoch 98 / 100 in 3.4s: loss 0.683926, trval_rocauc 0.999637, val_rocauc 0.757409, lr 0.000050\n"
     ]
    },
    {
     "name": "stderr",
     "output_type": "stream",
     "text": [
      "\u001b[A\n",
      " 99%|█████████▉| 99/100 [05:23<00:03,  3.34s/it]"
     ]
    },
    {
     "name": "stdout",
     "output_type": "stream",
     "text": [
      "epoch 99 / 100 in 3.4s: loss 0.680300, trval_rocauc 0.999455, val_rocauc 0.760448, lr 0.000050\n"
     ]
    },
    {
     "name": "stderr",
     "output_type": "stream",
     "text": [
      "\u001b[A\n",
      "100%|██████████| 100/100 [05:26<00:00,  3.32s/it]\u001b[A\n",
      " 58%|█████▊    | 7/12 [40:49<28:29, 341.92s/it]"
     ]
    },
    {
     "name": "stdout",
     "output_type": "stream",
     "text": [
      "epoch 100 / 100 in 3.3s: loss 0.678407, trval_rocauc 0.999637, val_rocauc 0.761778, lr 0.000050\n"
     ]
    },
    {
     "name": "stderr",
     "output_type": "stream",
     "text": [
      "\n",
      "  0%|          | 0/100 [00:00<?, ?it/s]\u001b[A\n",
      "  1%|          | 1/100 [00:03<05:23,  3.27s/it]"
     ]
    },
    {
     "name": "stdout",
     "output_type": "stream",
     "text": [
      "epoch 1 / 100 in 3.3s: loss 0.695752, trval_rocauc 0.633638, val_rocauc 0.628788, lr 0.000050\n"
     ]
    },
    {
     "name": "stderr",
     "output_type": "stream",
     "text": [
      "\u001b[A\n",
      "  2%|▏         | 2/100 [00:06<05:20,  3.27s/it]"
     ]
    },
    {
     "name": "stdout",
     "output_type": "stream",
     "text": [
      "epoch 2 / 100 in 3.3s: loss 0.696082, trval_rocauc 0.713541, val_rocauc 0.625902, lr 0.000050\n"
     ]
    },
    {
     "name": "stderr",
     "output_type": "stream",
     "text": [
      "\u001b[A\n",
      "  3%|▎         | 3/100 [00:09<05:17,  3.27s/it]"
     ]
    },
    {
     "name": "stdout",
     "output_type": "stream",
     "text": [
      "epoch 3 / 100 in 3.3s: loss 0.692620, trval_rocauc 0.758428, val_rocauc 0.627886, lr 0.000050\n"
     ]
    },
    {
     "name": "stderr",
     "output_type": "stream",
     "text": [
      "\u001b[A\n",
      "  4%|▍         | 4/100 [00:13<05:14,  3.27s/it]"
     ]
    },
    {
     "name": "stdout",
     "output_type": "stream",
     "text": [
      "epoch 4 / 100 in 3.3s: loss 0.693886, trval_rocauc 0.799404, val_rocauc 0.638528, lr 0.000050\n"
     ]
    },
    {
     "name": "stderr",
     "output_type": "stream",
     "text": [
      "\u001b[A\n",
      "  5%|▌         | 5/100 [00:16<05:11,  3.27s/it]"
     ]
    },
    {
     "name": "stdout",
     "output_type": "stream",
     "text": [
      "epoch 5 / 100 in 3.3s: loss 0.690839, trval_rocauc 0.816353, val_rocauc 0.641053, lr 0.000050\n"
     ]
    },
    {
     "name": "stderr",
     "output_type": "stream",
     "text": [
      "\u001b[A\n",
      "  6%|▌         | 6/100 [00:19<05:07,  3.28s/it]"
     ]
    },
    {
     "name": "stdout",
     "output_type": "stream",
     "text": [
      "epoch 6 / 100 in 3.3s: loss 0.691545, trval_rocauc 0.839262, val_rocauc 0.655483, lr 0.000050\n"
     ]
    },
    {
     "name": "stderr",
     "output_type": "stream",
     "text": [
      "\u001b[A\n",
      "  7%|▋         | 7/100 [00:22<05:04,  3.28s/it]"
     ]
    },
    {
     "name": "stdout",
     "output_type": "stream",
     "text": [
      "epoch 7 / 100 in 3.3s: loss 0.691838, trval_rocauc 0.854908, val_rocauc 0.651876, lr 0.000050\n"
     ]
    },
    {
     "name": "stderr",
     "output_type": "stream",
     "text": [
      "\u001b[A\n",
      "  8%|▊         | 8/100 [00:26<05:01,  3.28s/it]"
     ]
    },
    {
     "name": "stdout",
     "output_type": "stream",
     "text": [
      "epoch 8 / 100 in 3.3s: loss 0.690697, trval_rocauc 0.860868, val_rocauc 0.652958, lr 0.000050\n"
     ]
    },
    {
     "name": "stderr",
     "output_type": "stream",
     "text": [
      "\u001b[A\n",
      "  9%|▉         | 9/100 [00:29<04:58,  3.28s/it]"
     ]
    },
    {
     "name": "stdout",
     "output_type": "stream",
     "text": [
      "epoch 9 / 100 in 3.3s: loss 0.689021, trval_rocauc 0.873906, val_rocauc 0.662518, lr 0.000050\n"
     ]
    },
    {
     "name": "stderr",
     "output_type": "stream",
     "text": [
      "\u001b[A\n",
      " 10%|█         | 10/100 [00:32<04:55,  3.28s/it]"
     ]
    },
    {
     "name": "stdout",
     "output_type": "stream",
     "text": [
      "epoch 10 / 100 in 3.3s: loss 0.689324, trval_rocauc 0.887316, val_rocauc 0.664141, lr 0.000050\n"
     ]
    },
    {
     "name": "stderr",
     "output_type": "stream",
     "text": [
      "\u001b[A\n",
      " 11%|█         | 11/100 [00:36<04:51,  3.28s/it]"
     ]
    },
    {
     "name": "stdout",
     "output_type": "stream",
     "text": [
      "epoch 11 / 100 in 3.3s: loss 0.688000, trval_rocauc 0.904451, val_rocauc 0.678391, lr 0.000050\n"
     ]
    },
    {
     "name": "stderr",
     "output_type": "stream",
     "text": [
      "\u001b[A\n",
      " 12%|█▏        | 12/100 [00:39<04:49,  3.29s/it]"
     ]
    },
    {
     "name": "stdout",
     "output_type": "stream",
     "text": [
      "epoch 12 / 100 in 3.3s: loss 0.688468, trval_rocauc 0.907432, val_rocauc 0.670815, lr 0.000050\n"
     ]
    },
    {
     "name": "stderr",
     "output_type": "stream",
     "text": [
      "\u001b[A\n",
      " 13%|█▎        | 13/100 [00:42<04:45,  3.29s/it]"
     ]
    },
    {
     "name": "stdout",
     "output_type": "stream",
     "text": [
      "epoch 13 / 100 in 3.3s: loss 0.687940, trval_rocauc 0.908735, val_rocauc 0.680195, lr 0.000050\n"
     ]
    },
    {
     "name": "stderr",
     "output_type": "stream",
     "text": [
      "\u001b[A\n",
      " 14%|█▍        | 14/100 [00:45<04:42,  3.28s/it]"
     ]
    },
    {
     "name": "stdout",
     "output_type": "stream",
     "text": [
      "epoch 14 / 100 in 3.3s: loss 0.687273, trval_rocauc 0.915813, val_rocauc 0.665043, lr 0.000050\n"
     ]
    },
    {
     "name": "stderr",
     "output_type": "stream",
     "text": [
      "\u001b[A\n",
      " 15%|█▌        | 15/100 [00:49<04:38,  3.28s/it]"
     ]
    },
    {
     "name": "stdout",
     "output_type": "stream",
     "text": [
      "epoch 15 / 100 in 3.3s: loss 0.688712, trval_rocauc 0.927547, val_rocauc 0.669913, lr 0.000050\n"
     ]
    },
    {
     "name": "stderr",
     "output_type": "stream",
     "text": [
      "\u001b[A\n",
      " 16%|█▌        | 16/100 [00:52<04:35,  3.28s/it]"
     ]
    },
    {
     "name": "stdout",
     "output_type": "stream",
     "text": [
      "epoch 16 / 100 in 3.3s: loss 0.686640, trval_rocauc 0.931645, val_rocauc 0.678030, lr 0.000050\n"
     ]
    },
    {
     "name": "stderr",
     "output_type": "stream",
     "text": [
      "\u001b[A\n",
      " 17%|█▋        | 17/100 [00:55<04:32,  3.28s/it]"
     ]
    },
    {
     "name": "stdout",
     "output_type": "stream",
     "text": [
      "epoch 17 / 100 in 3.3s: loss 0.687299, trval_rocauc 0.934811, val_rocauc 0.685065, lr 0.000050\n"
     ]
    },
    {
     "name": "stderr",
     "output_type": "stream",
     "text": [
      "\u001b[A\n",
      " 18%|█▊        | 18/100 [00:59<04:28,  3.28s/it]"
     ]
    },
    {
     "name": "stdout",
     "output_type": "stream",
     "text": [
      "epoch 18 / 100 in 3.3s: loss 0.686643, trval_rocauc 0.936301, val_rocauc 0.676948, lr 0.000050\n"
     ]
    },
    {
     "name": "stderr",
     "output_type": "stream",
     "text": [
      "\u001b[A\n",
      " 19%|█▉        | 19/100 [01:02<04:25,  3.28s/it]"
     ]
    },
    {
     "name": "stdout",
     "output_type": "stream",
     "text": [
      "epoch 19 / 100 in 3.3s: loss 0.685616, trval_rocauc 0.940771, val_rocauc 0.665224, lr 0.000050\n"
     ]
    },
    {
     "name": "stderr",
     "output_type": "stream",
     "text": [
      "\u001b[A\n",
      " 20%|██        | 20/100 [01:05<04:22,  3.28s/it]"
     ]
    },
    {
     "name": "stdout",
     "output_type": "stream",
     "text": [
      "epoch 20 / 100 in 3.3s: loss 0.687130, trval_rocauc 0.948966, val_rocauc 0.680375, lr 0.000050\n"
     ]
    },
    {
     "name": "stderr",
     "output_type": "stream",
     "text": [
      "\u001b[A\n",
      " 21%|██        | 21/100 [01:08<04:20,  3.29s/it]"
     ]
    },
    {
     "name": "stdout",
     "output_type": "stream",
     "text": [
      "epoch 21 / 100 in 3.3s: loss 0.685646, trval_rocauc 0.948594, val_rocauc 0.689755, lr 0.000050\n"
     ]
    },
    {
     "name": "stderr",
     "output_type": "stream",
     "text": [
      "\u001b[A\n",
      " 22%|██▏       | 22/100 [01:12<04:16,  3.29s/it]"
     ]
    },
    {
     "name": "stdout",
     "output_type": "stream",
     "text": [
      "epoch 22 / 100 in 3.3s: loss 0.687330, trval_rocauc 0.960514, val_rocauc 0.709416, lr 0.000050\n"
     ]
    },
    {
     "name": "stderr",
     "output_type": "stream",
     "text": [
      "\u001b[A\n",
      " 23%|██▎       | 23/100 [01:15<04:12,  3.28s/it]"
     ]
    },
    {
     "name": "stdout",
     "output_type": "stream",
     "text": [
      "epoch 23 / 100 in 3.3s: loss 0.684444, trval_rocauc 0.962377, val_rocauc 0.711400, lr 0.000050\n"
     ]
    },
    {
     "name": "stderr",
     "output_type": "stream",
     "text": [
      "\u001b[A\n",
      " 24%|██▍       | 24/100 [01:18<04:11,  3.30s/it]"
     ]
    },
    {
     "name": "stdout",
     "output_type": "stream",
     "text": [
      "epoch 24 / 100 in 3.3s: loss 0.686090, trval_rocauc 0.963308, val_rocauc 0.698052, lr 0.000050\n"
     ]
    },
    {
     "name": "stderr",
     "output_type": "stream",
     "text": [
      "\u001b[A\n",
      " 25%|██▌       | 25/100 [01:22<04:07,  3.29s/it]"
     ]
    },
    {
     "name": "stdout",
     "output_type": "stream",
     "text": [
      "epoch 25 / 100 in 3.3s: loss 0.685135, trval_rocauc 0.964612, val_rocauc 0.693903, lr 0.000050\n"
     ]
    },
    {
     "name": "stderr",
     "output_type": "stream",
     "text": [
      "\u001b[A\n",
      " 26%|██▌       | 26/100 [01:25<04:03,  3.29s/it]"
     ]
    },
    {
     "name": "stdout",
     "output_type": "stream",
     "text": [
      "epoch 26 / 100 in 3.3s: loss 0.683839, trval_rocauc 0.961632, val_rocauc 0.702742, lr 0.000050\n"
     ]
    },
    {
     "name": "stderr",
     "output_type": "stream",
     "text": [
      "\u001b[A\n",
      " 27%|██▋       | 27/100 [01:28<03:59,  3.28s/it]"
     ]
    },
    {
     "name": "stdout",
     "output_type": "stream",
     "text": [
      "epoch 27 / 100 in 3.3s: loss 0.686339, trval_rocauc 0.968337, val_rocauc 0.719877, lr 0.000050\n"
     ]
    },
    {
     "name": "stderr",
     "output_type": "stream",
     "text": [
      "\u001b[A\n",
      " 28%|██▊       | 28/100 [01:31<03:56,  3.28s/it]"
     ]
    },
    {
     "name": "stdout",
     "output_type": "stream",
     "text": [
      "epoch 28 / 100 in 3.3s: loss 0.685557, trval_rocauc 0.971317, val_rocauc 0.723124, lr 0.000050\n"
     ]
    },
    {
     "name": "stderr",
     "output_type": "stream",
     "text": [
      "\u001b[A\n",
      " 29%|██▉       | 29/100 [01:35<03:56,  3.33s/it]"
     ]
    },
    {
     "name": "stdout",
     "output_type": "stream",
     "text": [
      "epoch 29 / 100 in 3.5s: loss 0.683272, trval_rocauc 0.973924, val_rocauc 0.717713, lr 0.000050\n"
     ]
    },
    {
     "name": "stderr",
     "output_type": "stream",
     "text": [
      "\u001b[A\n",
      " 30%|███       | 30/100 [01:38<03:53,  3.34s/it]"
     ]
    },
    {
     "name": "stdout",
     "output_type": "stream",
     "text": [
      "epoch 30 / 100 in 3.3s: loss 0.682964, trval_rocauc 0.971503, val_rocauc 0.705267, lr 0.000050\n"
     ]
    },
    {
     "name": "stderr",
     "output_type": "stream",
     "text": [
      "\u001b[A\n",
      " 31%|███       | 31/100 [01:41<03:49,  3.32s/it]"
     ]
    },
    {
     "name": "stdout",
     "output_type": "stream",
     "text": [
      "epoch 31 / 100 in 3.3s: loss 0.682417, trval_rocauc 0.973738, val_rocauc 0.712482, lr 0.000050\n"
     ]
    },
    {
     "name": "stderr",
     "output_type": "stream",
     "text": [
      "\u001b[A\n",
      " 32%|███▏      | 32/100 [01:45<03:44,  3.31s/it]"
     ]
    },
    {
     "name": "stdout",
     "output_type": "stream",
     "text": [
      "epoch 32 / 100 in 3.3s: loss 0.684641, trval_rocauc 0.977277, val_rocauc 0.721320, lr 0.000050\n"
     ]
    },
    {
     "name": "stderr",
     "output_type": "stream",
     "text": [
      "\u001b[A\n",
      " 33%|███▎      | 33/100 [01:48<03:40,  3.30s/it]"
     ]
    },
    {
     "name": "stdout",
     "output_type": "stream",
     "text": [
      "epoch 33 / 100 in 3.3s: loss 0.683914, trval_rocauc 0.976718, val_rocauc 0.713925, lr 0.000050\n"
     ]
    },
    {
     "name": "stderr",
     "output_type": "stream",
     "text": [
      "\u001b[A\n",
      " 34%|███▍      | 34/100 [01:51<03:37,  3.29s/it]"
     ]
    },
    {
     "name": "stdout",
     "output_type": "stream",
     "text": [
      "epoch 34 / 100 in 3.3s: loss 0.684428, trval_rocauc 0.974297, val_rocauc 0.704545, lr 0.000050\n"
     ]
    },
    {
     "name": "stderr",
     "output_type": "stream",
     "text": [
      "\u001b[A\n",
      " 35%|███▌      | 35/100 [01:55<03:33,  3.28s/it]"
     ]
    },
    {
     "name": "stdout",
     "output_type": "stream",
     "text": [
      "epoch 35 / 100 in 3.3s: loss 0.686213, trval_rocauc 0.979326, val_rocauc 0.705447, lr 0.000050\n"
     ]
    },
    {
     "name": "stderr",
     "output_type": "stream",
     "text": [
      "\u001b[A\n",
      " 36%|███▌      | 36/100 [01:58<03:29,  3.28s/it]"
     ]
    },
    {
     "name": "stdout",
     "output_type": "stream",
     "text": [
      "epoch 36 / 100 in 3.3s: loss 0.684197, trval_rocauc 0.972807, val_rocauc 0.689574, lr 0.000050\n"
     ]
    },
    {
     "name": "stderr",
     "output_type": "stream",
     "text": [
      "\u001b[A\n",
      " 37%|███▋      | 37/100 [02:01<03:27,  3.30s/it]"
     ]
    },
    {
     "name": "stdout",
     "output_type": "stream",
     "text": [
      "epoch 37 / 100 in 3.3s: loss 0.683936, trval_rocauc 0.966847, val_rocauc 0.679654, lr 0.000050\n"
     ]
    },
    {
     "name": "stderr",
     "output_type": "stream",
     "text": [
      "\u001b[A\n",
      " 38%|███▊      | 38/100 [02:04<03:24,  3.29s/it]"
     ]
    },
    {
     "name": "stdout",
     "output_type": "stream",
     "text": [
      "epoch 38 / 100 in 3.3s: loss 0.684016, trval_rocauc 0.966288, val_rocauc 0.679293, lr 0.000050\n"
     ]
    },
    {
     "name": "stderr",
     "output_type": "stream",
     "text": [
      "\u001b[A\n",
      " 39%|███▉      | 39/100 [02:08<03:20,  3.28s/it]"
     ]
    },
    {
     "name": "stdout",
     "output_type": "stream",
     "text": [
      "epoch 39 / 100 in 3.3s: loss 0.683709, trval_rocauc 0.974856, val_rocauc 0.682540, lr 0.000050\n"
     ]
    },
    {
     "name": "stderr",
     "output_type": "stream",
     "text": [
      "\u001b[A\n",
      " 40%|████      | 40/100 [02:11<03:17,  3.29s/it]"
     ]
    },
    {
     "name": "stdout",
     "output_type": "stream",
     "text": [
      "epoch 40 / 100 in 3.3s: loss 0.679725, trval_rocauc 0.976532, val_rocauc 0.694986, lr 0.000050\n"
     ]
    },
    {
     "name": "stderr",
     "output_type": "stream",
     "text": [
      "\u001b[A\n",
      " 41%|████      | 41/100 [02:14<03:13,  3.28s/it]"
     ]
    },
    {
     "name": "stdout",
     "output_type": "stream",
     "text": [
      "epoch 41 / 100 in 3.3s: loss 0.683179, trval_rocauc 0.978022, val_rocauc 0.681999, lr 0.000050\n"
     ]
    },
    {
     "name": "stderr",
     "output_type": "stream",
     "text": [
      "\u001b[A\n",
      " 42%|████▏     | 42/100 [02:18<03:09,  3.28s/it]"
     ]
    },
    {
     "name": "stdout",
     "output_type": "stream",
     "text": [
      "epoch 42 / 100 in 3.3s: loss 0.685733, trval_rocauc 0.983796, val_rocauc 0.670815, lr 0.000050\n"
     ]
    },
    {
     "name": "stderr",
     "output_type": "stream",
     "text": [
      "\u001b[A\n",
      " 43%|████▎     | 43/100 [02:21<03:06,  3.28s/it]"
     ]
    },
    {
     "name": "stdout",
     "output_type": "stream",
     "text": [
      "epoch 43 / 100 in 3.3s: loss 0.684133, trval_rocauc 0.978953, val_rocauc 0.672619, lr 0.000050\n"
     ]
    },
    {
     "name": "stderr",
     "output_type": "stream",
     "text": [
      "\u001b[A\n",
      " 44%|████▍     | 44/100 [02:24<03:03,  3.27s/it]"
     ]
    },
    {
     "name": "stdout",
     "output_type": "stream",
     "text": [
      "epoch 44 / 100 in 3.3s: loss 0.684002, trval_rocauc 0.982678, val_rocauc 0.674964, lr 0.000050\n"
     ]
    },
    {
     "name": "stderr",
     "output_type": "stream",
     "text": [
      "\u001b[A\n",
      " 45%|████▌     | 45/100 [02:27<03:00,  3.28s/it]"
     ]
    },
    {
     "name": "stdout",
     "output_type": "stream",
     "text": [
      "epoch 45 / 100 in 3.3s: loss 0.684072, trval_rocauc 0.983796, val_rocauc 0.656205, lr 0.000050\n"
     ]
    },
    {
     "name": "stderr",
     "output_type": "stream",
     "text": [
      "\u001b[A\n",
      " 46%|████▌     | 46/100 [02:31<02:57,  3.28s/it]"
     ]
    },
    {
     "name": "stdout",
     "output_type": "stream",
     "text": [
      "epoch 46 / 100 in 3.3s: loss 0.682450, trval_rocauc 0.983796, val_rocauc 0.659632, lr 0.000050\n"
     ]
    },
    {
     "name": "stderr",
     "output_type": "stream",
     "text": [
      "\u001b[A\n",
      " 47%|████▋     | 47/100 [02:34<02:53,  3.28s/it]"
     ]
    },
    {
     "name": "stdout",
     "output_type": "stream",
     "text": [
      "epoch 47 / 100 in 3.3s: loss 0.685072, trval_rocauc 0.985845, val_rocauc 0.659993, lr 0.000050\n"
     ]
    },
    {
     "name": "stderr",
     "output_type": "stream",
     "text": [
      "\u001b[A\n",
      " 48%|████▊     | 48/100 [02:37<02:50,  3.27s/it]"
     ]
    },
    {
     "name": "stdout",
     "output_type": "stream",
     "text": [
      "epoch 48 / 100 in 3.3s: loss 0.685511, trval_rocauc 0.987707, val_rocauc 0.668290, lr 0.000050\n"
     ]
    },
    {
     "name": "stderr",
     "output_type": "stream",
     "text": [
      "\u001b[A\n",
      " 49%|████▉     | 49/100 [02:40<02:47,  3.29s/it]"
     ]
    },
    {
     "name": "stdout",
     "output_type": "stream",
     "text": [
      "epoch 49 / 100 in 3.3s: loss 0.684789, trval_rocauc 0.987893, val_rocauc 0.671176, lr 0.000050\n"
     ]
    },
    {
     "name": "stderr",
     "output_type": "stream",
     "text": [
      "\u001b[A\n",
      " 50%|█████     | 50/100 [02:44<02:43,  3.28s/it]"
     ]
    },
    {
     "name": "stdout",
     "output_type": "stream",
     "text": [
      "epoch 50 / 100 in 3.3s: loss 0.685317, trval_rocauc 0.986962, val_rocauc 0.664502, lr 0.000050\n"
     ]
    },
    {
     "name": "stderr",
     "output_type": "stream",
     "text": [
      "\u001b[A\n",
      " 51%|█████     | 51/100 [02:47<02:40,  3.28s/it]"
     ]
    },
    {
     "name": "stdout",
     "output_type": "stream",
     "text": [
      "epoch 51 / 100 in 3.3s: loss 0.681797, trval_rocauc 0.982865, val_rocauc 0.669733, lr 0.000050\n"
     ]
    },
    {
     "name": "stderr",
     "output_type": "stream",
     "text": [
      "\u001b[A\n",
      " 52%|█████▏    | 52/100 [02:50<02:37,  3.28s/it]"
     ]
    },
    {
     "name": "stdout",
     "output_type": "stream",
     "text": [
      "epoch 52 / 100 in 3.3s: loss 0.682200, trval_rocauc 0.987707, val_rocauc 0.678211, lr 0.000050\n"
     ]
    },
    {
     "name": "stderr",
     "output_type": "stream",
     "text": [
      "\u001b[A\n",
      " 53%|█████▎    | 53/100 [02:54<02:33,  3.27s/it]"
     ]
    },
    {
     "name": "stdout",
     "output_type": "stream",
     "text": [
      "epoch 53 / 100 in 3.3s: loss 0.682776, trval_rocauc 0.992736, val_rocauc 0.683442, lr 0.000050\n"
     ]
    },
    {
     "name": "stderr",
     "output_type": "stream",
     "text": [
      "\u001b[A\n",
      " 54%|█████▍    | 54/100 [02:57<02:30,  3.27s/it]"
     ]
    },
    {
     "name": "stdout",
     "output_type": "stream",
     "text": [
      "epoch 54 / 100 in 3.3s: loss 0.683956, trval_rocauc 0.993109, val_rocauc 0.671537, lr 0.000050\n"
     ]
    },
    {
     "name": "stderr",
     "output_type": "stream",
     "text": [
      "\u001b[A\n",
      " 55%|█████▌    | 55/100 [03:00<02:27,  3.28s/it]"
     ]
    },
    {
     "name": "stdout",
     "output_type": "stream",
     "text": [
      "epoch 55 / 100 in 3.3s: loss 0.682014, trval_rocauc 0.995716, val_rocauc 0.668290, lr 0.000050\n"
     ]
    },
    {
     "name": "stderr",
     "output_type": "stream",
     "text": [
      "\u001b[A\n",
      " 56%|█████▌    | 56/100 [03:03<02:24,  3.28s/it]"
     ]
    },
    {
     "name": "stdout",
     "output_type": "stream",
     "text": [
      "epoch 56 / 100 in 3.3s: loss 0.685741, trval_rocauc 0.996647, val_rocauc 0.679113, lr 0.000050\n"
     ]
    },
    {
     "name": "stderr",
     "output_type": "stream",
     "text": [
      "\u001b[A\n",
      " 57%|█████▋    | 57/100 [03:07<02:20,  3.27s/it]"
     ]
    },
    {
     "name": "stdout",
     "output_type": "stream",
     "text": [
      "epoch 57 / 100 in 3.3s: loss 0.683340, trval_rocauc 0.997206, val_rocauc 0.676046, lr 0.000050\n"
     ]
    },
    {
     "name": "stderr",
     "output_type": "stream",
     "text": [
      "\u001b[A\n",
      " 58%|█████▊    | 58/100 [03:10<02:17,  3.28s/it]"
     ]
    },
    {
     "name": "stdout",
     "output_type": "stream",
     "text": [
      "epoch 58 / 100 in 3.3s: loss 0.679885, trval_rocauc 0.995530, val_rocauc 0.677850, lr 0.000050\n"
     ]
    },
    {
     "name": "stderr",
     "output_type": "stream",
     "text": [
      "\u001b[A\n",
      " 59%|█████▉    | 59/100 [03:13<02:14,  3.28s/it]"
     ]
    },
    {
     "name": "stdout",
     "output_type": "stream",
     "text": [
      "epoch 59 / 100 in 3.3s: loss 0.681242, trval_rocauc 0.994785, val_rocauc 0.690657, lr 0.000050\n"
     ]
    },
    {
     "name": "stderr",
     "output_type": "stream",
     "text": [
      "\u001b[A\n",
      " 60%|██████    | 60/100 [03:17<02:10,  3.27s/it]"
     ]
    },
    {
     "name": "stdout",
     "output_type": "stream",
     "text": [
      "epoch 60 / 100 in 3.3s: loss 0.682328, trval_rocauc 0.995157, val_rocauc 0.690657, lr 0.000050\n"
     ]
    },
    {
     "name": "stderr",
     "output_type": "stream",
     "text": [
      "\u001b[A\n",
      " 61%|██████    | 61/100 [03:20<02:07,  3.27s/it]"
     ]
    },
    {
     "name": "stdout",
     "output_type": "stream",
     "text": [
      "epoch 61 / 100 in 3.3s: loss 0.682442, trval_rocauc 0.996089, val_rocauc 0.678211, lr 0.000050\n"
     ]
    },
    {
     "name": "stderr",
     "output_type": "stream",
     "text": [
      "\u001b[A\n",
      " 62%|██████▏   | 62/100 [03:23<02:04,  3.27s/it]"
     ]
    },
    {
     "name": "stdout",
     "output_type": "stream",
     "text": [
      "epoch 62 / 100 in 3.3s: loss 0.680702, trval_rocauc 0.996647, val_rocauc 0.685967, lr 0.000050\n"
     ]
    },
    {
     "name": "stderr",
     "output_type": "stream",
     "text": [
      "\u001b[A\n",
      " 63%|██████▎   | 63/100 [03:26<02:00,  3.26s/it]"
     ]
    },
    {
     "name": "stdout",
     "output_type": "stream",
     "text": [
      "epoch 63 / 100 in 3.3s: loss 0.683814, trval_rocauc 0.998510, val_rocauc 0.681638, lr 0.000050\n"
     ]
    },
    {
     "name": "stderr",
     "output_type": "stream",
     "text": [
      "\u001b[A\n",
      " 64%|██████▍   | 64/100 [03:30<01:57,  3.27s/it]"
     ]
    },
    {
     "name": "stdout",
     "output_type": "stream",
     "text": [
      "epoch 64 / 100 in 3.3s: loss 0.685593, trval_rocauc 0.996834, val_rocauc 0.681818, lr 0.000050\n"
     ]
    },
    {
     "name": "stderr",
     "output_type": "stream",
     "text": [
      "\u001b[A\n",
      " 65%|██████▌   | 65/100 [03:33<01:54,  3.27s/it]"
     ]
    },
    {
     "name": "stdout",
     "output_type": "stream",
     "text": [
      "epoch 65 / 100 in 3.3s: loss 0.679407, trval_rocauc 0.997392, val_rocauc 0.688492, lr 0.000050\n"
     ]
    },
    {
     "name": "stderr",
     "output_type": "stream",
     "text": [
      "\u001b[A\n",
      " 66%|██████▌   | 66/100 [03:36<01:51,  3.27s/it]"
     ]
    },
    {
     "name": "stdout",
     "output_type": "stream",
     "text": [
      "epoch 66 / 100 in 3.3s: loss 0.683364, trval_rocauc 0.999069, val_rocauc 0.681818, lr 0.000050\n"
     ]
    },
    {
     "name": "stderr",
     "output_type": "stream",
     "text": [
      "\u001b[A\n",
      " 67%|██████▋   | 67/100 [03:39<01:47,  3.27s/it]"
     ]
    },
    {
     "name": "stdout",
     "output_type": "stream",
     "text": [
      "epoch 67 / 100 in 3.3s: loss 0.681888, trval_rocauc 0.997951, val_rocauc 0.669553, lr 0.000050\n"
     ]
    },
    {
     "name": "stderr",
     "output_type": "stream",
     "text": [
      "\u001b[A\n",
      " 68%|██████▊   | 68/100 [03:43<01:44,  3.27s/it]"
     ]
    },
    {
     "name": "stdout",
     "output_type": "stream",
     "text": [
      "epoch 68 / 100 in 3.3s: loss 0.681525, trval_rocauc 0.998510, val_rocauc 0.679654, lr 0.000050\n"
     ]
    },
    {
     "name": "stderr",
     "output_type": "stream",
     "text": [
      "\u001b[A\n",
      " 69%|██████▉   | 69/100 [03:46<01:41,  3.27s/it]"
     ]
    },
    {
     "name": "stdout",
     "output_type": "stream",
     "text": [
      "epoch 69 / 100 in 3.3s: loss 0.683897, trval_rocauc 0.998696, val_rocauc 0.681277, lr 0.000050\n"
     ]
    },
    {
     "name": "stderr",
     "output_type": "stream",
     "text": [
      "\u001b[A\n",
      " 70%|███████   | 70/100 [03:49<01:37,  3.27s/it]"
     ]
    },
    {
     "name": "stdout",
     "output_type": "stream",
     "text": [
      "epoch 70 / 100 in 3.3s: loss 0.683532, trval_rocauc 0.998510, val_rocauc 0.680556, lr 0.000050\n"
     ]
    },
    {
     "name": "stderr",
     "output_type": "stream",
     "text": [
      "\u001b[A\n",
      " 71%|███████   | 71/100 [03:52<01:34,  3.27s/it]"
     ]
    },
    {
     "name": "stdout",
     "output_type": "stream",
     "text": [
      "epoch 71 / 100 in 3.3s: loss 0.682704, trval_rocauc 0.998882, val_rocauc 0.678571, lr 0.000050\n"
     ]
    },
    {
     "name": "stderr",
     "output_type": "stream",
     "text": [
      "\u001b[A\n",
      " 72%|███████▏  | 72/100 [03:56<01:31,  3.27s/it]"
     ]
    },
    {
     "name": "stdout",
     "output_type": "stream",
     "text": [
      "epoch 72 / 100 in 3.3s: loss 0.680157, trval_rocauc 0.998882, val_rocauc 0.683802, lr 0.000050\n"
     ]
    },
    {
     "name": "stderr",
     "output_type": "stream",
     "text": [
      "\u001b[A\n",
      " 73%|███████▎  | 73/100 [03:59<01:28,  3.27s/it]"
     ]
    },
    {
     "name": "stdout",
     "output_type": "stream",
     "text": [
      "epoch 73 / 100 in 3.3s: loss 0.682958, trval_rocauc 0.998882, val_rocauc 0.681638, lr 0.000050\n"
     ]
    },
    {
     "name": "stderr",
     "output_type": "stream",
     "text": [
      "\u001b[A\n",
      " 74%|███████▍  | 74/100 [04:02<01:24,  3.26s/it]"
     ]
    },
    {
     "name": "stdout",
     "output_type": "stream",
     "text": [
      "epoch 74 / 100 in 3.3s: loss 0.680038, trval_rocauc 0.998882, val_rocauc 0.683802, lr 0.000050\n"
     ]
    },
    {
     "name": "stderr",
     "output_type": "stream",
     "text": [
      "\u001b[A\n",
      " 75%|███████▌  | 75/100 [04:05<01:21,  3.26s/it]"
     ]
    },
    {
     "name": "stdout",
     "output_type": "stream",
     "text": [
      "epoch 75 / 100 in 3.3s: loss 0.682217, trval_rocauc 0.999441, val_rocauc 0.676227, lr 0.000050\n"
     ]
    },
    {
     "name": "stderr",
     "output_type": "stream",
     "text": [
      "\u001b[A\n",
      " 76%|███████▌  | 76/100 [04:09<01:18,  3.27s/it]"
     ]
    },
    {
     "name": "stdout",
     "output_type": "stream",
     "text": [
      "epoch 76 / 100 in 3.3s: loss 0.682367, trval_rocauc 0.998882, val_rocauc 0.681638, lr 0.000050\n"
     ]
    },
    {
     "name": "stderr",
     "output_type": "stream",
     "text": [
      "\u001b[A\n",
      " 77%|███████▋  | 77/100 [04:12<01:15,  3.27s/it]"
     ]
    },
    {
     "name": "stdout",
     "output_type": "stream",
     "text": [
      "epoch 77 / 100 in 3.3s: loss 0.680408, trval_rocauc 1.000000, val_rocauc 0.692821, lr 0.000050\n"
     ]
    },
    {
     "name": "stderr",
     "output_type": "stream",
     "text": [
      "\u001b[A\n",
      " 78%|███████▊  | 78/100 [04:15<01:11,  3.27s/it]"
     ]
    },
    {
     "name": "stdout",
     "output_type": "stream",
     "text": [
      "epoch 78 / 100 in 3.3s: loss 0.681011, trval_rocauc 0.999441, val_rocauc 0.687951, lr 0.000050\n"
     ]
    },
    {
     "name": "stderr",
     "output_type": "stream",
     "text": [
      "\u001b[A\n",
      " 79%|███████▉  | 79/100 [04:19<01:08,  3.27s/it]"
     ]
    },
    {
     "name": "stdout",
     "output_type": "stream",
     "text": [
      "epoch 79 / 100 in 3.3s: loss 0.681400, trval_rocauc 0.999441, val_rocauc 0.694264, lr 0.000050\n"
     ]
    },
    {
     "name": "stderr",
     "output_type": "stream",
     "text": [
      "\u001b[A\n",
      " 80%|████████  | 80/100 [04:22<01:05,  3.27s/it]"
     ]
    },
    {
     "name": "stdout",
     "output_type": "stream",
     "text": [
      "epoch 80 / 100 in 3.3s: loss 0.681314, trval_rocauc 0.999069, val_rocauc 0.692641, lr 0.000050\n"
     ]
    },
    {
     "name": "stderr",
     "output_type": "stream",
     "text": [
      "\u001b[A\n",
      " 81%|████████  | 81/100 [04:25<01:02,  3.26s/it]"
     ]
    },
    {
     "name": "stdout",
     "output_type": "stream",
     "text": [
      "epoch 81 / 100 in 3.3s: loss 0.684648, trval_rocauc 0.999627, val_rocauc 0.685786, lr 0.000050\n"
     ]
    },
    {
     "name": "stderr",
     "output_type": "stream",
     "text": [
      "\u001b[A\n",
      " 82%|████████▏ | 82/100 [04:28<00:58,  3.26s/it]"
     ]
    },
    {
     "name": "stdout",
     "output_type": "stream",
     "text": [
      "epoch 82 / 100 in 3.3s: loss 0.676133, trval_rocauc 0.999627, val_rocauc 0.697150, lr 0.000050\n"
     ]
    },
    {
     "name": "stderr",
     "output_type": "stream",
     "text": [
      "\u001b[A\n",
      " 83%|████████▎ | 83/100 [04:32<00:55,  3.26s/it]"
     ]
    },
    {
     "name": "stdout",
     "output_type": "stream",
     "text": [
      "epoch 83 / 100 in 3.3s: loss 0.683396, trval_rocauc 0.999627, val_rocauc 0.684343, lr 0.000050\n"
     ]
    },
    {
     "name": "stderr",
     "output_type": "stream",
     "text": [
      "\u001b[A\n",
      " 84%|████████▍ | 84/100 [04:35<00:52,  3.26s/it]"
     ]
    },
    {
     "name": "stdout",
     "output_type": "stream",
     "text": [
      "epoch 84 / 100 in 3.3s: loss 0.683317, trval_rocauc 0.999627, val_rocauc 0.682359, lr 0.000050\n"
     ]
    },
    {
     "name": "stderr",
     "output_type": "stream",
     "text": [
      "\u001b[A\n",
      " 85%|████████▌ | 85/100 [04:38<00:49,  3.27s/it]"
     ]
    },
    {
     "name": "stdout",
     "output_type": "stream",
     "text": [
      "epoch 85 / 100 in 3.3s: loss 0.681054, trval_rocauc 0.998696, val_rocauc 0.687590, lr 0.000050\n"
     ]
    },
    {
     "name": "stderr",
     "output_type": "stream",
     "text": [
      "\u001b[A\n",
      " 86%|████████▌ | 86/100 [04:41<00:45,  3.27s/it]"
     ]
    },
    {
     "name": "stdout",
     "output_type": "stream",
     "text": [
      "epoch 86 / 100 in 3.3s: loss 0.683360, trval_rocauc 0.999441, val_rocauc 0.694805, lr 0.000050\n"
     ]
    },
    {
     "name": "stderr",
     "output_type": "stream",
     "text": [
      "\u001b[A\n",
      " 87%|████████▋ | 87/100 [04:45<00:42,  3.27s/it]"
     ]
    },
    {
     "name": "stdout",
     "output_type": "stream",
     "text": [
      "epoch 87 / 100 in 3.3s: loss 0.682917, trval_rocauc 0.999814, val_rocauc 0.692821, lr 0.000050\n"
     ]
    },
    {
     "name": "stderr",
     "output_type": "stream",
     "text": [
      "\u001b[A\n",
      " 88%|████████▊ | 88/100 [04:48<00:39,  3.27s/it]"
     ]
    },
    {
     "name": "stdout",
     "output_type": "stream",
     "text": [
      "epoch 88 / 100 in 3.3s: loss 0.683911, trval_rocauc 1.000000, val_rocauc 0.701299, lr 0.000050\n"
     ]
    },
    {
     "name": "stderr",
     "output_type": "stream",
     "text": [
      "\u001b[A\n",
      " 89%|████████▉ | 89/100 [04:51<00:35,  3.26s/it]"
     ]
    },
    {
     "name": "stdout",
     "output_type": "stream",
     "text": [
      "epoch 89 / 100 in 3.3s: loss 0.684350, trval_rocauc 1.000000, val_rocauc 0.704185, lr 0.000050\n"
     ]
    },
    {
     "name": "stderr",
     "output_type": "stream",
     "text": [
      "\u001b[A\n",
      " 90%|█████████ | 90/100 [04:54<00:32,  3.26s/it]"
     ]
    },
    {
     "name": "stdout",
     "output_type": "stream",
     "text": [
      "epoch 90 / 100 in 3.3s: loss 0.681519, trval_rocauc 0.999814, val_rocauc 0.697511, lr 0.000050\n"
     ]
    },
    {
     "name": "stderr",
     "output_type": "stream",
     "text": [
      "\u001b[A\n",
      " 91%|█████████ | 91/100 [04:58<00:29,  3.26s/it]"
     ]
    },
    {
     "name": "stdout",
     "output_type": "stream",
     "text": [
      "epoch 91 / 100 in 3.3s: loss 0.682189, trval_rocauc 0.999627, val_rocauc 0.696789, lr 0.000050\n"
     ]
    },
    {
     "name": "stderr",
     "output_type": "stream",
     "text": [
      "\u001b[A\n",
      " 92%|█████████▏| 92/100 [05:01<00:26,  3.26s/it]"
     ]
    },
    {
     "name": "stdout",
     "output_type": "stream",
     "text": [
      "epoch 92 / 100 in 3.3s: loss 0.684277, trval_rocauc 0.999814, val_rocauc 0.705988, lr 0.000050\n"
     ]
    },
    {
     "name": "stderr",
     "output_type": "stream",
     "text": [
      "\u001b[A\n",
      " 93%|█████████▎| 93/100 [05:04<00:22,  3.26s/it]"
     ]
    },
    {
     "name": "stdout",
     "output_type": "stream",
     "text": [
      "epoch 93 / 100 in 3.3s: loss 0.681248, trval_rocauc 0.998882, val_rocauc 0.704004, lr 0.000050\n"
     ]
    },
    {
     "name": "stderr",
     "output_type": "stream",
     "text": [
      "\u001b[A\n",
      " 94%|█████████▍| 94/100 [05:07<00:19,  3.26s/it]"
     ]
    },
    {
     "name": "stdout",
     "output_type": "stream",
     "text": [
      "epoch 94 / 100 in 3.3s: loss 0.682774, trval_rocauc 0.999627, val_rocauc 0.704004, lr 0.000050\n"
     ]
    },
    {
     "name": "stderr",
     "output_type": "stream",
     "text": [
      "\u001b[A\n",
      " 95%|█████████▌| 95/100 [05:11<00:16,  3.27s/it]"
     ]
    },
    {
     "name": "stdout",
     "output_type": "stream",
     "text": [
      "epoch 95 / 100 in 3.3s: loss 0.683448, trval_rocauc 0.999814, val_rocauc 0.684885, lr 0.000050\n"
     ]
    },
    {
     "name": "stderr",
     "output_type": "stream",
     "text": [
      "\u001b[A\n",
      " 96%|█████████▌| 96/100 [05:14<00:13,  3.28s/it]"
     ]
    },
    {
     "name": "stdout",
     "output_type": "stream",
     "text": [
      "epoch 96 / 100 in 3.3s: loss 0.680422, trval_rocauc 0.999069, val_rocauc 0.677850, lr 0.000050\n"
     ]
    },
    {
     "name": "stderr",
     "output_type": "stream",
     "text": [
      "\u001b[A\n",
      " 97%|█████████▋| 97/100 [05:17<00:09,  3.27s/it]"
     ]
    },
    {
     "name": "stdout",
     "output_type": "stream",
     "text": [
      "epoch 97 / 100 in 3.3s: loss 0.678418, trval_rocauc 0.998696, val_rocauc 0.683081, lr 0.000050\n"
     ]
    },
    {
     "name": "stderr",
     "output_type": "stream",
     "text": [
      "\u001b[A\n",
      " 98%|█████████▊| 98/100 [05:21<00:06,  3.27s/it]"
     ]
    },
    {
     "name": "stdout",
     "output_type": "stream",
     "text": [
      "epoch 98 / 100 in 3.3s: loss 0.681141, trval_rocauc 1.000000, val_rocauc 0.681097, lr 0.000050\n"
     ]
    },
    {
     "name": "stderr",
     "output_type": "stream",
     "text": [
      "\u001b[A\n",
      " 99%|█████████▉| 99/100 [05:24<00:03,  3.27s/it]"
     ]
    },
    {
     "name": "stdout",
     "output_type": "stream",
     "text": [
      "epoch 99 / 100 in 3.3s: loss 0.680427, trval_rocauc 0.999814, val_rocauc 0.673341, lr 0.000050\n"
     ]
    },
    {
     "name": "stderr",
     "output_type": "stream",
     "text": [
      "\u001b[A\n",
      "100%|██████████| 100/100 [05:27<00:00,  3.27s/it]\u001b[A\n",
      " 67%|██████▋   | 8/12 [46:19<22:33, 338.31s/it]"
     ]
    },
    {
     "name": "stdout",
     "output_type": "stream",
     "text": [
      "epoch 100 / 100 in 3.3s: loss 0.681378, trval_rocauc 0.999441, val_rocauc 0.673341, lr 0.000050\n"
     ]
    },
    {
     "name": "stderr",
     "output_type": "stream",
     "text": [
      "\n",
      "  0%|          | 0/100 [00:00<?, ?it/s]\u001b[A\n",
      "  1%|          | 1/100 [00:03<05:24,  3.28s/it]"
     ]
    },
    {
     "name": "stdout",
     "output_type": "stream",
     "text": [
      "epoch 1 / 100 in 3.3s: loss 0.696322, trval_rocauc 0.607407, val_rocauc 0.489948, lr 0.000050\n"
     ]
    },
    {
     "name": "stderr",
     "output_type": "stream",
     "text": [
      "\u001b[A\n",
      "  2%|▏         | 2/100 [00:06<05:20,  3.27s/it]"
     ]
    },
    {
     "name": "stdout",
     "output_type": "stream",
     "text": [
      "epoch 2 / 100 in 3.3s: loss 0.696489, trval_rocauc 0.660556, val_rocauc 0.519125, lr 0.000050\n"
     ]
    },
    {
     "name": "stderr",
     "output_type": "stream",
     "text": [
      "\u001b[A\n",
      "  3%|▎         | 3/100 [00:09<05:17,  3.28s/it]"
     ]
    },
    {
     "name": "stdout",
     "output_type": "stream",
     "text": [
      "epoch 3 / 100 in 3.3s: loss 0.692746, trval_rocauc 0.740556, val_rocauc 0.518235, lr 0.000050\n"
     ]
    },
    {
     "name": "stderr",
     "output_type": "stream",
     "text": [
      "\u001b[A\n",
      "  4%|▍         | 4/100 [00:13<05:14,  3.27s/it]"
     ]
    },
    {
     "name": "stdout",
     "output_type": "stream",
     "text": [
      "epoch 4 / 100 in 3.3s: loss 0.691936, trval_rocauc 0.770000, val_rocauc 0.531578, lr 0.000050\n"
     ]
    },
    {
     "name": "stderr",
     "output_type": "stream",
     "text": [
      "\u001b[A\n",
      "  5%|▌         | 5/100 [00:16<05:10,  3.27s/it]"
     ]
    },
    {
     "name": "stdout",
     "output_type": "stream",
     "text": [
      "epoch 5 / 100 in 3.3s: loss 0.690920, trval_rocauc 0.802222, val_rocauc 0.554706, lr 0.000050\n"
     ]
    },
    {
     "name": "stderr",
     "output_type": "stream",
     "text": [
      "\u001b[A\n",
      "  6%|▌         | 6/100 [00:19<05:07,  3.27s/it]"
     ]
    },
    {
     "name": "stdout",
     "output_type": "stream",
     "text": [
      "epoch 6 / 100 in 3.3s: loss 0.692442, trval_rocauc 0.810000, val_rocauc 0.551859, lr 0.000050\n"
     ]
    },
    {
     "name": "stderr",
     "output_type": "stream",
     "text": [
      "\u001b[A\n",
      "  7%|▋         | 7/100 [00:22<05:03,  3.27s/it]"
     ]
    },
    {
     "name": "stdout",
     "output_type": "stream",
     "text": [
      "epoch 7 / 100 in 3.3s: loss 0.688728, trval_rocauc 0.837593, val_rocauc 0.558797, lr 0.000050\n"
     ]
    },
    {
     "name": "stderr",
     "output_type": "stream",
     "text": [
      "\u001b[A\n",
      "  8%|▊         | 8/100 [00:26<05:00,  3.26s/it]"
     ]
    },
    {
     "name": "stdout",
     "output_type": "stream",
     "text": [
      "epoch 8 / 100 in 3.3s: loss 0.690150, trval_rocauc 0.851296, val_rocauc 0.580857, lr 0.000050\n"
     ]
    },
    {
     "name": "stderr",
     "output_type": "stream",
     "text": [
      "\u001b[A\n",
      "  9%|▉         | 9/100 [00:29<04:56,  3.26s/it]"
     ]
    },
    {
     "name": "stdout",
     "output_type": "stream",
     "text": [
      "epoch 9 / 100 in 3.3s: loss 0.690099, trval_rocauc 0.861667, val_rocauc 0.566803, lr 0.000050\n"
     ]
    },
    {
     "name": "stderr",
     "output_type": "stream",
     "text": [
      "\u001b[A\n",
      " 10%|█         | 10/100 [00:32<04:53,  3.26s/it]"
     ]
    },
    {
     "name": "stdout",
     "output_type": "stream",
     "text": [
      "epoch 10 / 100 in 3.3s: loss 0.689407, trval_rocauc 0.884074, val_rocauc 0.583704, lr 0.000050\n"
     ]
    },
    {
     "name": "stderr",
     "output_type": "stream",
     "text": [
      "\u001b[A\n",
      " 11%|█         | 11/100 [00:35<04:50,  3.26s/it]"
     ]
    },
    {
     "name": "stdout",
     "output_type": "stream",
     "text": [
      "epoch 11 / 100 in 3.3s: loss 0.689110, trval_rocauc 0.900000, val_rocauc 0.590820, lr 0.000050\n"
     ]
    },
    {
     "name": "stderr",
     "output_type": "stream",
     "text": [
      "\u001b[A\n",
      " 12%|█▏        | 12/100 [00:39<04:47,  3.27s/it]"
     ]
    },
    {
     "name": "stdout",
     "output_type": "stream",
     "text": [
      "epoch 12 / 100 in 3.3s: loss 0.685838, trval_rocauc 0.915000, val_rocauc 0.599360, lr 0.000050\n"
     ]
    },
    {
     "name": "stderr",
     "output_type": "stream",
     "text": [
      "\u001b[A\n",
      " 13%|█▎        | 13/100 [00:42<04:44,  3.27s/it]"
     ]
    },
    {
     "name": "stdout",
     "output_type": "stream",
     "text": [
      "epoch 13 / 100 in 3.3s: loss 0.688893, trval_rocauc 0.932407, val_rocauc 0.589931, lr 0.000050\n"
     ]
    },
    {
     "name": "stderr",
     "output_type": "stream",
     "text": [
      "\u001b[A\n",
      " 14%|█▍        | 14/100 [00:45<04:40,  3.26s/it]"
     ]
    },
    {
     "name": "stdout",
     "output_type": "stream",
     "text": [
      "epoch 14 / 100 in 3.3s: loss 0.685542, trval_rocauc 0.939815, val_rocauc 0.596157, lr 0.000050\n"
     ]
    },
    {
     "name": "stderr",
     "output_type": "stream",
     "text": [
      "\u001b[A\n",
      " 15%|█▌        | 15/100 [00:48<04:37,  3.26s/it]"
     ]
    },
    {
     "name": "stdout",
     "output_type": "stream",
     "text": [
      "epoch 15 / 100 in 3.3s: loss 0.687145, trval_rocauc 0.943519, val_rocauc 0.586017, lr 0.000050\n"
     ]
    },
    {
     "name": "stderr",
     "output_type": "stream",
     "text": [
      "\u001b[A\n",
      " 16%|█▌        | 16/100 [00:52<04:33,  3.26s/it]"
     ]
    },
    {
     "name": "stdout",
     "output_type": "stream",
     "text": [
      "epoch 16 / 100 in 3.3s: loss 0.689033, trval_rocauc 0.957963, val_rocauc 0.592599, lr 0.000050\n"
     ]
    },
    {
     "name": "stderr",
     "output_type": "stream",
     "text": [
      "\u001b[A\n",
      " 17%|█▋        | 17/100 [00:55<04:30,  3.26s/it]"
     ]
    },
    {
     "name": "stdout",
     "output_type": "stream",
     "text": [
      "epoch 17 / 100 in 3.3s: loss 0.685652, trval_rocauc 0.962778, val_rocauc 0.575520, lr 0.000050\n"
     ]
    },
    {
     "name": "stderr",
     "output_type": "stream",
     "text": [
      "\u001b[A\n",
      " 18%|█▊        | 18/100 [00:58<04:27,  3.26s/it]"
     ]
    },
    {
     "name": "stdout",
     "output_type": "stream",
     "text": [
      "epoch 18 / 100 in 3.3s: loss 0.689282, trval_rocauc 0.969444, val_rocauc 0.579256, lr 0.000050\n"
     ]
    },
    {
     "name": "stderr",
     "output_type": "stream",
     "text": [
      "\u001b[A\n",
      " 19%|█▉        | 19/100 [01:02<04:23,  3.26s/it]"
     ]
    },
    {
     "name": "stdout",
     "output_type": "stream",
     "text": [
      "epoch 19 / 100 in 3.3s: loss 0.685213, trval_rocauc 0.969444, val_rocauc 0.587262, lr 0.000050\n"
     ]
    },
    {
     "name": "stderr",
     "output_type": "stream",
     "text": [
      "\u001b[A\n",
      " 20%|██        | 20/100 [01:05<04:20,  3.26s/it]"
     ]
    },
    {
     "name": "stdout",
     "output_type": "stream",
     "text": [
      "epoch 20 / 100 in 3.3s: loss 0.685398, trval_rocauc 0.974630, val_rocauc 0.600961, lr 0.000050\n"
     ]
    },
    {
     "name": "stderr",
     "output_type": "stream",
     "text": [
      "\u001b[A\n",
      " 21%|██        | 21/100 [01:08<04:19,  3.29s/it]"
     ]
    },
    {
     "name": "stdout",
     "output_type": "stream",
     "text": [
      "epoch 21 / 100 in 3.3s: loss 0.686268, trval_rocauc 0.982037, val_rocauc 0.618929, lr 0.000050\n"
     ]
    },
    {
     "name": "stderr",
     "output_type": "stream",
     "text": [
      "\u001b[A\n",
      " 22%|██▏       | 22/100 [01:12<04:20,  3.34s/it]"
     ]
    },
    {
     "name": "stdout",
     "output_type": "stream",
     "text": [
      "epoch 22 / 100 in 3.4s: loss 0.685420, trval_rocauc 0.982222, val_rocauc 0.613770, lr 0.000050\n"
     ]
    },
    {
     "name": "stderr",
     "output_type": "stream",
     "text": [
      "\u001b[A\n",
      " 23%|██▎       | 23/100 [01:15<04:14,  3.31s/it]"
     ]
    },
    {
     "name": "stdout",
     "output_type": "stream",
     "text": [
      "epoch 23 / 100 in 3.3s: loss 0.687312, trval_rocauc 0.984259, val_rocauc 0.604163, lr 0.000050\n"
     ]
    },
    {
     "name": "stderr",
     "output_type": "stream",
     "text": [
      "\u001b[A\n",
      " 24%|██▍       | 24/100 [01:18<04:10,  3.30s/it]"
     ]
    },
    {
     "name": "stdout",
     "output_type": "stream",
     "text": [
      "epoch 24 / 100 in 3.3s: loss 0.685091, trval_rocauc 0.988704, val_rocauc 0.599893, lr 0.000050\n"
     ]
    },
    {
     "name": "stderr",
     "output_type": "stream",
     "text": [
      "\u001b[A\n",
      " 25%|██▌       | 25/100 [01:21<04:06,  3.28s/it]"
     ]
    },
    {
     "name": "stdout",
     "output_type": "stream",
     "text": [
      "epoch 25 / 100 in 3.3s: loss 0.685744, trval_rocauc 0.990926, val_rocauc 0.602562, lr 0.000050\n"
     ]
    },
    {
     "name": "stderr",
     "output_type": "stream",
     "text": [
      "\u001b[A\n",
      " 26%|██▌       | 26/100 [01:25<04:02,  3.28s/it]"
     ]
    },
    {
     "name": "stdout",
     "output_type": "stream",
     "text": [
      "epoch 26 / 100 in 3.3s: loss 0.686892, trval_rocauc 0.994815, val_rocauc 0.611813, lr 0.000050\n"
     ]
    },
    {
     "name": "stderr",
     "output_type": "stream",
     "text": [
      "\u001b[A\n",
      " 27%|██▋       | 27/100 [01:28<03:59,  3.28s/it]"
     ]
    },
    {
     "name": "stdout",
     "output_type": "stream",
     "text": [
      "epoch 27 / 100 in 3.3s: loss 0.687388, trval_rocauc 0.991481, val_rocauc 0.623199, lr 0.000050\n"
     ]
    },
    {
     "name": "stderr",
     "output_type": "stream",
     "text": [
      "\u001b[A\n",
      " 28%|██▊       | 28/100 [01:31<03:55,  3.27s/it]"
     ]
    },
    {
     "name": "stdout",
     "output_type": "stream",
     "text": [
      "epoch 28 / 100 in 3.3s: loss 0.685578, trval_rocauc 0.991667, val_rocauc 0.608611, lr 0.000050\n"
     ]
    },
    {
     "name": "stderr",
     "output_type": "stream",
     "text": [
      "\u001b[A\n",
      " 29%|██▉       | 29/100 [01:34<03:51,  3.27s/it]"
     ]
    },
    {
     "name": "stdout",
     "output_type": "stream",
     "text": [
      "epoch 29 / 100 in 3.3s: loss 0.685192, trval_rocauc 0.994074, val_rocauc 0.616616, lr 0.000050\n"
     ]
    },
    {
     "name": "stderr",
     "output_type": "stream",
     "text": [
      "\u001b[A\n",
      " 30%|███       | 30/100 [01:38<03:48,  3.26s/it]"
     ]
    },
    {
     "name": "stdout",
     "output_type": "stream",
     "text": [
      "epoch 30 / 100 in 3.3s: loss 0.684843, trval_rocauc 0.990185, val_rocauc 0.637431, lr 0.000050\n"
     ]
    },
    {
     "name": "stderr",
     "output_type": "stream",
     "text": [
      "\u001b[A\n",
      " 31%|███       | 31/100 [01:41<03:45,  3.27s/it]"
     ]
    },
    {
     "name": "stdout",
     "output_type": "stream",
     "text": [
      "epoch 31 / 100 in 3.3s: loss 0.684827, trval_rocauc 0.988333, val_rocauc 0.605230, lr 0.000050\n"
     ]
    },
    {
     "name": "stderr",
     "output_type": "stream",
     "text": [
      "\u001b[A\n",
      " 32%|███▏      | 32/100 [01:44<03:42,  3.26s/it]"
     ]
    },
    {
     "name": "stdout",
     "output_type": "stream",
     "text": [
      "epoch 32 / 100 in 3.3s: loss 0.685516, trval_rocauc 0.993704, val_rocauc 0.603807, lr 0.000050\n"
     ]
    },
    {
     "name": "stderr",
     "output_type": "stream",
     "text": [
      "\u001b[A\n",
      " 33%|███▎      | 33/100 [01:47<03:38,  3.26s/it]"
     ]
    },
    {
     "name": "stdout",
     "output_type": "stream",
     "text": [
      "epoch 33 / 100 in 3.3s: loss 0.683675, trval_rocauc 0.995000, val_rocauc 0.620530, lr 0.000050\n"
     ]
    },
    {
     "name": "stderr",
     "output_type": "stream",
     "text": [
      "\u001b[A\n",
      " 34%|███▍      | 34/100 [01:51<03:35,  3.26s/it]"
     ]
    },
    {
     "name": "stdout",
     "output_type": "stream",
     "text": [
      "epoch 34 / 100 in 3.3s: loss 0.681884, trval_rocauc 0.995000, val_rocauc 0.623555, lr 0.000050\n"
     ]
    },
    {
     "name": "stderr",
     "output_type": "stream",
     "text": [
      "\u001b[A\n",
      " 35%|███▌      | 35/100 [01:54<03:31,  3.26s/it]"
     ]
    },
    {
     "name": "stdout",
     "output_type": "stream",
     "text": [
      "epoch 35 / 100 in 3.3s: loss 0.689017, trval_rocauc 0.996667, val_rocauc 0.630671, lr 0.000050\n"
     ]
    },
    {
     "name": "stderr",
     "output_type": "stream",
     "text": [
      "\u001b[A\n",
      " 36%|███▌      | 36/100 [01:57<03:28,  3.26s/it]"
     ]
    },
    {
     "name": "stdout",
     "output_type": "stream",
     "text": [
      "epoch 36 / 100 in 3.3s: loss 0.683716, trval_rocauc 0.996296, val_rocauc 0.637253, lr 0.000050\n"
     ]
    },
    {
     "name": "stderr",
     "output_type": "stream",
     "text": [
      "\u001b[A\n",
      " 37%|███▋      | 37/100 [02:00<03:25,  3.26s/it]"
     ]
    },
    {
     "name": "stdout",
     "output_type": "stream",
     "text": [
      "epoch 37 / 100 in 3.2s: loss 0.683518, trval_rocauc 0.995000, val_rocauc 0.621953, lr 0.000050\n"
     ]
    },
    {
     "name": "stderr",
     "output_type": "stream",
     "text": [
      "\u001b[A\n",
      " 38%|███▊      | 38/100 [02:04<03:21,  3.26s/it]"
     ]
    },
    {
     "name": "stdout",
     "output_type": "stream",
     "text": [
      "epoch 38 / 100 in 3.2s: loss 0.683666, trval_rocauc 0.995000, val_rocauc 0.639032, lr 0.000050\n"
     ]
    },
    {
     "name": "stderr",
     "output_type": "stream",
     "text": [
      "\u001b[A\n",
      " 39%|███▉      | 39/100 [02:07<03:18,  3.26s/it]"
     ]
    },
    {
     "name": "stdout",
     "output_type": "stream",
     "text": [
      "epoch 39 / 100 in 3.3s: loss 0.683880, trval_rocauc 0.995185, val_rocauc 0.639922, lr 0.000050\n"
     ]
    },
    {
     "name": "stderr",
     "output_type": "stream",
     "text": [
      "\u001b[A\n",
      " 40%|████      | 40/100 [02:10<03:16,  3.27s/it]"
     ]
    },
    {
     "name": "stdout",
     "output_type": "stream",
     "text": [
      "epoch 40 / 100 in 3.3s: loss 0.683121, trval_rocauc 0.997037, val_rocauc 0.635118, lr 0.000050\n"
     ]
    },
    {
     "name": "stderr",
     "output_type": "stream",
     "text": [
      "\u001b[A\n",
      " 41%|████      | 41/100 [02:14<03:12,  3.27s/it]"
     ]
    },
    {
     "name": "stdout",
     "output_type": "stream",
     "text": [
      "epoch 41 / 100 in 3.3s: loss 0.684614, trval_rocauc 0.995926, val_rocauc 0.646860, lr 0.000050\n"
     ]
    },
    {
     "name": "stderr",
     "output_type": "stream",
     "text": [
      "\u001b[A\n",
      " 42%|████▏     | 42/100 [02:17<03:09,  3.26s/it]"
     ]
    },
    {
     "name": "stdout",
     "output_type": "stream",
     "text": [
      "epoch 42 / 100 in 3.3s: loss 0.683390, trval_rocauc 0.996111, val_rocauc 0.635118, lr 0.000050\n"
     ]
    },
    {
     "name": "stderr",
     "output_type": "stream",
     "text": [
      "\u001b[A\n",
      " 43%|████▎     | 43/100 [02:20<03:05,  3.26s/it]"
     ]
    },
    {
     "name": "stdout",
     "output_type": "stream",
     "text": [
      "epoch 43 / 100 in 3.3s: loss 0.683853, trval_rocauc 0.996296, val_rocauc 0.636719, lr 0.000050\n"
     ]
    },
    {
     "name": "stderr",
     "output_type": "stream",
     "text": [
      "\u001b[A\n",
      " 44%|████▍     | 44/100 [02:23<03:02,  3.26s/it]"
     ]
    },
    {
     "name": "stdout",
     "output_type": "stream",
     "text": [
      "epoch 44 / 100 in 3.3s: loss 0.680689, trval_rocauc 0.997222, val_rocauc 0.629959, lr 0.000050\n"
     ]
    },
    {
     "name": "stderr",
     "output_type": "stream",
     "text": [
      "\u001b[A\n",
      " 45%|████▌     | 45/100 [02:27<02:59,  3.26s/it]"
     ]
    },
    {
     "name": "stdout",
     "output_type": "stream",
     "text": [
      "epoch 45 / 100 in 3.2s: loss 0.684170, trval_rocauc 0.998333, val_rocauc 0.626401, lr 0.000050\n"
     ]
    },
    {
     "name": "stderr",
     "output_type": "stream",
     "text": [
      "\u001b[A\n",
      " 46%|████▌     | 46/100 [02:30<02:55,  3.26s/it]"
     ]
    },
    {
     "name": "stdout",
     "output_type": "stream",
     "text": [
      "epoch 46 / 100 in 3.3s: loss 0.683724, trval_rocauc 0.998148, val_rocauc 0.608611, lr 0.000050\n"
     ]
    },
    {
     "name": "stderr",
     "output_type": "stream",
     "text": [
      "\u001b[A\n",
      " 47%|████▋     | 47/100 [02:33<02:52,  3.25s/it]"
     ]
    },
    {
     "name": "stdout",
     "output_type": "stream",
     "text": [
      "epoch 47 / 100 in 3.2s: loss 0.685289, trval_rocauc 0.999074, val_rocauc 0.621953, lr 0.000050\n"
     ]
    },
    {
     "name": "stderr",
     "output_type": "stream",
     "text": [
      "\u001b[A\n",
      " 48%|████▊     | 48/100 [02:36<02:49,  3.25s/it]"
     ]
    },
    {
     "name": "stdout",
     "output_type": "stream",
     "text": [
      "epoch 48 / 100 in 3.2s: loss 0.681653, trval_rocauc 0.998148, val_rocauc 0.629070, lr 0.000050\n"
     ]
    },
    {
     "name": "stderr",
     "output_type": "stream",
     "text": [
      "\u001b[A\n",
      " 49%|████▉     | 49/100 [02:40<02:46,  3.26s/it]"
     ]
    },
    {
     "name": "stdout",
     "output_type": "stream",
     "text": [
      "epoch 49 / 100 in 3.3s: loss 0.683487, trval_rocauc 0.999074, val_rocauc 0.638498, lr 0.000050\n"
     ]
    },
    {
     "name": "stderr",
     "output_type": "stream",
     "text": [
      "\u001b[A\n",
      " 50%|█████     | 50/100 [02:43<02:42,  3.25s/it]"
     ]
    },
    {
     "name": "stdout",
     "output_type": "stream",
     "text": [
      "epoch 50 / 100 in 3.2s: loss 0.682035, trval_rocauc 0.998889, val_rocauc 0.639032, lr 0.000050\n"
     ]
    },
    {
     "name": "stderr",
     "output_type": "stream",
     "text": [
      "\u001b[A\n",
      " 51%|█████     | 51/100 [02:46<02:39,  3.25s/it]"
     ]
    },
    {
     "name": "stdout",
     "output_type": "stream",
     "text": [
      "epoch 51 / 100 in 3.3s: loss 0.683614, trval_rocauc 0.999074, val_rocauc 0.654332, lr 0.000050\n"
     ]
    },
    {
     "name": "stderr",
     "output_type": "stream",
     "text": [
      "\u001b[A\n",
      " 52%|█████▏    | 52/100 [02:49<02:36,  3.25s/it]"
     ]
    },
    {
     "name": "stdout",
     "output_type": "stream",
     "text": [
      "epoch 52 / 100 in 3.3s: loss 0.683585, trval_rocauc 0.999630, val_rocauc 0.633161, lr 0.000050\n"
     ]
    },
    {
     "name": "stderr",
     "output_type": "stream",
     "text": [
      "\u001b[A\n",
      " 53%|█████▎    | 53/100 [02:53<02:32,  3.25s/it]"
     ]
    },
    {
     "name": "stdout",
     "output_type": "stream",
     "text": [
      "epoch 53 / 100 in 3.2s: loss 0.685806, trval_rocauc 0.999815, val_rocauc 0.640455, lr 0.000050\n"
     ]
    },
    {
     "name": "stderr",
     "output_type": "stream",
     "text": [
      "\u001b[A\n",
      " 54%|█████▍    | 54/100 [02:56<02:29,  3.25s/it]"
     ]
    },
    {
     "name": "stdout",
     "output_type": "stream",
     "text": [
      "epoch 54 / 100 in 3.3s: loss 0.680363, trval_rocauc 1.000000, val_rocauc 0.639388, lr 0.000050\n"
     ]
    },
    {
     "name": "stderr",
     "output_type": "stream",
     "text": [
      "\u001b[A\n",
      " 55%|█████▌    | 55/100 [02:59<02:26,  3.25s/it]"
     ]
    },
    {
     "name": "stdout",
     "output_type": "stream",
     "text": [
      "epoch 55 / 100 in 3.2s: loss 0.683771, trval_rocauc 1.000000, val_rocauc 0.654154, lr 0.000050\n"
     ]
    },
    {
     "name": "stderr",
     "output_type": "stream",
     "text": [
      "\u001b[A\n",
      " 56%|█████▌    | 56/100 [03:02<02:23,  3.25s/it]"
     ]
    },
    {
     "name": "stdout",
     "output_type": "stream",
     "text": [
      "epoch 56 / 100 in 3.3s: loss 0.681292, trval_rocauc 1.000000, val_rocauc 0.645970, lr 0.000050\n"
     ]
    },
    {
     "name": "stderr",
     "output_type": "stream",
     "text": [
      "\u001b[A\n",
      " 57%|█████▋    | 57/100 [03:06<02:19,  3.25s/it]"
     ]
    },
    {
     "name": "stdout",
     "output_type": "stream",
     "text": [
      "epoch 57 / 100 in 3.2s: loss 0.682899, trval_rocauc 1.000000, val_rocauc 0.645793, lr 0.000050\n"
     ]
    },
    {
     "name": "stderr",
     "output_type": "stream",
     "text": [
      "\u001b[A\n",
      " 58%|█████▊    | 58/100 [03:09<02:16,  3.26s/it]"
     ]
    },
    {
     "name": "stdout",
     "output_type": "stream",
     "text": [
      "epoch 58 / 100 in 3.3s: loss 0.683191, trval_rocauc 1.000000, val_rocauc 0.638321, lr 0.000050\n"
     ]
    },
    {
     "name": "stderr",
     "output_type": "stream",
     "text": [
      "\u001b[A\n",
      " 59%|█████▉    | 59/100 [03:12<02:13,  3.26s/it]"
     ]
    },
    {
     "name": "stdout",
     "output_type": "stream",
     "text": [
      "epoch 59 / 100 in 3.3s: loss 0.685142, trval_rocauc 1.000000, val_rocauc 0.630493, lr 0.000050\n"
     ]
    },
    {
     "name": "stderr",
     "output_type": "stream",
     "text": [
      "\u001b[A\n",
      " 60%|██████    | 60/100 [03:15<02:10,  3.25s/it]"
     ]
    },
    {
     "name": "stdout",
     "output_type": "stream",
     "text": [
      "epoch 60 / 100 in 3.2s: loss 0.682054, trval_rocauc 1.000000, val_rocauc 0.638143, lr 0.000050\n"
     ]
    },
    {
     "name": "stderr",
     "output_type": "stream",
     "text": [
      "\u001b[A\n",
      " 61%|██████    | 61/100 [03:19<02:06,  3.25s/it]"
     ]
    },
    {
     "name": "stdout",
     "output_type": "stream",
     "text": [
      "epoch 61 / 100 in 3.2s: loss 0.682608, trval_rocauc 1.000000, val_rocauc 0.632094, lr 0.000050\n"
     ]
    },
    {
     "name": "stderr",
     "output_type": "stream",
     "text": [
      "\u001b[A\n",
      " 62%|██████▏   | 62/100 [03:22<02:03,  3.25s/it]"
     ]
    },
    {
     "name": "stdout",
     "output_type": "stream",
     "text": [
      "epoch 62 / 100 in 3.3s: loss 0.679893, trval_rocauc 1.000000, val_rocauc 0.645259, lr 0.000050\n"
     ]
    },
    {
     "name": "stderr",
     "output_type": "stream",
     "text": [
      "\u001b[A\n",
      " 63%|██████▎   | 63/100 [03:25<02:00,  3.27s/it]"
     ]
    },
    {
     "name": "stdout",
     "output_type": "stream",
     "text": [
      "epoch 63 / 100 in 3.3s: loss 0.683064, trval_rocauc 1.000000, val_rocauc 0.653620, lr 0.000050\n"
     ]
    },
    {
     "name": "stderr",
     "output_type": "stream",
     "text": [
      "\u001b[A\n",
      " 64%|██████▍   | 64/100 [03:28<01:57,  3.26s/it]"
     ]
    },
    {
     "name": "stdout",
     "output_type": "stream",
     "text": [
      "epoch 64 / 100 in 3.3s: loss 0.682787, trval_rocauc 1.000000, val_rocauc 0.664828, lr 0.000050\n"
     ]
    },
    {
     "name": "stderr",
     "output_type": "stream",
     "text": [
      "\u001b[A\n",
      " 65%|██████▌   | 65/100 [03:32<01:54,  3.26s/it]"
     ]
    },
    {
     "name": "stdout",
     "output_type": "stream",
     "text": [
      "epoch 65 / 100 in 3.3s: loss 0.682054, trval_rocauc 1.000000, val_rocauc 0.652019, lr 0.000050\n"
     ]
    },
    {
     "name": "stderr",
     "output_type": "stream",
     "text": [
      "\u001b[A\n",
      " 66%|██████▌   | 66/100 [03:35<01:50,  3.26s/it]"
     ]
    },
    {
     "name": "stdout",
     "output_type": "stream",
     "text": [
      "epoch 66 / 100 in 3.2s: loss 0.684670, trval_rocauc 1.000000, val_rocauc 0.650418, lr 0.000050\n"
     ]
    },
    {
     "name": "stderr",
     "output_type": "stream",
     "text": [
      "\u001b[A\n",
      " 67%|██████▋   | 67/100 [03:38<01:47,  3.25s/it]"
     ]
    },
    {
     "name": "stdout",
     "output_type": "stream",
     "text": [
      "epoch 67 / 100 in 3.2s: loss 0.685395, trval_rocauc 1.000000, val_rocauc 0.645259, lr 0.000050\n"
     ]
    },
    {
     "name": "stderr",
     "output_type": "stream",
     "text": [
      "\u001b[A\n",
      " 68%|██████▊   | 68/100 [03:41<01:44,  3.26s/it]"
     ]
    },
    {
     "name": "stdout",
     "output_type": "stream",
     "text": [
      "epoch 68 / 100 in 3.3s: loss 0.681341, trval_rocauc 1.000000, val_rocauc 0.637965, lr 0.000050\n"
     ]
    },
    {
     "name": "stderr",
     "output_type": "stream",
     "text": [
      "\u001b[A\n",
      " 69%|██████▉   | 69/100 [03:45<01:40,  3.25s/it]"
     ]
    },
    {
     "name": "stdout",
     "output_type": "stream",
     "text": [
      "epoch 69 / 100 in 3.2s: loss 0.682084, trval_rocauc 1.000000, val_rocauc 0.648817, lr 0.000050\n"
     ]
    },
    {
     "name": "stderr",
     "output_type": "stream",
     "text": [
      "\u001b[A\n",
      " 70%|███████   | 70/100 [03:48<01:37,  3.25s/it]"
     ]
    },
    {
     "name": "stdout",
     "output_type": "stream",
     "text": [
      "epoch 70 / 100 in 3.3s: loss 0.681358, trval_rocauc 1.000000, val_rocauc 0.643480, lr 0.000050\n"
     ]
    },
    {
     "name": "stderr",
     "output_type": "stream",
     "text": [
      "\u001b[A\n",
      " 71%|███████   | 71/100 [03:51<01:34,  3.25s/it]"
     ]
    },
    {
     "name": "stdout",
     "output_type": "stream",
     "text": [
      "epoch 71 / 100 in 3.2s: loss 0.686363, trval_rocauc 1.000000, val_rocauc 0.652197, lr 0.000050\n"
     ]
    },
    {
     "name": "stderr",
     "output_type": "stream",
     "text": [
      "\u001b[A\n",
      " 72%|███████▏  | 72/100 [03:54<01:30,  3.25s/it]"
     ]
    },
    {
     "name": "stdout",
     "output_type": "stream",
     "text": [
      "epoch 72 / 100 in 3.2s: loss 0.685005, trval_rocauc 1.000000, val_rocauc 0.652909, lr 0.000050\n"
     ]
    },
    {
     "name": "stderr",
     "output_type": "stream",
     "text": [
      "\u001b[A\n",
      " 73%|███████▎  | 73/100 [03:58<01:27,  3.25s/it]"
     ]
    },
    {
     "name": "stdout",
     "output_type": "stream",
     "text": [
      "epoch 73 / 100 in 3.3s: loss 0.683202, trval_rocauc 1.000000, val_rocauc 0.640278, lr 0.000050\n"
     ]
    },
    {
     "name": "stderr",
     "output_type": "stream",
     "text": [
      "\u001b[A\n",
      " 74%|███████▍  | 74/100 [04:01<01:24,  3.25s/it]"
     ]
    },
    {
     "name": "stdout",
     "output_type": "stream",
     "text": [
      "epoch 74 / 100 in 3.3s: loss 0.682561, trval_rocauc 1.000000, val_rocauc 0.648461, lr 0.000050\n"
     ]
    },
    {
     "name": "stderr",
     "output_type": "stream",
     "text": [
      "\u001b[A\n",
      " 75%|███████▌  | 75/100 [04:04<01:21,  3.25s/it]"
     ]
    },
    {
     "name": "stdout",
     "output_type": "stream",
     "text": [
      "epoch 75 / 100 in 3.2s: loss 0.680919, trval_rocauc 1.000000, val_rocauc 0.636186, lr 0.000050\n"
     ]
    },
    {
     "name": "stderr",
     "output_type": "stream",
     "text": [
      "\u001b[A\n",
      " 76%|███████▌  | 76/100 [04:07<01:17,  3.25s/it]"
     ]
    },
    {
     "name": "stdout",
     "output_type": "stream",
     "text": [
      "epoch 76 / 100 in 3.2s: loss 0.682553, trval_rocauc 1.000000, val_rocauc 0.650596, lr 0.000050\n"
     ]
    },
    {
     "name": "stderr",
     "output_type": "stream",
     "text": [
      "\u001b[A\n",
      " 77%|███████▋  | 77/100 [04:11<01:14,  3.26s/it]"
     ]
    },
    {
     "name": "stdout",
     "output_type": "stream",
     "text": [
      "epoch 77 / 100 in 3.3s: loss 0.681895, trval_rocauc 1.000000, val_rocauc 0.652909, lr 0.000050\n"
     ]
    },
    {
     "name": "stderr",
     "output_type": "stream",
     "text": [
      "\u001b[A\n",
      " 78%|███████▊  | 78/100 [04:14<01:11,  3.26s/it]"
     ]
    },
    {
     "name": "stdout",
     "output_type": "stream",
     "text": [
      "epoch 78 / 100 in 3.2s: loss 0.683865, trval_rocauc 1.000000, val_rocauc 0.653265, lr 0.000050\n"
     ]
    },
    {
     "name": "stderr",
     "output_type": "stream",
     "text": [
      "\u001b[A\n",
      " 79%|███████▉  | 79/100 [04:17<01:08,  3.25s/it]"
     ]
    },
    {
     "name": "stdout",
     "output_type": "stream",
     "text": [
      "epoch 79 / 100 in 3.2s: loss 0.682432, trval_rocauc 1.000000, val_rocauc 0.658957, lr 0.000050\n"
     ]
    },
    {
     "name": "stderr",
     "output_type": "stream",
     "text": [
      "\u001b[A\n",
      " 80%|████████  | 80/100 [04:20<01:05,  3.25s/it]"
     ]
    },
    {
     "name": "stdout",
     "output_type": "stream",
     "text": [
      "epoch 80 / 100 in 3.3s: loss 0.679486, trval_rocauc 1.000000, val_rocauc 0.678349, lr 0.000050\n"
     ]
    },
    {
     "name": "stderr",
     "output_type": "stream",
     "text": [
      "\u001b[A\n",
      " 81%|████████  | 81/100 [04:24<01:01,  3.25s/it]"
     ]
    },
    {
     "name": "stdout",
     "output_type": "stream",
     "text": [
      "epoch 81 / 100 in 3.3s: loss 0.683615, trval_rocauc 1.000000, val_rocauc 0.674613, lr 0.000050\n"
     ]
    },
    {
     "name": "stderr",
     "output_type": "stream",
     "text": [
      "\u001b[A\n",
      " 82%|████████▏ | 82/100 [04:27<00:58,  3.25s/it]"
     ]
    },
    {
     "name": "stdout",
     "output_type": "stream",
     "text": [
      "epoch 82 / 100 in 3.2s: loss 0.683211, trval_rocauc 1.000000, val_rocauc 0.656467, lr 0.000050\n"
     ]
    },
    {
     "name": "stderr",
     "output_type": "stream",
     "text": [
      "\u001b[A\n",
      " 83%|████████▎ | 83/100 [04:30<00:55,  3.25s/it]"
     ]
    },
    {
     "name": "stdout",
     "output_type": "stream",
     "text": [
      "epoch 83 / 100 in 3.3s: loss 0.681766, trval_rocauc 1.000000, val_rocauc 0.661092, lr 0.000050\n"
     ]
    },
    {
     "name": "stderr",
     "output_type": "stream",
     "text": [
      "\u001b[A\n",
      " 84%|████████▍ | 84/100 [04:33<00:52,  3.25s/it]"
     ]
    },
    {
     "name": "stdout",
     "output_type": "stream",
     "text": [
      "epoch 84 / 100 in 3.2s: loss 0.679257, trval_rocauc 1.000000, val_rocauc 0.652731, lr 0.000050\n"
     ]
    },
    {
     "name": "stderr",
     "output_type": "stream",
     "text": [
      "\u001b[A\n",
      " 85%|████████▌ | 85/100 [04:37<00:48,  3.25s/it]"
     ]
    },
    {
     "name": "stdout",
     "output_type": "stream",
     "text": [
      "epoch 85 / 100 in 3.2s: loss 0.686648, trval_rocauc 1.000000, val_rocauc 0.651130, lr 0.000050\n"
     ]
    },
    {
     "name": "stderr",
     "output_type": "stream",
     "text": [
      "\u001b[A\n",
      " 86%|████████▌ | 86/100 [04:40<00:45,  3.25s/it]"
     ]
    },
    {
     "name": "stdout",
     "output_type": "stream",
     "text": [
      "epoch 86 / 100 in 3.3s: loss 0.679604, trval_rocauc 1.000000, val_rocauc 0.652019, lr 0.000050\n"
     ]
    },
    {
     "name": "stderr",
     "output_type": "stream",
     "text": [
      "\u001b[A\n",
      " 87%|████████▋ | 87/100 [04:43<00:42,  3.25s/it]"
     ]
    },
    {
     "name": "stdout",
     "output_type": "stream",
     "text": [
      "epoch 87 / 100 in 3.2s: loss 0.683179, trval_rocauc 1.000000, val_rocauc 0.650596, lr 0.000050\n"
     ]
    },
    {
     "name": "stderr",
     "output_type": "stream",
     "text": [
      "\u001b[A\n",
      " 88%|████████▊ | 88/100 [04:46<00:39,  3.25s/it]"
     ]
    },
    {
     "name": "stdout",
     "output_type": "stream",
     "text": [
      "epoch 88 / 100 in 3.3s: loss 0.680925, trval_rocauc 1.000000, val_rocauc 0.647394, lr 0.000050\n"
     ]
    },
    {
     "name": "stderr",
     "output_type": "stream",
     "text": [
      "\u001b[A\n",
      " 89%|████████▉ | 89/100 [04:50<00:35,  3.25s/it]"
     ]
    },
    {
     "name": "stdout",
     "output_type": "stream",
     "text": [
      "epoch 89 / 100 in 3.3s: loss 0.681125, trval_rocauc 1.000000, val_rocauc 0.658424, lr 0.000050\n"
     ]
    },
    {
     "name": "stderr",
     "output_type": "stream",
     "text": [
      "\u001b[A\n",
      " 90%|█████████ | 90/100 [04:53<00:32,  3.25s/it]"
     ]
    },
    {
     "name": "stdout",
     "output_type": "stream",
     "text": [
      "epoch 90 / 100 in 3.2s: loss 0.680188, trval_rocauc 1.000000, val_rocauc 0.651130, lr 0.000050\n"
     ]
    },
    {
     "name": "stderr",
     "output_type": "stream",
     "text": [
      "\u001b[A\n",
      " 91%|█████████ | 91/100 [04:56<00:29,  3.25s/it]"
     ]
    },
    {
     "name": "stdout",
     "output_type": "stream",
     "text": [
      "epoch 91 / 100 in 3.2s: loss 0.684467, trval_rocauc 1.000000, val_rocauc 0.647216, lr 0.000050\n"
     ]
    },
    {
     "name": "stderr",
     "output_type": "stream",
     "text": [
      "\u001b[A\n",
      " 92%|█████████▏| 92/100 [04:59<00:25,  3.25s/it]"
     ]
    },
    {
     "name": "stdout",
     "output_type": "stream",
     "text": [
      "epoch 92 / 100 in 3.2s: loss 0.682038, trval_rocauc 1.000000, val_rocauc 0.642057, lr 0.000050\n"
     ]
    },
    {
     "name": "stderr",
     "output_type": "stream",
     "text": [
      "\u001b[A\n",
      " 93%|█████████▎| 93/100 [05:03<00:22,  3.25s/it]"
     ]
    },
    {
     "name": "stdout",
     "output_type": "stream",
     "text": [
      "epoch 93 / 100 in 3.2s: loss 0.681476, trval_rocauc 1.000000, val_rocauc 0.659669, lr 0.000050\n"
     ]
    },
    {
     "name": "stderr",
     "output_type": "stream",
     "text": [
      "\u001b[A\n",
      " 94%|█████████▍| 94/100 [05:06<00:19,  3.25s/it]"
     ]
    },
    {
     "name": "stdout",
     "output_type": "stream",
     "text": [
      "epoch 94 / 100 in 3.2s: loss 0.681830, trval_rocauc 0.999815, val_rocauc 0.660559, lr 0.000050\n"
     ]
    },
    {
     "name": "stderr",
     "output_type": "stream",
     "text": [
      "\u001b[A\n",
      " 95%|█████████▌| 95/100 [05:09<00:16,  3.25s/it]"
     ]
    },
    {
     "name": "stdout",
     "output_type": "stream",
     "text": [
      "epoch 95 / 100 in 3.3s: loss 0.685695, trval_rocauc 0.999444, val_rocauc 0.660025, lr 0.000050\n"
     ]
    },
    {
     "name": "stderr",
     "output_type": "stream",
     "text": [
      "\u001b[A\n",
      " 96%|█████████▌| 96/100 [05:12<00:13,  3.25s/it]"
     ]
    },
    {
     "name": "stdout",
     "output_type": "stream",
     "text": [
      "epoch 96 / 100 in 3.2s: loss 0.682210, trval_rocauc 0.998704, val_rocauc 0.657178, lr 0.000050\n"
     ]
    },
    {
     "name": "stderr",
     "output_type": "stream",
     "text": [
      "\u001b[A\n",
      " 97%|█████████▋| 97/100 [05:16<00:09,  3.25s/it]"
     ]
    },
    {
     "name": "stdout",
     "output_type": "stream",
     "text": [
      "epoch 97 / 100 in 3.2s: loss 0.680653, trval_rocauc 0.999630, val_rocauc 0.658246, lr 0.000050\n"
     ]
    },
    {
     "name": "stderr",
     "output_type": "stream",
     "text": [
      "\u001b[A\n",
      " 98%|█████████▊| 98/100 [05:19<00:06,  3.25s/it]"
     ]
    },
    {
     "name": "stdout",
     "output_type": "stream",
     "text": [
      "epoch 98 / 100 in 3.2s: loss 0.680896, trval_rocauc 0.999815, val_rocauc 0.658068, lr 0.000050\n"
     ]
    },
    {
     "name": "stderr",
     "output_type": "stream",
     "text": [
      "\u001b[A\n",
      " 99%|█████████▉| 99/100 [05:22<00:03,  3.25s/it]"
     ]
    },
    {
     "name": "stdout",
     "output_type": "stream",
     "text": [
      "epoch 99 / 100 in 3.2s: loss 0.686312, trval_rocauc 0.999444, val_rocauc 0.661982, lr 0.000050\n"
     ]
    },
    {
     "name": "stderr",
     "output_type": "stream",
     "text": [
      "\u001b[A\n",
      "100%|██████████| 100/100 [05:25<00:00,  3.25s/it]\u001b[A\n",
      " 75%|███████▌  | 9/12 [51:47<16:45, 335.28s/it]"
     ]
    },
    {
     "name": "stdout",
     "output_type": "stream",
     "text": [
      "epoch 100 / 100 in 3.2s: loss 0.682430, trval_rocauc 1.000000, val_rocauc 0.651308, lr 0.000050\n"
     ]
    },
    {
     "name": "stderr",
     "output_type": "stream",
     "text": [
      "\n",
      "  0%|          | 0/100 [00:00<?, ?it/s]\u001b[A\n",
      "  1%|          | 1/100 [00:03<05:20,  3.24s/it]"
     ]
    },
    {
     "name": "stdout",
     "output_type": "stream",
     "text": [
      "epoch 1 / 100 in 3.2s: loss 0.698125, trval_rocauc 0.690030, val_rocauc 0.534137, lr 0.000050\n"
     ]
    },
    {
     "name": "stderr",
     "output_type": "stream",
     "text": [
      "\u001b[A\n",
      "  2%|▏         | 2/100 [00:06<05:17,  3.24s/it]"
     ]
    },
    {
     "name": "stdout",
     "output_type": "stream",
     "text": [
      "epoch 2 / 100 in 3.2s: loss 0.693560, trval_rocauc 0.761994, val_rocauc 0.555728, lr 0.000050\n"
     ]
    },
    {
     "name": "stderr",
     "output_type": "stream",
     "text": [
      "\u001b[A\n",
      "  3%|▎         | 3/100 [00:09<05:14,  3.24s/it]"
     ]
    },
    {
     "name": "stdout",
     "output_type": "stream",
     "text": [
      "epoch 3 / 100 in 3.2s: loss 0.692508, trval_rocauc 0.785420, val_rocauc 0.580432, lr 0.000050\n"
     ]
    },
    {
     "name": "stderr",
     "output_type": "stream",
     "text": [
      "\u001b[A\n",
      "  4%|▍         | 4/100 [00:12<05:11,  3.25s/it]"
     ]
    },
    {
     "name": "stdout",
     "output_type": "stream",
     "text": [
      "epoch 4 / 100 in 3.3s: loss 0.695210, trval_rocauc 0.791229, val_rocauc 0.587823, lr 0.000050\n"
     ]
    },
    {
     "name": "stderr",
     "output_type": "stream",
     "text": [
      "\u001b[A\n",
      "  5%|▌         | 5/100 [00:16<05:08,  3.25s/it]"
     ]
    },
    {
     "name": "stdout",
     "output_type": "stream",
     "text": [
      "epoch 5 / 100 in 3.2s: loss 0.691236, trval_rocauc 0.815967, val_rocauc 0.604357, lr 0.000050\n"
     ]
    },
    {
     "name": "stderr",
     "output_type": "stream",
     "text": [
      "\u001b[A\n",
      "  6%|▌         | 6/100 [00:19<05:05,  3.25s/it]"
     ]
    },
    {
     "name": "stdout",
     "output_type": "stream",
     "text": [
      "epoch 6 / 100 in 3.2s: loss 0.693254, trval_rocauc 0.832646, val_rocauc 0.591714, lr 0.000050\n"
     ]
    },
    {
     "name": "stderr",
     "output_type": "stream",
     "text": [
      "\u001b[A\n",
      "  7%|▋         | 7/100 [00:22<05:02,  3.25s/it]"
     ]
    },
    {
     "name": "stdout",
     "output_type": "stream",
     "text": [
      "epoch 7 / 100 in 3.2s: loss 0.690288, trval_rocauc 0.849700, val_rocauc 0.610387, lr 0.000050\n"
     ]
    },
    {
     "name": "stderr",
     "output_type": "stream",
     "text": [
      "\u001b[A\n",
      "  8%|▊         | 8/100 [00:25<04:58,  3.25s/it]"
     ]
    },
    {
     "name": "stdout",
     "output_type": "stream",
     "text": [
      "epoch 8 / 100 in 3.3s: loss 0.691141, trval_rocauc 0.866192, val_rocauc 0.624003, lr 0.000050\n"
     ]
    },
    {
     "name": "stderr",
     "output_type": "stream",
     "text": [
      "\u001b[A\n",
      "  9%|▉         | 9/100 [00:29<04:55,  3.25s/it]"
     ]
    },
    {
     "name": "stdout",
     "output_type": "stream",
     "text": [
      "epoch 9 / 100 in 3.2s: loss 0.687492, trval_rocauc 0.884370, val_rocauc 0.623809, lr 0.000050\n"
     ]
    },
    {
     "name": "stderr",
     "output_type": "stream",
     "text": [
      "\u001b[A\n",
      " 10%|█         | 10/100 [00:32<04:52,  3.25s/it]"
     ]
    },
    {
     "name": "stdout",
     "output_type": "stream",
     "text": [
      "epoch 10 / 100 in 3.3s: loss 0.688635, trval_rocauc 0.895052, val_rocauc 0.619918, lr 0.000050\n"
     ]
    },
    {
     "name": "stderr",
     "output_type": "stream",
     "text": [
      "\u001b[A\n",
      " 11%|█         | 11/100 [00:35<04:49,  3.25s/it]"
     ]
    },
    {
     "name": "stdout",
     "output_type": "stream",
     "text": [
      "epoch 11 / 100 in 3.3s: loss 0.688478, trval_rocauc 0.897864, val_rocauc 0.612138, lr 0.000050\n"
     ]
    },
    {
     "name": "stderr",
     "output_type": "stream",
     "text": [
      "\u001b[A\n",
      " 12%|█▏        | 12/100 [00:38<04:45,  3.25s/it]"
     ]
    },
    {
     "name": "stdout",
     "output_type": "stream",
     "text": [
      "epoch 12 / 100 in 3.2s: loss 0.687746, trval_rocauc 0.920352, val_rocauc 0.603579, lr 0.000050\n"
     ]
    },
    {
     "name": "stderr",
     "output_type": "stream",
     "text": [
      "\u001b[A\n",
      " 13%|█▎        | 13/100 [00:42<04:42,  3.25s/it]"
     ]
    },
    {
     "name": "stdout",
     "output_type": "stream",
     "text": [
      "epoch 13 / 100 in 3.3s: loss 0.686897, trval_rocauc 0.931597, val_rocauc 0.596577, lr 0.000050\n"
     ]
    },
    {
     "name": "stderr",
     "output_type": "stream",
     "text": [
      "\u001b[A\n",
      " 14%|█▍        | 14/100 [00:45<04:39,  3.25s/it]"
     ]
    },
    {
     "name": "stdout",
     "output_type": "stream",
     "text": [
      "epoch 14 / 100 in 3.2s: loss 0.686949, trval_rocauc 0.937219, val_rocauc 0.608442, lr 0.000050\n"
     ]
    },
    {
     "name": "stderr",
     "output_type": "stream",
     "text": [
      "\u001b[A\n",
      " 15%|█▌        | 15/100 [00:48<04:36,  3.25s/it]"
     ]
    },
    {
     "name": "stdout",
     "output_type": "stream",
     "text": [
      "epoch 15 / 100 in 3.2s: loss 0.687905, trval_rocauc 0.946589, val_rocauc 0.611943, lr 0.000050\n"
     ]
    },
    {
     "name": "stderr",
     "output_type": "stream",
     "text": [
      "\u001b[A\n",
      " 16%|█▌        | 16/100 [00:51<04:32,  3.25s/it]"
     ]
    },
    {
     "name": "stdout",
     "output_type": "stream",
     "text": [
      "epoch 16 / 100 in 3.2s: loss 0.687172, trval_rocauc 0.948838, val_rocauc 0.618946, lr 0.000050\n"
     ]
    },
    {
     "name": "stderr",
     "output_type": "stream",
     "text": [
      "\u001b[A\n",
      " 17%|█▋        | 17/100 [00:55<04:29,  3.25s/it]"
     ]
    },
    {
     "name": "stdout",
     "output_type": "stream",
     "text": [
      "epoch 17 / 100 in 3.2s: loss 0.685662, trval_rocauc 0.943778, val_rocauc 0.622642, lr 0.000050\n"
     ]
    },
    {
     "name": "stderr",
     "output_type": "stream",
     "text": [
      "\u001b[A\n",
      " 18%|█▊        | 18/100 [00:58<04:26,  3.25s/it]"
     ]
    },
    {
     "name": "stdout",
     "output_type": "stream",
     "text": [
      "epoch 18 / 100 in 3.2s: loss 0.686747, trval_rocauc 0.940780, val_rocauc 0.609025, lr 0.000050\n"
     ]
    },
    {
     "name": "stderr",
     "output_type": "stream",
     "text": [
      "\u001b[A\n",
      " 19%|█▉        | 19/100 [01:01<04:29,  3.33s/it]"
     ]
    },
    {
     "name": "stdout",
     "output_type": "stream",
     "text": [
      "epoch 19 / 100 in 3.5s: loss 0.685001, trval_rocauc 0.951462, val_rocauc 0.596771, lr 0.000050\n"
     ]
    },
    {
     "name": "stderr",
     "output_type": "stream",
     "text": [
      "\u001b[A\n",
      " 20%|██        | 20/100 [01:05<04:24,  3.31s/it]"
     ]
    },
    {
     "name": "stdout",
     "output_type": "stream",
     "text": [
      "epoch 20 / 100 in 3.2s: loss 0.685823, trval_rocauc 0.955772, val_rocauc 0.603190, lr 0.000050\n"
     ]
    },
    {
     "name": "stderr",
     "output_type": "stream",
     "text": [
      "\u001b[A\n",
      " 21%|██        | 21/100 [01:08<04:19,  3.29s/it]"
     ]
    },
    {
     "name": "stdout",
     "output_type": "stream",
     "text": [
      "epoch 21 / 100 in 3.2s: loss 0.684128, trval_rocauc 0.956522, val_rocauc 0.601050, lr 0.000050\n"
     ]
    },
    {
     "name": "stderr",
     "output_type": "stream",
     "text": [
      "\u001b[A\n",
      " 22%|██▏       | 22/100 [01:11<04:16,  3.28s/it]"
     ]
    },
    {
     "name": "stdout",
     "output_type": "stream",
     "text": [
      "epoch 22 / 100 in 3.3s: loss 0.686860, trval_rocauc 0.966267, val_rocauc 0.590741, lr 0.000050\n"
     ]
    },
    {
     "name": "stderr",
     "output_type": "stream",
     "text": [
      "\u001b[A\n",
      " 23%|██▎       | 23/100 [01:14<04:11,  3.27s/it]"
     ]
    },
    {
     "name": "stdout",
     "output_type": "stream",
     "text": [
      "epoch 23 / 100 in 3.2s: loss 0.687826, trval_rocauc 0.966079, val_rocauc 0.593659, lr 0.000050\n"
     ]
    },
    {
     "name": "stderr",
     "output_type": "stream",
     "text": [
      "\u001b[A\n",
      " 24%|██▍       | 24/100 [01:18<04:07,  3.26s/it]"
     ]
    },
    {
     "name": "stdout",
     "output_type": "stream",
     "text": [
      "epoch 24 / 100 in 3.2s: loss 0.686764, trval_rocauc 0.966267, val_rocauc 0.610582, lr 0.000050\n"
     ]
    },
    {
     "name": "stderr",
     "output_type": "stream",
     "text": [
      "\u001b[A\n",
      " 25%|██▌       | 25/100 [01:21<04:04,  3.26s/it]"
     ]
    },
    {
     "name": "stdout",
     "output_type": "stream",
     "text": [
      "epoch 25 / 100 in 3.2s: loss 0.686068, trval_rocauc 0.976199, val_rocauc 0.611943, lr 0.000050\n"
     ]
    },
    {
     "name": "stderr",
     "output_type": "stream",
     "text": [
      "\u001b[A\n",
      " 26%|██▌       | 26/100 [01:24<04:00,  3.25s/it]"
     ]
    },
    {
     "name": "stdout",
     "output_type": "stream",
     "text": [
      "epoch 26 / 100 in 3.2s: loss 0.684063, trval_rocauc 0.980322, val_rocauc 0.609804, lr 0.000050\n"
     ]
    },
    {
     "name": "stderr",
     "output_type": "stream",
     "text": [
      "\u001b[A\n",
      " 27%|██▋       | 27/100 [01:27<03:57,  3.25s/it]"
     ]
    },
    {
     "name": "stdout",
     "output_type": "stream",
     "text": [
      "epoch 27 / 100 in 3.2s: loss 0.684248, trval_rocauc 0.982009, val_rocauc 0.607858, lr 0.000050\n"
     ]
    },
    {
     "name": "stderr",
     "output_type": "stream",
     "text": [
      "\u001b[A\n",
      " 28%|██▊       | 28/100 [01:31<03:53,  3.25s/it]"
     ]
    },
    {
     "name": "stdout",
     "output_type": "stream",
     "text": [
      "epoch 28 / 100 in 3.2s: loss 0.686390, trval_rocauc 0.988193, val_rocauc 0.574985, lr 0.000050\n"
     ]
    },
    {
     "name": "stderr",
     "output_type": "stream",
     "text": [
      "\u001b[A\n",
      " 29%|██▉       | 29/100 [01:34<03:50,  3.24s/it]"
     ]
    },
    {
     "name": "stdout",
     "output_type": "stream",
     "text": [
      "epoch 29 / 100 in 3.2s: loss 0.686683, trval_rocauc 0.988193, val_rocauc 0.588796, lr 0.000050\n"
     ]
    },
    {
     "name": "stderr",
     "output_type": "stream",
     "text": [
      "\u001b[A\n",
      " 30%|███       | 30/100 [01:37<03:47,  3.25s/it]"
     ]
    },
    {
     "name": "stdout",
     "output_type": "stream",
     "text": [
      "epoch 30 / 100 in 3.3s: loss 0.683997, trval_rocauc 0.988568, val_rocauc 0.604941, lr 0.000050\n"
     ]
    },
    {
     "name": "stderr",
     "output_type": "stream",
     "text": [
      "\u001b[A\n",
      " 31%|███       | 31/100 [01:40<03:44,  3.26s/it]"
     ]
    },
    {
     "name": "stdout",
     "output_type": "stream",
     "text": [
      "epoch 31 / 100 in 3.3s: loss 0.683593, trval_rocauc 0.980697, val_rocauc 0.606302, lr 0.000050\n"
     ]
    },
    {
     "name": "stderr",
     "output_type": "stream",
     "text": [
      "\u001b[A\n",
      " 32%|███▏      | 32/100 [01:44<03:41,  3.25s/it]"
     ]
    },
    {
     "name": "stdout",
     "output_type": "stream",
     "text": [
      "epoch 32 / 100 in 3.2s: loss 0.684260, trval_rocauc 0.985195, val_rocauc 0.614472, lr 0.000050\n"
     ]
    },
    {
     "name": "stderr",
     "output_type": "stream",
     "text": [
      "\u001b[A\n",
      " 33%|███▎      | 33/100 [01:47<03:37,  3.25s/it]"
     ]
    },
    {
     "name": "stdout",
     "output_type": "stream",
     "text": [
      "epoch 33 / 100 in 3.2s: loss 0.681558, trval_rocauc 0.991567, val_rocauc 0.616612, lr 0.000050\n"
     ]
    },
    {
     "name": "stderr",
     "output_type": "stream",
     "text": [
      "\u001b[A\n",
      " 34%|███▍      | 34/100 [01:50<03:34,  3.25s/it]"
     ]
    },
    {
     "name": "stdout",
     "output_type": "stream",
     "text": [
      "epoch 34 / 100 in 3.2s: loss 0.681045, trval_rocauc 0.991754, val_rocauc 0.627699, lr 0.000050\n"
     ]
    },
    {
     "name": "stderr",
     "output_type": "stream",
     "text": [
      "\u001b[A\n",
      " 35%|███▌      | 35/100 [01:53<03:31,  3.25s/it]"
     ]
    },
    {
     "name": "stdout",
     "output_type": "stream",
     "text": [
      "epoch 35 / 100 in 3.2s: loss 0.684232, trval_rocauc 0.992691, val_rocauc 0.618362, lr 0.000050\n"
     ]
    },
    {
     "name": "stderr",
     "output_type": "stream",
     "text": [
      "\u001b[A\n",
      " 36%|███▌      | 36/100 [01:57<03:27,  3.24s/it]"
     ]
    },
    {
     "name": "stdout",
     "output_type": "stream",
     "text": [
      "epoch 36 / 100 in 3.2s: loss 0.682761, trval_rocauc 0.991754, val_rocauc 0.614277, lr 0.000050\n"
     ]
    },
    {
     "name": "stderr",
     "output_type": "stream",
     "text": [
      "\u001b[A\n",
      " 37%|███▋      | 37/100 [02:00<03:24,  3.25s/it]"
     ]
    },
    {
     "name": "stdout",
     "output_type": "stream",
     "text": [
      "epoch 37 / 100 in 3.3s: loss 0.683551, trval_rocauc 0.994378, val_rocauc 0.609998, lr 0.000050\n"
     ]
    },
    {
     "name": "stderr",
     "output_type": "stream",
     "text": [
      "\u001b[A\n",
      " 38%|███▊      | 38/100 [02:03<03:21,  3.25s/it]"
     ]
    },
    {
     "name": "stdout",
     "output_type": "stream",
     "text": [
      "epoch 38 / 100 in 3.2s: loss 0.686257, trval_rocauc 0.994003, val_rocauc 0.594242, lr 0.000050\n"
     ]
    },
    {
     "name": "stderr",
     "output_type": "stream",
     "text": [
      "\u001b[A\n",
      " 39%|███▉      | 39/100 [02:06<03:17,  3.25s/it]"
     ]
    },
    {
     "name": "stdout",
     "output_type": "stream",
     "text": [
      "epoch 39 / 100 in 3.2s: loss 0.685525, trval_rocauc 0.995502, val_rocauc 0.588796, lr 0.000050\n"
     ]
    },
    {
     "name": "stderr",
     "output_type": "stream",
     "text": [
      "\u001b[A\n",
      " 40%|████      | 40/100 [02:10<03:14,  3.24s/it]"
     ]
    },
    {
     "name": "stdout",
     "output_type": "stream",
     "text": [
      "epoch 40 / 100 in 3.2s: loss 0.687414, trval_rocauc 0.995315, val_rocauc 0.587240, lr 0.000050\n"
     ]
    },
    {
     "name": "stderr",
     "output_type": "stream",
     "text": [
      "\u001b[A\n",
      " 41%|████      | 41/100 [02:13<03:11,  3.25s/it]"
     ]
    },
    {
     "name": "stdout",
     "output_type": "stream",
     "text": [
      "epoch 41 / 100 in 3.3s: loss 0.685817, trval_rocauc 0.992129, val_rocauc 0.606691, lr 0.000050\n"
     ]
    },
    {
     "name": "stderr",
     "output_type": "stream",
     "text": [
      "\u001b[A\n",
      " 42%|████▏     | 42/100 [02:16<03:08,  3.24s/it]"
     ]
    },
    {
     "name": "stdout",
     "output_type": "stream",
     "text": [
      "epoch 42 / 100 in 3.2s: loss 0.684141, trval_rocauc 0.994565, val_rocauc 0.607469, lr 0.000050\n"
     ]
    },
    {
     "name": "stderr",
     "output_type": "stream",
     "text": [
      "\u001b[A\n",
      " 43%|████▎     | 43/100 [02:19<03:04,  3.24s/it]"
     ]
    },
    {
     "name": "stdout",
     "output_type": "stream",
     "text": [
      "epoch 43 / 100 in 3.2s: loss 0.682997, trval_rocauc 0.997189, val_rocauc 0.601828, lr 0.000050\n"
     ]
    },
    {
     "name": "stderr",
     "output_type": "stream",
     "text": [
      "\u001b[A\n",
      " 44%|████▍     | 44/100 [02:23<03:01,  3.24s/it]"
     ]
    },
    {
     "name": "stdout",
     "output_type": "stream",
     "text": [
      "epoch 44 / 100 in 3.2s: loss 0.684550, trval_rocauc 0.995315, val_rocauc 0.618362, lr 0.000050\n"
     ]
    },
    {
     "name": "stderr",
     "output_type": "stream",
     "text": [
      "\u001b[A\n",
      " 45%|████▌     | 45/100 [02:26<02:58,  3.24s/it]"
     ]
    },
    {
     "name": "stdout",
     "output_type": "stream",
     "text": [
      "epoch 45 / 100 in 3.2s: loss 0.685045, trval_rocauc 0.994378, val_rocauc 0.619335, lr 0.000050\n"
     ]
    },
    {
     "name": "stderr",
     "output_type": "stream",
     "text": [
      "\u001b[A\n",
      " 46%|████▌     | 46/100 [02:29<02:54,  3.24s/it]"
     ]
    },
    {
     "name": "stdout",
     "output_type": "stream",
     "text": [
      "epoch 46 / 100 in 3.2s: loss 0.686058, trval_rocauc 0.995315, val_rocauc 0.602412, lr 0.000050\n"
     ]
    },
    {
     "name": "stderr",
     "output_type": "stream",
     "text": [
      "\u001b[A\n",
      " 47%|████▋     | 47/100 [02:32<02:51,  3.24s/it]"
     ]
    },
    {
     "name": "stdout",
     "output_type": "stream",
     "text": [
      "epoch 47 / 100 in 3.2s: loss 0.682761, trval_rocauc 0.995315, val_rocauc 0.630617, lr 0.000050\n"
     ]
    },
    {
     "name": "stderr",
     "output_type": "stream",
     "text": [
      "\u001b[A\n",
      " 48%|████▊     | 48/100 [02:36<02:48,  3.24s/it]"
     ]
    },
    {
     "name": "stdout",
     "output_type": "stream",
     "text": [
      "epoch 48 / 100 in 3.2s: loss 0.683302, trval_rocauc 0.997189, val_rocauc 0.623225, lr 0.000050\n"
     ]
    },
    {
     "name": "stderr",
     "output_type": "stream",
     "text": [
      "\u001b[A\n",
      " 49%|████▉     | 49/100 [02:39<02:44,  3.23s/it]"
     ]
    },
    {
     "name": "stdout",
     "output_type": "stream",
     "text": [
      "epoch 49 / 100 in 3.2s: loss 0.683826, trval_rocauc 0.996252, val_rocauc 0.627699, lr 0.000050\n"
     ]
    },
    {
     "name": "stderr",
     "output_type": "stream",
     "text": [
      "\u001b[A\n",
      " 50%|█████     | 50/100 [02:42<02:42,  3.24s/it]"
     ]
    },
    {
     "name": "stdout",
     "output_type": "stream",
     "text": [
      "epoch 50 / 100 in 3.3s: loss 0.680545, trval_rocauc 0.995315, val_rocauc 0.630811, lr 0.000050\n"
     ]
    },
    {
     "name": "stderr",
     "output_type": "stream",
     "text": [
      "\u001b[A\n",
      " 51%|█████     | 51/100 [02:45<02:38,  3.24s/it]"
     ]
    },
    {
     "name": "stdout",
     "output_type": "stream",
     "text": [
      "epoch 51 / 100 in 3.2s: loss 0.681421, trval_rocauc 0.994565, val_rocauc 0.617195, lr 0.000050\n"
     ]
    },
    {
     "name": "stderr",
     "output_type": "stream",
     "text": [
      "\u001b[A\n",
      " 52%|█████▏    | 52/100 [02:49<02:35,  3.24s/it]"
     ]
    },
    {
     "name": "stdout",
     "output_type": "stream",
     "text": [
      "epoch 52 / 100 in 3.2s: loss 0.681243, trval_rocauc 0.995877, val_rocauc 0.627115, lr 0.000050\n"
     ]
    },
    {
     "name": "stderr",
     "output_type": "stream",
     "text": [
      "\u001b[A\n",
      " 53%|█████▎    | 53/100 [02:52<02:32,  3.24s/it]"
     ]
    },
    {
     "name": "stdout",
     "output_type": "stream",
     "text": [
      "epoch 53 / 100 in 3.2s: loss 0.678995, trval_rocauc 0.996627, val_rocauc 0.612138, lr 0.000050\n"
     ]
    },
    {
     "name": "stderr",
     "output_type": "stream",
     "text": [
      "\u001b[A\n",
      " 54%|█████▍    | 54/100 [02:55<02:29,  3.24s/it]"
     ]
    },
    {
     "name": "stdout",
     "output_type": "stream",
     "text": [
      "epoch 54 / 100 in 3.2s: loss 0.681782, trval_rocauc 0.998126, val_rocauc 0.616223, lr 0.000050\n"
     ]
    },
    {
     "name": "stderr",
     "output_type": "stream",
     "text": [
      "\u001b[A\n",
      " 55%|█████▌    | 55/100 [02:58<02:25,  3.24s/it]"
     ]
    },
    {
     "name": "stdout",
     "output_type": "stream",
     "text": [
      "epoch 55 / 100 in 3.2s: loss 0.684703, trval_rocauc 0.997564, val_rocauc 0.600856, lr 0.000050\n"
     ]
    },
    {
     "name": "stderr",
     "output_type": "stream",
     "text": [
      "\u001b[A\n",
      " 56%|█████▌    | 56/100 [03:02<02:22,  3.24s/it]"
     ]
    },
    {
     "name": "stdout",
     "output_type": "stream",
     "text": [
      "epoch 56 / 100 in 3.2s: loss 0.682699, trval_rocauc 0.997939, val_rocauc 0.593464, lr 0.000050\n"
     ]
    },
    {
     "name": "stderr",
     "output_type": "stream",
     "text": [
      "\u001b[A\n",
      " 57%|█████▋    | 57/100 [03:05<02:19,  3.24s/it]"
     ]
    },
    {
     "name": "stdout",
     "output_type": "stream",
     "text": [
      "epoch 57 / 100 in 3.2s: loss 0.681725, trval_rocauc 0.999250, val_rocauc 0.563704, lr 0.000050\n"
     ]
    },
    {
     "name": "stderr",
     "output_type": "stream",
     "text": [
      "\u001b[A\n",
      " 58%|█████▊    | 58/100 [03:08<02:15,  3.24s/it]"
     ]
    },
    {
     "name": "stdout",
     "output_type": "stream",
     "text": [
      "epoch 58 / 100 in 3.2s: loss 0.684543, trval_rocauc 0.998501, val_rocauc 0.576347, lr 0.000050\n"
     ]
    },
    {
     "name": "stderr",
     "output_type": "stream",
     "text": [
      "\u001b[A\n",
      " 59%|█████▉    | 59/100 [03:11<02:12,  3.24s/it]"
     ]
    },
    {
     "name": "stdout",
     "output_type": "stream",
     "text": [
      "epoch 59 / 100 in 3.3s: loss 0.683012, trval_rocauc 0.999063, val_rocauc 0.579848, lr 0.000050\n"
     ]
    },
    {
     "name": "stderr",
     "output_type": "stream",
     "text": [
      "\u001b[A\n",
      " 60%|██████    | 60/100 [03:14<02:09,  3.24s/it]"
     ]
    },
    {
     "name": "stdout",
     "output_type": "stream",
     "text": [
      "epoch 60 / 100 in 3.2s: loss 0.682781, trval_rocauc 0.999063, val_rocauc 0.565260, lr 0.000050\n"
     ]
    },
    {
     "name": "stderr",
     "output_type": "stream",
     "text": [
      "\u001b[A\n",
      " 61%|██████    | 61/100 [03:18<02:06,  3.24s/it]"
     ]
    },
    {
     "name": "stdout",
     "output_type": "stream",
     "text": [
      "epoch 61 / 100 in 3.2s: loss 0.683575, trval_rocauc 0.997376, val_rocauc 0.574207, lr 0.000050\n"
     ]
    },
    {
     "name": "stderr",
     "output_type": "stream",
     "text": [
      "\u001b[A\n",
      " 62%|██████▏   | 62/100 [03:21<02:02,  3.24s/it]"
     ]
    },
    {
     "name": "stdout",
     "output_type": "stream",
     "text": [
      "epoch 62 / 100 in 3.2s: loss 0.681427, trval_rocauc 0.999063, val_rocauc 0.600272, lr 0.000050\n"
     ]
    },
    {
     "name": "stderr",
     "output_type": "stream",
     "text": [
      "\u001b[A\n",
      " 63%|██████▎   | 63/100 [03:24<01:59,  3.24s/it]"
     ]
    },
    {
     "name": "stdout",
     "output_type": "stream",
     "text": [
      "epoch 63 / 100 in 3.2s: loss 0.681496, trval_rocauc 0.998688, val_rocauc 0.612138, lr 0.000050\n"
     ]
    },
    {
     "name": "stderr",
     "output_type": "stream",
     "text": [
      "\u001b[A\n",
      " 64%|██████▍   | 64/100 [03:27<01:56,  3.24s/it]"
     ]
    },
    {
     "name": "stdout",
     "output_type": "stream",
     "text": [
      "epoch 64 / 100 in 3.2s: loss 0.680575, trval_rocauc 0.999250, val_rocauc 0.595993, lr 0.000050\n"
     ]
    },
    {
     "name": "stderr",
     "output_type": "stream",
     "text": [
      "\u001b[A\n",
      " 65%|██████▌   | 65/100 [03:31<01:53,  3.23s/it]"
     ]
    },
    {
     "name": "stdout",
     "output_type": "stream",
     "text": [
      "epoch 65 / 100 in 3.2s: loss 0.683704, trval_rocauc 0.999438, val_rocauc 0.593853, lr 0.000050\n"
     ]
    },
    {
     "name": "stderr",
     "output_type": "stream",
     "text": [
      "\u001b[A\n",
      " 66%|██████▌   | 66/100 [03:34<01:49,  3.23s/it]"
     ]
    },
    {
     "name": "stdout",
     "output_type": "stream",
     "text": [
      "epoch 66 / 100 in 3.2s: loss 0.680694, trval_rocauc 0.999813, val_rocauc 0.589574, lr 0.000050\n"
     ]
    },
    {
     "name": "stderr",
     "output_type": "stream",
     "text": [
      "\u001b[A\n",
      " 67%|██████▋   | 67/100 [03:37<01:46,  3.23s/it]"
     ]
    },
    {
     "name": "stdout",
     "output_type": "stream",
     "text": [
      "epoch 67 / 100 in 3.2s: loss 0.681022, trval_rocauc 0.999625, val_rocauc 0.577514, lr 0.000050\n"
     ]
    },
    {
     "name": "stderr",
     "output_type": "stream",
     "text": [
      "\u001b[A\n",
      " 68%|██████▊   | 68/100 [03:40<01:43,  3.24s/it]"
     ]
    },
    {
     "name": "stdout",
     "output_type": "stream",
     "text": [
      "epoch 68 / 100 in 3.2s: loss 0.683525, trval_rocauc 1.000000, val_rocauc 0.570706, lr 0.000050\n"
     ]
    },
    {
     "name": "stderr",
     "output_type": "stream",
     "text": [
      "\u001b[A\n",
      " 69%|██████▉   | 69/100 [03:44<01:40,  3.24s/it]"
     ]
    },
    {
     "name": "stdout",
     "output_type": "stream",
     "text": [
      "epoch 69 / 100 in 3.2s: loss 0.680690, trval_rocauc 0.999250, val_rocauc 0.592686, lr 0.000050\n"
     ]
    },
    {
     "name": "stderr",
     "output_type": "stream",
     "text": [
      "\u001b[A\n",
      " 70%|███████   | 70/100 [03:47<01:36,  3.23s/it]"
     ]
    },
    {
     "name": "stdout",
     "output_type": "stream",
     "text": [
      "epoch 70 / 100 in 3.2s: loss 0.686095, trval_rocauc 0.999063, val_rocauc 0.579070, lr 0.000050\n"
     ]
    },
    {
     "name": "stderr",
     "output_type": "stream",
     "text": [
      "\u001b[A\n",
      " 71%|███████   | 71/100 [03:50<01:33,  3.23s/it]"
     ]
    },
    {
     "name": "stdout",
     "output_type": "stream",
     "text": [
      "epoch 71 / 100 in 3.2s: loss 0.683249, trval_rocauc 0.998688, val_rocauc 0.578098, lr 0.000050\n"
     ]
    },
    {
     "name": "stderr",
     "output_type": "stream",
     "text": [
      "\u001b[A\n",
      " 72%|███████▏  | 72/100 [03:53<01:30,  3.23s/it]"
     ]
    },
    {
     "name": "stdout",
     "output_type": "stream",
     "text": [
      "epoch 72 / 100 in 3.2s: loss 0.682051, trval_rocauc 0.999625, val_rocauc 0.568761, lr 0.000050\n"
     ]
    },
    {
     "name": "stderr",
     "output_type": "stream",
     "text": [
      "\u001b[A\n",
      " 73%|███████▎  | 73/100 [03:57<01:27,  3.24s/it]"
     ]
    },
    {
     "name": "stdout",
     "output_type": "stream",
     "text": [
      "epoch 73 / 100 in 3.2s: loss 0.679894, trval_rocauc 0.999813, val_rocauc 0.584322, lr 0.000050\n"
     ]
    },
    {
     "name": "stderr",
     "output_type": "stream",
     "text": [
      "\u001b[A\n",
      " 74%|███████▍  | 74/100 [04:00<01:24,  3.23s/it]"
     ]
    },
    {
     "name": "stdout",
     "output_type": "stream",
     "text": [
      "epoch 74 / 100 in 3.2s: loss 0.681339, trval_rocauc 0.999625, val_rocauc 0.574402, lr 0.000050\n"
     ]
    },
    {
     "name": "stderr",
     "output_type": "stream",
     "text": [
      "\u001b[A\n",
      " 75%|███████▌  | 75/100 [04:03<01:20,  3.23s/it]"
     ]
    },
    {
     "name": "stdout",
     "output_type": "stream",
     "text": [
      "epoch 75 / 100 in 3.2s: loss 0.679826, trval_rocauc 0.999813, val_rocauc 0.590547, lr 0.000050\n"
     ]
    },
    {
     "name": "stderr",
     "output_type": "stream",
     "text": [
      "\u001b[A\n",
      " 76%|███████▌  | 76/100 [04:06<01:17,  3.24s/it]"
     ]
    },
    {
     "name": "stdout",
     "output_type": "stream",
     "text": [
      "epoch 76 / 100 in 3.2s: loss 0.682367, trval_rocauc 0.999813, val_rocauc 0.607275, lr 0.000050\n"
     ]
    },
    {
     "name": "stderr",
     "output_type": "stream",
     "text": [
      "\u001b[A\n",
      " 77%|███████▋  | 77/100 [04:09<01:14,  3.23s/it]"
     ]
    },
    {
     "name": "stdout",
     "output_type": "stream",
     "text": [
      "epoch 77 / 100 in 3.2s: loss 0.683142, trval_rocauc 0.999813, val_rocauc 0.590547, lr 0.000050\n"
     ]
    },
    {
     "name": "stderr",
     "output_type": "stream",
     "text": [
      "\u001b[A\n",
      " 78%|███████▊  | 78/100 [04:13<01:11,  3.24s/it]"
     ]
    },
    {
     "name": "stdout",
     "output_type": "stream",
     "text": [
      "epoch 78 / 100 in 3.2s: loss 0.682126, trval_rocauc 0.999813, val_rocauc 0.586462, lr 0.000050\n"
     ]
    },
    {
     "name": "stderr",
     "output_type": "stream",
     "text": [
      "\u001b[A\n",
      " 79%|███████▉  | 79/100 [04:16<01:07,  3.24s/it]"
     ]
    },
    {
     "name": "stdout",
     "output_type": "stream",
     "text": [
      "epoch 79 / 100 in 3.2s: loss 0.682300, trval_rocauc 0.999625, val_rocauc 0.590158, lr 0.000050\n"
     ]
    },
    {
     "name": "stderr",
     "output_type": "stream",
     "text": [
      "\u001b[A\n",
      " 80%|████████  | 80/100 [04:19<01:04,  3.24s/it]"
     ]
    },
    {
     "name": "stdout",
     "output_type": "stream",
     "text": [
      "epoch 80 / 100 in 3.2s: loss 0.679355, trval_rocauc 1.000000, val_rocauc 0.595798, lr 0.000050\n"
     ]
    },
    {
     "name": "stderr",
     "output_type": "stream",
     "text": [
      "\u001b[A\n",
      " 81%|████████  | 81/100 [04:22<01:01,  3.24s/it]"
     ]
    },
    {
     "name": "stdout",
     "output_type": "stream",
     "text": [
      "epoch 81 / 100 in 3.2s: loss 0.681068, trval_rocauc 1.000000, val_rocauc 0.600272, lr 0.000050\n"
     ]
    },
    {
     "name": "stderr",
     "output_type": "stream",
     "text": [
      "\u001b[A\n",
      " 82%|████████▏ | 82/100 [04:26<00:58,  3.23s/it]"
     ]
    },
    {
     "name": "stdout",
     "output_type": "stream",
     "text": [
      "epoch 82 / 100 in 3.2s: loss 0.685684, trval_rocauc 1.000000, val_rocauc 0.598911, lr 0.000050\n"
     ]
    },
    {
     "name": "stderr",
     "output_type": "stream",
     "text": [
      "\u001b[A\n",
      " 83%|████████▎ | 83/100 [04:29<00:54,  3.23s/it]"
     ]
    },
    {
     "name": "stdout",
     "output_type": "stream",
     "text": [
      "epoch 83 / 100 in 3.2s: loss 0.681407, trval_rocauc 1.000000, val_rocauc 0.606497, lr 0.000050\n"
     ]
    },
    {
     "name": "stderr",
     "output_type": "stream",
     "text": [
      "\u001b[A\n",
      " 84%|████████▍ | 84/100 [04:32<00:51,  3.23s/it]"
     ]
    },
    {
     "name": "stdout",
     "output_type": "stream",
     "text": [
      "epoch 84 / 100 in 3.2s: loss 0.681287, trval_rocauc 1.000000, val_rocauc 0.606691, lr 0.000050\n"
     ]
    },
    {
     "name": "stderr",
     "output_type": "stream",
     "text": [
      "\u001b[A\n",
      " 85%|████████▌ | 85/100 [04:35<00:48,  3.23s/it]"
     ]
    },
    {
     "name": "stdout",
     "output_type": "stream",
     "text": [
      "epoch 85 / 100 in 3.2s: loss 0.681950, trval_rocauc 1.000000, val_rocauc 0.607664, lr 0.000050\n"
     ]
    },
    {
     "name": "stderr",
     "output_type": "stream",
     "text": [
      "\u001b[A\n",
      " 86%|████████▌ | 86/100 [04:39<00:45,  3.23s/it]"
     ]
    },
    {
     "name": "stdout",
     "output_type": "stream",
     "text": [
      "epoch 86 / 100 in 3.2s: loss 0.682972, trval_rocauc 1.000000, val_rocauc 0.600661, lr 0.000050\n"
     ]
    },
    {
     "name": "stderr",
     "output_type": "stream",
     "text": [
      "\u001b[A\n",
      " 87%|████████▋ | 87/100 [04:42<00:42,  3.24s/it]"
     ]
    },
    {
     "name": "stdout",
     "output_type": "stream",
     "text": [
      "epoch 87 / 100 in 3.3s: loss 0.682699, trval_rocauc 1.000000, val_rocauc 0.608831, lr 0.000050\n"
     ]
    },
    {
     "name": "stderr",
     "output_type": "stream",
     "text": [
      "\u001b[A\n",
      " 88%|████████▊ | 88/100 [04:45<00:38,  3.23s/it]"
     ]
    },
    {
     "name": "stdout",
     "output_type": "stream",
     "text": [
      "epoch 88 / 100 in 3.2s: loss 0.681160, trval_rocauc 1.000000, val_rocauc 0.624198, lr 0.000050\n"
     ]
    },
    {
     "name": "stderr",
     "output_type": "stream",
     "text": [
      "\u001b[A\n",
      " 89%|████████▉ | 89/100 [04:48<00:35,  3.23s/it]"
     ]
    },
    {
     "name": "stdout",
     "output_type": "stream",
     "text": [
      "epoch 89 / 100 in 3.2s: loss 0.680265, trval_rocauc 0.999813, val_rocauc 0.624003, lr 0.000050\n"
     ]
    },
    {
     "name": "stderr",
     "output_type": "stream",
     "text": [
      "\u001b[A\n",
      " 90%|█████████ | 90/100 [04:51<00:32,  3.23s/it]"
     ]
    },
    {
     "name": "stdout",
     "output_type": "stream",
     "text": [
      "epoch 90 / 100 in 3.2s: loss 0.681975, trval_rocauc 1.000000, val_rocauc 0.626532, lr 0.000050\n"
     ]
    },
    {
     "name": "stderr",
     "output_type": "stream",
     "text": [
      "\u001b[A\n",
      " 91%|█████████ | 91/100 [04:55<00:29,  3.23s/it]"
     ]
    },
    {
     "name": "stdout",
     "output_type": "stream",
     "text": [
      "epoch 91 / 100 in 3.2s: loss 0.677965, trval_rocauc 0.999813, val_rocauc 0.626921, lr 0.000050\n"
     ]
    },
    {
     "name": "stderr",
     "output_type": "stream",
     "text": [
      "\u001b[A\n",
      " 92%|█████████▏| 92/100 [04:58<00:25,  3.23s/it]"
     ]
    },
    {
     "name": "stdout",
     "output_type": "stream",
     "text": [
      "epoch 92 / 100 in 3.2s: loss 0.683320, trval_rocauc 0.999625, val_rocauc 0.608053, lr 0.000050\n"
     ]
    },
    {
     "name": "stderr",
     "output_type": "stream",
     "text": [
      "\u001b[A\n",
      " 93%|█████████▎| 93/100 [05:01<00:22,  3.23s/it]"
     ]
    },
    {
     "name": "stdout",
     "output_type": "stream",
     "text": [
      "epoch 93 / 100 in 3.2s: loss 0.683965, trval_rocauc 0.999813, val_rocauc 0.597160, lr 0.000050\n"
     ]
    },
    {
     "name": "stderr",
     "output_type": "stream",
     "text": [
      "\u001b[A\n",
      " 94%|█████████▍| 94/100 [05:04<00:19,  3.23s/it]"
     ]
    },
    {
     "name": "stdout",
     "output_type": "stream",
     "text": [
      "epoch 94 / 100 in 3.2s: loss 0.680388, trval_rocauc 0.999813, val_rocauc 0.605135, lr 0.000050\n"
     ]
    },
    {
     "name": "stderr",
     "output_type": "stream",
     "text": [
      "\u001b[A\n",
      " 95%|█████████▌| 95/100 [05:08<00:16,  3.23s/it]"
     ]
    },
    {
     "name": "stdout",
     "output_type": "stream",
     "text": [
      "epoch 95 / 100 in 3.2s: loss 0.682253, trval_rocauc 0.999438, val_rocauc 0.609415, lr 0.000050\n"
     ]
    },
    {
     "name": "stderr",
     "output_type": "stream",
     "text": [
      "\u001b[A\n",
      " 96%|█████████▌| 96/100 [05:11<00:12,  3.24s/it]"
     ]
    },
    {
     "name": "stdout",
     "output_type": "stream",
     "text": [
      "epoch 96 / 100 in 3.3s: loss 0.680973, trval_rocauc 1.000000, val_rocauc 0.602412, lr 0.000050\n"
     ]
    },
    {
     "name": "stderr",
     "output_type": "stream",
     "text": [
      "\u001b[A\n",
      " 97%|█████████▋| 97/100 [05:14<00:09,  3.24s/it]"
     ]
    },
    {
     "name": "stdout",
     "output_type": "stream",
     "text": [
      "epoch 97 / 100 in 3.2s: loss 0.683976, trval_rocauc 1.000000, val_rocauc 0.608831, lr 0.000050\n"
     ]
    },
    {
     "name": "stderr",
     "output_type": "stream",
     "text": [
      "\u001b[A\n",
      " 98%|█████████▊| 98/100 [05:17<00:06,  3.23s/it]"
     ]
    },
    {
     "name": "stdout",
     "output_type": "stream",
     "text": [
      "epoch 98 / 100 in 3.2s: loss 0.680165, trval_rocauc 1.000000, val_rocauc 0.623225, lr 0.000050\n"
     ]
    },
    {
     "name": "stderr",
     "output_type": "stream",
     "text": [
      "\u001b[A\n",
      " 99%|█████████▉| 99/100 [05:21<00:03,  3.23s/it]"
     ]
    },
    {
     "name": "stdout",
     "output_type": "stream",
     "text": [
      "epoch 99 / 100 in 3.2s: loss 0.682188, trval_rocauc 1.000000, val_rocauc 0.611360, lr 0.000050\n"
     ]
    },
    {
     "name": "stderr",
     "output_type": "stream",
     "text": [
      "\u001b[A\n",
      "100%|██████████| 100/100 [05:24<00:00,  3.23s/it]\u001b[A\n",
      " 83%|████████▎ | 10/12 [57:14<11:05, 332.66s/it]"
     ]
    },
    {
     "name": "stdout",
     "output_type": "stream",
     "text": [
      "epoch 100 / 100 in 3.2s: loss 0.679918, trval_rocauc 1.000000, val_rocauc 0.615444, lr 0.000050\n"
     ]
    },
    {
     "name": "stderr",
     "output_type": "stream",
     "text": [
      "\n",
      "  0%|          | 0/100 [00:00<?, ?it/s]\u001b[A\n",
      "  1%|          | 1/100 [00:03<05:21,  3.25s/it]"
     ]
    },
    {
     "name": "stdout",
     "output_type": "stream",
     "text": [
      "epoch 1 / 100 in 3.2s: loss 0.696025, trval_rocauc 0.589915, val_rocauc 0.479372, lr 0.000050\n"
     ]
    },
    {
     "name": "stderr",
     "output_type": "stream",
     "text": [
      "\u001b[A\n",
      "  2%|▏         | 2/100 [00:06<05:18,  3.25s/it]"
     ]
    },
    {
     "name": "stdout",
     "output_type": "stream",
     "text": [
      "epoch 2 / 100 in 3.3s: loss 0.695458, trval_rocauc 0.628105, val_rocauc 0.502373, lr 0.000050\n"
     ]
    },
    {
     "name": "stderr",
     "output_type": "stream",
     "text": [
      "\u001b[A\n",
      "  3%|▎         | 3/100 [00:09<05:15,  3.25s/it]"
     ]
    },
    {
     "name": "stdout",
     "output_type": "stream",
     "text": [
      "epoch 3 / 100 in 3.3s: loss 0.692970, trval_rocauc 0.708009, val_rocauc 0.513326, lr 0.000050\n"
     ]
    },
    {
     "name": "stderr",
     "output_type": "stream",
     "text": [
      "\u001b[A\n",
      "  4%|▍         | 4/100 [00:13<05:12,  3.26s/it]"
     ]
    },
    {
     "name": "stdout",
     "output_type": "stream",
     "text": [
      "epoch 4 / 100 in 3.3s: loss 0.692393, trval_rocauc 0.755469, val_rocauc 0.529938, lr 0.000050\n"
     ]
    },
    {
     "name": "stderr",
     "output_type": "stream",
     "text": [
      "\u001b[A\n",
      "  5%|▌         | 5/100 [00:16<05:10,  3.27s/it]"
     ]
    },
    {
     "name": "stdout",
     "output_type": "stream",
     "text": [
      "epoch 5 / 100 in 3.3s: loss 0.691639, trval_rocauc 0.788469, val_rocauc 0.545272, lr 0.000050\n"
     ]
    },
    {
     "name": "stderr",
     "output_type": "stream",
     "text": [
      "\u001b[A\n",
      "  6%|▌         | 6/100 [00:19<05:06,  3.26s/it]"
     ]
    },
    {
     "name": "stdout",
     "output_type": "stream",
     "text": [
      "epoch 6 / 100 in 3.3s: loss 0.689720, trval_rocauc 0.810159, val_rocauc 0.550201, lr 0.000050\n"
     ]
    },
    {
     "name": "stderr",
     "output_type": "stream",
     "text": [
      "\u001b[A\n",
      "  7%|▋         | 7/100 [00:22<05:03,  3.26s/it]"
     ]
    },
    {
     "name": "stdout",
     "output_type": "stream",
     "text": [
      "epoch 7 / 100 in 3.3s: loss 0.689564, trval_rocauc 0.852243, val_rocauc 0.560424, lr 0.000050\n"
     ]
    },
    {
     "name": "stderr",
     "output_type": "stream",
     "text": [
      "\u001b[A\n",
      "  8%|▊         | 8/100 [00:26<04:59,  3.26s/it]"
     ]
    },
    {
     "name": "stdout",
     "output_type": "stream",
     "text": [
      "epoch 8 / 100 in 3.3s: loss 0.688914, trval_rocauc 0.859288, val_rocauc 0.572654, lr 0.000050\n"
     ]
    },
    {
     "name": "stderr",
     "output_type": "stream",
     "text": [
      "\u001b[A\n",
      "  9%|▉         | 9/100 [00:29<04:56,  3.26s/it]"
     ]
    },
    {
     "name": "stdout",
     "output_type": "stream",
     "text": [
      "epoch 9 / 100 in 3.3s: loss 0.687257, trval_rocauc 0.872080, val_rocauc 0.568821, lr 0.000050\n"
     ]
    },
    {
     "name": "stderr",
     "output_type": "stream",
     "text": [
      "\u001b[A\n",
      " 10%|█         | 10/100 [00:32<04:53,  3.26s/it]"
     ]
    },
    {
     "name": "stdout",
     "output_type": "stream",
     "text": [
      "epoch 10 / 100 in 3.3s: loss 0.690476, trval_rocauc 0.878940, val_rocauc 0.576488, lr 0.000050\n"
     ]
    },
    {
     "name": "stderr",
     "output_type": "stream",
     "text": [
      "\u001b[A\n",
      " 11%|█         | 11/100 [00:35<04:49,  3.26s/it]"
     ]
    },
    {
     "name": "stdout",
     "output_type": "stream",
     "text": [
      "epoch 11 / 100 in 3.3s: loss 0.688486, trval_rocauc 0.891732, val_rocauc 0.567360, lr 0.000050\n"
     ]
    },
    {
     "name": "stderr",
     "output_type": "stream",
     "text": [
      "\u001b[A\n",
      " 12%|█▏        | 12/100 [00:39<04:46,  3.26s/it]"
     ]
    },
    {
     "name": "stdout",
     "output_type": "stream",
     "text": [
      "epoch 12 / 100 in 3.3s: loss 0.688969, trval_rocauc 0.902113, val_rocauc 0.553122, lr 0.000050\n"
     ]
    },
    {
     "name": "stderr",
     "output_type": "stream",
     "text": [
      "\u001b[A\n",
      " 13%|█▎        | 13/100 [00:42<04:43,  3.26s/it]"
     ]
    },
    {
     "name": "stdout",
     "output_type": "stream",
     "text": [
      "epoch 13 / 100 in 3.3s: loss 0.686689, trval_rocauc 0.912125, val_rocauc 0.552756, lr 0.000050\n"
     ]
    },
    {
     "name": "stderr",
     "output_type": "stream",
     "text": [
      "\u001b[A\n",
      " 14%|█▍        | 14/100 [00:45<04:40,  3.26s/it]"
     ]
    },
    {
     "name": "stdout",
     "output_type": "stream",
     "text": [
      "epoch 14 / 100 in 3.3s: loss 0.686786, trval_rocauc 0.929551, val_rocauc 0.552939, lr 0.000050\n"
     ]
    },
    {
     "name": "stderr",
     "output_type": "stream",
     "text": [
      "\u001b[A\n",
      " 15%|█▌        | 15/100 [00:48<04:37,  3.26s/it]"
     ]
    },
    {
     "name": "stdout",
     "output_type": "stream",
     "text": [
      "epoch 15 / 100 in 3.3s: loss 0.688586, trval_rocauc 0.933815, val_rocauc 0.555495, lr 0.000050\n"
     ]
    },
    {
     "name": "stderr",
     "output_type": "stream",
     "text": [
      "\u001b[A\n",
      " 16%|█▌        | 16/100 [00:52<04:33,  3.26s/it]"
     ]
    },
    {
     "name": "stdout",
     "output_type": "stream",
     "text": [
      "epoch 16 / 100 in 3.3s: loss 0.687267, trval_rocauc 0.942529, val_rocauc 0.554765, lr 0.000050\n"
     ]
    },
    {
     "name": "stderr",
     "output_type": "stream",
     "text": [
      "\u001b[A\n",
      " 17%|█▋        | 17/100 [00:55<04:38,  3.35s/it]"
     ]
    },
    {
     "name": "stdout",
     "output_type": "stream",
     "text": [
      "epoch 17 / 100 in 3.6s: loss 0.688466, trval_rocauc 0.949759, val_rocauc 0.568638, lr 0.000050\n"
     ]
    },
    {
     "name": "stderr",
     "output_type": "stream",
     "text": [
      "\u001b[A\n",
      " 18%|█▊        | 18/100 [00:58<04:32,  3.33s/it]"
     ]
    },
    {
     "name": "stdout",
     "output_type": "stream",
     "text": [
      "epoch 18 / 100 in 3.3s: loss 0.686495, trval_rocauc 0.956062, val_rocauc 0.577218, lr 0.000050\n"
     ]
    },
    {
     "name": "stderr",
     "output_type": "stream",
     "text": [
      "\u001b[A\n",
      " 19%|█▉        | 19/100 [01:02<04:27,  3.30s/it]"
     ]
    },
    {
     "name": "stdout",
     "output_type": "stream",
     "text": [
      "epoch 19 / 100 in 3.2s: loss 0.686528, trval_rocauc 0.953652, val_rocauc 0.559328, lr 0.000050\n"
     ]
    },
    {
     "name": "stderr",
     "output_type": "stream",
     "text": [
      "\u001b[A\n",
      " 20%|██        | 20/100 [01:05<04:23,  3.29s/it]"
     ]
    },
    {
     "name": "stdout",
     "output_type": "stream",
     "text": [
      "epoch 20 / 100 in 3.3s: loss 0.687044, trval_rocauc 0.961439, val_rocauc 0.577218, lr 0.000050\n"
     ]
    },
    {
     "name": "stderr",
     "output_type": "stream",
     "text": [
      "\u001b[A\n",
      " 21%|██        | 21/100 [01:08<04:19,  3.28s/it]"
     ]
    },
    {
     "name": "stdout",
     "output_type": "stream",
     "text": [
      "epoch 21 / 100 in 3.3s: loss 0.687769, trval_rocauc 0.962551, val_rocauc 0.575575, lr 0.000050\n"
     ]
    },
    {
     "name": "stderr",
     "output_type": "stream",
     "text": [
      "\u001b[A\n",
      " 22%|██▏       | 22/100 [01:11<04:15,  3.27s/it]"
     ]
    },
    {
     "name": "stdout",
     "output_type": "stream",
     "text": [
      "epoch 22 / 100 in 3.3s: loss 0.685447, trval_rocauc 0.971079, val_rocauc 0.573384, lr 0.000050\n"
     ]
    },
    {
     "name": "stderr",
     "output_type": "stream",
     "text": [
      "\u001b[A\n",
      " 23%|██▎       | 23/100 [01:15<04:12,  3.28s/it]"
     ]
    },
    {
     "name": "stdout",
     "output_type": "stream",
     "text": [
      "epoch 23 / 100 in 3.3s: loss 0.686887, trval_rocauc 0.973860, val_rocauc 0.574297, lr 0.000050\n"
     ]
    },
    {
     "name": "stderr",
     "output_type": "stream",
     "text": [
      "\u001b[A\n",
      " 24%|██▍       | 24/100 [01:18<04:08,  3.27s/it]"
     ]
    },
    {
     "name": "stdout",
     "output_type": "stream",
     "text": [
      "epoch 24 / 100 in 3.2s: loss 0.686408, trval_rocauc 0.972377, val_rocauc 0.578313, lr 0.000050\n"
     ]
    },
    {
     "name": "stderr",
     "output_type": "stream",
     "text": [
      "\u001b[A\n",
      " 25%|██▌       | 25/100 [01:21<04:04,  3.26s/it]"
     ]
    },
    {
     "name": "stdout",
     "output_type": "stream",
     "text": [
      "epoch 25 / 100 in 3.2s: loss 0.686510, trval_rocauc 0.976641, val_rocauc 0.581599, lr 0.000050\n"
     ]
    },
    {
     "name": "stderr",
     "output_type": "stream",
     "text": [
      "\u001b[A\n",
      " 26%|██▌       | 26/100 [01:25<04:01,  3.26s/it]"
     ]
    },
    {
     "name": "stdout",
     "output_type": "stream",
     "text": [
      "epoch 26 / 100 in 3.3s: loss 0.683011, trval_rocauc 0.978309, val_rocauc 0.584885, lr 0.000050\n"
     ]
    },
    {
     "name": "stderr",
     "output_type": "stream",
     "text": [
      "\u001b[A\n",
      " 27%|██▋       | 27/100 [01:28<03:57,  3.25s/it]"
     ]
    },
    {
     "name": "stdout",
     "output_type": "stream",
     "text": [
      "epoch 27 / 100 in 3.2s: loss 0.686087, trval_rocauc 0.979236, val_rocauc 0.575758, lr 0.000050\n"
     ]
    },
    {
     "name": "stderr",
     "output_type": "stream",
     "text": [
      "\u001b[A\n",
      " 28%|██▊       | 28/100 [01:31<03:54,  3.25s/it]"
     ]
    },
    {
     "name": "stdout",
     "output_type": "stream",
     "text": [
      "epoch 28 / 100 in 3.2s: loss 0.685892, trval_rocauc 0.983315, val_rocauc 0.581599, lr 0.000050\n"
     ]
    },
    {
     "name": "stderr",
     "output_type": "stream",
     "text": [
      "\u001b[A\n",
      " 29%|██▉       | 29/100 [01:34<03:50,  3.25s/it]"
     ]
    },
    {
     "name": "stdout",
     "output_type": "stream",
     "text": [
      "epoch 29 / 100 in 3.3s: loss 0.685557, trval_rocauc 0.985725, val_rocauc 0.602592, lr 0.000050\n"
     ]
    },
    {
     "name": "stderr",
     "output_type": "stream",
     "text": [
      "\u001b[A\n",
      " 30%|███       | 30/100 [01:38<03:47,  3.25s/it]"
     ]
    },
    {
     "name": "stdout",
     "output_type": "stream",
     "text": [
      "epoch 30 / 100 in 3.2s: loss 0.682878, trval_rocauc 0.985169, val_rocauc 0.599671, lr 0.000050\n"
     ]
    },
    {
     "name": "stderr",
     "output_type": "stream",
     "text": [
      "\u001b[A\n",
      " 31%|███       | 31/100 [01:41<03:44,  3.25s/it]"
     ]
    },
    {
     "name": "stdout",
     "output_type": "stream",
     "text": [
      "epoch 31 / 100 in 3.2s: loss 0.688188, trval_rocauc 0.987208, val_rocauc 0.619569, lr 0.000050\n"
     ]
    },
    {
     "name": "stderr",
     "output_type": "stream",
     "text": [
      "\u001b[A\n",
      " 32%|███▏      | 32/100 [01:44<03:41,  3.26s/it]"
     ]
    },
    {
     "name": "stdout",
     "output_type": "stream",
     "text": [
      "epoch 32 / 100 in 3.3s: loss 0.684834, trval_rocauc 0.987950, val_rocauc 0.622490, lr 0.000050\n"
     ]
    },
    {
     "name": "stderr",
     "output_type": "stream",
     "text": [
      "\u001b[A\n",
      " 33%|███▎      | 33/100 [01:47<03:37,  3.25s/it]"
     ]
    },
    {
     "name": "stdout",
     "output_type": "stream",
     "text": [
      "epoch 33 / 100 in 3.2s: loss 0.686140, trval_rocauc 0.987208, val_rocauc 0.617014, lr 0.000050\n"
     ]
    },
    {
     "name": "stderr",
     "output_type": "stream",
     "text": [
      "\u001b[A\n",
      " 34%|███▍      | 34/100 [01:51<03:34,  3.26s/it]"
     ]
    },
    {
     "name": "stdout",
     "output_type": "stream",
     "text": [
      "epoch 34 / 100 in 3.3s: loss 0.683958, trval_rocauc 0.989433, val_rocauc 0.597663, lr 0.000050\n"
     ]
    },
    {
     "name": "stderr",
     "output_type": "stream",
     "text": [
      "\u001b[A\n",
      " 35%|███▌      | 35/100 [01:54<03:31,  3.25s/it]"
     ]
    },
    {
     "name": "stdout",
     "output_type": "stream",
     "text": [
      "epoch 35 / 100 in 3.2s: loss 0.686636, trval_rocauc 0.988506, val_rocauc 0.617744, lr 0.000050\n"
     ]
    },
    {
     "name": "stderr",
     "output_type": "stream",
     "text": [
      "\u001b[A\n",
      " 36%|███▌      | 36/100 [01:57<03:28,  3.25s/it]"
     ]
    },
    {
     "name": "stdout",
     "output_type": "stream",
     "text": [
      "epoch 36 / 100 in 3.2s: loss 0.682767, trval_rocauc 0.989803, val_rocauc 0.630340, lr 0.000050\n"
     ]
    },
    {
     "name": "stderr",
     "output_type": "stream",
     "text": [
      "\u001b[A\n",
      " 37%|███▋      | 37/100 [02:00<03:24,  3.25s/it]"
     ]
    },
    {
     "name": "stdout",
     "output_type": "stream",
     "text": [
      "epoch 37 / 100 in 3.3s: loss 0.681357, trval_rocauc 0.990360, val_rocauc 0.618839, lr 0.000050\n"
     ]
    },
    {
     "name": "stderr",
     "output_type": "stream",
     "text": [
      "\u001b[A\n",
      " 38%|███▊      | 38/100 [02:04<03:21,  3.25s/it]"
     ]
    },
    {
     "name": "stdout",
     "output_type": "stream",
     "text": [
      "epoch 38 / 100 in 3.2s: loss 0.683459, trval_rocauc 0.988691, val_rocauc 0.608799, lr 0.000050\n"
     ]
    },
    {
     "name": "stderr",
     "output_type": "stream",
     "text": [
      "\u001b[A\n",
      " 39%|███▉      | 39/100 [02:07<03:18,  3.25s/it]"
     ]
    },
    {
     "name": "stdout",
     "output_type": "stream",
     "text": [
      "epoch 39 / 100 in 3.2s: loss 0.684711, trval_rocauc 0.988506, val_rocauc 0.607704, lr 0.000050\n"
     ]
    },
    {
     "name": "stderr",
     "output_type": "stream",
     "text": [
      "\u001b[A\n",
      " 40%|████      | 40/100 [02:10<03:15,  3.25s/it]"
     ]
    },
    {
     "name": "stdout",
     "output_type": "stream",
     "text": [
      "epoch 40 / 100 in 3.3s: loss 0.685287, trval_rocauc 0.990545, val_rocauc 0.616466, lr 0.000050\n"
     ]
    },
    {
     "name": "stderr",
     "output_type": "stream",
     "text": [
      "\u001b[A\n",
      " 41%|████      | 41/100 [02:13<03:11,  3.25s/it]"
     ]
    },
    {
     "name": "stdout",
     "output_type": "stream",
     "text": [
      "epoch 41 / 100 in 3.3s: loss 0.681040, trval_rocauc 0.989433, val_rocauc 0.609164, lr 0.000050\n"
     ]
    },
    {
     "name": "stderr",
     "output_type": "stream",
     "text": [
      "\u001b[A\n",
      " 42%|████▏     | 42/100 [02:17<03:09,  3.26s/it]"
     ]
    },
    {
     "name": "stdout",
     "output_type": "stream",
     "text": [
      "epoch 42 / 100 in 3.3s: loss 0.684750, trval_rocauc 0.992584, val_rocauc 0.609894, lr 0.000050\n"
     ]
    },
    {
     "name": "stderr",
     "output_type": "stream",
     "text": [
      "\u001b[A\n",
      " 43%|████▎     | 43/100 [02:20<03:05,  3.25s/it]"
     ]
    },
    {
     "name": "stdout",
     "output_type": "stream",
     "text": [
      "epoch 43 / 100 in 3.2s: loss 0.683420, trval_rocauc 0.991843, val_rocauc 0.600767, lr 0.000050\n"
     ]
    },
    {
     "name": "stderr",
     "output_type": "stream",
     "text": [
      "\u001b[A\n",
      " 44%|████▍     | 44/100 [02:23<03:02,  3.25s/it]"
     ]
    },
    {
     "name": "stdout",
     "output_type": "stream",
     "text": [
      "epoch 44 / 100 in 3.2s: loss 0.681790, trval_rocauc 0.991287, val_rocauc 0.604783, lr 0.000050\n"
     ]
    },
    {
     "name": "stderr",
     "output_type": "stream",
     "text": [
      "\u001b[A\n",
      " 45%|████▌     | 45/100 [02:26<02:58,  3.25s/it]"
     ]
    },
    {
     "name": "stdout",
     "output_type": "stream",
     "text": [
      "epoch 45 / 100 in 3.2s: loss 0.682899, trval_rocauc 0.990360, val_rocauc 0.622125, lr 0.000050\n"
     ]
    },
    {
     "name": "stderr",
     "output_type": "stream",
     "text": [
      "\u001b[A\n",
      " 46%|████▌     | 46/100 [02:30<02:55,  3.25s/it]"
     ]
    },
    {
     "name": "stdout",
     "output_type": "stream",
     "text": [
      "epoch 46 / 100 in 3.2s: loss 0.681923, trval_rocauc 0.992399, val_rocauc 0.606061, lr 0.000050\n"
     ]
    },
    {
     "name": "stderr",
     "output_type": "stream",
     "text": [
      "\u001b[A\n",
      " 47%|████▋     | 47/100 [02:33<02:52,  3.25s/it]"
     ]
    },
    {
     "name": "stdout",
     "output_type": "stream",
     "text": [
      "epoch 47 / 100 in 3.2s: loss 0.682226, trval_rocauc 0.992770, val_rocauc 0.593465, lr 0.000050\n"
     ]
    },
    {
     "name": "stderr",
     "output_type": "stream",
     "text": [
      "\u001b[A\n",
      " 48%|████▊     | 48/100 [02:36<02:48,  3.25s/it]"
     ]
    },
    {
     "name": "stdout",
     "output_type": "stream",
     "text": [
      "epoch 48 / 100 in 3.3s: loss 0.685260, trval_rocauc 0.992584, val_rocauc 0.590179, lr 0.000050\n"
     ]
    },
    {
     "name": "stderr",
     "output_type": "stream",
     "text": [
      "\u001b[A\n",
      " 49%|████▉     | 49/100 [02:39<02:45,  3.25s/it]"
     ]
    },
    {
     "name": "stdout",
     "output_type": "stream",
     "text": [
      "epoch 49 / 100 in 3.2s: loss 0.683001, trval_rocauc 0.994624, val_rocauc 0.588171, lr 0.000050\n"
     ]
    },
    {
     "name": "stderr",
     "output_type": "stream",
     "text": [
      "\u001b[A\n",
      " 50%|█████     | 50/100 [02:43<02:42,  3.25s/it]"
     ]
    },
    {
     "name": "stdout",
     "output_type": "stream",
     "text": [
      "epoch 50 / 100 in 3.2s: loss 0.684119, trval_rocauc 0.994067, val_rocauc 0.618291, lr 0.000050\n"
     ]
    },
    {
     "name": "stderr",
     "output_type": "stream",
     "text": [
      "\u001b[A\n",
      " 51%|█████     | 51/100 [02:46<02:39,  3.26s/it]"
     ]
    },
    {
     "name": "stdout",
     "output_type": "stream",
     "text": [
      "epoch 51 / 100 in 3.3s: loss 0.680166, trval_rocauc 0.994994, val_rocauc 0.620482, lr 0.000050\n"
     ]
    },
    {
     "name": "stderr",
     "output_type": "stream",
     "text": [
      "\u001b[A\n",
      " 52%|█████▏    | 52/100 [02:49<02:36,  3.25s/it]"
     ]
    },
    {
     "name": "stdout",
     "output_type": "stream",
     "text": [
      "epoch 52 / 100 in 3.2s: loss 0.687261, trval_rocauc 0.995365, val_rocauc 0.610807, lr 0.000050\n"
     ]
    },
    {
     "name": "stderr",
     "output_type": "stream",
     "text": [
      "\u001b[A\n",
      " 53%|█████▎    | 53/100 [02:52<02:32,  3.25s/it]"
     ]
    },
    {
     "name": "stdout",
     "output_type": "stream",
     "text": [
      "epoch 53 / 100 in 3.2s: loss 0.682142, trval_rocauc 0.995921, val_rocauc 0.604053, lr 0.000050\n"
     ]
    },
    {
     "name": "stderr",
     "output_type": "stream",
     "text": [
      "\u001b[A\n",
      " 54%|█████▍    | 54/100 [02:56<02:29,  3.25s/it]"
     ]
    },
    {
     "name": "stdout",
     "output_type": "stream",
     "text": [
      "epoch 54 / 100 in 3.2s: loss 0.685439, trval_rocauc 0.995365, val_rocauc 0.583607, lr 0.000050\n"
     ]
    },
    {
     "name": "stderr",
     "output_type": "stream",
     "text": [
      "\u001b[A\n",
      " 55%|█████▌    | 55/100 [02:59<02:26,  3.25s/it]"
     ]
    },
    {
     "name": "stdout",
     "output_type": "stream",
     "text": [
      "epoch 55 / 100 in 3.2s: loss 0.684820, trval_rocauc 0.997590, val_rocauc 0.618656, lr 0.000050\n"
     ]
    },
    {
     "name": "stderr",
     "output_type": "stream",
     "text": [
      "\u001b[A\n",
      " 56%|█████▌    | 56/100 [03:02<02:22,  3.25s/it]"
     ]
    },
    {
     "name": "stdout",
     "output_type": "stream",
     "text": [
      "epoch 56 / 100 in 3.2s: loss 0.682494, trval_rocauc 0.997405, val_rocauc 0.592917, lr 0.000050\n"
     ]
    },
    {
     "name": "stderr",
     "output_type": "stream",
     "text": [
      "\u001b[A\n",
      " 57%|█████▋    | 57/100 [03:05<02:19,  3.25s/it]"
     ]
    },
    {
     "name": "stdout",
     "output_type": "stream",
     "text": [
      "epoch 57 / 100 in 3.2s: loss 0.684344, trval_rocauc 0.997775, val_rocauc 0.603505, lr 0.000050\n"
     ]
    },
    {
     "name": "stderr",
     "output_type": "stream",
     "text": [
      "\u001b[A\n",
      " 58%|█████▊    | 58/100 [03:09<02:16,  3.25s/it]"
     ]
    },
    {
     "name": "stdout",
     "output_type": "stream",
     "text": [
      "epoch 58 / 100 in 3.2s: loss 0.683749, trval_rocauc 0.997961, val_rocauc 0.624315, lr 0.000050\n"
     ]
    },
    {
     "name": "stderr",
     "output_type": "stream",
     "text": [
      "\u001b[A\n",
      " 59%|█████▉    | 59/100 [03:12<02:13,  3.24s/it]"
     ]
    },
    {
     "name": "stdout",
     "output_type": "stream",
     "text": [
      "epoch 59 / 100 in 3.2s: loss 0.682649, trval_rocauc 0.998702, val_rocauc 0.611172, lr 0.000050\n"
     ]
    },
    {
     "name": "stderr",
     "output_type": "stream",
     "text": [
      "\u001b[A\n",
      " 60%|██████    | 60/100 [03:15<02:10,  3.25s/it]"
     ]
    },
    {
     "name": "stdout",
     "output_type": "stream",
     "text": [
      "epoch 60 / 100 in 3.3s: loss 0.680145, trval_rocauc 0.998146, val_rocauc 0.567908, lr 0.000050\n"
     ]
    },
    {
     "name": "stderr",
     "output_type": "stream",
     "text": [
      "\u001b[A\n",
      " 61%|██████    | 61/100 [03:18<02:06,  3.25s/it]"
     ]
    },
    {
     "name": "stdout",
     "output_type": "stream",
     "text": [
      "epoch 61 / 100 in 3.2s: loss 0.681929, trval_rocauc 0.997405, val_rocauc 0.582877, lr 0.000050\n"
     ]
    },
    {
     "name": "stderr",
     "output_type": "stream",
     "text": [
      "\u001b[A\n",
      " 62%|██████▏   | 62/100 [03:22<02:03,  3.25s/it]"
     ]
    },
    {
     "name": "stdout",
     "output_type": "stream",
     "text": [
      "epoch 62 / 100 in 3.2s: loss 0.682706, trval_rocauc 0.997961, val_rocauc 0.573567, lr 0.000050\n"
     ]
    },
    {
     "name": "stderr",
     "output_type": "stream",
     "text": [
      "\u001b[A\n",
      " 63%|██████▎   | 63/100 [03:25<02:00,  3.25s/it]"
     ]
    },
    {
     "name": "stdout",
     "output_type": "stream",
     "text": [
      "epoch 63 / 100 in 3.2s: loss 0.679514, trval_rocauc 0.998888, val_rocauc 0.584520, lr 0.000050\n"
     ]
    },
    {
     "name": "stderr",
     "output_type": "stream",
     "text": [
      "\u001b[A\n",
      " 64%|██████▍   | 64/100 [03:28<01:56,  3.25s/it]"
     ]
    },
    {
     "name": "stdout",
     "output_type": "stream",
     "text": [
      "epoch 64 / 100 in 3.2s: loss 0.683849, trval_rocauc 0.999073, val_rocauc 0.598211, lr 0.000050\n"
     ]
    },
    {
     "name": "stderr",
     "output_type": "stream",
     "text": [
      "\u001b[A\n",
      " 65%|██████▌   | 65/100 [03:31<01:53,  3.25s/it]"
     ]
    },
    {
     "name": "stdout",
     "output_type": "stream",
     "text": [
      "epoch 65 / 100 in 3.2s: loss 0.683685, trval_rocauc 0.999258, val_rocauc 0.594925, lr 0.000050\n"
     ]
    },
    {
     "name": "stderr",
     "output_type": "stream",
     "text": [
      "\u001b[A\n",
      " 66%|██████▌   | 66/100 [03:35<01:50,  3.25s/it]"
     ]
    },
    {
     "name": "stdout",
     "output_type": "stream",
     "text": [
      "epoch 66 / 100 in 3.2s: loss 0.682661, trval_rocauc 0.999258, val_rocauc 0.598576, lr 0.000050\n"
     ]
    },
    {
     "name": "stderr",
     "output_type": "stream",
     "text": [
      "\u001b[A\n",
      " 67%|██████▋   | 67/100 [03:38<01:47,  3.24s/it]"
     ]
    },
    {
     "name": "stdout",
     "output_type": "stream",
     "text": [
      "epoch 67 / 100 in 3.2s: loss 0.682075, trval_rocauc 0.999258, val_rocauc 0.591822, lr 0.000050\n"
     ]
    },
    {
     "name": "stderr",
     "output_type": "stream",
     "text": [
      "\u001b[A\n",
      " 68%|██████▊   | 68/100 [03:41<01:43,  3.24s/it]"
     ]
    },
    {
     "name": "stdout",
     "output_type": "stream",
     "text": [
      "epoch 68 / 100 in 3.2s: loss 0.680335, trval_rocauc 0.999629, val_rocauc 0.592552, lr 0.000050\n"
     ]
    },
    {
     "name": "stderr",
     "output_type": "stream",
     "text": [
      "\u001b[A\n",
      " 69%|██████▉   | 69/100 [03:44<01:40,  3.26s/it]"
     ]
    },
    {
     "name": "stdout",
     "output_type": "stream",
     "text": [
      "epoch 69 / 100 in 3.3s: loss 0.680868, trval_rocauc 0.999629, val_rocauc 0.599854, lr 0.000050\n"
     ]
    },
    {
     "name": "stderr",
     "output_type": "stream",
     "text": [
      "\u001b[A\n",
      " 70%|███████   | 70/100 [03:48<01:37,  3.25s/it]"
     ]
    },
    {
     "name": "stdout",
     "output_type": "stream",
     "text": [
      "epoch 70 / 100 in 3.2s: loss 0.681177, trval_rocauc 0.999629, val_rocauc 0.580686, lr 0.000050\n"
     ]
    },
    {
     "name": "stderr",
     "output_type": "stream",
     "text": [
      "\u001b[A\n",
      " 71%|███████   | 71/100 [03:51<01:34,  3.25s/it]"
     ]
    },
    {
     "name": "stdout",
     "output_type": "stream",
     "text": [
      "epoch 71 / 100 in 3.2s: loss 0.682451, trval_rocauc 0.999444, val_rocauc 0.581234, lr 0.000050\n"
     ]
    },
    {
     "name": "stderr",
     "output_type": "stream",
     "text": [
      "\u001b[A\n",
      " 72%|███████▏  | 72/100 [03:54<01:30,  3.25s/it]"
     ]
    },
    {
     "name": "stdout",
     "output_type": "stream",
     "text": [
      "epoch 72 / 100 in 3.2s: loss 0.681811, trval_rocauc 0.999444, val_rocauc 0.578678, lr 0.000050\n"
     ]
    },
    {
     "name": "stderr",
     "output_type": "stream",
     "text": [
      "\u001b[A\n",
      " 73%|███████▎  | 73/100 [03:57<01:27,  3.24s/it]"
     ]
    },
    {
     "name": "stdout",
     "output_type": "stream",
     "text": [
      "epoch 73 / 100 in 3.2s: loss 0.683395, trval_rocauc 0.999629, val_rocauc 0.585250, lr 0.000050\n"
     ]
    },
    {
     "name": "stderr",
     "output_type": "stream",
     "text": [
      "\u001b[A\n",
      " 74%|███████▍  | 74/100 [04:01<01:24,  3.24s/it]"
     ]
    },
    {
     "name": "stdout",
     "output_type": "stream",
     "text": [
      "epoch 74 / 100 in 3.2s: loss 0.682618, trval_rocauc 0.999629, val_rocauc 0.597663, lr 0.000050\n"
     ]
    },
    {
     "name": "stderr",
     "output_type": "stream",
     "text": [
      "\u001b[A\n",
      " 75%|███████▌  | 75/100 [04:04<01:21,  3.24s/it]"
     ]
    },
    {
     "name": "stdout",
     "output_type": "stream",
     "text": [
      "epoch 75 / 100 in 3.2s: loss 0.682751, trval_rocauc 0.999629, val_rocauc 0.601862, lr 0.000050\n"
     ]
    },
    {
     "name": "stderr",
     "output_type": "stream",
     "text": [
      "\u001b[A\n",
      " 76%|███████▌  | 76/100 [04:07<01:17,  3.24s/it]"
     ]
    },
    {
     "name": "stdout",
     "output_type": "stream",
     "text": [
      "epoch 76 / 100 in 3.2s: loss 0.682623, trval_rocauc 0.999073, val_rocauc 0.607156, lr 0.000050\n"
     ]
    },
    {
     "name": "stderr",
     "output_type": "stream",
     "text": [
      "\u001b[A\n",
      " 77%|███████▋  | 77/100 [04:10<01:14,  3.24s/it]"
     ]
    },
    {
     "name": "stdout",
     "output_type": "stream",
     "text": [
      "epoch 77 / 100 in 3.2s: loss 0.681196, trval_rocauc 0.999444, val_rocauc 0.607156, lr 0.000050\n"
     ]
    },
    {
     "name": "stderr",
     "output_type": "stream",
     "text": [
      "\u001b[A\n",
      " 78%|███████▊  | 78/100 [04:13<01:11,  3.24s/it]"
     ]
    },
    {
     "name": "stdout",
     "output_type": "stream",
     "text": [
      "epoch 78 / 100 in 3.2s: loss 0.684160, trval_rocauc 0.999629, val_rocauc 0.612267, lr 0.000050\n"
     ]
    },
    {
     "name": "stderr",
     "output_type": "stream",
     "text": [
      "\u001b[A\n",
      " 79%|███████▉  | 79/100 [04:17<01:08,  3.25s/it]"
     ]
    },
    {
     "name": "stdout",
     "output_type": "stream",
     "text": [
      "epoch 79 / 100 in 3.3s: loss 0.682575, trval_rocauc 0.999629, val_rocauc 0.606426, lr 0.000050\n"
     ]
    },
    {
     "name": "stderr",
     "output_type": "stream",
     "text": [
      "\u001b[A\n",
      " 80%|████████  | 80/100 [04:20<01:04,  3.25s/it]"
     ]
    },
    {
     "name": "stdout",
     "output_type": "stream",
     "text": [
      "epoch 80 / 100 in 3.2s: loss 0.680818, trval_rocauc 0.999629, val_rocauc 0.605148, lr 0.000050\n"
     ]
    },
    {
     "name": "stderr",
     "output_type": "stream",
     "text": [
      "\u001b[A\n",
      " 81%|████████  | 81/100 [04:23<01:01,  3.24s/it]"
     ]
    },
    {
     "name": "stdout",
     "output_type": "stream",
     "text": [
      "epoch 81 / 100 in 3.2s: loss 0.685230, trval_rocauc 0.999629, val_rocauc 0.618474, lr 0.000050\n"
     ]
    },
    {
     "name": "stderr",
     "output_type": "stream",
     "text": [
      "\u001b[A\n",
      " 82%|████████▏ | 82/100 [04:26<00:58,  3.24s/it]"
     ]
    },
    {
     "name": "stdout",
     "output_type": "stream",
     "text": [
      "epoch 82 / 100 in 3.2s: loss 0.681512, trval_rocauc 0.999629, val_rocauc 0.611537, lr 0.000050\n"
     ]
    },
    {
     "name": "stderr",
     "output_type": "stream",
     "text": [
      "\u001b[A\n",
      " 83%|████████▎ | 83/100 [04:30<00:55,  3.24s/it]"
     ]
    },
    {
     "name": "stdout",
     "output_type": "stream",
     "text": [
      "epoch 83 / 100 in 3.2s: loss 0.680538, trval_rocauc 0.999629, val_rocauc 0.602410, lr 0.000050\n"
     ]
    },
    {
     "name": "stderr",
     "output_type": "stream",
     "text": [
      "\u001b[A\n",
      " 84%|████████▍ | 84/100 [04:33<00:51,  3.24s/it]"
     ]
    },
    {
     "name": "stdout",
     "output_type": "stream",
     "text": [
      "epoch 84 / 100 in 3.2s: loss 0.682902, trval_rocauc 0.999815, val_rocauc 0.623403, lr 0.000050\n"
     ]
    },
    {
     "name": "stderr",
     "output_type": "stream",
     "text": [
      "\u001b[A\n",
      " 85%|████████▌ | 85/100 [04:36<00:48,  3.24s/it]"
     ]
    },
    {
     "name": "stdout",
     "output_type": "stream",
     "text": [
      "epoch 85 / 100 in 3.2s: loss 0.683508, trval_rocauc 0.999815, val_rocauc 0.610807, lr 0.000050\n"
     ]
    },
    {
     "name": "stderr",
     "output_type": "stream",
     "text": [
      "\u001b[A\n",
      " 86%|████████▌ | 86/100 [04:39<00:45,  3.24s/it]"
     ]
    },
    {
     "name": "stdout",
     "output_type": "stream",
     "text": [
      "epoch 86 / 100 in 3.2s: loss 0.683339, trval_rocauc 0.999815, val_rocauc 0.630887, lr 0.000050\n"
     ]
    },
    {
     "name": "stderr",
     "output_type": "stream",
     "text": [
      "\u001b[A\n",
      " 87%|████████▋ | 87/100 [04:43<00:42,  3.24s/it]"
     ]
    },
    {
     "name": "stdout",
     "output_type": "stream",
     "text": [
      "epoch 87 / 100 in 3.3s: loss 0.678759, trval_rocauc 0.999629, val_rocauc 0.632348, lr 0.000050\n"
     ]
    },
    {
     "name": "stderr",
     "output_type": "stream",
     "text": [
      "\u001b[A\n",
      " 88%|████████▊ | 88/100 [04:46<00:38,  3.25s/it]"
     ]
    },
    {
     "name": "stdout",
     "output_type": "stream",
     "text": [
      "epoch 88 / 100 in 3.3s: loss 0.682578, trval_rocauc 1.000000, val_rocauc 0.636181, lr 0.000050\n"
     ]
    },
    {
     "name": "stderr",
     "output_type": "stream",
     "text": [
      "\u001b[A\n",
      " 89%|████████▉ | 89/100 [04:49<00:35,  3.25s/it]"
     ]
    },
    {
     "name": "stdout",
     "output_type": "stream",
     "text": [
      "epoch 89 / 100 in 3.2s: loss 0.681082, trval_rocauc 1.000000, val_rocauc 0.635999, lr 0.000050\n"
     ]
    },
    {
     "name": "stderr",
     "output_type": "stream",
     "text": [
      "\u001b[A\n",
      " 90%|█████████ | 90/100 [04:52<00:32,  3.24s/it]"
     ]
    },
    {
     "name": "stdout",
     "output_type": "stream",
     "text": [
      "epoch 90 / 100 in 3.2s: loss 0.682037, trval_rocauc 0.999815, val_rocauc 0.646769, lr 0.000050\n"
     ]
    },
    {
     "name": "stderr",
     "output_type": "stream",
     "text": [
      "\u001b[A\n",
      " 91%|█████████ | 91/100 [04:56<00:29,  3.24s/it]"
     ]
    },
    {
     "name": "stdout",
     "output_type": "stream",
     "text": [
      "epoch 91 / 100 in 3.2s: loss 0.679945, trval_rocauc 0.999815, val_rocauc 0.625046, lr 0.000050\n"
     ]
    },
    {
     "name": "stderr",
     "output_type": "stream",
     "text": [
      "\u001b[A\n",
      " 92%|█████████▏| 92/100 [04:59<00:25,  3.24s/it]"
     ]
    },
    {
     "name": "stdout",
     "output_type": "stream",
     "text": [
      "epoch 92 / 100 in 3.2s: loss 0.684107, trval_rocauc 0.999815, val_rocauc 0.610077, lr 0.000050\n"
     ]
    },
    {
     "name": "stderr",
     "output_type": "stream",
     "text": [
      "\u001b[A\n",
      " 93%|█████████▎| 93/100 [05:02<00:22,  3.24s/it]"
     ]
    },
    {
     "name": "stdout",
     "output_type": "stream",
     "text": [
      "epoch 93 / 100 in 3.2s: loss 0.683080, trval_rocauc 0.999815, val_rocauc 0.601679, lr 0.000050\n"
     ]
    },
    {
     "name": "stderr",
     "output_type": "stream",
     "text": [
      "\u001b[A\n",
      " 94%|█████████▍| 94/100 [05:05<00:19,  3.25s/it]"
     ]
    },
    {
     "name": "stdout",
     "output_type": "stream",
     "text": [
      "epoch 94 / 100 in 3.3s: loss 0.679204, trval_rocauc 0.999815, val_rocauc 0.598028, lr 0.000050\n"
     ]
    },
    {
     "name": "stderr",
     "output_type": "stream",
     "text": [
      "\u001b[A\n",
      " 95%|█████████▌| 95/100 [05:09<00:16,  3.25s/it]"
     ]
    },
    {
     "name": "stdout",
     "output_type": "stream",
     "text": [
      "epoch 95 / 100 in 3.2s: loss 0.685031, trval_rocauc 1.000000, val_rocauc 0.610442, lr 0.000050\n"
     ]
    },
    {
     "name": "stderr",
     "output_type": "stream",
     "text": [
      "\u001b[A\n",
      " 96%|█████████▌| 96/100 [05:12<00:12,  3.24s/it]"
     ]
    },
    {
     "name": "stdout",
     "output_type": "stream",
     "text": [
      "epoch 96 / 100 in 3.2s: loss 0.682108, trval_rocauc 1.000000, val_rocauc 0.602957, lr 0.000050\n"
     ]
    },
    {
     "name": "stderr",
     "output_type": "stream",
     "text": [
      "\u001b[A\n",
      " 97%|█████████▋| 97/100 [05:15<00:09,  3.25s/it]"
     ]
    },
    {
     "name": "stdout",
     "output_type": "stream",
     "text": [
      "epoch 97 / 100 in 3.3s: loss 0.679325, trval_rocauc 1.000000, val_rocauc 0.603505, lr 0.000050\n"
     ]
    },
    {
     "name": "stderr",
     "output_type": "stream",
     "text": [
      "\u001b[A\n",
      " 98%|█████████▊| 98/100 [05:18<00:06,  3.25s/it]"
     ]
    },
    {
     "name": "stdout",
     "output_type": "stream",
     "text": [
      "epoch 98 / 100 in 3.2s: loss 0.682059, trval_rocauc 1.000000, val_rocauc 0.604418, lr 0.000050\n"
     ]
    },
    {
     "name": "stderr",
     "output_type": "stream",
     "text": [
      "\u001b[A\n",
      " 99%|█████████▉| 99/100 [05:22<00:03,  3.24s/it]"
     ]
    },
    {
     "name": "stdout",
     "output_type": "stream",
     "text": [
      "epoch 99 / 100 in 3.2s: loss 0.682306, trval_rocauc 1.000000, val_rocauc 0.604418, lr 0.000050\n"
     ]
    },
    {
     "name": "stderr",
     "output_type": "stream",
     "text": [
      "\u001b[A\n",
      "100%|██████████| 100/100 [05:25<00:00,  3.24s/it]\u001b[A\n",
      " 92%|█████████▏| 11/12 [1:02:41<05:31, 331.07s/it]"
     ]
    },
    {
     "name": "stdout",
     "output_type": "stream",
     "text": [
      "epoch 100 / 100 in 3.2s: loss 0.682657, trval_rocauc 1.000000, val_rocauc 0.603687, lr 0.000050\n"
     ]
    },
    {
     "name": "stderr",
     "output_type": "stream",
     "text": [
      "\n",
      "  0%|          | 0/100 [00:00<?, ?it/s]\u001b[A\n",
      "  1%|          | 1/100 [00:03<05:22,  3.26s/it]"
     ]
    },
    {
     "name": "stdout",
     "output_type": "stream",
     "text": [
      "epoch 1 / 100 in 3.3s: loss 0.697828, trval_rocauc 0.613346, val_rocauc 0.551087, lr 0.000050\n"
     ]
    },
    {
     "name": "stderr",
     "output_type": "stream",
     "text": [
      "\u001b[A\n",
      "  2%|▏         | 2/100 [00:06<05:19,  3.26s/it]"
     ]
    },
    {
     "name": "stdout",
     "output_type": "stream",
     "text": [
      "epoch 2 / 100 in 3.3s: loss 0.696343, trval_rocauc 0.699420, val_rocauc 0.545833, lr 0.000050\n"
     ]
    },
    {
     "name": "stderr",
     "output_type": "stream",
     "text": [
      "\u001b[A\n",
      "  3%|▎         | 3/100 [00:09<05:15,  3.26s/it]"
     ]
    },
    {
     "name": "stdout",
     "output_type": "stream",
     "text": [
      "epoch 3 / 100 in 3.3s: loss 0.695335, trval_rocauc 0.765957, val_rocauc 0.581522, lr 0.000050\n"
     ]
    },
    {
     "name": "stderr",
     "output_type": "stream",
     "text": [
      "\u001b[A\n",
      "  4%|▍         | 4/100 [00:13<05:12,  3.26s/it]"
     ]
    },
    {
     "name": "stdout",
     "output_type": "stream",
     "text": [
      "epoch 4 / 100 in 3.3s: loss 0.694406, trval_rocauc 0.798066, val_rocauc 0.555435, lr 0.000050\n"
     ]
    },
    {
     "name": "stderr",
     "output_type": "stream",
     "text": [
      "\u001b[A\n",
      "  5%|▌         | 5/100 [00:16<05:09,  3.26s/it]"
     ]
    },
    {
     "name": "stdout",
     "output_type": "stream",
     "text": [
      "epoch 5 / 100 in 3.2s: loss 0.690379, trval_rocauc 0.809091, val_rocauc 0.588949, lr 0.000050\n"
     ]
    },
    {
     "name": "stderr",
     "output_type": "stream",
     "text": [
      "\u001b[A\n",
      "  6%|▌         | 6/100 [00:19<05:07,  3.27s/it]"
     ]
    },
    {
     "name": "stdout",
     "output_type": "stream",
     "text": [
      "epoch 6 / 100 in 3.3s: loss 0.691259, trval_rocauc 0.833269, val_rocauc 0.596196, lr 0.000050\n"
     ]
    },
    {
     "name": "stderr",
     "output_type": "stream",
     "text": [
      "\u001b[A\n",
      "  7%|▋         | 7/100 [00:22<05:03,  3.26s/it]"
     ]
    },
    {
     "name": "stdout",
     "output_type": "stream",
     "text": [
      "epoch 7 / 100 in 3.3s: loss 0.689099, trval_rocauc 0.856286, val_rocauc 0.599094, lr 0.000050\n"
     ]
    },
    {
     "name": "stderr",
     "output_type": "stream",
     "text": [
      "\u001b[A\n",
      "  8%|▊         | 8/100 [00:26<04:59,  3.26s/it]"
     ]
    },
    {
     "name": "stdout",
     "output_type": "stream",
     "text": [
      "epoch 8 / 100 in 3.3s: loss 0.689192, trval_rocauc 0.870793, val_rocauc 0.598732, lr 0.000050\n"
     ]
    },
    {
     "name": "stderr",
     "output_type": "stream",
     "text": [
      "\u001b[A\n",
      "  9%|▉         | 9/100 [00:29<04:56,  3.26s/it]"
     ]
    },
    {
     "name": "stdout",
     "output_type": "stream",
     "text": [
      "epoch 9 / 100 in 3.3s: loss 0.689001, trval_rocauc 0.881044, val_rocauc 0.602717, lr 0.000050\n"
     ]
    },
    {
     "name": "stderr",
     "output_type": "stream",
     "text": [
      "\u001b[A\n",
      " 10%|█         | 10/100 [00:32<04:52,  3.26s/it]"
     ]
    },
    {
     "name": "stdout",
     "output_type": "stream",
     "text": [
      "epoch 10 / 100 in 3.3s: loss 0.687670, trval_rocauc 0.895358, val_rocauc 0.613406, lr 0.000050\n"
     ]
    },
    {
     "name": "stderr",
     "output_type": "stream",
     "text": [
      "\u001b[A\n",
      " 11%|█         | 11/100 [00:35<04:49,  3.25s/it]"
     ]
    },
    {
     "name": "stdout",
     "output_type": "stream",
     "text": [
      "epoch 11 / 100 in 3.2s: loss 0.689441, trval_rocauc 0.903868, val_rocauc 0.590399, lr 0.000050\n"
     ]
    },
    {
     "name": "stderr",
     "output_type": "stream",
     "text": [
      "\u001b[A\n",
      " 12%|█▏        | 12/100 [00:39<04:46,  3.26s/it]"
     ]
    },
    {
     "name": "stdout",
     "output_type": "stream",
     "text": [
      "epoch 12 / 100 in 3.3s: loss 0.689639, trval_rocauc 0.914313, val_rocauc 0.592754, lr 0.000050\n"
     ]
    },
    {
     "name": "stderr",
     "output_type": "stream",
     "text": [
      "\u001b[A\n",
      " 13%|█▎        | 13/100 [00:42<04:43,  3.25s/it]"
     ]
    },
    {
     "name": "stdout",
     "output_type": "stream",
     "text": [
      "epoch 13 / 100 in 3.3s: loss 0.687095, trval_rocauc 0.929594, val_rocauc 0.605797, lr 0.000050\n"
     ]
    },
    {
     "name": "stderr",
     "output_type": "stream",
     "text": [
      "\u001b[A\n",
      " 14%|█▍        | 14/100 [00:45<04:40,  3.26s/it]"
     ]
    },
    {
     "name": "stdout",
     "output_type": "stream",
     "text": [
      "epoch 14 / 100 in 3.3s: loss 0.686724, trval_rocauc 0.931141, val_rocauc 0.589493, lr 0.000050\n"
     ]
    },
    {
     "name": "stderr",
     "output_type": "stream",
     "text": [
      "\u001b[A\n",
      " 15%|█▌        | 15/100 [00:49<04:46,  3.37s/it]"
     ]
    },
    {
     "name": "stdout",
     "output_type": "stream",
     "text": [
      "epoch 15 / 100 in 3.6s: loss 0.687165, trval_rocauc 0.936170, val_rocauc 0.620652, lr 0.000050\n"
     ]
    },
    {
     "name": "stderr",
     "output_type": "stream",
     "text": [
      "\u001b[A\n",
      " 16%|█▌        | 16/100 [00:52<04:39,  3.33s/it]"
     ]
    },
    {
     "name": "stdout",
     "output_type": "stream",
     "text": [
      "epoch 16 / 100 in 3.2s: loss 0.688075, trval_rocauc 0.946228, val_rocauc 0.600362, lr 0.000050\n"
     ]
    },
    {
     "name": "stderr",
     "output_type": "stream",
     "text": [
      "\u001b[A\n",
      " 17%|█▋        | 17/100 [00:55<04:34,  3.31s/it]"
     ]
    },
    {
     "name": "stdout",
     "output_type": "stream",
     "text": [
      "epoch 17 / 100 in 3.2s: loss 0.686686, trval_rocauc 0.949130, val_rocauc 0.643841, lr 0.000050\n"
     ]
    },
    {
     "name": "stderr",
     "output_type": "stream",
     "text": [
      "\u001b[A\n",
      " 18%|█▊        | 18/100 [00:58<04:30,  3.29s/it]"
     ]
    },
    {
     "name": "stdout",
     "output_type": "stream",
     "text": [
      "epoch 18 / 100 in 3.3s: loss 0.686214, trval_rocauc 0.953772, val_rocauc 0.632609, lr 0.000050\n"
     ]
    },
    {
     "name": "stderr",
     "output_type": "stream",
     "text": [
      "\u001b[A\n",
      " 19%|█▉        | 19/100 [01:02<04:25,  3.28s/it]"
     ]
    },
    {
     "name": "stdout",
     "output_type": "stream",
     "text": [
      "epoch 19 / 100 in 3.2s: loss 0.686674, trval_rocauc 0.959961, val_rocauc 0.627899, lr 0.000050\n"
     ]
    },
    {
     "name": "stderr",
     "output_type": "stream",
     "text": [
      "\u001b[A\n",
      " 20%|██        | 20/100 [01:05<04:21,  3.27s/it]"
     ]
    },
    {
     "name": "stdout",
     "output_type": "stream",
     "text": [
      "epoch 20 / 100 in 3.2s: loss 0.687903, trval_rocauc 0.965957, val_rocauc 0.616123, lr 0.000050\n"
     ]
    },
    {
     "name": "stderr",
     "output_type": "stream",
     "text": [
      "\u001b[A\n",
      " 21%|██        | 21/100 [01:08<04:17,  3.26s/it]"
     ]
    },
    {
     "name": "stdout",
     "output_type": "stream",
     "text": [
      "epoch 21 / 100 in 3.2s: loss 0.686917, trval_rocauc 0.967118, val_rocauc 0.614674, lr 0.000050\n"
     ]
    },
    {
     "name": "stderr",
     "output_type": "stream",
     "text": [
      "\u001b[A\n",
      " 22%|██▏       | 22/100 [01:11<04:14,  3.26s/it]"
     ]
    },
    {
     "name": "stdout",
     "output_type": "stream",
     "text": [
      "epoch 22 / 100 in 3.2s: loss 0.687485, trval_rocauc 0.964603, val_rocauc 0.638768, lr 0.000050\n"
     ]
    },
    {
     "name": "stderr",
     "output_type": "stream",
     "text": [
      "\u001b[A\n",
      " 23%|██▎       | 23/100 [01:15<04:10,  3.25s/it]"
     ]
    },
    {
     "name": "stdout",
     "output_type": "stream",
     "text": [
      "epoch 23 / 100 in 3.2s: loss 0.686155, trval_rocauc 0.960348, val_rocauc 0.645471, lr 0.000050\n"
     ]
    },
    {
     "name": "stderr",
     "output_type": "stream",
     "text": [
      "\u001b[A\n",
      " 24%|██▍       | 24/100 [01:18<04:07,  3.26s/it]"
     ]
    },
    {
     "name": "stdout",
     "output_type": "stream",
     "text": [
      "epoch 24 / 100 in 3.3s: loss 0.686095, trval_rocauc 0.964410, val_rocauc 0.654891, lr 0.000050\n"
     ]
    },
    {
     "name": "stderr",
     "output_type": "stream",
     "text": [
      "\u001b[A\n",
      " 25%|██▌       | 25/100 [01:21<04:04,  3.26s/it]"
     ]
    },
    {
     "name": "stdout",
     "output_type": "stream",
     "text": [
      "epoch 25 / 100 in 3.3s: loss 0.685562, trval_rocauc 0.963636, val_rocauc 0.642754, lr 0.000050\n"
     ]
    },
    {
     "name": "stderr",
     "output_type": "stream",
     "text": [
      "\u001b[A\n",
      " 26%|██▌       | 26/100 [01:24<04:00,  3.26s/it]"
     ]
    },
    {
     "name": "stdout",
     "output_type": "stream",
     "text": [
      "epoch 26 / 100 in 3.2s: loss 0.686513, trval_rocauc 0.969052, val_rocauc 0.667210, lr 0.000050\n"
     ]
    },
    {
     "name": "stderr",
     "output_type": "stream",
     "text": [
      "\u001b[A\n",
      " 27%|██▋       | 27/100 [01:28<03:57,  3.26s/it]"
     ]
    },
    {
     "name": "stdout",
     "output_type": "stream",
     "text": [
      "epoch 27 / 100 in 3.3s: loss 0.683793, trval_rocauc 0.970406, val_rocauc 0.681522, lr 0.000050\n"
     ]
    },
    {
     "name": "stderr",
     "output_type": "stream",
     "text": [
      "\u001b[A\n",
      " 28%|██▊       | 28/100 [01:31<03:54,  3.25s/it]"
     ]
    },
    {
     "name": "stdout",
     "output_type": "stream",
     "text": [
      "epoch 28 / 100 in 3.2s: loss 0.685192, trval_rocauc 0.975242, val_rocauc 0.680616, lr 0.000050\n"
     ]
    },
    {
     "name": "stderr",
     "output_type": "stream",
     "text": [
      "\u001b[A\n",
      " 29%|██▉       | 29/100 [01:34<03:50,  3.25s/it]"
     ]
    },
    {
     "name": "stdout",
     "output_type": "stream",
     "text": [
      "epoch 29 / 100 in 3.2s: loss 0.682825, trval_rocauc 0.975435, val_rocauc 0.679891, lr 0.000050\n"
     ]
    },
    {
     "name": "stderr",
     "output_type": "stream",
     "text": [
      "\u001b[A\n",
      " 30%|███       | 30/100 [01:37<03:47,  3.25s/it]"
     ]
    },
    {
     "name": "stdout",
     "output_type": "stream",
     "text": [
      "epoch 30 / 100 in 3.2s: loss 0.680682, trval_rocauc 0.976983, val_rocauc 0.677174, lr 0.000050\n"
     ]
    },
    {
     "name": "stderr",
     "output_type": "stream",
     "text": [
      "\u001b[A\n",
      " 31%|███       | 31/100 [01:41<03:44,  3.25s/it]"
     ]
    },
    {
     "name": "stdout",
     "output_type": "stream",
     "text": [
      "epoch 31 / 100 in 3.2s: loss 0.683905, trval_rocauc 0.981044, val_rocauc 0.672101, lr 0.000050\n"
     ]
    },
    {
     "name": "stderr",
     "output_type": "stream",
     "text": [
      "\u001b[A\n",
      " 32%|███▏      | 32/100 [01:44<03:40,  3.25s/it]"
     ]
    },
    {
     "name": "stdout",
     "output_type": "stream",
     "text": [
      "epoch 32 / 100 in 3.2s: loss 0.686057, trval_rocauc 0.980851, val_rocauc 0.671377, lr 0.000050\n"
     ]
    },
    {
     "name": "stderr",
     "output_type": "stream",
     "text": [
      "\u001b[A\n",
      " 33%|███▎      | 33/100 [01:47<03:38,  3.26s/it]"
     ]
    },
    {
     "name": "stdout",
     "output_type": "stream",
     "text": [
      "epoch 33 / 100 in 3.3s: loss 0.684616, trval_rocauc 0.984526, val_rocauc 0.657428, lr 0.000050\n"
     ]
    },
    {
     "name": "stderr",
     "output_type": "stream",
     "text": [
      "\u001b[A\n",
      " 34%|███▍      | 34/100 [01:51<03:35,  3.26s/it]"
     ]
    },
    {
     "name": "stdout",
     "output_type": "stream",
     "text": [
      "epoch 34 / 100 in 3.3s: loss 0.684785, trval_rocauc 0.984526, val_rocauc 0.631522, lr 0.000050\n"
     ]
    },
    {
     "name": "stderr",
     "output_type": "stream",
     "text": [
      "\u001b[A\n",
      " 35%|███▌      | 35/100 [01:54<03:31,  3.25s/it]"
     ]
    },
    {
     "name": "stdout",
     "output_type": "stream",
     "text": [
      "epoch 35 / 100 in 3.2s: loss 0.685961, trval_rocauc 0.987621, val_rocauc 0.664493, lr 0.000050\n"
     ]
    },
    {
     "name": "stderr",
     "output_type": "stream",
     "text": [
      "\u001b[A\n",
      " 36%|███▌      | 36/100 [01:57<03:28,  3.25s/it]"
     ]
    },
    {
     "name": "stdout",
     "output_type": "stream",
     "text": [
      "epoch 36 / 100 in 3.2s: loss 0.686017, trval_rocauc 0.988395, val_rocauc 0.664493, lr 0.000050\n"
     ]
    },
    {
     "name": "stderr",
     "output_type": "stream",
     "text": [
      "\u001b[A\n",
      " 37%|███▋      | 37/100 [02:00<03:25,  3.26s/it]"
     ]
    },
    {
     "name": "stdout",
     "output_type": "stream",
     "text": [
      "epoch 37 / 100 in 3.3s: loss 0.684612, trval_rocauc 0.989749, val_rocauc 0.666123, lr 0.000050\n"
     ]
    },
    {
     "name": "stderr",
     "output_type": "stream",
     "text": [
      "\u001b[A\n",
      " 38%|███▊      | 38/100 [02:04<03:21,  3.25s/it]"
     ]
    },
    {
     "name": "stdout",
     "output_type": "stream",
     "text": [
      "epoch 38 / 100 in 3.2s: loss 0.686158, trval_rocauc 0.990909, val_rocauc 0.624819, lr 0.000050\n"
     ]
    },
    {
     "name": "stderr",
     "output_type": "stream",
     "text": [
      "\u001b[A\n",
      " 39%|███▉      | 39/100 [02:07<03:18,  3.26s/it]"
     ]
    },
    {
     "name": "stdout",
     "output_type": "stream",
     "text": [
      "epoch 39 / 100 in 3.3s: loss 0.682451, trval_rocauc 0.991876, val_rocauc 0.643478, lr 0.000050\n"
     ]
    },
    {
     "name": "stderr",
     "output_type": "stream",
     "text": [
      "\u001b[A\n",
      " 40%|████      | 40/100 [02:10<03:15,  3.25s/it]"
     ]
    },
    {
     "name": "stdout",
     "output_type": "stream",
     "text": [
      "epoch 40 / 100 in 3.2s: loss 0.684269, trval_rocauc 0.991103, val_rocauc 0.653623, lr 0.000050\n"
     ]
    },
    {
     "name": "stderr",
     "output_type": "stream",
     "text": [
      "\u001b[A\n",
      " 41%|████      | 41/100 [02:13<03:11,  3.25s/it]"
     ]
    },
    {
     "name": "stdout",
     "output_type": "stream",
     "text": [
      "epoch 41 / 100 in 3.2s: loss 0.685101, trval_rocauc 0.995745, val_rocauc 0.625725, lr 0.000050\n"
     ]
    },
    {
     "name": "stderr",
     "output_type": "stream",
     "text": [
      "\u001b[A\n",
      " 42%|████▏     | 42/100 [02:17<03:08,  3.26s/it]"
     ]
    },
    {
     "name": "stdout",
     "output_type": "stream",
     "text": [
      "epoch 42 / 100 in 3.3s: loss 0.681518, trval_rocauc 0.994778, val_rocauc 0.629710, lr 0.000050\n"
     ]
    },
    {
     "name": "stderr",
     "output_type": "stream",
     "text": [
      "\u001b[A\n",
      " 43%|████▎     | 43/100 [02:20<03:05,  3.25s/it]"
     ]
    },
    {
     "name": "stdout",
     "output_type": "stream",
     "text": [
      "epoch 43 / 100 in 3.2s: loss 0.686375, trval_rocauc 0.994197, val_rocauc 0.641123, lr 0.000050\n"
     ]
    },
    {
     "name": "stderr",
     "output_type": "stream",
     "text": [
      "\u001b[A\n",
      " 44%|████▍     | 44/100 [02:23<03:01,  3.25s/it]"
     ]
    },
    {
     "name": "stdout",
     "output_type": "stream",
     "text": [
      "epoch 44 / 100 in 3.2s: loss 0.681927, trval_rocauc 0.992070, val_rocauc 0.643659, lr 0.000050\n"
     ]
    },
    {
     "name": "stderr",
     "output_type": "stream",
     "text": [
      "\u001b[A\n",
      " 45%|████▌     | 45/100 [02:26<02:58,  3.25s/it]"
     ]
    },
    {
     "name": "stdout",
     "output_type": "stream",
     "text": [
      "epoch 45 / 100 in 3.2s: loss 0.683113, trval_rocauc 0.993617, val_rocauc 0.664674, lr 0.000050\n"
     ]
    },
    {
     "name": "stderr",
     "output_type": "stream",
     "text": [
      "\u001b[A\n",
      " 46%|████▌     | 46/100 [02:30<02:55,  3.24s/it]"
     ]
    },
    {
     "name": "stdout",
     "output_type": "stream",
     "text": [
      "epoch 46 / 100 in 3.2s: loss 0.684153, trval_rocauc 0.993810, val_rocauc 0.646014, lr 0.000050\n"
     ]
    },
    {
     "name": "stderr",
     "output_type": "stream",
     "text": [
      "\u001b[A\n",
      " 47%|████▋     | 47/100 [02:33<02:51,  3.24s/it]"
     ]
    },
    {
     "name": "stdout",
     "output_type": "stream",
     "text": [
      "epoch 47 / 100 in 3.2s: loss 0.687180, trval_rocauc 0.996518, val_rocauc 0.629167, lr 0.000050\n"
     ]
    },
    {
     "name": "stderr",
     "output_type": "stream",
     "text": [
      "\u001b[A\n",
      " 48%|████▊     | 48/100 [02:36<02:48,  3.24s/it]"
     ]
    },
    {
     "name": "stdout",
     "output_type": "stream",
     "text": [
      "epoch 48 / 100 in 3.2s: loss 0.685633, trval_rocauc 0.996905, val_rocauc 0.634964, lr 0.000050\n"
     ]
    },
    {
     "name": "stderr",
     "output_type": "stream",
     "text": [
      "\u001b[A\n",
      " 49%|████▉     | 49/100 [02:39<02:45,  3.24s/it]"
     ]
    },
    {
     "name": "stdout",
     "output_type": "stream",
     "text": [
      "epoch 49 / 100 in 3.2s: loss 0.682219, trval_rocauc 0.996905, val_rocauc 0.661957, lr 0.000050\n"
     ]
    },
    {
     "name": "stderr",
     "output_type": "stream",
     "text": [
      "\u001b[A\n",
      " 50%|█████     | 50/100 [02:42<02:42,  3.24s/it]"
     ]
    },
    {
     "name": "stdout",
     "output_type": "stream",
     "text": [
      "epoch 50 / 100 in 3.2s: loss 0.683778, trval_rocauc 0.996905, val_rocauc 0.669928, lr 0.000050\n"
     ]
    },
    {
     "name": "stderr",
     "output_type": "stream",
     "text": [
      "\u001b[A\n",
      " 51%|█████     | 51/100 [02:46<02:38,  3.24s/it]"
     ]
    },
    {
     "name": "stdout",
     "output_type": "stream",
     "text": [
      "epoch 51 / 100 in 3.2s: loss 0.684100, trval_rocauc 0.996712, val_rocauc 0.667391, lr 0.000050\n"
     ]
    },
    {
     "name": "stderr",
     "output_type": "stream",
     "text": [
      "\u001b[A\n",
      " 52%|█████▏    | 52/100 [02:49<02:36,  3.25s/it]"
     ]
    },
    {
     "name": "stdout",
     "output_type": "stream",
     "text": [
      "epoch 52 / 100 in 3.3s: loss 0.684121, trval_rocauc 0.998453, val_rocauc 0.668116, lr 0.000050\n"
     ]
    },
    {
     "name": "stderr",
     "output_type": "stream",
     "text": [
      "\u001b[A\n",
      " 53%|█████▎    | 53/100 [02:52<02:32,  3.25s/it]"
     ]
    },
    {
     "name": "stdout",
     "output_type": "stream",
     "text": [
      "epoch 53 / 100 in 3.2s: loss 0.685846, trval_rocauc 0.997485, val_rocauc 0.672101, lr 0.000050\n"
     ]
    },
    {
     "name": "stderr",
     "output_type": "stream",
     "text": [
      "\u001b[A\n",
      " 54%|█████▍    | 54/100 [02:55<02:29,  3.25s/it]"
     ]
    },
    {
     "name": "stdout",
     "output_type": "stream",
     "text": [
      "epoch 54 / 100 in 3.2s: loss 0.684468, trval_rocauc 0.998066, val_rocauc 0.667935, lr 0.000050\n"
     ]
    },
    {
     "name": "stderr",
     "output_type": "stream",
     "text": [
      "\u001b[A\n",
      " 55%|█████▌    | 55/100 [02:59<02:26,  3.25s/it]"
     ]
    },
    {
     "name": "stdout",
     "output_type": "stream",
     "text": [
      "epoch 55 / 100 in 3.2s: loss 0.680697, trval_rocauc 0.997292, val_rocauc 0.648913, lr 0.000050\n"
     ]
    },
    {
     "name": "stderr",
     "output_type": "stream",
     "text": [
      "\u001b[A\n",
      " 56%|█████▌    | 56/100 [03:02<02:22,  3.24s/it]"
     ]
    },
    {
     "name": "stdout",
     "output_type": "stream",
     "text": [
      "epoch 56 / 100 in 3.2s: loss 0.682046, trval_rocauc 0.998453, val_rocauc 0.640217, lr 0.000050\n"
     ]
    },
    {
     "name": "stderr",
     "output_type": "stream",
     "text": [
      "\u001b[A\n",
      " 57%|█████▋    | 57/100 [03:05<02:19,  3.25s/it]"
     ]
    },
    {
     "name": "stdout",
     "output_type": "stream",
     "text": [
      "epoch 57 / 100 in 3.2s: loss 0.682300, trval_rocauc 0.997292, val_rocauc 0.657428, lr 0.000050\n"
     ]
    },
    {
     "name": "stderr",
     "output_type": "stream",
     "text": [
      "\u001b[A\n",
      " 58%|█████▊    | 58/100 [03:08<02:16,  3.25s/it]"
     ]
    },
    {
     "name": "stdout",
     "output_type": "stream",
     "text": [
      "epoch 58 / 100 in 3.2s: loss 0.682330, trval_rocauc 0.998066, val_rocauc 0.645471, lr 0.000050\n"
     ]
    },
    {
     "name": "stderr",
     "output_type": "stream",
     "text": [
      "\u001b[A\n",
      " 59%|█████▉    | 59/100 [03:12<02:13,  3.24s/it]"
     ]
    },
    {
     "name": "stdout",
     "output_type": "stream",
     "text": [
      "epoch 59 / 100 in 3.2s: loss 0.683091, trval_rocauc 0.998066, val_rocauc 0.634964, lr 0.000050\n"
     ]
    },
    {
     "name": "stderr",
     "output_type": "stream",
     "text": [
      "\u001b[A\n",
      " 60%|██████    | 60/100 [03:15<02:09,  3.24s/it]"
     ]
    },
    {
     "name": "stdout",
     "output_type": "stream",
     "text": [
      "epoch 60 / 100 in 3.2s: loss 0.685840, trval_rocauc 0.997872, val_rocauc 0.659239, lr 0.000050\n"
     ]
    },
    {
     "name": "stderr",
     "output_type": "stream",
     "text": [
      "\u001b[A\n",
      " 61%|██████    | 61/100 [03:18<02:06,  3.25s/it]"
     ]
    },
    {
     "name": "stdout",
     "output_type": "stream",
     "text": [
      "epoch 61 / 100 in 3.3s: loss 0.683053, trval_rocauc 0.998646, val_rocauc 0.642572, lr 0.000050\n"
     ]
    },
    {
     "name": "stderr",
     "output_type": "stream",
     "text": [
      "\u001b[A\n",
      " 62%|██████▏   | 62/100 [03:21<02:03,  3.25s/it]"
     ]
    },
    {
     "name": "stdout",
     "output_type": "stream",
     "text": [
      "epoch 62 / 100 in 3.2s: loss 0.682856, trval_rocauc 0.999226, val_rocauc 0.648370, lr 0.000050\n"
     ]
    },
    {
     "name": "stderr",
     "output_type": "stream",
     "text": [
      "\u001b[A\n",
      " 63%|██████▎   | 63/100 [03:25<02:00,  3.25s/it]"
     ]
    },
    {
     "name": "stdout",
     "output_type": "stream",
     "text": [
      "epoch 63 / 100 in 3.2s: loss 0.682594, trval_rocauc 0.999807, val_rocauc 0.646558, lr 0.000050\n"
     ]
    },
    {
     "name": "stderr",
     "output_type": "stream",
     "text": [
      "\u001b[A\n",
      " 64%|██████▍   | 64/100 [03:28<01:56,  3.24s/it]"
     ]
    },
    {
     "name": "stdout",
     "output_type": "stream",
     "text": [
      "epoch 64 / 100 in 3.2s: loss 0.680557, trval_rocauc 0.999807, val_rocauc 0.648551, lr 0.000050\n"
     ]
    },
    {
     "name": "stderr",
     "output_type": "stream",
     "text": [
      "\u001b[A\n",
      " 65%|██████▌   | 65/100 [03:31<01:53,  3.25s/it]"
     ]
    },
    {
     "name": "stdout",
     "output_type": "stream",
     "text": [
      "epoch 65 / 100 in 3.2s: loss 0.681631, trval_rocauc 0.999807, val_rocauc 0.625906, lr 0.000050\n"
     ]
    },
    {
     "name": "stderr",
     "output_type": "stream",
     "text": [
      "\u001b[A\n",
      " 66%|██████▌   | 66/100 [03:34<01:50,  3.24s/it]"
     ]
    },
    {
     "name": "stdout",
     "output_type": "stream",
     "text": [
      "epoch 66 / 100 in 3.2s: loss 0.680022, trval_rocauc 0.999033, val_rocauc 0.644746, lr 0.000050\n"
     ]
    },
    {
     "name": "stderr",
     "output_type": "stream",
     "text": [
      "\u001b[A\n",
      " 67%|██████▋   | 67/100 [03:38<01:47,  3.24s/it]"
     ]
    },
    {
     "name": "stdout",
     "output_type": "stream",
     "text": [
      "epoch 67 / 100 in 3.2s: loss 0.681454, trval_rocauc 0.999807, val_rocauc 0.631884, lr 0.000050\n"
     ]
    },
    {
     "name": "stderr",
     "output_type": "stream",
     "text": [
      "\u001b[A\n",
      " 68%|██████▊   | 68/100 [03:41<01:43,  3.24s/it]"
     ]
    },
    {
     "name": "stdout",
     "output_type": "stream",
     "text": [
      "epoch 68 / 100 in 3.2s: loss 0.679022, trval_rocauc 0.999613, val_rocauc 0.640580, lr 0.000050\n"
     ]
    },
    {
     "name": "stderr",
     "output_type": "stream",
     "text": [
      "\u001b[A\n",
      " 69%|██████▉   | 69/100 [03:44<01:40,  3.24s/it]"
     ]
    },
    {
     "name": "stdout",
     "output_type": "stream",
     "text": [
      "epoch 69 / 100 in 3.2s: loss 0.682242, trval_rocauc 1.000000, val_rocauc 0.651268, lr 0.000050\n"
     ]
    },
    {
     "name": "stderr",
     "output_type": "stream",
     "text": [
      "\u001b[A\n",
      " 70%|███████   | 70/100 [03:47<01:37,  3.25s/it]"
     ]
    },
    {
     "name": "stdout",
     "output_type": "stream",
     "text": [
      "epoch 70 / 100 in 3.3s: loss 0.684776, trval_rocauc 1.000000, val_rocauc 0.644384, lr 0.000050\n"
     ]
    },
    {
     "name": "stderr",
     "output_type": "stream",
     "text": [
      "\u001b[A\n",
      " 71%|███████   | 71/100 [03:51<01:34,  3.24s/it]"
     ]
    },
    {
     "name": "stdout",
     "output_type": "stream",
     "text": [
      "epoch 71 / 100 in 3.2s: loss 0.683921, trval_rocauc 1.000000, val_rocauc 0.641848, lr 0.000050\n"
     ]
    },
    {
     "name": "stderr",
     "output_type": "stream",
     "text": [
      "\u001b[A\n",
      " 72%|███████▏  | 72/100 [03:54<01:30,  3.24s/it]"
     ]
    },
    {
     "name": "stdout",
     "output_type": "stream",
     "text": [
      "epoch 72 / 100 in 3.2s: loss 0.681220, trval_rocauc 1.000000, val_rocauc 0.636413, lr 0.000050\n"
     ]
    },
    {
     "name": "stderr",
     "output_type": "stream",
     "text": [
      "\u001b[A\n",
      " 73%|███████▎  | 73/100 [03:57<01:27,  3.24s/it]"
     ]
    },
    {
     "name": "stdout",
     "output_type": "stream",
     "text": [
      "epoch 73 / 100 in 3.2s: loss 0.678324, trval_rocauc 1.000000, val_rocauc 0.650906, lr 0.000050\n"
     ]
    },
    {
     "name": "stderr",
     "output_type": "stream",
     "text": [
      "\u001b[A\n",
      " 74%|███████▍  | 74/100 [04:00<01:24,  3.24s/it]"
     ]
    },
    {
     "name": "stdout",
     "output_type": "stream",
     "text": [
      "epoch 74 / 100 in 3.2s: loss 0.682892, trval_rocauc 1.000000, val_rocauc 0.617029, lr 0.000050\n"
     ]
    },
    {
     "name": "stderr",
     "output_type": "stream",
     "text": [
      "\u001b[A\n",
      " 75%|███████▌  | 75/100 [04:04<01:21,  3.24s/it]"
     ]
    },
    {
     "name": "stdout",
     "output_type": "stream",
     "text": [
      "epoch 75 / 100 in 3.2s: loss 0.683653, trval_rocauc 1.000000, val_rocauc 0.634420, lr 0.000050\n"
     ]
    },
    {
     "name": "stderr",
     "output_type": "stream",
     "text": [
      "\u001b[A\n",
      " 76%|███████▌  | 76/100 [04:07<01:17,  3.25s/it]"
     ]
    },
    {
     "name": "stdout",
     "output_type": "stream",
     "text": [
      "epoch 76 / 100 in 3.3s: loss 0.680663, trval_rocauc 1.000000, val_rocauc 0.633514, lr 0.000050\n"
     ]
    },
    {
     "name": "stderr",
     "output_type": "stream",
     "text": [
      "\u001b[A\n",
      " 77%|███████▋  | 77/100 [04:10<01:14,  3.24s/it]"
     ]
    },
    {
     "name": "stdout",
     "output_type": "stream",
     "text": [
      "epoch 77 / 100 in 3.2s: loss 0.684870, trval_rocauc 1.000000, val_rocauc 0.642572, lr 0.000050\n"
     ]
    },
    {
     "name": "stderr",
     "output_type": "stream",
     "text": [
      "\u001b[A\n",
      " 78%|███████▊  | 78/100 [04:13<01:11,  3.24s/it]"
     ]
    },
    {
     "name": "stdout",
     "output_type": "stream",
     "text": [
      "epoch 78 / 100 in 3.2s: loss 0.683936, trval_rocauc 0.999807, val_rocauc 0.630254, lr 0.000050\n"
     ]
    },
    {
     "name": "stderr",
     "output_type": "stream",
     "text": [
      "\u001b[A\n",
      " 79%|███████▉  | 79/100 [04:17<01:08,  3.25s/it]"
     ]
    },
    {
     "name": "stdout",
     "output_type": "stream",
     "text": [
      "epoch 79 / 100 in 3.3s: loss 0.679850, trval_rocauc 1.000000, val_rocauc 0.633877, lr 0.000050\n"
     ]
    },
    {
     "name": "stderr",
     "output_type": "stream",
     "text": [
      "\u001b[A\n",
      " 80%|████████  | 80/100 [04:20<01:04,  3.24s/it]"
     ]
    },
    {
     "name": "stdout",
     "output_type": "stream",
     "text": [
      "epoch 80 / 100 in 3.2s: loss 0.682635, trval_rocauc 1.000000, val_rocauc 0.634783, lr 0.000050\n"
     ]
    },
    {
     "name": "stderr",
     "output_type": "stream",
     "text": [
      "\u001b[A\n",
      " 81%|████████  | 81/100 [04:23<01:01,  3.24s/it]"
     ]
    },
    {
     "name": "stdout",
     "output_type": "stream",
     "text": [
      "epoch 81 / 100 in 3.2s: loss 0.680744, trval_rocauc 1.000000, val_rocauc 0.629348, lr 0.000050\n"
     ]
    },
    {
     "name": "stderr",
     "output_type": "stream",
     "text": [
      "\u001b[A\n",
      " 82%|████████▏ | 82/100 [04:26<00:58,  3.24s/it]"
     ]
    },
    {
     "name": "stdout",
     "output_type": "stream",
     "text": [
      "epoch 82 / 100 in 3.2s: loss 0.681511, trval_rocauc 1.000000, val_rocauc 0.634239, lr 0.000050\n"
     ]
    },
    {
     "name": "stderr",
     "output_type": "stream",
     "text": [
      "\u001b[A\n",
      " 83%|████████▎ | 83/100 [04:30<00:55,  3.24s/it]"
     ]
    },
    {
     "name": "stdout",
     "output_type": "stream",
     "text": [
      "epoch 83 / 100 in 3.2s: loss 0.678955, trval_rocauc 1.000000, val_rocauc 0.657065, lr 0.000050\n"
     ]
    },
    {
     "name": "stderr",
     "output_type": "stream",
     "text": [
      "\u001b[A\n",
      " 84%|████████▍ | 84/100 [04:33<00:51,  3.24s/it]"
     ]
    },
    {
     "name": "stdout",
     "output_type": "stream",
     "text": [
      "epoch 84 / 100 in 3.2s: loss 0.682909, trval_rocauc 1.000000, val_rocauc 0.632428, lr 0.000050\n"
     ]
    },
    {
     "name": "stderr",
     "output_type": "stream",
     "text": [
      "\u001b[A\n",
      " 85%|████████▌ | 85/100 [04:36<00:48,  3.24s/it]"
     ]
    },
    {
     "name": "stdout",
     "output_type": "stream",
     "text": [
      "epoch 85 / 100 in 3.2s: loss 0.680835, trval_rocauc 1.000000, val_rocauc 0.646014, lr 0.000050\n"
     ]
    },
    {
     "name": "stderr",
     "output_type": "stream",
     "text": [
      "\u001b[A\n",
      " 86%|████████▌ | 86/100 [04:39<00:45,  3.24s/it]"
     ]
    },
    {
     "name": "stdout",
     "output_type": "stream",
     "text": [
      "epoch 86 / 100 in 3.2s: loss 0.683612, trval_rocauc 1.000000, val_rocauc 0.649094, lr 0.000050\n"
     ]
    },
    {
     "name": "stderr",
     "output_type": "stream",
     "text": [
      "\u001b[A\n",
      " 87%|████████▋ | 87/100 [04:42<00:42,  3.24s/it]"
     ]
    },
    {
     "name": "stdout",
     "output_type": "stream",
     "text": [
      "epoch 87 / 100 in 3.2s: loss 0.683038, trval_rocauc 1.000000, val_rocauc 0.652174, lr 0.000050\n"
     ]
    },
    {
     "name": "stderr",
     "output_type": "stream",
     "text": [
      "\u001b[A\n",
      " 88%|████████▊ | 88/100 [04:46<00:38,  3.24s/it]"
     ]
    },
    {
     "name": "stdout",
     "output_type": "stream",
     "text": [
      "epoch 88 / 100 in 3.2s: loss 0.684018, trval_rocauc 1.000000, val_rocauc 0.662500, lr 0.000050\n"
     ]
    },
    {
     "name": "stderr",
     "output_type": "stream",
     "text": [
      "\u001b[A\n",
      " 89%|████████▉ | 89/100 [04:49<00:35,  3.24s/it]"
     ]
    },
    {
     "name": "stdout",
     "output_type": "stream",
     "text": [
      "epoch 89 / 100 in 3.3s: loss 0.679905, trval_rocauc 1.000000, val_rocauc 0.655072, lr 0.000050\n"
     ]
    },
    {
     "name": "stderr",
     "output_type": "stream",
     "text": [
      "\u001b[A\n",
      " 90%|█████████ | 90/100 [04:52<00:32,  3.24s/it]"
     ]
    },
    {
     "name": "stdout",
     "output_type": "stream",
     "text": [
      "epoch 90 / 100 in 3.2s: loss 0.682225, trval_rocauc 1.000000, val_rocauc 0.649457, lr 0.000050\n"
     ]
    },
    {
     "name": "stderr",
     "output_type": "stream",
     "text": [
      "\u001b[A\n",
      " 91%|█████████ | 91/100 [04:55<00:29,  3.24s/it]"
     ]
    },
    {
     "name": "stdout",
     "output_type": "stream",
     "text": [
      "epoch 91 / 100 in 3.2s: loss 0.681824, trval_rocauc 0.999420, val_rocauc 0.625725, lr 0.000050\n"
     ]
    },
    {
     "name": "stderr",
     "output_type": "stream",
     "text": [
      "\u001b[A\n",
      " 92%|█████████▏| 92/100 [04:59<00:25,  3.24s/it]"
     ]
    },
    {
     "name": "stdout",
     "output_type": "stream",
     "text": [
      "epoch 92 / 100 in 3.2s: loss 0.683514, trval_rocauc 0.999420, val_rocauc 0.618659, lr 0.000050\n"
     ]
    },
    {
     "name": "stderr",
     "output_type": "stream",
     "text": [
      "\u001b[A\n",
      " 93%|█████████▎| 93/100 [05:02<00:22,  3.24s/it]"
     ]
    },
    {
     "name": "stdout",
     "output_type": "stream",
     "text": [
      "epoch 93 / 100 in 3.2s: loss 0.680389, trval_rocauc 0.999807, val_rocauc 0.645109, lr 0.000050\n"
     ]
    },
    {
     "name": "stderr",
     "output_type": "stream",
     "text": [
      "\u001b[A\n",
      " 94%|█████████▍| 94/100 [05:05<00:19,  3.24s/it]"
     ]
    },
    {
     "name": "stdout",
     "output_type": "stream",
     "text": [
      "epoch 94 / 100 in 3.2s: loss 0.682530, trval_rocauc 0.999613, val_rocauc 0.638406, lr 0.000050\n"
     ]
    },
    {
     "name": "stderr",
     "output_type": "stream",
     "text": [
      "\u001b[A\n",
      " 95%|█████████▌| 95/100 [05:08<00:16,  3.24s/it]"
     ]
    },
    {
     "name": "stdout",
     "output_type": "stream",
     "text": [
      "epoch 95 / 100 in 3.2s: loss 0.681677, trval_rocauc 0.999807, val_rocauc 0.629348, lr 0.000050\n"
     ]
    },
    {
     "name": "stderr",
     "output_type": "stream",
     "text": [
      "\u001b[A\n",
      " 96%|█████████▌| 96/100 [05:12<00:12,  3.24s/it]"
     ]
    },
    {
     "name": "stdout",
     "output_type": "stream",
     "text": [
      "epoch 96 / 100 in 3.2s: loss 0.681946, trval_rocauc 1.000000, val_rocauc 0.635507, lr 0.000050\n"
     ]
    },
    {
     "name": "stderr",
     "output_type": "stream",
     "text": [
      "\u001b[A\n",
      " 97%|█████████▋| 97/100 [05:15<00:09,  3.24s/it]"
     ]
    },
    {
     "name": "stdout",
     "output_type": "stream",
     "text": [
      "epoch 97 / 100 in 3.2s: loss 0.679270, trval_rocauc 0.999807, val_rocauc 0.650906, lr 0.000050\n"
     ]
    },
    {
     "name": "stderr",
     "output_type": "stream",
     "text": [
      "\u001b[A\n",
      " 98%|█████████▊| 98/100 [05:18<00:06,  3.24s/it]"
     ]
    },
    {
     "name": "stdout",
     "output_type": "stream",
     "text": [
      "epoch 98 / 100 in 3.3s: loss 0.678535, trval_rocauc 1.000000, val_rocauc 0.643297, lr 0.000050\n"
     ]
    },
    {
     "name": "stderr",
     "output_type": "stream",
     "text": [
      "\u001b[A\n",
      " 99%|█████████▉| 99/100 [05:21<00:03,  3.24s/it]"
     ]
    },
    {
     "name": "stdout",
     "output_type": "stream",
     "text": [
      "epoch 99 / 100 in 3.2s: loss 0.680797, trval_rocauc 1.000000, val_rocauc 0.635326, lr 0.000050\n"
     ]
    },
    {
     "name": "stderr",
     "output_type": "stream",
     "text": [
      "\u001b[A\n",
      "100%|██████████| 100/100 [05:25<00:00,  3.24s/it]\u001b[A\n",
      "100%|██████████| 12/12 [1:08:08<00:00, 329.96s/it]"
     ]
    },
    {
     "name": "stdout",
     "output_type": "stream",
     "text": [
      "epoch 100 / 100 in 3.2s: loss 0.678899, trval_rocauc 1.000000, val_rocauc 0.626993, lr 0.000050\n"
     ]
    },
    {
     "name": "stderr",
     "output_type": "stream",
     "text": [
      "\n"
     ]
    }
   ],
   "source": [
    "cnnclf_params = {\"image_shape\":(80,80), \"channels_number\":3, \"lr\":0.00005, \"num_epochs\":100,\n",
    "                 \"batch_size\": 6}\n",
    "cnnfit_params = {}\n",
    "cnn_res = cv_fit_predict(CNNC, tt, cnn_f, cnnclf_params, cnnfit_params, do_scaling = True)"
   ]
  },
  {
   "cell_type": "code",
   "execution_count": 322,
   "metadata": {
    "collapsed": true
   },
   "outputs": [
    {
     "name": "stderr",
     "output_type": "stream",
     "text": [
      "/Users/GoormanMcBook/anaconda/lib/python2.7/site-packages/ipykernel/__main__.py:8: DeprecationWarning: assignment will raise an error in the future, most likely because your index result shape does not match the value array shape. You can use `arr.flat[index] = values` to keep the old behaviour.\n",
      "/Users/GoormanMcBook/anaconda/lib/python2.7/site-packages/ipykernel/__main__.py:10: DeprecationWarning: assignment will raise an error in the future, most likely because your index result shape does not match the value array shape. You can use `arr.flat[index] = values` to keep the old behaviour.\n"
     ]
    }
   ],
   "source": [
    "cnn_p, cnn_pr = combine_results(cnn_res, cv, df.shape[0])"
   ]
  },
  {
   "cell_type": "code",
   "execution_count": 411,
   "metadata": {
    "collapsed": true
   },
   "outputs": [],
   "source": [
    "def review(df, p=None, pr=None, target=\"ibs\", plot = True, text = True):\n",
    "    if p is not None: \n",
    "        tmp = pd.DataFrame({'label':df[\"Patient\"], 'q':df[target] == p})\n",
    "    \n",
    "    if text:\n",
    "        print ('roc-auc = ' + str(roc_auc_score(df[target], pr)))\n",
    "        if p is not None:     \n",
    "            print ('Качество по сигналам = ' + str(tmp.q.mean()))\n",
    "            print ('Качество по людям = ' + str(tmp.groupby('label')['q'].mean().mean()))"
   ]
  },
  {
   "cell_type": "code",
   "execution_count": 417,
   "metadata": {
    "collapsed": true
   },
   "outputs": [],
   "source": [
    "def combine_results_patient(df, clf_res, cv, length):\n",
    "    a = np.zeros(length)\n",
    "    pr = np.zeros(length)\n",
    "    scores = []\n",
    "    for res, i in zip(clf_res, cv):\n",
    "        itrain, itest = i\n",
    "        pr_s = np.arange(0.4, 0.7, 0.01)\n",
    "        best_score = 0\n",
    "        best_q = -5\n",
    "        best_p = None\n",
    "        res_pred = res[\"pr_test\"].reshape(-1)#(res[\"pr_test\"] - res[\"pr_test\"].mean() + 0.5).reshape(-1)\n",
    "        for q in pr_s:\n",
    "            test_df = df.loc[itest, :]\n",
    "            temp_res = np.zeros(len(test_df[\"ibs\"]))\n",
    "            temp_res[res[\"pr_test\"].reshape(-1) >= q] = 1.0\n",
    "            score = pd.DataFrame({'label':test_df[\"Patient\"], \n",
    "                       'q':(test_df[\"ibs\"] == (res_pred >= q).astype(float))}).groupby('label')['q'].mean().mean()\n",
    "            if score > best_score:\n",
    "                best_score = score\n",
    "                best_q = q\n",
    "                best_p = temp_res.copy()\n",
    "        print best_score, \" \", best_q\n",
    "        scores.append(best_score)\n",
    "        \n",
    "        a[itest] = best_p\n",
    "        pr[itest] = res[\"pr_test\"]\n",
    "    print np.mean(scores)\n",
    "    print scores\n",
    "    return a, pr  "
   ]
  },
  {
   "cell_type": "code",
   "execution_count": 419,
   "metadata": {
    "collapsed": true
   },
   "outputs": [],
   "source": [
    "def combine_results(df, clf_res, cv, length):\n",
    "    a = np.zeros(length)\n",
    "    pr = np.zeros(length)\n",
    "    scores = []\n",
    "    for res, i in zip(clf_res, cv):\n",
    "        itrain, itest = i\n",
    "        pr_s = np.arange(0.4, 0.7, 0.01)\n",
    "        best_score = 0\n",
    "        best_q = -5\n",
    "        best_p = None\n",
    "        res_pred = res[\"pr_test\"].reshape(-1)#(res[\"pr_test\"] - res[\"pr_test\"].mean() + 0.5).reshape(-1)\n",
    "        for q in pr_s:\n",
    "            test_df = df.loc[itest, :]\n",
    "            temp_res = np.zeros(len(test_df[\"ibs\"]))\n",
    "            temp_res[res[\"pr_test\"].reshape(-1) >= q] = 1.0\n",
    "            score = accuracy_score(test_df[\"ibs\"],  temp_res)\n",
    "            if score > best_score:\n",
    "                best_score = score\n",
    "                best_q = q\n",
    "                best_p = temp_res.copy()\n",
    "        print best_score, \" \", best_q\n",
    "        scores.append(best_score)\n",
    "        \n",
    "        a[itest] = best_p\n",
    "        pr[itest] = res[\"pr_test\"]\n",
    "    print np.mean(scores)\n",
    "    print scores\n",
    "    return a, pr  "
   ]
  },
  {
   "cell_type": "code",
   "execution_count": 416,
   "metadata": {
    "collapsed": true
   },
   "outputs": [
    {
     "name": "stdout",
     "output_type": "stream",
     "text": [
      "0.926666666667   0.59\n",
      "0.86   0.54\n"
     ]
    },
    {
     "name": "stderr",
     "output_type": "stream",
     "text": [
      "/Users/GoormanMcBook/anaconda/lib/python2.7/site-packages/ipykernel/__main__.py:25: DeprecationWarning: assignment will raise an error in the future, most likely because your index result shape does not match the value array shape. You can use `arr.flat[index] = values` to keep the old behaviour.\n"
     ]
    },
    {
     "name": "stdout",
     "output_type": "stream",
     "text": [
      "0.846666666667   0.52\n",
      "0.86   0.4\n",
      "0.866666666667   0.49\n",
      "0.766666666667   0.46\n",
      "0.753333333333   0.51\n",
      "0.673333333333   0.48\n",
      "0.626666666667   0.5\n",
      "0.666666666667   0.43\n",
      "0.637583892617   0.47\n",
      "0.657718120805   0.44\n",
      "0.761830723341\n",
      "[0.92666666666666664, 0.85999999999999999, 0.84666666666666668, 0.85999999999999999, 0.8666666666666667, 0.76666666666666672, 0.7533333333333333, 0.67333333333333334, 0.62666666666666671, 0.66666666666666663, 0.63758389261744963, 0.65771812080536918]\n"
     ]
    }
   ],
   "source": [
    "cnn_p_p, cnn_pr_p = combine_results_patient(df, cnn_res, cv, df.shape[0])"
   ]
  },
  {
   "cell_type": "code",
   "execution_count": 430,
   "metadata": {
    "collapsed": true
   },
   "outputs": [
    {
     "name": "stdout",
     "output_type": "stream",
     "text": [
      "0.926666666667   0.59\n",
      "0.86   0.54\n"
     ]
    },
    {
     "name": "stderr",
     "output_type": "stream",
     "text": [
      "/Users/GoormanMcBook/anaconda/lib/python2.7/site-packages/ipykernel/__main__.py:25: DeprecationWarning: assignment will raise an error in the future, most likely because your index result shape does not match the value array shape. You can use `arr.flat[index] = values` to keep the old behaviour.\n"
     ]
    },
    {
     "name": "stdout",
     "output_type": "stream",
     "text": [
      "0.846666666667   0.52\n",
      "0.86   0.4\n",
      "0.866666666667   0.49\n",
      "0.766666666667   0.46\n",
      "0.753333333333   0.51\n",
      "0.673333333333   0.48\n",
      "0.626666666667   0.5\n",
      "0.666666666667   0.43\n",
      "0.637583892617   0.47\n",
      "0.657718120805   0.44\n",
      "0.761830723341\n",
      "[0.92666666666666664, 0.85999999999999999, 0.84666666666666668, 0.85999999999999999, 0.8666666666666667, 0.76666666666666672, 0.7533333333333333, 0.67333333333333334, 0.62666666666666671, 0.66666666666666663, 0.63758389261744963, 0.65771812080536918]\n"
     ]
    }
   ],
   "source": [
    "cnn_p, cnn_pr = combine_results(df, cnn_res, cv, df.shape[0])"
   ]
  },
  {
   "cell_type": "code",
   "execution_count": 463,
   "metadata": {
    "collapsed": false
   },
   "outputs": [
    {
     "name": "stdout",
     "output_type": "stream",
     "text": [
      "roc-auc = 0.741881573996\n",
      "Качество по сигналам = 0.761957730812\n",
      "Качество по людям = 0.669264078247\n"
     ]
    }
   ],
   "source": [
    "review(df, cnn_p, cnn_pr, \"ibs\", plot=True, text=True)"
   ]
  },
  {
   "cell_type": "code",
   "execution_count": 464,
   "metadata": {
    "collapsed": false
   },
   "outputs": [
    {
     "name": "stdout",
     "output_type": "stream",
     "text": [
      "roc-auc = 0.741881573996\n",
      "Качество по сигналам = 0.687986651835\n",
      "Качество по людям = 0.718565169076\n"
     ]
    }
   ],
   "source": [
    "review(df, cnn_p_p, cnn_pr_p, \"ibs\", plot=True, text=True)"
   ]
  },
  {
   "cell_type": "code",
   "execution_count": 467,
   "metadata": {
    "collapsed": false
   },
   "outputs": [],
   "source": [
    "new_df = pd.DataFrame(data={\"ibs\":df[\"ibs\"], \"ECG_ID\":df[\"ECG_ID\"], \"CNN_PR\":cnn_pr, \"CNN_P\":cnn_p, \"CNN_PRP\":cnn_p_p})"
   ]
  },
  {
   "cell_type": "code",
   "execution_count": 468,
   "metadata": {
    "collapsed": false
   },
   "outputs": [],
   "source": [
    "new_df.to_csv(\"cnn_results.csv\")"
   ]
  },
  {
   "cell_type": "code",
   "execution_count": null,
   "metadata": {
    "collapsed": true
   },
   "outputs": [],
   "source": []
  },
  {
   "cell_type": "code",
   "execution_count": null,
   "metadata": {
    "collapsed": true
   },
   "outputs": [],
   "source": []
  },
  {
   "cell_type": "code",
   "execution_count": null,
   "metadata": {
    "collapsed": true
   },
   "outputs": [],
   "source": []
  },
  {
   "cell_type": "code",
   "execution_count": null,
   "metadata": {
    "collapsed": true
   },
   "outputs": [],
   "source": []
  },
  {
   "cell_type": "code",
   "execution_count": null,
   "metadata": {
    "collapsed": true
   },
   "outputs": [],
   "source": []
  }
 ],
 "metadata": {
  "kernelspec": {
   "display_name": "Python 2",
   "language": "python",
   "name": "python2"
  },
  "language_info": {
   "codemirror_mode": {
    "name": "ipython",
    "version": 2
   },
   "file_extension": ".py",
   "mimetype": "text/x-python",
   "name": "python",
   "nbconvert_exporter": "python",
   "pygments_lexer": "ipython2",
   "version": "2.7.9"
  }
 },
 "nbformat": 4,
 "nbformat_minor": 2
}
